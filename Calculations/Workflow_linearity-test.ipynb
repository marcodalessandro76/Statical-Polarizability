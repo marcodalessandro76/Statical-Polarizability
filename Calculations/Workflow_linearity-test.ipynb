{
 "cells": [
  {
   "cell_type": "code",
   "execution_count": 1,
   "metadata": {},
   "outputs": [
    {
     "data": {
      "text/plain": [
       "'/home/marco/Data/RICERCA/DFT AND MANY BODY/LR MOLECULES/Statical polarizability/Analysis/Calculations'"
      ]
     },
     "execution_count": 1,
     "metadata": {},
     "output_type": "execute_result"
    }
   ],
   "source": [
    "from BigDFT import Datasets as D, Calculators as C, Inputfiles as I, Logfiles as lf\n",
    "from BigDFT.Database import Molecules\n",
    "import numpy as np\n",
    "import sys,os\n",
    "sys.path.insert(0,'../')\n",
    "import StatPol as SP\n",
    "basepath = os.getcwd()\n",
    "basepath"
   ]
  },
  {
   "cell_type": "code",
   "execution_count": 2,
   "metadata": {},
   "outputs": [],
   "source": [
    "omp = 2\n",
    "mpi_run = 'mpirun -np 4'"
   ]
  },
  {
   "cell_type": "markdown",
   "metadata": {},
   "source": [
    "# Workflow"
   ]
  },
  {
   "cell_type": "markdown",
   "metadata": {},
   "source": [
    "This notebook contains the complete workflow to extract the statical polarizability of the HG dataset.\n",
    "\n",
    "In this workflow we choose a set of values for the intensity of the field and, for each value, we perform a convergence analysis on the value of rmult"
   ]
  },
  {
   "cell_type": "markdown",
   "metadata": {},
   "source": [
    "## Construction of the relevant tools"
   ]
  },
  {
   "cell_type": "markdown",
   "metadata": {},
   "source": [
    "Define the functions needed to perform the workflow"
   ]
  },
  {
   "cell_type": "code",
   "execution_count": 3,
   "metadata": {},
   "outputs": [],
   "source": [
    "# Service functions \n",
    "\n",
    "def change_workdir(molecule,study,datadir):\n",
    "    \"\"\"\n",
    "    Ensure that the path Data_directory/molecule exists and\n",
    "    move there. \n",
    "    \"\"\"\n",
    "    from futile.Utils import ensure_dir\n",
    "    for d in [datadir,molecule]:\n",
    "        ensure_dir(d)\n",
    "        os.chdir(d)\n",
    "    path='-'.join(study)\n",
    "    ensure_dir(path)\n",
    "    return '-'.join([molecule,path]),path\n",
    "\n",
    "def get_psp(molecule):\n",
    "    \"\"\"\n",
    "    Check if the all the atoms of molecule have the nlcc of the type nlss_aw and nlcc_ss. \n",
    "    If it is true the corresponding pseudo is added to the list of psp to be performed, otherwise \n",
    "    only hgh_k is included.\n",
    "    \"\"\"\n",
    "    from os import path as p\n",
    "    import Routines as R\n",
    "    possible_psp=['nlcc_aw','nlcc_ss']\n",
    "    to_do=[True,True]\n",
    "    for at in R.get_atoms(molecule):\n",
    "        psp_available = [p.isfile(p.join('psp_'+psp,'psppar.'+at)) for psp in possible_psp]\n",
    "        to_do = [ a and b for a,b in zip(to_do,psp_available)]\n",
    "    return ['hgh_k'] + [psp for yes,psp in zip(to_do,possible_psp) if yes]\n",
    "\n",
    "def split_dataset(dataset,length=10):\n",
    "    \"\"\"\n",
    "    Split a list of molecules into a list of list with length elements. \n",
    "    \"\"\"\n",
    "    splitted = [[] for num in range(int(len(dataset)/length)+1)]\n",
    "    for ind,mol in enumerate(dataset):\n",
    "        splitted[int(ind/length)].append(mol)\n",
    "    return splitted"
   ]
  },
  {
   "cell_type": "code",
   "execution_count": 4,
   "metadata": {},
   "outputs": [],
   "source": [
    "# Tools for the ground state\n",
    "\n",
    "def get_converged_input_energy(dataset,rtol,atol):\n",
    "    data=dataset.seek_convergence(atol=atol,rtol=rtol,attribute='energy')\n",
    "    return dataset.runs[dataset.names.index(D.name_from_id(data[0]))]['input'],data[1]\n",
    "\n",
    "def find_gs_domain(label,rtol,atol,path,input,posinp,code):\n",
    "    \"\"\"\n",
    "    Use the seek_convergence method of Dataset to perform a convergence procedure on\n",
    "    the rmult value for a gs computation.\n",
    "    \"\"\"\n",
    "    crmult=input['dft']['rmult'][0]\n",
    "    rmult_fine=input['dft']['rmult'][1]\n",
    "    rmult_list=map(float,range(int(crmult),11))\n",
    "    seek_for_rmult = D.Dataset(label=label+'(GS)',run_dir=path,posinp=posinp)\n",
    "    for rm in rmult_list:\n",
    "        input.set_rmult(coarse=rm,fine=rmult_fine)\n",
    "        seek_for_rmult.append_run(id={'rmult':rm},runner=code,input=input)\n",
    "    input_gs,log_gs=get_converged_input_energy(seek_for_rmult,rtol,atol)\n",
    "    return {'input_gs':input_gs, 'dataset_gs': seek_for_rmult,'log_gs':log_gs}\n",
    "\n",
    "def gs_study(molecule,study,code,options):\n",
    "    \"\"\"\"\n",
    "    Workflow for the convergence analysis of the ground state.\n",
    "    \n",
    "    Args : \n",
    "       molecule (str) : name of the molecule\n",
    "       study (touple) : the couple (xc,psp)\n",
    "       code (runner)  : instance of SystemCalculator\n",
    "       options (dict) : dictionary with the computational options\n",
    "    \"\"\"\n",
    "    import Routines as R\n",
    "    hgrids=options.get('hgrids')\n",
    "    rmult_fine=options.get('rmult_fine')\n",
    "    wf_convergence=options.get('wf_convergence')\n",
    "    crmult_start=options.get('crmult',4.0)\n",
    "    rtol=options.get('rtol_gs',10*wf_convergence)\n",
    "    atol=options.get('atol_gs',1.e-3)\n",
    "    reference_results=options.get('reference_data')\n",
    "    datadir=options.get('data_directory','Data')\n",
    "\n",
    "    initial_dir=os.path.abspath(os.path.dirname('.'))\n",
    "    label,path=change_workdir(molecule,study,datadir)\n",
    "    \n",
    "    posinp=Molecules.Molecule(molecule)\n",
    "    \n",
    "    inp = I.Inputfile()\n",
    "    inp.set_hgrid(hgrids)\n",
    "    inp.set_rmult(coarse=crmult_start,fine=rmult_fine)\n",
    "    R.set_xc[study](inp,molecule,datadir)\n",
    "    inp.set_wavefunction_convergence(wf_convergence)\n",
    "    mpol=int(reference_results[molecule]['mpol_ref'])-1   \n",
    "    if mpol >0: inp.spin_polarize(mpol)\n",
    "    data= find_gs_domain(label,10*wf_convergence,atol,path,inp,posinp,code)\n",
    "    os.chdir(initial_dir)\n",
    "    \n",
    "    data['molecule']=molecule\n",
    "    data['posinp']=posinp\n",
    "    data['study']=study\n",
    "    return data "
   ]
  },
  {
   "cell_type": "code",
   "execution_count": 5,
   "metadata": {},
   "outputs": [],
   "source": [
    "# Tools for alpha\n",
    "def extract_statical_polarizability(label,rtol,atol,path,input_for_alpha,posinp,code,ref):\n",
    "    \n",
    "    # seek for the field convergence\n",
    "    ints=[1e-2,5e-3,1e-3,5e-4,1e-4]\n",
    "    alpha_field=D.Dataset(label=label+'(field)',run_dir=path)\n",
    "    for f in ints:\n",
    "        alpha_field.append_run(id={'f':f},runner=SP.build_alpha_dataset(input=input_for_alpha,posinp=posinp,run_dir=path,runner=code,intensity=f))\n",
    "    try:\n",
    "        data_field=alpha_field.seek_convergence(rtol=rtol,atol=atol)\n",
    "        intensity=data_field[0]['f']\n",
    "    except:\n",
    "        print ('Convergence in field not reached')\n",
    "        intensity=ints[-1]\n",
    "    \n",
    "    # seek for the rmult convergence\n",
    "    rmult_fine=input_for_alpha['dft']['rmult'][1]\n",
    "    rmult_list=map(float,range(int(input_for_alpha['dft']['rmult'][0]),11))\n",
    "    alpha_rmult=D.Dataset(label=label+'(domain)',run_dir=path)\n",
    "    for rm in rmult_list:\n",
    "        input_for_alpha.set_rmult(coarse=rm,fine=rmult_fine)\n",
    "        alpha_rmult.append_run(id={'f':intensity,'rmult':rm},runner=SP.build_alpha_dataset(input=input_for_alpha,posinp=posinp,run_dir=path,runner=code,intensity=intensity))\n",
    "    try:\n",
    "        import numpy as np\n",
    "        data_final=alpha_rmult.seek_convergence(rtol=rtol,atol=atol)\n",
    "        AuToA = 0.5291772085**3\n",
    "        alpha_ref_ii = np.array(ref)/AuToA\n",
    "        eps = 100.0 * (data_final[1]-alpha_ref_ii)/alpha_ref_ii\n",
    "        print ('Relative difference in %',eps.tolist())\n",
    "    except LookupError as e:\n",
    "        print ('Convergence in domain not reached',e)\n",
    "        data_final=None\n",
    "    return {'alpha_convergence': data_final, 'dataset_field': alpha_field, 'dataset_rmult': alpha_rmult}\n",
    "\n",
    "def extract_statical_polarizability_linearity(label,rtol,atol,path,input_for_alpha,posinp,code,ref):\n",
    "    \n",
    "    #ints=[1e-2,5e-3,1e-3,5e-4,1e-4]\n",
    "    ints= [1e-3,2e-3,3e-3,4e-3,5e-3] #for comparison with the MWL plots\n",
    "       \n",
    "    results = {}\n",
    "    results['alpha_values'] = {}\n",
    "    rmult_fine=input_for_alpha['dft']['rmult'][1]\n",
    "    rmult_list=map(float,range(int(input_for_alpha['dft']['rmult'][0]),15))\n",
    "    for intensity in ints:\n",
    "    \n",
    "        # seek for the rmult convergence\n",
    "        alpha_rmult=D.Dataset(label=label+'(domain)',run_dir=path)\n",
    "        for rm in rmult_list:\n",
    "            input_for_alpha.set_rmult(coarse=rm,fine=rmult_fine)\n",
    "            alpha_rmult.append_run(id={'f':intensity,'rmult':rm},\\\n",
    "                runner=SP.build_alpha_dataset(input=input_for_alpha,posinp=posinp,run_dir=path,\\\n",
    "                            runner=code,intensity=intensity))\n",
    "    \n",
    "        try:\n",
    "            import numpy as np\n",
    "            data_final=alpha_rmult.seek_convergence(rtol=rtol,atol=atol)\n",
    "            AuToA = 0.5291772085**3\n",
    "            alpha_ref_ii = np.array(ref)/AuToA\n",
    "            eps = 100.0 * (data_final[1]-alpha_ref_ii)/alpha_ref_ii\n",
    "            print ('Relative difference in %',eps.tolist())\n",
    "        except LookupError as e:\n",
    "            print ('Convergence in domain not reached',e)\n",
    "            data_final=None\n",
    "        \n",
    "        results['alpha_values'][intensity] = {'alpha_convergence': data_final, 'dataset_rmult': alpha_rmult}\n",
    "    return results\n",
    "\n",
    "def alpha_study(gs_data,code,options):\n",
    "    \"\"\"\"\n",
    "    Workflow for the convergence analysis for the computation of alpha.\n",
    "    \n",
    "    Args : \n",
    "       gs_data        : output of gs_study\n",
    "       code (runner)  : instance of SystemCalculator\n",
    "       options (dict) : dictionary with the computational options\n",
    "    \"\"\"\n",
    "    import copy\n",
    "    xc_conversion={'lda_pw': 'lda-SPW92', 'pbe': 'pbe', 'pbe0': 'pbe0'}\n",
    "    rtol=options.get('rtol',1.e-2)\n",
    "    atol=options.get('atol',1.e-3)\n",
    "    reference_results=options.get('reference_data')\n",
    "    datadir=options.get('data_directory','Data')\n",
    "    study=gs_data['study']\n",
    "    molecule=gs_data['molecule']\n",
    "    posinp=gs_data['posinp']\n",
    "    xc=study[0]\n",
    "    ref_data=reference_results[molecule][xc_conversion[xc]]\n",
    "    \n",
    "    initial_dir=os.path.abspath(os.path.dirname('.'))\n",
    "    label,path=change_workdir(molecule,study,datadir)\n",
    "    input_gs=copy.deepcopy(gs_data['input_gs'])\n",
    "        \n",
    "    #data=extract_statical_polarizability(label,rtol,atol,path,input_gs,posinp,code,ref=ref_data)\n",
    "    data=extract_statical_polarizability_linearity(label,rtol,atol,path,input_gs,posinp,code,ref=ref_data)\n",
    "    os.chdir(initial_dir)\n",
    "    \n",
    "    return data"
   ]
  },
  {
   "cell_type": "code",
   "execution_count": 37,
   "metadata": {},
   "outputs": [],
   "source": [
    "def data_to_save(data,options):\n",
    "    \"\"\"\n",
    "    Define the dictionary to be saved on file for data analysis\n",
    "    \"\"\"\n",
    "    from copy import deepcopy\n",
    "    res = {}\n",
    "    for s,values in data.iteritems():\n",
    "        res[s] = {}\n",
    "        if not (values['alpha_convergence'] is None):\n",
    "            res[s]['alpha_convergence'] = (values['alpha_convergence'][0],values['alpha_convergence'][1].tolist())\n",
    "        else : \n",
    "            res[s]['alpha_convergence'] = values['alpha_convergence']\n",
    "        \n",
    "        res[s]['posinp'] = {}\n",
    "        pos = values['posinp']\n",
    "        for key in pos:\n",
    "            res[s]['posinp'][key] = pos[key]\n",
    "        \n",
    "        res[s]['input_gs'] = {}\n",
    "        inp = values['input_gs']\n",
    "        for key in inp:\n",
    "            res[s]['input_gs'][key] = inp[key]\n",
    "        \n",
    "    save_options = deepcopy(options)\n",
    "    save_options.pop('reference_data')\n",
    "    res['options'] = save_options\n",
    "    return res\n",
    "\n",
    "def data_to_save_linearity(data,options):\n",
    "    \"\"\"\n",
    "    Define the dictionary to be saved on file for data analysis\n",
    "    \"\"\"\n",
    "    from copy import deepcopy\n",
    "    res = {}\n",
    "    for s,values in data.iteritems():\n",
    "        res[s] = {}\n",
    "        res[s]['alpha_values'] = {}\n",
    "        alpha_values = values['alpha_values']\n",
    "        for f,v in alpha_values.iteritems():\n",
    "            res[s]['alpha_values'][f] = {}\n",
    "            if not (v['alpha_convergence'] is None):\n",
    "                res[s]['alpha_values'][f]['alpha_convergence'] = (v['alpha_convergence'][0],v['alpha_convergence'][1].tolist())\n",
    "            else: \n",
    "                res[s]['alpha_values'][f]['alpha_convergence'] = values['alpha_convergence']\n",
    "        \n",
    "        res[s]['posinp'] = {}\n",
    "        pos = values['posinp']\n",
    "        for key in pos:\n",
    "            res[s]['posinp'][key] = pos[key]\n",
    "        \n",
    "        res[s]['input_gs'] = {}\n",
    "        inp = values['input_gs']\n",
    "        for key in inp:\n",
    "            res[s]['input_gs'][key] = inp[key]\n",
    "        \n",
    "    save_options = deepcopy(options)\n",
    "    save_options.pop('reference_data')\n",
    "    res['options'] = save_options\n",
    "    return res"
   ]
  },
  {
   "cell_type": "markdown",
   "metadata": {},
   "source": [
    "## Single study analysis - linearity test"
   ]
  },
  {
   "cell_type": "markdown",
   "metadata": {},
   "source": [
    "Build the dataset using the HG data written in hg_data.yaml. To each molecule of the dataset associate a set of studies=(xc,psp)"
   ]
  },
  {
   "cell_type": "code",
   "execution_count": 7,
   "metadata": {},
   "outputs": [],
   "source": [
    "import yaml\n",
    "HG_data=yaml.load(open('../HG Dataset/hg_data.yaml'))"
   ]
  },
  {
   "cell_type": "code",
   "execution_count": 8,
   "metadata": {},
   "outputs": [
    {
     "name": "stdout",
     "output_type": "stream",
     "text": [
      "Initialize a Calculator with OMP_NUM_THREADS=2 and command mpirun -np 4 /home/marco/Applications/BigDFT/binaries/v1.8.3/install/bin/bigdft\n"
     ]
    }
   ],
   "source": [
    "code=C.SystemCalculator(omp=omp,mpi_run=mpi_run,skip=True,verbose=False)"
   ]
  },
  {
   "cell_type": "code",
   "execution_count": 9,
   "metadata": {},
   "outputs": [],
   "source": [
    "options={'wf_convergence':1.e-6,'hgrids':0.3,'rmult_fine':9.0,'rtol':1.e-3,'atol':1.e-3,\\\n",
    "         'reference_data':HG_data,'data_directory':'Data'}"
   ]
  },
  {
   "cell_type": "markdown",
   "metadata": {},
   "source": [
    "We can perform a single study with this workflow"
   ]
  },
  {
   "cell_type": "code",
   "execution_count": 10,
   "metadata": {},
   "outputs": [],
   "source": [
    "study_data = {}"
   ]
  },
  {
   "cell_type": "code",
   "execution_count": 11,
   "metadata": {},
   "outputs": [],
   "source": [
    "studies = [('Na','pbe','hgh_k'),('Li','pbe','nlcc_ss'),('NO','pbe','nlcc_ss')]"
   ]
  },
  {
   "cell_type": "code",
   "execution_count": 12,
   "metadata": {},
   "outputs": [
    {
     "name": "stdout",
     "output_type": "stream",
     "text": [
      "Li pbe nlcc_ss\n"
     ]
    }
   ],
   "source": [
    "ind = 1\n",
    "molecule = studies[ind][0]\n",
    "xc = studies[ind][1]\n",
    "psp = studies[ind][2]\n",
    "print molecule,xc,psp"
   ]
  },
  {
   "cell_type": "code",
   "execution_count": 13,
   "metadata": {},
   "outputs": [
    {
     "data": {
      "text/plain": [
       "{'CCSD(T)': [24.304, 24.304, 24.304],\n",
       " 'lda-SPW92': [23.016, 23.016, 23.016],\n",
       " 'lda-Slater': [25.293, 25.293, 25.293],\n",
       " 'mpol_ref': '2',\n",
       " 'pbe': [22.612, 22.612, 22.612],\n",
       " 'pbe0': [22.948, 22.948, 22.948],\n",
       " 'spin_pol': 'sp'}"
      ]
     },
     "execution_count": 13,
     "metadata": {},
     "output_type": "execute_result"
    }
   ],
   "source": [
    "HG_data[molecule]"
   ]
  },
  {
   "cell_type": "code",
   "execution_count": 14,
   "metadata": {},
   "outputs": [
    {
     "name": "stdout",
     "output_type": "stream",
     "text": [
      "Fetching results for id \" {'rmult': 4.0} \"\n",
      "Fetching results for id \" {'rmult': 5.0} \"\n",
      "Fetching results for id \" {'rmult': 6.0} \"\n",
      "Convergence reached in Dataset \"Li-pbe-nlcc_ss(GS)\" for id \" {'rmult': 5.0} \"\n"
     ]
    }
   ],
   "source": [
    "gs_data=gs_study(molecule,(xc,psp),code,options)"
   ]
  },
  {
   "cell_type": "code",
   "execution_count": 15,
   "metadata": {},
   "outputs": [],
   "source": [
    "#gs_data"
   ]
  },
  {
   "cell_type": "code",
   "execution_count": 16,
   "metadata": {
    "scrolled": false
   },
   "outputs": [
    {
     "name": "stdout",
     "output_type": "stream",
     "text": [
      "Fetching results for id \" {'rmult': 5.0, 'f': 0.001} \"\n",
      "Fetching results for id \" {'rmult': 6.0, 'f': 0.001} \"\n",
      "Fetching results for id \" {'rmult': 7.0, 'f': 0.001} \"\n",
      "Fetching results for id \" {'rmult': 8.0, 'f': 0.001} \"\n",
      "Fetching results for id \" {'rmult': 9.0, 'f': 0.001} \"\n",
      "Fetching results for id \" {'rmult': 10.0, 'f': 0.001} \"\n",
      "Convergence reached in Dataset \"Li-pbe-nlcc_ss(domain)\" for id \" {'rmult': 9.0, 'f': 0.001} \"\n",
      "('Relative difference in %', [-4.376561649131871, -4.376561649131871, -4.376561649131871])\n",
      "Fetching results for id \" {'rmult': 5.0, 'f': 0.002} \"\n",
      "Fetching results for id \" {'rmult': 6.0, 'f': 0.002} \"\n",
      "Fetching results for id \" {'rmult': 7.0, 'f': 0.002} \"\n",
      "Fetching results for id \" {'rmult': 8.0, 'f': 0.002} \"\n",
      "Fetching results for id \" {'rmult': 9.0, 'f': 0.002} \"\n",
      "Fetching results for id \" {'rmult': 10.0, 'f': 0.002} \"\n",
      "Convergence reached in Dataset \"Li-pbe-nlcc_ss(domain)\" for id \" {'rmult': 9.0, 'f': 0.002} \"\n",
      "('Relative difference in %', [-4.1174251785161635, -4.1174251785161635, -4.1174251785161635])\n",
      "Fetching results for id \" {'rmult': 5.0, 'f': 0.003} \"\n",
      "Fetching results for id \" {'rmult': 6.0, 'f': 0.003} \"\n",
      "Fetching results for id \" {'rmult': 7.0, 'f': 0.003} \"\n",
      "Fetching results for id \" {'rmult': 8.0, 'f': 0.003} \"\n",
      "Fetching results for id \" {'rmult': 9.0, 'f': 0.003} \"\n",
      "Fetching results for id \" {'rmult': 10.0, 'f': 0.003} \"\n",
      "Convergence reached in Dataset \"Li-pbe-nlcc_ss(domain)\" for id \" {'rmult': 9.0, 'f': 0.003} \"\n",
      "('Relative difference in %', [-3.668153718944341, -3.668153718944341, -3.668153718944341])\n",
      "Fetching results for id \" {'rmult': 5.0, 'f': 0.004} \"\n",
      "Fetching results for id \" {'rmult': 6.0, 'f': 0.004} \"\n",
      "Fetching results for id \" {'rmult': 7.0, 'f': 0.004} \"\n",
      "Fetching results for id \" {'rmult': 8.0, 'f': 0.004} \"\n",
      "Fetching results for id \" {'rmult': 9.0, 'f': 0.004} \"\n",
      "Fetching results for id \" {'rmult': 10.0, 'f': 0.004} \"\n",
      "Convergence reached in Dataset \"Li-pbe-nlcc_ss(domain)\" for id \" {'rmult': 9.0, 'f': 0.004} \"\n",
      "('Relative difference in %', [-2.991212867294405, -2.991212867294405, -2.991212867294405])\n",
      "Fetching results for id \" {'rmult': 5.0, 'f': 0.005} \"\n",
      "Fetching results for id \" {'rmult': 6.0, 'f': 0.005} \"\n",
      "Fetching results for id \" {'rmult': 7.0, 'f': 0.005} \"\n",
      "Fetching results for id \" {'rmult': 8.0, 'f': 0.005} \"\n",
      "Fetching results for id \" {'rmult': 9.0, 'f': 0.005} \"\n",
      "Fetching results for id \" {'rmult': 10.0, 'f': 0.005} \"\n",
      "Fetching results for id \" {'rmult': 11.0, 'f': 0.005} \"\n",
      "Convergence reached in Dataset \"Li-pbe-nlcc_ss(domain)\" for id \" {'rmult': 10.0, 'f': 0.005} \"\n",
      "('Relative difference in %', [-1.8927376771924465, -1.8927376771924465, -1.8927376771924465])\n"
     ]
    }
   ],
   "source": [
    "study_data[(molecule,xc,psp)]=alpha_study(gs_data,code,options)\n",
    "study_data[(molecule,xc,psp)].update(gs_data)"
   ]
  },
  {
   "cell_type": "code",
   "execution_count": 17,
   "metadata": {},
   "outputs": [],
   "source": [
    "#study_data[molecule,xc,psp].keys()"
   ]
  },
  {
   "cell_type": "code",
   "execution_count": 18,
   "metadata": {},
   "outputs": [],
   "source": [
    "#bla = study_data[molecule,xc,psp]['alpha_values'][0.01]['dataset_rmult']\n",
    "#print bla.ids\n",
    "#print bla.calculators[2]['calc'].runs[0]"
   ]
  },
  {
   "cell_type": "markdown",
   "metadata": {},
   "source": []
  },
  {
   "cell_type": "code",
   "execution_count": 38,
   "metadata": {},
   "outputs": [
    {
     "data": {
      "text/plain": [
       "{'options': {'atol': 0.001,\n",
       "  'data_directory': 'Data',\n",
       "  'hgrids': 0.3,\n",
       "  'rmult_fine': 9.0,\n",
       "  'rtol': 0.001,\n",
       "  'wf_convergence': 1e-06},\n",
       " ('Li',\n",
       "  'pbe',\n",
       "  'nlcc_ss'): {'alpha_values': {0.001: {'alpha_convergence': ({'f': 0.001,\n",
       "      'rmult': 9.0},\n",
       "     [145.91500000000002, 145.91500000000002, 145.91500000000002])},\n",
       "   0.002: {'alpha_convergence': ({'f': 0.002, 'rmult': 9.0},\n",
       "     [146.310425, 146.310425, 146.310425])},\n",
       "   0.003: {'alpha_convergence': ({'f': 0.003, 'rmult': 9.0},\n",
       "     [146.99598333333333, 146.99598333333333, 146.99598333333333])},\n",
       "   0.004: {'alpha_convergence': ({'f': 0.004, 'rmult': 9.0},\n",
       "     [148.02894999999998, 148.02894999999998, 148.02894999999998])},\n",
       "   0.005: {'alpha_convergence': ({'f': 0.005, 'rmult': 10.0},\n",
       "     [149.70515,\n",
       "      149.70515,\n",
       "      149.70515])}}, 'input_gs': {'dft': {'gnrm_cv': 1e-06,\n",
       "    'hgrids': 0.3,\n",
       "    'ixc': 11,\n",
       "    'mpol': 1,\n",
       "    'nspin': 2,\n",
       "    'rmult': [5.0, 9.0]}}, 'posinp': {'positions': [{'Li': [0.0, 0.0, 0.0],\n",
       "     'frag': ['molecule', '0']}],\n",
       "   'units': 'angstroem'}}}"
      ]
     },
     "execution_count": 38,
     "metadata": {},
     "output_type": "execute_result"
    }
   ],
   "source": [
    "full_results_linearity = {}\n",
    "full_results_linearity.update(data_to_save_linearity(study_data,options))\n",
    "full_results_linearity"
   ]
  },
  {
   "cell_type": "markdown",
   "metadata": {},
   "source": [
    "## Multiple study analysis - linearity test"
   ]
  },
  {
   "cell_type": "markdown",
   "metadata": {},
   "source": [
    "Prepare the code that will be used in a python script for automatic execution of many studies"
   ]
  },
  {
   "cell_type": "code",
   "execution_count": 27,
   "metadata": {},
   "outputs": [],
   "source": [
    "import yaml\n",
    "HG_data=yaml.load(open('../HG Dataset/hg_data.yaml'))"
   ]
  },
  {
   "cell_type": "code",
   "execution_count": 28,
   "metadata": {},
   "outputs": [
    {
     "name": "stdout",
     "output_type": "stream",
     "text": [
      "Initialize a Calculator with OMP_NUM_THREADS=2 and command mpirun -np 4 /home/marco/Applications/BigDFT/binaries/v1.8.3/install/bin/bigdft\n"
     ]
    }
   ],
   "source": [
    "code=C.SystemCalculator(omp=omp,mpi_run=mpi_run,skip=True,verbose=False)"
   ]
  },
  {
   "cell_type": "code",
   "execution_count": 29,
   "metadata": {},
   "outputs": [],
   "source": [
    "options={'wf_convergence':1.e-6,'hgrids':0.3,'rmult_fine':9.0,'rtol':1.e-3,'atol':1.e-3,\\\n",
    "         'reference_data':HG_data,'data_directory':'Data'}"
   ]
  },
  {
   "cell_type": "markdown",
   "metadata": {},
   "source": [
    "We can perform a single study with this workflow"
   ]
  },
  {
   "cell_type": "code",
   "execution_count": 32,
   "metadata": {},
   "outputs": [],
   "source": [
    "studies = [('Na','pbe','hgh_k'),('Li','pbe','nlcc_ss'),('NO','pbe','nlcc_ss')]"
   ]
  },
  {
   "cell_type": "code",
   "execution_count": 34,
   "metadata": {
    "scrolled": false
   },
   "outputs": [
    {
     "name": "stdout",
     "output_type": "stream",
     "text": [
      "Analysis of Li-pbe-nlcc_ss\n",
      "Fetching results for id \" {'rmult': 4.0} \"\n",
      "Fetching results for id \" {'rmult': 5.0} \"\n",
      "Fetching results for id \" {'rmult': 6.0} \"\n",
      "Convergence reached in Dataset \"Li-pbe-nlcc_ss(GS)\" for id \" {'rmult': 5.0} \"\n",
      "Fetching results for id \" {'rmult': 5.0, 'f': 0.001} \"\n",
      "Fetching results for id \" {'rmult': 6.0, 'f': 0.001} \"\n",
      "Fetching results for id \" {'rmult': 7.0, 'f': 0.001} \"\n",
      "Fetching results for id \" {'rmult': 8.0, 'f': 0.001} \"\n",
      "Fetching results for id \" {'rmult': 9.0, 'f': 0.001} \"\n",
      "Fetching results for id \" {'rmult': 10.0, 'f': 0.001} \"\n",
      "Convergence reached in Dataset \"Li-pbe-nlcc_ss(domain)\" for id \" {'rmult': 9.0, 'f': 0.001} \"\n",
      "('Relative difference in %', [-4.376561649131871, -4.376561649131871, -4.376561649131871])\n",
      "Fetching results for id \" {'rmult': 5.0, 'f': 0.002} \"\n",
      "Fetching results for id \" {'rmult': 6.0, 'f': 0.002} \"\n",
      "Fetching results for id \" {'rmult': 7.0, 'f': 0.002} \"\n",
      "Fetching results for id \" {'rmult': 8.0, 'f': 0.002} \"\n",
      "Fetching results for id \" {'rmult': 9.0, 'f': 0.002} \"\n",
      "Fetching results for id \" {'rmult': 10.0, 'f': 0.002} \"\n",
      "Convergence reached in Dataset \"Li-pbe-nlcc_ss(domain)\" for id \" {'rmult': 9.0, 'f': 0.002} \"\n",
      "('Relative difference in %', [-4.1174251785161635, -4.1174251785161635, -4.1174251785161635])\n",
      "Fetching results for id \" {'rmult': 5.0, 'f': 0.003} \"\n",
      "Fetching results for id \" {'rmult': 6.0, 'f': 0.003} \"\n",
      "Fetching results for id \" {'rmult': 7.0, 'f': 0.003} \"\n",
      "Fetching results for id \" {'rmult': 8.0, 'f': 0.003} \"\n",
      "Fetching results for id \" {'rmult': 9.0, 'f': 0.003} \"\n",
      "Fetching results for id \" {'rmult': 10.0, 'f': 0.003} \"\n",
      "Convergence reached in Dataset \"Li-pbe-nlcc_ss(domain)\" for id \" {'rmult': 9.0, 'f': 0.003} \"\n",
      "('Relative difference in %', [-3.668153718944341, -3.668153718944341, -3.668153718944341])\n",
      "Fetching results for id \" {'rmult': 5.0, 'f': 0.004} \"\n",
      "Fetching results for id \" {'rmult': 6.0, 'f': 0.004} \"\n",
      "Fetching results for id \" {'rmult': 7.0, 'f': 0.004} \"\n",
      "Fetching results for id \" {'rmult': 8.0, 'f': 0.004} \"\n",
      "Fetching results for id \" {'rmult': 9.0, 'f': 0.004} \"\n",
      "Fetching results for id \" {'rmult': 10.0, 'f': 0.004} \"\n",
      "Convergence reached in Dataset \"Li-pbe-nlcc_ss(domain)\" for id \" {'rmult': 9.0, 'f': 0.004} \"\n",
      "('Relative difference in %', [-2.991212867294405, -2.991212867294405, -2.991212867294405])\n",
      "Fetching results for id \" {'rmult': 5.0, 'f': 0.005} \"\n",
      "Fetching results for id \" {'rmult': 6.0, 'f': 0.005} \"\n",
      "Fetching results for id \" {'rmult': 7.0, 'f': 0.005} \"\n",
      "Fetching results for id \" {'rmult': 8.0, 'f': 0.005} \"\n",
      "Fetching results for id \" {'rmult': 9.0, 'f': 0.005} \"\n",
      "Fetching results for id \" {'rmult': 10.0, 'f': 0.005} \"\n",
      "Fetching results for id \" {'rmult': 11.0, 'f': 0.005} \"\n",
      "Convergence reached in Dataset \"Li-pbe-nlcc_ss(domain)\" for id \" {'rmult': 10.0, 'f': 0.005} \"\n",
      "('Relative difference in %', [-1.8927376771924465, -1.8927376771924465, -1.8927376771924465])\n"
     ]
    }
   ],
   "source": [
    "study_data = {}\n",
    "\n",
    "for study in studies:\n",
    "    molecule = study[0]\n",
    "    xc = study[1]\n",
    "    psp = study[2]\n",
    "    \n",
    "    print 'Analysis of '+molecule+'-'+xc+'-'+psp\n",
    "    gs_data=gs_study(molecule,(xc,psp),code,options)\n",
    "    study_data[(molecule,xc,psp)]=alpha_study(gs_data,code,options)\n",
    "    study_data[(molecule,xc,psp)].update(gs_data)\n",
    "    \n",
    "full_results_linearity = {}\n",
    "#full_results_linearity = yaml.load(open('full_results_linearity.yaml'))\n",
    "\n",
    "full_results_linearity.update(data_to_save_linearity(study_data,options))\n",
    "with open('full_results_linearity.yaml', 'w') as outfile:\n",
    "    yaml.dump(full_results_linearity, outfile, default_flow_style=False)\n"
   ]
  },
  {
   "cell_type": "code",
   "execution_count": 36,
   "metadata": {},
   "outputs": [],
   "source": [
    "#full_results_linearity"
   ]
  },
  {
   "cell_type": "markdown",
   "metadata": {},
   "source": [
    "# Data analysis"
   ]
  },
  {
   "cell_type": "code",
   "execution_count": 23,
   "metadata": {},
   "outputs": [],
   "source": [
    "import matplotlib.pyplot as plt\n",
    "AuToA = 0.5291772085"
   ]
  },
  {
   "cell_type": "markdown",
   "metadata": {},
   "source": [
    "## Induced dipoles vs field intensity"
   ]
  },
  {
   "cell_type": "code",
   "execution_count": 24,
   "metadata": {},
   "outputs": [],
   "source": [
    "#full_results_linearity"
   ]
  },
  {
   "cell_type": "code",
   "execution_count": 26,
   "metadata": {},
   "outputs": [
    {
     "data": {
      "text/plain": [
       "<matplotlib.legend.Legend at 0x7fd55d4ca450>"
      ]
     },
     "execution_count": 26,
     "metadata": {},
     "output_type": "execute_result"
    },
    {
     "data": {
      "image/png": "[encoded data removed]",
      "text/plain": [
       "<Figure size 432x288 with 1 Axes>"
      ]
     },
     "metadata": {},
     "output_type": "display_data"
    }
   ],
   "source": [
    "for study in full_results_linearity:\n",
    "    if study == 'options': continue\n",
    "    #print study\n",
    "    alphas = full_results_linearity[study]['alpha_values']\n",
    "    #print alphas\n",
    "    ints = alphas.keys()\n",
    "    ints.append(0.0)\n",
    "    ints.sort()\n",
    "    #print ints\n",
    "    dipoles = []\n",
    "    dipoles.append(0.0)\n",
    "    for f in ints[1:]:\n",
    "        dip = f*alphas[f]['alpha_convergence'][1][0]#/(AuToA**3)\n",
    "        dipoles.append(dip)\n",
    "    plt.plot(ints,dipoles,label = study[0]+'-'+study[1]+'-'+study[2])\n",
    "    plt.scatter(ints,dipoles)\n",
    "plt.legend()    \n",
    "     "
   ]
  },
  {
   "cell_type": "markdown",
   "metadata": {},
   "source": [
    "## Mean error analysis"
   ]
  },
  {
   "cell_type": "code",
   "execution_count": null,
   "metadata": {},
   "outputs": [],
   "source": [
    "def mean_relative_error(alpha,alpha_ref):\n",
    "    \"\"\"\n",
    "    Provide the mean relative error\n",
    "    \"\"\"\n",
    "    return 100.0*np.mean((alpha-alpha_ref)/alpha_ref)"
   ]
  },
  {
   "cell_type": "code",
   "execution_count": null,
   "metadata": {},
   "outputs": [],
   "source": [
    "HG_data[molecule][xc]"
   ]
  },
  {
   "cell_type": "markdown",
   "metadata": {},
   "source": [
    "We build a dictionary with the mean relative errors"
   ]
  },
  {
   "cell_type": "code",
   "execution_count": null,
   "metadata": {},
   "outputs": [],
   "source": [
    "mre_data = {}\n",
    "for (mol,xc,psp),data in study_data.iteritems():\n",
    "    mre_data[mol,xc,psp] = {}\n",
    "    for ints,alphas in data['alpha_values'].iteritems():\n",
    "        alpha = np.array(alphas['alpha_convergence'][1])\n",
    "        alpha_ref = np.array(HG_data[molecule][xc])/(AuToA**3)\n",
    "        mre_data[mol,xc,psp][ints] = mean_relative_error(alpha,alpha_ref)"
   ]
  },
  {
   "cell_type": "code",
   "execution_count": null,
   "metadata": {},
   "outputs": [],
   "source": [
    "mre_data"
   ]
  },
  {
   "cell_type": "markdown",
   "metadata": {},
   "source": [
    "Compare with the standard results"
   ]
  },
  {
   "cell_type": "code",
   "execution_count": null,
   "metadata": {},
   "outputs": [],
   "source": [
    "full_results=yaml.load(open('full_results.yaml'))"
   ]
  },
  {
   "cell_type": "code",
   "execution_count": null,
   "metadata": {},
   "outputs": [],
   "source": [
    "full_results['Na','pbe','hgh_k']"
   ]
  },
  {
   "cell_type": "code",
   "execution_count": null,
   "metadata": {},
   "outputs": [],
   "source": []
  },
  {
   "cell_type": "markdown",
   "metadata": {},
   "source": [
    "## Function for the id"
   ]
  },
  {
   "cell_type": "code",
   "execution_count": null,
   "metadata": {},
   "outputs": [],
   "source": [
    "inp = I.Inputfile()\n",
    "inp.set_hgrid(0.3)\n",
    "inp.set_rmult(coarse=8.0,fine=9.0)\n",
    "#R.set_xc[study](inp,molecule,datadir)\n",
    "inp.set_wavefunction_convergence(1.0e-6)\n",
    "inp"
   ]
  },
  {
   "cell_type": "markdown",
   "metadata": {},
   "source": [
    "For alpha the id is like"
   ]
  },
  {
   "cell_type": "code",
   "execution_count": null,
   "metadata": {},
   "outputs": [],
   "source": [
    "idd_alpha = {'rmult':inp['dft']['rmult'][0],'dir':'x','sign':'+','F':0.001,'hgrids':inp['dft']['hgrids'],\\\n",
    "             'gnorm':inp['dft']['gnrm_cv']}\n",
    "idd_alpha"
   ]
  },
  {
   "cell_type": "markdown",
   "metadata": {},
   "source": [
    "For the gs the id is like"
   ]
  },
  {
   "cell_type": "code",
   "execution_count": null,
   "metadata": {},
   "outputs": [],
   "source": [
    "def id_process(idd):\n",
    "    from copy import deepcopy\n",
    "    out = deepcopy(idd)\n",
    "    if 'hgrids' in out.keys():\n",
    "        if out['hgrids'] == 0.3:\n",
    "            out.pop('hgrids')\n",
    "    if 'gnorm' in out.keys():\n",
    "        if out['gnorm'] == 1e-06:\n",
    "            out.pop('gnorm')\n",
    "\n",
    "    return out"
   ]
  },
  {
   "cell_type": "code",
   "execution_count": null,
   "metadata": {},
   "outputs": [],
   "source": [
    "id_process(idd_alpha)"
   ]
  },
  {
   "cell_type": "code",
   "execution_count": null,
   "metadata": {},
   "outputs": [],
   "source": []
  },
  {
   "cell_type": "code",
   "execution_count": null,
   "metadata": {},
   "outputs": [],
   "source": [
    "id_gs={'rmult':9.0}"
   ]
  },
  {
   "cell_type": "markdown",
   "metadata": {},
   "source": [
    "add the possibility to change gnorm and hgrids"
   ]
  },
  {
   "cell_type": "code",
   "execution_count": null,
   "metadata": {},
   "outputs": [],
   "source": []
  },
  {
   "cell_type": "code",
   "execution_count": null,
   "metadata": {},
   "outputs": [],
   "source": []
  }
 ],
 "metadata": {
  "kernelspec": {
   "display_name": "Python 2",
   "language": "python",
   "name": "python2"
  },
  "language_info": {
   "codemirror_mode": {
    "name": "ipython",
    "version": 2
   },
   "file_extension": ".py",
   "mimetype": "text/x-python",
   "name": "python",
   "nbconvert_exporter": "python",
   "pygments_lexer": "ipython2",
   "version": "2.7.15+"
  }
 },
 "nbformat": 4,
 "nbformat_minor": 2
}
