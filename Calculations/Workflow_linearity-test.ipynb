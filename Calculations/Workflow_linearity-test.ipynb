{
 "cells": [
  {
   "cell_type": "code",
   "execution_count": 40,
   "metadata": {},
   "outputs": [
    {
     "data": {
      "text/plain": [
       "'/home/marco/Data/RICERCA/DFT AND MANY BODY/LR MOLECULES/Statical polarizability/Analysis/Calculations'"
      ]
     },
     "execution_count": 40,
     "metadata": {},
     "output_type": "execute_result"
    }
   ],
   "source": [
    "from BigDFT import Datasets as D, Calculators as C, Inputfiles as I, Logfiles as lf\n",
    "from BigDFT.Database import Molecules\n",
    "import numpy as np\n",
    "import sys,os\n",
    "sys.path.insert(0,'../')\n",
    "import StatPol as SP\n",
    "\n",
    "basepath = os.getcwd()\n",
    "basepath"
   ]
  },
  {
   "cell_type": "code",
   "execution_count": 2,
   "metadata": {},
   "outputs": [],
   "source": [
    "omp = 2\n",
    "mpi_run = 'mpirun -np 4'"
   ]
  },
  {
   "cell_type": "markdown",
   "metadata": {},
   "source": [
    "# Workflow"
   ]
  },
  {
   "cell_type": "markdown",
   "metadata": {},
   "source": [
    "This notebook contains the complete workflow to extract the statical polarizability of the HG dataset.\n",
    "\n",
    "In this workflow we choose a set of values for the intensity of the field and, for each value, we perform a convergence analysis on the value of rmult"
   ]
  },
  {
   "cell_type": "markdown",
   "metadata": {},
   "source": [
    "## Construction of the relevant tools"
   ]
  },
  {
   "cell_type": "markdown",
   "metadata": {},
   "source": [
    "Define the functions needed to perform the workflow"
   ]
  },
  {
   "cell_type": "code",
   "execution_count": 3,
   "metadata": {},
   "outputs": [],
   "source": [
    "# Service functions \n",
    "\n",
    "def change_workdir(molecule,study,datadir):\n",
    "    \"\"\"\n",
    "    Ensure that the path Data_directory/molecule exists and\n",
    "    move there. \n",
    "    \"\"\"\n",
    "    from futile.Utils import ensure_dir\n",
    "    for d in [datadir,molecule]:\n",
    "        ensure_dir(d)\n",
    "        os.chdir(d)\n",
    "    path='-'.join(study)\n",
    "    ensure_dir(path)\n",
    "    return '-'.join([molecule,path]),path\n",
    "\n",
    "def get_psp(molecule):\n",
    "    \"\"\"\n",
    "    Check if the all the atoms of molecule have the nlcc of the type nlss_aw and nlcc_ss. \n",
    "    If it is true the corresponding pseudo is added to the list of psp to be performed, otherwise \n",
    "    only hgh_k is included.\n",
    "    \"\"\"\n",
    "    from os import path as p\n",
    "    import Routines as R\n",
    "    possible_psp=['nlcc_aw','nlcc_ss']\n",
    "    to_do=[True,True]\n",
    "    for at in R.get_atoms(molecule):\n",
    "        psp_available = [p.isfile(p.join('psp_'+psp,'psppar.'+at)) for psp in possible_psp]\n",
    "        to_do = [ a and b for a,b in zip(to_do,psp_available)]\n",
    "    return ['hgh_k'] + [psp for yes,psp in zip(to_do,possible_psp) if yes]\n",
    "\n",
    "def split_dataset(dataset,length=10):\n",
    "    \"\"\"\n",
    "    Split a list of molecules into a list of list with length elements. \n",
    "    \"\"\"\n",
    "    splitted = [[] for num in range(int(len(dataset)/length)+1)]\n",
    "    for ind,mol in enumerate(dataset):\n",
    "        splitted[int(ind/length)].append(mol)\n",
    "    return splitted"
   ]
  },
  {
   "cell_type": "code",
   "execution_count": 4,
   "metadata": {},
   "outputs": [],
   "source": [
    "# Tools for the ground state\n",
    "\n",
    "def get_converged_input_energy(dataset,rtol,atol):\n",
    "    data=dataset.seek_convergence(atol=atol,rtol=rtol,attribute='energy')\n",
    "    return dataset.runs[dataset.names.index(D.name_from_id(data[0]))]['input'],data[1]\n",
    "\n",
    "def find_gs_domain(label,rtol,atol,path,input,posinp,code):\n",
    "    \"\"\"\n",
    "    Use the seek_convergence method of Dataset to perform a convergence procedure on\n",
    "    the rmult value for a gs computation.\n",
    "    \"\"\"\n",
    "    crmult=input['dft']['rmult'][0]\n",
    "    rmult_fine=input['dft']['rmult'][1]\n",
    "    rmult_list=map(float,range(int(crmult),11))\n",
    "    seek_for_rmult = D.Dataset(label=label+'(GS)',run_dir=path,posinp=posinp)\n",
    "    for rm in rmult_list:\n",
    "        input.set_rmult(coarse=rm,fine=rmult_fine)\n",
    "        seek_for_rmult.append_run(id={'rmult':rm},runner=code,input=input)\n",
    "    input_gs,log_gs=get_converged_input_energy(seek_for_rmult,rtol,atol)\n",
    "    return {'input_gs':input_gs, 'dataset_gs': seek_for_rmult,'log_gs':log_gs}\n",
    "\n",
    "def gs_study(molecule,study,code,options):\n",
    "    \"\"\"\"\n",
    "    Workflow for the convergence analysis of the ground state.\n",
    "    \n",
    "    Args : \n",
    "       molecule (str) : name of the molecule\n",
    "       study (touple) : the couple (xc,psp)\n",
    "       code (runner)  : instance of SystemCalculator\n",
    "       options (dict) : dictionary with the computational options\n",
    "    \"\"\"\n",
    "    import Routines as R\n",
    "    hgrids=options.get('hgrids')\n",
    "    rmult_fine=options.get('rmult_fine')\n",
    "    wf_convergence=options.get('wf_convergence')\n",
    "    crmult_start=options.get('crmult',4.0)\n",
    "    rtol=options.get('rtol_gs',10*wf_convergence)\n",
    "    atol=options.get('atol_gs',1.e-3)\n",
    "    reference_results=options.get('reference_data')\n",
    "    datadir=options.get('data_directory','Data')\n",
    "\n",
    "    initial_dir=os.path.abspath(os.path.dirname('.'))\n",
    "    label,path=change_workdir(molecule,study,datadir)\n",
    "    \n",
    "    posinp=Molecules.Molecule(molecule)\n",
    "    \n",
    "    inp = I.Inputfile()\n",
    "    inp.set_hgrid(hgrids)\n",
    "    inp.set_rmult(coarse=crmult_start,fine=rmult_fine)\n",
    "    R.set_xc[study](inp,molecule,datadir)\n",
    "    inp.set_wavefunction_convergence(wf_convergence)\n",
    "    mpol=int(reference_results[molecule]['mpol_ref'])-1   \n",
    "    if mpol >0: inp.spin_polarize(mpol)\n",
    "    data= find_gs_domain(label,10*wf_convergence,atol,path,inp,posinp,code)\n",
    "    os.chdir(initial_dir)\n",
    "    \n",
    "    data['molecule']=molecule\n",
    "    data['posinp']=posinp\n",
    "    data['study']=study\n",
    "    return data "
   ]
  },
  {
   "cell_type": "code",
   "execution_count": 5,
   "metadata": {},
   "outputs": [],
   "source": [
    "# Tools for alpha\n",
    "def extract_statical_polarizability(label,rtol,atol,path,input_for_alpha,posinp,code,ref):\n",
    "    \n",
    "    # seek for the field convergence\n",
    "    ints=[1e-2,5e-3,1e-3,5e-4,1e-4]\n",
    "    alpha_field=D.Dataset(label=label+'(field)',run_dir=path)\n",
    "    for f in ints:\n",
    "        alpha_field.append_run(id={'f':f},runner=SP.build_alpha_dataset(input=input_for_alpha,posinp=posinp,run_dir=path,runner=code,intensity=f))\n",
    "    try:\n",
    "        data_field=alpha_field.seek_convergence(rtol=rtol,atol=atol)\n",
    "        intensity=data_field[0]['f']\n",
    "    except:\n",
    "        print ('Convergence in field not reached')\n",
    "        intensity=ints[-1]\n",
    "    \n",
    "    # seek for the rmult convergence\n",
    "    rmult_fine=input_for_alpha['dft']['rmult'][1]\n",
    "    rmult_list=map(float,range(int(input_for_alpha['dft']['rmult'][0]),11))\n",
    "    alpha_rmult=D.Dataset(label=label+'(domain)',run_dir=path)\n",
    "    for rm in rmult_list:\n",
    "        input_for_alpha.set_rmult(coarse=rm,fine=rmult_fine)\n",
    "        alpha_rmult.append_run(id={'f':intensity,'rmult':rm},runner=SP.build_alpha_dataset(input=input_for_alpha,posinp=posinp,run_dir=path,runner=code,intensity=intensity))\n",
    "    try:\n",
    "        import numpy as np\n",
    "        data_final=alpha_rmult.seek_convergence(rtol=rtol,atol=atol)\n",
    "        AuToA = 0.5291772085**3\n",
    "        alpha_ref_ii = np.array(ref)/AuToA\n",
    "        eps = 100.0 * (data_final[1]-alpha_ref_ii)/alpha_ref_ii\n",
    "        print ('Relative difference in %',eps.tolist())\n",
    "    except LookupError as e:\n",
    "        print ('Convergence in domain not reached',e)\n",
    "        data_final=None\n",
    "    return {'alpha_convergence': data_final, 'dataset_field': alpha_field, 'dataset_rmult': alpha_rmult}\n",
    "\n",
    "def extract_statical_polarizability_linearity(label,rtol,atol,path,input_for_alpha,posinp,code,ref):\n",
    "    \n",
    "    ints=[1e-2,5e-3,1e-3,5e-4,1e-4]\n",
    "       \n",
    "    results = {}\n",
    "    results['alpha_values'] = {}\n",
    "    rmult_fine=input_for_alpha['dft']['rmult'][1]\n",
    "    rmult_list=map(float,range(int(input_for_alpha['dft']['rmult'][0]),11))\n",
    "    for intensity in ints:\n",
    "    \n",
    "        # seek for the rmult convergence\n",
    "        alpha_rmult=D.Dataset(label=label+'(domain)',run_dir=path)\n",
    "        for rm in rmult_list:\n",
    "            input_for_alpha.set_rmult(coarse=rm,fine=rmult_fine)\n",
    "            alpha_rmult.append_run(id={'f':intensity,'rmult':rm},\\\n",
    "                runner=SP.build_alpha_dataset(input=input_for_alpha,posinp=posinp,run_dir=path,\\\n",
    "                            runner=code,intensity=intensity))\n",
    "    \n",
    "        try:\n",
    "            import numpy as np\n",
    "            data_final=alpha_rmult.seek_convergence(rtol=rtol,atol=atol)\n",
    "            AuToA = 0.5291772085**3\n",
    "            alpha_ref_ii = np.array(ref)/AuToA\n",
    "            eps = 100.0 * (data_final[1]-alpha_ref_ii)/alpha_ref_ii\n",
    "            print ('Relative difference in %',eps.tolist())\n",
    "        except LookupError as e:\n",
    "            print ('Convergence in domain not reached',e)\n",
    "            data_final=None\n",
    "        \n",
    "        results['alpha_values'][intensity] = {'alpha_convergence': data_final, 'dataset_rmult': alpha_rmult}\n",
    "    return results\n",
    "\n",
    "def alpha_study(gs_data,code,options):\n",
    "    \"\"\"\"\n",
    "    Workflow for the convergence analysis for the computation of alpha.\n",
    "    \n",
    "    Args : \n",
    "       gs_data        : output of gs_study\n",
    "       code (runner)  : instance of SystemCalculator\n",
    "       options (dict) : dictionary with the computational options\n",
    "    \"\"\"\n",
    "    import copy\n",
    "    xc_conversion={'lda_pw': 'lda-SPW92', 'pbe': 'pbe', 'pbe0': 'pbe0'}\n",
    "    rtol=options.get('rtol',1.e-2)\n",
    "    atol=options.get('atol',1.e-3)\n",
    "    reference_results=options.get('reference_data')\n",
    "    datadir=options.get('data_directory','Data')\n",
    "    study=gs_data['study']\n",
    "    molecule=gs_data['molecule']\n",
    "    posinp=gs_data['posinp']\n",
    "    xc=study[0]\n",
    "    ref_data=reference_results[molecule][xc_conversion[xc]]\n",
    "    \n",
    "    initial_dir=os.path.abspath(os.path.dirname('.'))\n",
    "    label,path=change_workdir(molecule,study,datadir)\n",
    "    input_gs=copy.deepcopy(gs_data['input_gs'])\n",
    "        \n",
    "    #data=extract_statical_polarizability(label,rtol,atol,path,input_gs,posinp,code,ref=ref_data)\n",
    "    data=extract_statical_polarizability_linearity(label,rtol,atol,path,input_gs,posinp,code,ref=ref_data)\n",
    "    os.chdir(initial_dir)\n",
    "    \n",
    "    return data"
   ]
  },
  {
   "cell_type": "code",
   "execution_count": 6,
   "metadata": {},
   "outputs": [],
   "source": [
    "def data_to_save(data,options):\n",
    "    \"\"\"\n",
    "    Define the dictionary to be saved on file for data analysis\n",
    "    \"\"\"\n",
    "    from copy import deepcopy\n",
    "    res = {}\n",
    "    for s,values in data.iteritems():\n",
    "        res[s] = {}\n",
    "        if not (values['alpha_convergence'] is None):\n",
    "            res[s]['alpha_convergence'] = (values['alpha_convergence'][0],values['alpha_convergence'][1].tolist())\n",
    "        else : \n",
    "            res[s]['alpha_convergence'] = values['alpha_convergence']\n",
    "        \n",
    "        res[s]['posinp'] = {}\n",
    "        pos = values['posinp']\n",
    "        for key in pos:\n",
    "            res[s]['posinp'][key] = pos[key]\n",
    "        \n",
    "        res[s]['input_gs'] = {}\n",
    "        inp = values['input_gs']\n",
    "        for key in inp:\n",
    "            res[s]['input_gs'][key] = inp[key]\n",
    "        \n",
    "    save_options = deepcopy(options)\n",
    "    save_options.pop('reference_data')\n",
    "    res['options'] = save_options\n",
    "    return res\n",
    "\n",
    "def data_to_save_linearity(data,options):\n",
    "    \"\"\"\n",
    "    Define the dictionary to be saved on file for data analysis\n",
    "    \"\"\"\n",
    "    from copy import deepcopy\n",
    "    res = {}\n",
    "    for s,values in data.iteritems():\n",
    "        res[s] = {}\n",
    "        res[s]['alpha_values'] = {}\n",
    "        alpha_values = values['alpha_values']\n",
    "        for int,v in alpha_values.iteritems():\n",
    "            res[s]['alpha_values'][int] = {}\n",
    "            if not (v['alpha_convergence'] is None):\n",
    "                res[s]['alpha_values'][int]['alpha_convergence'] = (v['alpha_convergence'][0],v['alpha_convergence'][1].tolist())\n",
    "            else: \n",
    "                res[s]['alpha_values'][int]['alpha_convergence'] = values['alpha_convergence']\n",
    "        \n",
    "        res[s]['posinp'] = {}\n",
    "        pos = values['posinp']\n",
    "        for key in pos:\n",
    "            res[s]['posinp'][key] = pos[key]\n",
    "        \n",
    "        res[s]['input_gs'] = {}\n",
    "        inp = values['input_gs']\n",
    "        for key in inp:\n",
    "            res[s]['input_gs'][key] = inp[key]\n",
    "        \n",
    "    save_options = deepcopy(options)\n",
    "    save_options.pop('reference_data')\n",
    "    res['options'] = save_options\n",
    "    return res"
   ]
  },
  {
   "cell_type": "markdown",
   "metadata": {},
   "source": [
    "## Single study analysis - linearity test"
   ]
  },
  {
   "cell_type": "markdown",
   "metadata": {},
   "source": [
    "Build the dataset using the HG data written in hg_data.yaml. To each molecule of the dataset associate a set of studies=(xc,psp)"
   ]
  },
  {
   "cell_type": "code",
   "execution_count": 7,
   "metadata": {},
   "outputs": [],
   "source": [
    "import yaml\n",
    "HG_data=yaml.load(open('../HG Dataset/hg_data.yaml'))"
   ]
  },
  {
   "cell_type": "code",
   "execution_count": 8,
   "metadata": {},
   "outputs": [
    {
     "name": "stdout",
     "output_type": "stream",
     "text": [
      "Initialize a Calculator with OMP_NUM_THREADS=2 and command mpirun -np 4 /home/marco/Applications/BigDFT/binaries/v1.8.3/install/bin/bigdft\n"
     ]
    }
   ],
   "source": [
    "code=C.SystemCalculator(omp=omp,mpi_run=mpi_run,skip=True,verbose=False)"
   ]
  },
  {
   "cell_type": "code",
   "execution_count": 9,
   "metadata": {},
   "outputs": [],
   "source": [
    "options={'wf_convergence':1.e-6,'hgrids':0.3,'rmult_fine':9.0,'rtol':1.e-3,'atol':1.e-3,\\\n",
    "         'reference_data':HG_data,'data_directory':'Data'}"
   ]
  },
  {
   "cell_type": "markdown",
   "metadata": {},
   "source": [
    "We can perform a single study with this workflow"
   ]
  },
  {
   "cell_type": "code",
   "execution_count": 27,
   "metadata": {},
   "outputs": [],
   "source": [
    "study_data = {}"
   ]
  },
  {
   "cell_type": "code",
   "execution_count": 28,
   "metadata": {},
   "outputs": [],
   "source": [
    "molecule = 'NO'#'CO'\n",
    "xc = 'pbe'\n",
    "psp = 'nlcc_ss'#'nlcc_aw'"
   ]
  },
  {
   "cell_type": "code",
   "execution_count": 29,
   "metadata": {},
   "outputs": [
    {
     "data": {
      "text/plain": [
       "{'CCSD(T)': [1.753, 1.753, 2.283],\n",
       " 'lda-SPW92': [1.872, 1.872, 2.358],\n",
       " 'lda-Slater': [1.993, 1.993, 2.49],\n",
       " 'mpol_ref': '1',\n",
       " 'pbe': [1.856, 1.856, 2.363],\n",
       " 'pbe0': [1.778, 1.778, 2.274],\n",
       " 'spin_pol': 'nsp'}"
      ]
     },
     "execution_count": 29,
     "metadata": {},
     "output_type": "execute_result"
    }
   ],
   "source": [
    "HG_data[molecule]"
   ]
  },
  {
   "cell_type": "code",
   "execution_count": 30,
   "metadata": {},
   "outputs": [
    {
     "name": "stdout",
     "output_type": "stream",
     "text": [
      "Fetching results for id \" {'rmult': 4.0} \"\n",
      "Fetching results for id \" {'rmult': 5.0} \"\n",
      "Fetching results for id \" {'rmult': 6.0} \"\n",
      "Convergence reached in Dataset \"CO-pbe-nlcc_aw(GS)\" for id \" {'rmult': 5.0} \"\n"
     ]
    }
   ],
   "source": [
    "gs_data=gs_study(molecule,(xc,psp),code,options)"
   ]
  },
  {
   "cell_type": "code",
   "execution_count": 32,
   "metadata": {},
   "outputs": [],
   "source": [
    "#gs_data"
   ]
  },
  {
   "cell_type": "code",
   "execution_count": 33,
   "metadata": {
    "scrolled": false
   },
   "outputs": [
    {
     "name": "stdout",
     "output_type": "stream",
     "text": [
      "Fetching results for id \" {'rmult': 5.0, 'f': 0.01} \"\n",
      "Fetching results for id \" {'rmult': 6.0, 'f': 0.01} \"\n",
      "Fetching results for id \" {'rmult': 7.0, 'f': 0.01} \"\n",
      "Fetching results for id \" {'rmult': 8.0, 'f': 0.01} \"\n",
      "Convergence reached in Dataset \"CO-pbe-nlcc_aw(domain)\" for id \" {'rmult': 7.0, 'f': 0.01} \"\n",
      "('Relative difference in %', [0.33302443490052186, 0.33302443490052186, -0.14013663030754425])\n",
      "Fetching results for id \" {'rmult': 5.0, 'f': 0.005} \"\n",
      "Fetching results for id \" {'rmult': 6.0, 'f': 0.005} \"\n",
      "Fetching results for id \" {'rmult': 7.0, 'f': 0.005} \"\n",
      "Fetching results for id \" {'rmult': 8.0, 'f': 0.005} \"\n",
      "Convergence reached in Dataset \"CO-pbe-nlcc_aw(domain)\" for id \" {'rmult': 7.0, 'f': 0.005} \"\n",
      "('Relative difference in %', [0.1266037733590598, 0.1266037733590598, -0.35506403390880337])\n",
      "Fetching results for id \" {'rmult': 5.0, 'f': 0.001} \"\n",
      "Fetching results for id \" {'rmult': 6.0, 'f': 0.001} \"\n",
      "Fetching results for id \" {'rmult': 7.0, 'f': 0.001} \"\n",
      "Fetching results for id \" {'rmult': 8.0, 'f': 0.001} \"\n",
      "Convergence reached in Dataset \"CO-pbe-nlcc_aw(domain)\" for id \" {'rmult': 7.0, 'f': 0.001} \"\n",
      "('Relative difference in %', [0.06268314922738152, 0.06268314922738152, -0.4227912815642358])\n",
      "Fetching results for id \" {'rmult': 5.0, 'f': 0.0005} \"\n",
      "Fetching results for id \" {'rmult': 6.0, 'f': 0.0005} \"\n",
      "Fetching results for id \" {'rmult': 7.0, 'f': 0.0005} \"\n",
      "Fetching results for id \" {'rmult': 8.0, 'f': 0.0005} \"\n",
      "Convergence reached in Dataset \"CO-pbe-nlcc_aw(domain)\" for id \" {'rmult': 7.0, 'f': 0.0005} \"\n",
      "('Relative difference in %', [0.05831585202528509, 0.05831585202528509, -0.4249547908642904])\n",
      "Fetching results for id \" {'rmult': 5.0, 'f': 0.0001} \"\n",
      "Fetching results for id \" {'rmult': 6.0, 'f': 0.0001} \"\n",
      "Fetching results for id \" {'rmult': 7.0, 'f': 0.0001} \"\n",
      "Fetching results for id \" {'rmult': 8.0, 'f': 0.0001} \"\n",
      "Convergence reached in Dataset \"CO-pbe-nlcc_aw(domain)\" for id \" {'rmult': 7.0, 'f': 0.0001} \"\n",
      "('Relative difference in %', [0.04575687853549022, 0.04575687853549022, -0.4255818950094357])\n"
     ]
    }
   ],
   "source": [
    "study_data[(molecule,xc,psp)]=alpha_study(gs_data,code,options)\n",
    "study_data[(molecule,xc,psp)].update(gs_data)"
   ]
  },
  {
   "cell_type": "code",
   "execution_count": 34,
   "metadata": {},
   "outputs": [
    {
     "data": {
      "text/plain": [
       "['alpha_values',\n",
       " 'posinp',\n",
       " 'log_gs',\n",
       " 'input_gs',\n",
       " 'study',\n",
       " 'molecule',\n",
       " 'dataset_gs']"
      ]
     },
     "execution_count": 34,
     "metadata": {},
     "output_type": "execute_result"
    }
   ],
   "source": [
    "study_data[molecule,xc,psp].keys()"
   ]
  },
  {
   "cell_type": "code",
   "execution_count": 35,
   "metadata": {},
   "outputs": [],
   "source": [
    "bla = study_data[molecule,xc,psp]['alpha_values'][0.01]['dataset_rmult']"
   ]
  },
  {
   "cell_type": "code",
   "execution_count": 36,
   "metadata": {},
   "outputs": [
    {
     "data": {
      "text/plain": [
       "[{'f': 0.01, 'rmult': 5.0},\n",
       " {'f': 0.01, 'rmult': 6.0},\n",
       " {'f': 0.01, 'rmult': 7.0},\n",
       " {'f': 0.01, 'rmult': 8.0},\n",
       " {'f': 0.01, 'rmult': 9.0},\n",
       " {'f': 0.01, 'rmult': 10.0}]"
      ]
     },
     "execution_count": 36,
     "metadata": {},
     "output_type": "execute_result"
    }
   ],
   "source": [
    "bla.ids"
   ]
  },
  {
   "cell_type": "code",
   "execution_count": 37,
   "metadata": {},
   "outputs": [
    {
     "data": {
      "text/plain": [
       "{'input': {'dft': {'elecfield': [0.01, 0.0, 0.0],\n",
       "   'gnrm_cv': 1e-06,\n",
       "   'hgrids': 0.3,\n",
       "   'ixc': 11,\n",
       "   'rmult': [7.0, 9.0]}},\n",
       " 'intensity': 0.01,\n",
       " 'label': 'alpha_0.01',\n",
       " 'posinp': {'positions': [{'C': [0.0, 0.0, 0.0], 'frag': ['molecule', '0']},\n",
       "   {'O': [0.0, 0.0, 1.1282], 'frag': ['molecule', '0']}],\n",
       "  'units': 'angstroem'},\n",
       " 'run_dir': 'pbe-nlcc_aw',\n",
       " 'runner': <BigDFT.Calculators.SystemCalculator instance at 0x7f887b6d5cf8>}"
      ]
     },
     "execution_count": 37,
     "metadata": {},
     "output_type": "execute_result"
    }
   ],
   "source": [
    "bla.calculators[2]['calc'].runs[0]"
   ]
  },
  {
   "cell_type": "markdown",
   "metadata": {},
   "source": []
  },
  {
   "cell_type": "code",
   "execution_count": 38,
   "metadata": {},
   "outputs": [],
   "source": [
    "out = data_to_save_linearity(study_data,options)"
   ]
  },
  {
   "cell_type": "code",
   "execution_count": 39,
   "metadata": {},
   "outputs": [
    {
     "data": {
      "text/plain": [
       "{'options': {'atol': 0.001,\n",
       "  'data_directory': 'Data',\n",
       "  'hgrids': 0.3,\n",
       "  'rmult_fine': 9.0,\n",
       "  'rtol': 0.001,\n",
       "  'wf_convergence': 1e-06},\n",
       " ('CO',\n",
       "  'pbe',\n",
       "  'nlcc_aw'): {'alpha_values': {0.0001: {'alpha_convergence': ({'f': 0.0001,\n",
       "      'rmult': 7.0},\n",
       "     [12.530639999999998, 12.530639999999998, 15.878449999999974])},\n",
       "   0.0005: {'alpha_convergence': ({'f': 0.0005, 'rmult': 7.0},\n",
       "     [12.532213, 12.532213, 15.878550000000004])},\n",
       "   0.001: {'alpha_convergence': ({'f': 0.001, 'rmult': 7.0},\n",
       "     [12.53276, 12.53276, 15.878894999999996])},\n",
       "   0.005: {'alpha_convergence': ({'f': 0.005, 'rmult': 7.0},\n",
       "     [12.540765999999998, 12.540765999999998, 15.889695000000001])},\n",
       "   0.01: {'alpha_convergence': ({'f': 0.01, 'rmult': 7.0},\n",
       "     [12.56662,\n",
       "      12.56662,\n",
       "      15.923968000000002])}}, 'input_gs': {'dft': {'gnrm_cv': 1e-06,\n",
       "    'hgrids': 0.3,\n",
       "    'ixc': 11,\n",
       "    'rmult': [5.0, 9.0]}}, 'posinp': {'positions': [{'C': [0.0, 0.0, 0.0],\n",
       "     'frag': ['molecule', '0']},\n",
       "    {'O': [0.0, 0.0, 1.1282], 'frag': ['molecule', '0']}],\n",
       "   'units': 'angstroem'}}}"
      ]
     },
     "execution_count": 39,
     "metadata": {},
     "output_type": "execute_result"
    }
   ],
   "source": [
    "out"
   ]
  },
  {
   "cell_type": "markdown",
   "metadata": {},
   "source": [
    "## Data analysis"
   ]
  },
  {
   "cell_type": "code",
   "execution_count": 69,
   "metadata": {},
   "outputs": [],
   "source": [
    "AuToA = 0.5291772085**3\n",
    "\n",
    "def mean_relative_error(alpha,alpha_ref):\n",
    "    \"\"\"\n",
    "    Provide the mean relative error\n",
    "    \"\"\"\n",
    "    return 100.0*np.mean((alpha-alpha_ref)/alpha_ref)"
   ]
  },
  {
   "cell_type": "code",
   "execution_count": 70,
   "metadata": {},
   "outputs": [
    {
     "data": {
      "text/plain": [
       "[1.856, 1.856, 2.363]"
      ]
     },
     "execution_count": 70,
     "metadata": {},
     "output_type": "execute_result"
    }
   ],
   "source": [
    "HG_data[molecule][xc]"
   ]
  },
  {
   "cell_type": "markdown",
   "metadata": {},
   "source": [
    "We build a dictionary with the mean realive errors"
   ]
  },
  {
   "cell_type": "code",
   "execution_count": 71,
   "metadata": {},
   "outputs": [],
   "source": [
    "mre_data = {}\n",
    "for (mol,xc,psp),data in study_data.iteritems():\n",
    "    mre_data[mol,xc,psp] = {}\n",
    "    for ints,alphas in data['alpha_values'].iteritems():\n",
    "        alpha = np.array(alphas['alpha_convergence'][1])\n",
    "        alpha_ref = np.array(HG_data[molecule][xc])/AuToA\n",
    "        mre_data[mol,xc,psp][ints] = mean_relative_error(alpha,alpha_ref)"
   ]
  },
  {
   "cell_type": "code",
   "execution_count": 72,
   "metadata": {},
   "outputs": [
    {
     "data": {
      "text/plain": [
       "{('CO', 'pbe', 'nlcc_aw'): {0.0001: -0.11135604597948508,\n",
       "  0.0005: -0.10277436227124005,\n",
       "  0.001: -0.09914166103649091,\n",
       "  0.005: -0.03395216239689459,\n",
       "  0.01: 0.17530407983116647}}"
      ]
     },
     "execution_count": 72,
     "metadata": {},
     "output_type": "execute_result"
    }
   ],
   "source": [
    "mre_data"
   ]
  },
  {
   "cell_type": "code",
   "execution_count": null,
   "metadata": {},
   "outputs": [],
   "source": []
  },
  {
   "cell_type": "code",
   "execution_count": null,
   "metadata": {},
   "outputs": [],
   "source": []
  }
 ],
 "metadata": {
  "kernelspec": {
   "display_name": "Python 2",
   "language": "python",
   "name": "python2"
  },
  "language_info": {
   "codemirror_mode": {
    "name": "ipython",
    "version": 2
   },
   "file_extension": ".py",
   "mimetype": "text/x-python",
   "name": "python",
   "nbconvert_exporter": "python",
   "pygments_lexer": "ipython2",
   "version": "2.7.15+"
  }
 },
 "nbformat": 4,
 "nbformat_minor": 2
}
