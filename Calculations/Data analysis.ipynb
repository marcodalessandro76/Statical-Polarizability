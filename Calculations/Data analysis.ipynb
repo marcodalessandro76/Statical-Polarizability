{
 "cells": [
  {
   "cell_type": "code",
   "execution_count": 1,
   "metadata": {},
   "outputs": [],
   "source": [
    "#import numpy as np\n",
    "#import matplotlib.pyplot as plt\n",
    "import yaml, sys, os#, sys, yaml\n",
    "sys.path.insert(0,'../')\n",
    "#import StatPol as SP, \n",
    "from Routines import AuToA #import Routines as R\n",
    "#basepath = os.getcwd()"
   ]
  },
  {
   "cell_type": "markdown",
   "metadata": {},
   "source": [
    "# Data to be analyzed\n",
    "We construct various dictionaries with the results provided by Qchem (`HG_data`),\n",
    "the results from MRChem (`MW_data`) and the data from PSP calculations (`BG_data`).\n",
    "The latter is a dictionary with a further level indicating the family of the PSP chosen for the study. We also indicate, for each of the dataset, the molecules that are missing in the other reference data."
   ]
  },
  {
   "cell_type": "markdown",
   "metadata": {},
   "source": [
    "## Load reference data from HG supplementary information"
   ]
  },
  {
   "cell_type": "code",
   "execution_count": 2,
   "metadata": {},
   "outputs": [],
   "source": [
    "HG_data=yaml.load(open('../HG Dataset/hg_data.yaml'))\n",
    "# set the study for H to sp\n",
    "HG_data['H']['spin_pol'] = 'sp'"
   ]
  },
  {
   "cell_type": "code",
   "execution_count": 3,
   "metadata": {},
   "outputs": [
    {
     "data": {
      "text/plain": [
       "{'CCSD(T)': [1.21, 1.21, 2.263],\n",
       " 'field_int': 0.01,\n",
       " 'lda-SPW92': [1.287, 1.287, 2.294],\n",
       " 'lda-Slater': [1.377, 1.377, 2.439],\n",
       " 'mpol_ref': '3',\n",
       " 'pbe': [1.292, 1.292, 2.322],\n",
       " 'pbe0': [1.224, 1.224, 2.313],\n",
       " 'spin_pol': 'sp'}"
      ]
     },
     "execution_count": 3,
     "metadata": {},
     "output_type": "execute_result"
    }
   ],
   "source": [
    "HG_data['O2']"
   ]
  },
  {
   "cell_type": "markdown",
   "metadata": {},
   "source": [
    "Distinguish between closed shell and open shell molecules"
   ]
  },
  {
   "cell_type": "code",
   "execution_count": 4,
   "metadata": {},
   "outputs": [],
   "source": [
    "open_shell=[mol for mol in HG_data if HG_data[mol]['mpol_ref'] != '1' ]\n",
    "closed_shell=[mol for mol in HG_data if HG_data[mol]['mpol_ref'] == '1' ]\n",
    "\n",
    "#open_shell=[mol for mol in HG_data if HG_data[mol]['spin_pol'] == 'sp']\n",
    "#closed_shell=[mol for mol in HG_data if HG_data[mol]['spin_pol'] == 'nsp']"
   ]
  },
  {
   "cell_type": "code",
   "execution_count": 5,
   "metadata": {},
   "outputs": [
    {
     "name": "stdout",
     "output_type": "stream",
     "text": [
      "92\n",
      "40\n"
     ]
    }
   ],
   "source": [
    "print len(closed_shell)\n",
    "print len(open_shell)"
   ]
  },
  {
   "cell_type": "code",
   "execution_count": 6,
   "metadata": {},
   "outputs": [],
   "source": [
    "#open_shell.sort()\n",
    "#open_shell"
   ]
  },
  {
   "cell_type": "markdown",
   "metadata": {},
   "source": [
    "## Load Multiwavelet data with finite-differences"
   ]
  },
  {
   "cell_type": "code",
   "execution_count": 7,
   "metadata": {},
   "outputs": [],
   "source": [
    "MWdata=yaml.load(open('../mw_data_0001v2.yaml'))\n",
    "MW_data={mol:{xcref: MWdata[mol][xc]['diagonal'] for xcref,xc in [('lda-SPW92','lda'),('pbe','pbe')]} for mol in MWdata}"
   ]
  },
  {
   "cell_type": "code",
   "execution_count": 8,
   "metadata": {},
   "outputs": [
    {
     "data": {
      "text/plain": [
       "{'lda-SPW92': [1.868431750384668, 1.8684317500142003, 2.3535110461925104],\n",
       " 'pbe': [1.8532465936431202, 1.8532465936431202, 2.359389168196766]}"
      ]
     },
     "execution_count": 8,
     "metadata": {},
     "output_type": "execute_result"
    }
   ],
   "source": [
    "MW_data['co']"
   ]
  },
  {
   "cell_type": "markdown",
   "metadata": {},
   "source": [
    "Find the data which are not present in the MW dictionary"
   ]
  },
  {
   "cell_type": "code",
   "execution_count": 9,
   "metadata": {},
   "outputs": [
    {
     "name": "stdout",
     "output_type": "stream",
     "text": [
      "Molecule \"PS\" not present in MRchem data\n",
      "Molecule \"CH3O\" not present in MRchem data\n",
      "Molecule \"S2\" not present in MRchem data\n",
      "Molecule \"SH\" not present in MRchem data\n"
     ]
    }
   ],
   "source": [
    "MW_missing=set()\n",
    "for mol in HG_data:\n",
    "    if mol.lower() not in MW_data:\n",
    "        print ('Molecule \"'+mol+'\" not present in MRchem data')\n",
    "        MW_missing.add(mol)"
   ]
  },
  {
   "cell_type": "markdown",
   "metadata": {},
   "source": [
    "## Load PSP data from BigDFT calculations\n",
    "After loading the data only consider the molecules for which the value of alpha is converged according to the criterion of the Workflow."
   ]
  },
  {
   "cell_type": "code",
   "execution_count": 10,
   "metadata": {},
   "outputs": [],
   "source": [
    "def get_field(full_results,study):\n",
    "    \"\"\"\n",
    "    Retrieve the value of the field that provided the tolerance of the options\n",
    "    \"\"\"\n",
    "    tol=full_results['options']['atol']\n",
    "    field=full_results[study]['alpha_convergence']\n",
    "    if field is not None: field=field[0]['f']\n",
    "    return tol,field\n",
    "\n",
    "def alpha_is_reliable(full_results,study):\n",
    "    \"\"\"\n",
    "    Provide a boolean stating if the given study has a reliable statical polarizability\n",
    "    \"\"\"\n",
    "    tol,field=get_field(full_results,study)\n",
    "    if field is None or field == 0.0001: return False\n",
    "    return True\n",
    "\n",
    "def study_matches(study,key):\n",
    "    \"\"\"\n",
    "    Returns the rest of the tuple of the study\n",
    "    \"\"\"\n",
    "    #case of a string\n",
    "    if type(key) == type('a'): return [i for i in study if i != key]\n",
    "    #case of a tuple\n",
    "    return [i for i in study if i not in list(key)]\n",
    "\n",
    "def get_result(full_results,study,key):\n",
    "    null=(None,None,None)\n",
    "    if study == 'options' or not alpha_is_reliable(full_results,study): return null\n",
    "    dataname=study_matches(study,key)\n",
    "    th=2 if type(key) == type('a') else 3-len(key)\n",
    "    if len(dataname)> th: return null\n",
    "    result=full_results[study]['alpha_convergence']\n",
    "    tol,field=get_field(full_results,study)\n",
    "    return result,dataname,field\n",
    "\n",
    "def reformat_result(full_results,key):\n",
    "    \"\"\"\n",
    "    Works with a name of a (psp) as key\n",
    "    \"\"\"\n",
    "    res={}\n",
    "    import numpy\n",
    "    for study in full_results:\n",
    "        result,dataname,field = get_result(full_results,study,key)\n",
    "        if result is None: continue\n",
    "        alpha=numpy.array(result[1])*AuToA\n",
    "        st=tuple(dataname)\n",
    "        mol=st[0]\n",
    "        xc=st[1] if st[1] != 'lda_pw' else 'lda-SPW92'\n",
    "        res.setdefault(mol,{})\n",
    "        res[mol].update({xc:alpha,xc+'-f':field})\n",
    "    return res"
   ]
  },
  {
   "cell_type": "code",
   "execution_count": 11,
   "metadata": {},
   "outputs": [],
   "source": [
    "full_results = yaml.load(open('full_results.yaml'))"
   ]
  },
  {
   "cell_type": "code",
   "execution_count": 12,
   "metadata": {},
   "outputs": [
    {
     "data": {
      "text/plain": [
       "613"
      ]
     },
     "execution_count": 12,
     "metadata": {},
     "output_type": "execute_result"
    }
   ],
   "source": [
    "len(full_results.keys())"
   ]
  },
  {
   "cell_type": "code",
   "execution_count": 11,
   "metadata": {},
   "outputs": [
    {
     "data": {
      "text/plain": [
       "38560"
      ]
     },
     "execution_count": 11,
     "metadata": {},
     "output_type": "execute_result"
    }
   ],
   "source": [
    "numlog = 0\n",
    "for root, dir, files in os.walk('Data'):\n",
    "    for file in files:\n",
    "        if 'log-' in file:\n",
    "            numlog +=1\n",
    "numlog"
   ]
  },
  {
   "cell_type": "code",
   "execution_count": 13,
   "metadata": {},
   "outputs": [
    {
     "data": {
      "text/plain": [
       "{'alpha_convergence': ({'f': 0.01, 'rmult': 8.0},\n",
       "  [8.711214, 8.711214, 15.863245000000001]),\n",
       " 'input_gs': {'dft': {'gnrm_cv': 1e-06,\n",
       "   'hgrids': 0.3,\n",
       "   'ixc': 11,\n",
       "   'mpol': 2,\n",
       "   'nspin': 2,\n",
       "   'rmult': [5.0, 9.0]}},\n",
       " 'posinp': {'positions': [{'O': [0.0, 0.0, 0.0], 'frag': ['molecule', '0']},\n",
       "   {'O': [0.0, 0.0, 1.2075], 'frag': ['molecule', '0']}],\n",
       "  'units': 'angstroem'}}"
      ]
     },
     "execution_count": 13,
     "metadata": {},
     "output_type": "execute_result"
    }
   ],
   "source": [
    "full_results[('O2','pbe','hgh_k')]"
   ]
  },
  {
   "cell_type": "code",
   "execution_count": 15,
   "metadata": {},
   "outputs": [
    {
     "name": "stdout",
     "output_type": "stream",
     "text": [
      "(('C2H', 'pbe', 'hgh_k'), 'not_converged in size')\n",
      "(('CH3O', 'pbe', 'nlcc_ss'), 'not_converged in size')\n",
      "(('CH3O', 'pbe', 'nlcc_aw'), 'not converged in field')\n",
      "(('CH3O', 'lda_pw', 'hgh_k'), 'not_converged in size')\n",
      "(('CH3O', 'pbe0', 'hgh_k'), 'not_converged in size')\n",
      "(('CH3O', 'pbe', 'hgh_k'), 'not_converged in size')\n"
     ]
    }
   ],
   "source": [
    "# Failed rmult convergence for alpha\n",
    "for s in full_results:\n",
    "    if s == 'options': continue\n",
    "    tol,field=get_field(full_results,s)\n",
    "    if field is None: print (s,'not_converged in size')\n",
    "    if field == 0.0001: print (s,'not converged in field')"
   ]
  },
  {
   "cell_type": "markdown",
   "metadata": {},
   "source": [
    "All the studies with convergence problem are in the open_shell sector of the database"
   ]
  },
  {
   "cell_type": "code",
   "execution_count": 16,
   "metadata": {},
   "outputs": [],
   "source": [
    "for s in full_results:\n",
    "    if s[0] in closed_shell:\n",
    "        tol,field=get_field(full_results,s)\n",
    "        if field is None: print (s,'not_converged in size')\n",
    "        if field == 0.0001: print (s,'not converged in field')"
   ]
  },
  {
   "cell_type": "markdown",
   "metadata": {},
   "source": [
    "Reformat the dictionary of the data per family of PSP"
   ]
  },
  {
   "cell_type": "code",
   "execution_count": 17,
   "metadata": {},
   "outputs": [],
   "source": [
    "BG_data={}\n",
    "for psp in ['hgh_k','nlcc_aw','nlcc_ss']:\n",
    "    BG_data[psp]=reformat_result(full_results,(psp))"
   ]
  },
  {
   "cell_type": "code",
   "execution_count": 18,
   "metadata": {},
   "outputs": [
    {
     "data": {
      "text/plain": [
       "{'lda-SPW92': array([1.87139847, 1.87139847, 2.35082149]),\n",
       " 'lda-SPW92-f': 0.005,\n",
       " 'pbe': array([1.85374463, 1.85374463, 2.3569222 ]),\n",
       " 'pbe-f': 0.005,\n",
       " 'pbe0': array([1.77981528, 1.77981528, 2.27027629]),\n",
       " 'pbe0-f': 0.005}"
      ]
     },
     "execution_count": 18,
     "metadata": {},
     "output_type": "execute_result"
    }
   ],
   "source": [
    "BG_data['hgh_k']['CO']"
   ]
  },
  {
   "cell_type": "markdown",
   "metadata": {},
   "source": [
    "Check which molecules are still missing in the various data"
   ]
  },
  {
   "cell_type": "code",
   "execution_count": 19,
   "metadata": {},
   "outputs": [
    {
     "name": "stdout",
     "output_type": "stream",
     "text": [
      "Molecule \"LiH\" not present in BigDFT data with psp \"nlcc_aw\"\n",
      "Molecule \"Be\" not present in BigDFT data with psp \"nlcc_aw\"\n",
      "Molecule \"NaLi\" not present in BigDFT data with psp \"nlcc_aw\"\n",
      "Molecule \"Na\" not present in BigDFT data with psp \"nlcc_aw\"\n",
      "Molecule \"BeH2\" not present in BigDFT data with psp \"nlcc_aw\"\n",
      "Molecule \"He\" not present in BigDFT data with psp \"nlcc_aw\"\n",
      "Molecule \"LiBH4\" not present in BigDFT data with psp \"nlcc_aw\"\n",
      "Molecule \"CH3O\" not present in BigDFT data with psp \"nlcc_aw\"\n",
      "Molecule \"Li2\" not present in BigDFT data with psp \"nlcc_aw\"\n",
      "Molecule \"Ne\" not present in BigDFT data with psp \"nlcc_aw\"\n",
      "Molecule \"NaCN\" not present in BigDFT data with psp \"nlcc_aw\"\n",
      "Molecule \"BeH\" not present in BigDFT data with psp \"nlcc_aw\"\n",
      "Molecule \"H2O-Li\" not present in BigDFT data with psp \"nlcc_aw\"\n",
      "Molecule \"LiCl\" not present in BigDFT data with psp \"nlcc_aw\"\n",
      "Molecule \"Li\" not present in BigDFT data with psp \"nlcc_aw\"\n",
      "Molecule \"NaCl\" not present in BigDFT data with psp \"nlcc_aw\"\n",
      "Molecule \"LiCN\" not present in BigDFT data with psp \"nlcc_aw\"\n",
      "Molecule \"NaH\" not present in BigDFT data with psp \"nlcc_aw\"\n",
      "Molecule \"Na2\" not present in BigDFT data with psp \"nlcc_aw\"\n",
      "Molecule \"Ar\" not present in BigDFT data with psp \"nlcc_aw\"\n",
      "Molecule \"SF2\" not present in BigDFT data with psp \"nlcc_ss\"\n",
      "Molecule \"BS\" not present in BigDFT data with psp \"nlcc_ss\"\n",
      "Molecule \"HBS\" not present in BigDFT data with psp \"nlcc_ss\"\n",
      "Molecule \"NaLi\" not present in BigDFT data with psp \"nlcc_ss\"\n",
      "Molecule \"Na\" not present in BigDFT data with psp \"nlcc_ss\"\n",
      "Molecule \"S2H2\" not present in BigDFT data with psp \"nlcc_ss\"\n",
      "Molecule \"SCl\" not present in BigDFT data with psp \"nlcc_ss\"\n",
      "Molecule \"CSO\" not present in BigDFT data with psp \"nlcc_ss\"\n",
      "Molecule \"HCHS\" not present in BigDFT data with psp \"nlcc_ss\"\n",
      "Molecule \"PS\" not present in BigDFT data with psp \"nlcc_ss\"\n",
      "Molecule \"SH2\" not present in BigDFT data with psp \"nlcc_ss\"\n",
      "Molecule \"SO-trip\" not present in BigDFT data with psp \"nlcc_ss\"\n",
      "Molecule \"CH3O\" not present in BigDFT data with psp \"nlcc_ss\"\n",
      "Molecule \"Li2\" not present in BigDFT data with psp \"nlcc_ss\"\n",
      "Molecule \"S2\" not present in BigDFT data with psp \"nlcc_ss\"\n",
      "Molecule \"HNS\" not present in BigDFT data with psp \"nlcc_ss\"\n",
      "Molecule \"SCl2\" not present in BigDFT data with psp \"nlcc_ss\"\n",
      "Molecule \"NaCN\" not present in BigDFT data with psp \"nlcc_ss\"\n",
      "Molecule \"CS\" not present in BigDFT data with psp \"nlcc_ss\"\n",
      "Molecule \"SH\" not present in BigDFT data with psp \"nlcc_ss\"\n",
      "Molecule \"CH3SH\" not present in BigDFT data with psp \"nlcc_ss\"\n",
      "Molecule \"SF\" not present in BigDFT data with psp \"nlcc_ss\"\n",
      "Molecule \"NaCl\" not present in BigDFT data with psp \"nlcc_ss\"\n",
      "Molecule \"NaH\" not present in BigDFT data with psp \"nlcc_ss\"\n",
      "Molecule \"Na2\" not present in BigDFT data with psp \"nlcc_ss\"\n",
      "Molecule \"SO2\" not present in BigDFT data with psp \"nlcc_ss\"\n",
      "Molecule \"Ar\" not present in BigDFT data with psp \"nlcc_ss\"\n",
      "Molecule \"CH3O\" not present in BigDFT data with psp \"hgh_k\"\n",
      "Molecule \"Li2\" not present in BigDFT data with psp \"hgh_k\"\n"
     ]
    }
   ],
   "source": [
    "missing={}\n",
    "for psp in BG_data:\n",
    "    missing[psp]=set()\n",
    "    for mol in HG_data:\n",
    "        if mol not in BG_data[psp]:\n",
    "            print ('Molecule \"'+mol+'\" not present in BigDFT data with psp \"'+psp+'\"')\n",
    "            missing[psp].add(mol)\n",
    "BG_missing={'HG':missing}"
   ]
  },
  {
   "cell_type": "code",
   "execution_count": 20,
   "metadata": {},
   "outputs": [
    {
     "name": "stdout",
     "output_type": "stream",
     "text": [
      "Molecule \"PS\" not present in MWdata but present in BigDFT with psp \"nlcc_aw\"\n",
      "Molecule \"S2\" not present in MWdata but present in BigDFT with psp \"nlcc_aw\"\n",
      "Molecule \"SH\" not present in MWdata but present in BigDFT with psp \"nlcc_aw\"\n",
      "Molecule \"PS\" not present in MWdata but present in BigDFT with psp \"hgh_k\"\n",
      "Molecule \"S2\" not present in MWdata but present in BigDFT with psp \"hgh_k\"\n",
      "Molecule \"SH\" not present in MWdata but present in BigDFT with psp \"hgh_k\"\n"
     ]
    }
   ],
   "source": [
    "missing={}\n",
    "for psp in BG_data:\n",
    "    missing[psp]=set()\n",
    "    for mol in BG_data[psp]:\n",
    "        if mol.lower() not in MW_data:\n",
    "            print ('Molecule \"'+mol+'\" not present in MWdata but present in BigDFT with psp \"'+psp+'\"')\n",
    "            missing[psp].add(mol)\n",
    "BG_missing['MW']=missing    "
   ]
  },
  {
   "cell_type": "markdown",
   "metadata": {},
   "source": [
    "# Anisotropic molecules\n",
    "In the set of molecules there is a number of systems that present anisotropy in the ground state charge density. We would like to analyze these systems more closely.\n"
   ]
  },
  {
   "cell_type": "code",
   "execution_count": 21,
   "metadata": {},
   "outputs": [],
   "source": [
    "LR_mols=yaml.load('[BN, \"NO\", OCl, OF, OH, SCl, SF]')"
   ]
  },
  {
   "cell_type": "markdown",
   "metadata": {},
   "source": [
    "Let us load all the data of the static polarizabilities for each of these molecules"
   ]
  },
  {
   "cell_type": "code",
   "execution_count": 22,
   "metadata": {},
   "outputs": [],
   "source": [
    "from pandas import DataFrame as df\n",
    "from numpy import around as rd, array as ar\n",
    "anisotropic_data={'lda':{},'pbe':{}}\n",
    "for xc1,xc2 in [('lda','lda-SPW92'),('pbe','pbe')]:\n",
    "    for mol in LR_mols:\n",
    "        anisotropic_data[xc1][mol]={'HG': rd(ar(HG_data[mol][xc2]),3), \n",
    "              'MRChem': rd(ar(MW_data[mol.lower()][xc2]),3)}\n",
    "        anisotropic_data[xc1][mol].update(\n",
    "            {'BigDFT ('+key+')': rd(ar(BG_data[key][mol][xc2]),3) for key in BG_data if mol in BG_data[key] and xc2 in BG_data[key][mol]})"
   ]
  },
  {
   "cell_type": "code",
   "execution_count": 23,
   "metadata": {},
   "outputs": [
    {
     "data": {
      "text/html": [
       "<div>\n",
       "<style scoped>\n",
       "    .dataframe tbody tr th:only-of-type {\n",
       "        vertical-align: middle;\n",
       "    }\n",
       "\n",
       "    .dataframe tbody tr th {\n",
       "        vertical-align: top;\n",
       "    }\n",
       "\n",
       "    .dataframe thead th {\n",
       "        text-align: right;\n",
       "    }\n",
       "</style>\n",
       "<table border=\"1\" class=\"dataframe\">\n",
       "  <thead>\n",
       "    <tr style=\"text-align: right;\">\n",
       "      <th></th>\n",
       "      <th>BN</th>\n",
       "      <th>NO</th>\n",
       "      <th>OCl</th>\n",
       "      <th>OF</th>\n",
       "      <th>OH</th>\n",
       "      <th>SCl</th>\n",
       "      <th>SF</th>\n",
       "    </tr>\n",
       "  </thead>\n",
       "  <tbody>\n",
       "    <tr>\n",
       "      <th>BigDFT (hgh_k)</th>\n",
       "      <td>[2.695, 2.695, 4.638]</td>\n",
       "      <td>[1.457, 1.457, 2.38]</td>\n",
       "      <td>[2.544, 2.544, 4.311]</td>\n",
       "      <td>[1.185, 1.185, 2.161]</td>\n",
       "      <td>[1.028, 1.028, 1.383]</td>\n",
       "      <td>[4.347, 4.347, 7.636]</td>\n",
       "      <td>[3.093, 3.093, 3.836]</td>\n",
       "    </tr>\n",
       "    <tr>\n",
       "      <th>HG</th>\n",
       "      <td>[3.405, 3.405, 4.663]</td>\n",
       "      <td>[1.676, 1.676, 2.379]</td>\n",
       "      <td>[2.735, 2.735, 4.291]</td>\n",
       "      <td>[1.276, 1.276, 2.151]</td>\n",
       "      <td>[1.306, 1.306, 1.379]</td>\n",
       "      <td>[4.774, 4.774, 7.626]</td>\n",
       "      <td>[3.626, 3.626, 3.833]</td>\n",
       "    </tr>\n",
       "    <tr>\n",
       "      <th>MRChem</th>\n",
       "      <td>[2.713, 3.393, 4.636]</td>\n",
       "      <td>[1.454, 1.669, 2.374]</td>\n",
       "      <td>[2.534, 2.729, 4.285]</td>\n",
       "      <td>[1.185, 1.274, 2.149]</td>\n",
       "      <td>[1.028, 1.301, 1.377]</td>\n",
       "      <td>[4.339, 4.749, 7.608]</td>\n",
       "      <td>[3.1, 3.593, 3.827]</td>\n",
       "    </tr>\n",
       "  </tbody>\n",
       "</table>\n",
       "</div>"
      ],
      "text/plain": [
       "                                   BN                     NO  \\\n",
       "BigDFT (hgh_k)  [2.695, 2.695, 4.638]   [1.457, 1.457, 2.38]   \n",
       "HG              [3.405, 3.405, 4.663]  [1.676, 1.676, 2.379]   \n",
       "MRChem          [2.713, 3.393, 4.636]  [1.454, 1.669, 2.374]   \n",
       "\n",
       "                                  OCl                     OF  \\\n",
       "BigDFT (hgh_k)  [2.544, 2.544, 4.311]  [1.185, 1.185, 2.161]   \n",
       "HG              [2.735, 2.735, 4.291]  [1.276, 1.276, 2.151]   \n",
       "MRChem          [2.534, 2.729, 4.285]  [1.185, 1.274, 2.149]   \n",
       "\n",
       "                                   OH                    SCl  \\\n",
       "BigDFT (hgh_k)  [1.028, 1.028, 1.383]  [4.347, 4.347, 7.636]   \n",
       "HG              [1.306, 1.306, 1.379]  [4.774, 4.774, 7.626]   \n",
       "MRChem          [1.028, 1.301, 1.377]  [4.339, 4.749, 7.608]   \n",
       "\n",
       "                                   SF  \n",
       "BigDFT (hgh_k)  [3.093, 3.093, 3.836]  \n",
       "HG              [3.626, 3.626, 3.833]  \n",
       "MRChem            [3.1, 3.593, 3.827]  "
      ]
     },
     "execution_count": 23,
     "metadata": {},
     "output_type": "execute_result"
    }
   ],
   "source": [
    "df.from_dict(anisotropic_data['lda'])"
   ]
  },
  {
   "cell_type": "code",
   "execution_count": 24,
   "metadata": {},
   "outputs": [
    {
     "data": {
      "text/html": [
       "<div>\n",
       "<style scoped>\n",
       "    .dataframe tbody tr th:only-of-type {\n",
       "        vertical-align: middle;\n",
       "    }\n",
       "\n",
       "    .dataframe tbody tr th {\n",
       "        vertical-align: top;\n",
       "    }\n",
       "\n",
       "    .dataframe thead th {\n",
       "        text-align: right;\n",
       "    }\n",
       "</style>\n",
       "<table border=\"1\" class=\"dataframe\">\n",
       "  <thead>\n",
       "    <tr style=\"text-align: right;\">\n",
       "      <th></th>\n",
       "      <th>BN</th>\n",
       "      <th>NO</th>\n",
       "      <th>OCl</th>\n",
       "      <th>OF</th>\n",
       "      <th>OH</th>\n",
       "      <th>SCl</th>\n",
       "      <th>SF</th>\n",
       "    </tr>\n",
       "  </thead>\n",
       "  <tbody>\n",
       "    <tr>\n",
       "      <th>BigDFT (hgh_k)</th>\n",
       "      <td>[2.666, 2.666, 4.465]</td>\n",
       "      <td>[1.45, 1.45, 2.404]</td>\n",
       "      <td>[2.547, 2.547, 4.332]</td>\n",
       "      <td>[1.182, 1.182, 2.168]</td>\n",
       "      <td>[1.013, 1.013, 1.381]</td>\n",
       "      <td>[4.314, 4.314, 7.602]</td>\n",
       "      <td>[3.077, 3.077, 3.838]</td>\n",
       "    </tr>\n",
       "    <tr>\n",
       "      <th>BigDFT (nlcc_aw)</th>\n",
       "      <td>[2.677, 2.677, 4.557]</td>\n",
       "      <td>[1.455, 1.455, 2.409]</td>\n",
       "      <td>[2.53, 2.53, 4.303]</td>\n",
       "      <td>[1.185, 1.185, 2.167]</td>\n",
       "      <td>[1.021, 1.021, 1.377]</td>\n",
       "      <td>[4.299, 4.299, 7.564]</td>\n",
       "      <td>[3.075, 3.075, 3.836]</td>\n",
       "    </tr>\n",
       "    <tr>\n",
       "      <th>BigDFT (nlcc_ss)</th>\n",
       "      <td>[2.684, 2.684, 4.638]</td>\n",
       "      <td>[1.452, 1.452, 2.417]</td>\n",
       "      <td>[2.531, 2.531, 4.309]</td>\n",
       "      <td>[1.186, 1.186, 2.171]</td>\n",
       "      <td>[1.016, 1.016, 1.377]</td>\n",
       "      <td>NaN</td>\n",
       "      <td>NaN</td>\n",
       "    </tr>\n",
       "    <tr>\n",
       "      <th>HG</th>\n",
       "      <td>[3.386, 3.386, 4.548]</td>\n",
       "      <td>[1.687, 1.687, 2.402]</td>\n",
       "      <td>[2.733, 2.733, 4.312]</td>\n",
       "      <td>[1.277, 1.277, 2.161]</td>\n",
       "      <td>[1.304, 1.304, 1.377]</td>\n",
       "      <td>[4.743, 4.743, 7.599]</td>\n",
       "      <td>[3.616, 3.616, 3.835]</td>\n",
       "    </tr>\n",
       "    <tr>\n",
       "      <th>MRChem</th>\n",
       "      <td>[2.686, 3.376, 4.527]</td>\n",
       "      <td>[1.449, 1.681, 2.397]</td>\n",
       "      <td>[2.534, 2.728, 4.308]</td>\n",
       "      <td>[1.184, 1.275, 2.16]</td>\n",
       "      <td>[1.018, 1.3, 1.375]</td>\n",
       "      <td>[4.309, 4.72, 7.582]</td>\n",
       "      <td>[3.085, 3.585, 3.83]</td>\n",
       "    </tr>\n",
       "  </tbody>\n",
       "</table>\n",
       "</div>"
      ],
      "text/plain": [
       "                                     BN                     NO  \\\n",
       "BigDFT (hgh_k)    [2.666, 2.666, 4.465]    [1.45, 1.45, 2.404]   \n",
       "BigDFT (nlcc_aw)  [2.677, 2.677, 4.557]  [1.455, 1.455, 2.409]   \n",
       "BigDFT (nlcc_ss)  [2.684, 2.684, 4.638]  [1.452, 1.452, 2.417]   \n",
       "HG                [3.386, 3.386, 4.548]  [1.687, 1.687, 2.402]   \n",
       "MRChem            [2.686, 3.376, 4.527]  [1.449, 1.681, 2.397]   \n",
       "\n",
       "                                    OCl                     OF  \\\n",
       "BigDFT (hgh_k)    [2.547, 2.547, 4.332]  [1.182, 1.182, 2.168]   \n",
       "BigDFT (nlcc_aw)    [2.53, 2.53, 4.303]  [1.185, 1.185, 2.167]   \n",
       "BigDFT (nlcc_ss)  [2.531, 2.531, 4.309]  [1.186, 1.186, 2.171]   \n",
       "HG                [2.733, 2.733, 4.312]  [1.277, 1.277, 2.161]   \n",
       "MRChem            [2.534, 2.728, 4.308]   [1.184, 1.275, 2.16]   \n",
       "\n",
       "                                     OH                    SCl  \\\n",
       "BigDFT (hgh_k)    [1.013, 1.013, 1.381]  [4.314, 4.314, 7.602]   \n",
       "BigDFT (nlcc_aw)  [1.021, 1.021, 1.377]  [4.299, 4.299, 7.564]   \n",
       "BigDFT (nlcc_ss)  [1.016, 1.016, 1.377]                    NaN   \n",
       "HG                [1.304, 1.304, 1.377]  [4.743, 4.743, 7.599]   \n",
       "MRChem              [1.018, 1.3, 1.375]   [4.309, 4.72, 7.582]   \n",
       "\n",
       "                                     SF  \n",
       "BigDFT (hgh_k)    [3.077, 3.077, 3.838]  \n",
       "BigDFT (nlcc_aw)  [3.075, 3.075, 3.836]  \n",
       "BigDFT (nlcc_ss)                    NaN  \n",
       "HG                [3.616, 3.616, 3.835]  \n",
       "MRChem             [3.085, 3.585, 3.83]  "
      ]
     },
     "execution_count": 24,
     "metadata": {},
     "output_type": "execute_result"
    }
   ],
   "source": [
    "df.from_dict(anisotropic_data['pbe'])"
   ]
  },
  {
   "cell_type": "markdown",
   "metadata": {},
   "source": [
    "### Modify the reference data to meet isotropic Finite-Difference calculations\n",
    "As the LR calculations might provide different results from the FD ones in the case of anisotropic molecules, we should modify the reference MW data in order for the comparison to be taken into account prperly, as the HG and BigDFT results are calculated in a FD scheme."
   ]
  },
  {
   "cell_type": "code",
   "execution_count": 25,
   "metadata": {},
   "outputs": [
    {
     "name": "stdout",
     "output_type": "stream",
     "text": [
      "('BN', {'pbe': [2.6858159962877504, 3.37561136015855, 4.527499316427658], 'lda-SPW92': [2.7127577878070483, 3.3927047060090385, 4.636365722751676]})\n",
      "{'pbe': [3.37561136015855, 3.37561136015855, 4.527499316427658], 'lda-SPW92': [3.3927047060090385, 3.3927047060090385, 4.636365722751676]}\n",
      "('NO', {'pbe': [1.4489837155235368, 1.6808913459282004, 2.3974572436235726], 'lda-SPW92': [1.4540594122891934, 1.6691623203235966, 2.3737306968249787]})\n",
      "{'pbe': [1.6808913459282004, 1.6808913459282004, 2.3974572436235726], 'lda-SPW92': [1.6691623203235966, 1.6691623203235966, 2.3737306968249787]}\n",
      "('OCl', {'pbe': [2.5344733297145585, 2.7279586740849004, 4.307687834439298], 'lda-SPW92': [2.534160377270365, 2.728651391474079, 4.2850816908500695]})\n",
      "{'pbe': [2.7279586740849004, 2.7279586740849004, 4.307687834439298], 'lda-SPW92': [2.728651391474079, 2.728651391474079, 4.2850816908500695]}\n",
      "('OF', {'pbe': [1.1839725142927542, 1.2754213912258554, 2.1596133824059294], 'lda-SPW92': [1.1845539647491907, 1.2735079180484012, 2.1489329616826356]})\n",
      "{'pbe': [1.2754213912258554, 1.2754213912258554, 2.1596133824059294], 'lda-SPW92': [1.2735079180484012, 1.2735079180484012, 2.1489329616826356]}\n",
      "('OH', {'pbe': [1.0178725269042708, 1.2997585645245844, 1.3754525492014602], 'lda-SPW92': [1.027551819089956, 1.3012126463815943, 1.3766512705243574]})\n",
      "{'pbe': [1.2997585645245844, 1.2997585645245844, 1.3754525492014602], 'lda-SPW92': [1.3012126463815943, 1.3012126463815943, 1.3766512705243574]}\n",
      "('SCl', {'pbe': [4.30857702918023, 4.720154276901929, 7.581810495686878], 'lda-SPW92': [4.338567022313291, 4.748815525693042, 7.607694981003792]})\n",
      "{'pbe': [4.720154276901929, 4.720154276901929, 7.581810495686878], 'lda-SPW92': [4.748815525693042, 4.748815525693042, 7.607694981003792]}\n",
      "('SF', {'pbe': [3.0848830195676626, 3.5850726924138137, 3.8300417837338823], 'lda-SPW92': [3.0995398937867744, 3.592850099041493, 3.827173867962451]})\n",
      "{'pbe': [3.5850726924138137, 3.5850726924138137, 3.8300417837338823], 'lda-SPW92': [3.592850099041493, 3.592850099041493, 3.827173867962451]}\n"
     ]
    }
   ],
   "source": [
    "for mol in LR_mols:\n",
    "    print (mol,MW_data[mol.lower()])\n",
    "    for xc in MW_data[mol.lower()].keys():\n",
    "        data=MW_data[mol.lower()][xc]\n",
    "        refval=max(data[0],data[1])\n",
    "        redata=[refval,refval,data[2]]\n",
    "        MW_data[mol.lower()][xc]=redata\n",
    "    print (MW_data[mol.lower()])"
   ]
  },
  {
   "cell_type": "markdown",
   "metadata": {},
   "source": [
    "# Data Analysis, comparison between results\n",
    "We have now the possiblity to compare the data wrt to the reference values.\n",
    "To do that we define the function which plots traditional scatterpolots indicating the differences and box-and-whiskers plots to have the vision at-a-glance of the compared data.\n"
   ]
  },
  {
   "cell_type": "code",
   "execution_count": 26,
   "metadata": {},
   "outputs": [],
   "source": [
    "def relative_error(alpha,alpha_ref):\n",
    "    \"\"\"\n",
    "    Provide the relative error\n",
    "    \"\"\"\n",
    "    return 100.0*(alpha-alpha_ref)/alpha_ref\n",
    "\n",
    "def relative_errors_and_uncertainties(alpha,alpha_ref,tol):\n",
    "    \"\"\"\n",
    "    Provide the relative error and its uncertainty given the absolute value of the tolerance \n",
    "    in alpha\n",
    "    \"\"\"\n",
    "    import numpy\n",
    "    alp=numpy.array(alpha)\n",
    "    err=relative_error(alp,alpha_ref)\n",
    "    sigma=relative_error(tol+alpha_ref,alpha_ref)\n",
    "    return err,sigma\n",
    "\n",
    "def alpha_squared_discrepancy(alpha,alpha_ref,tol):\n",
    "    \"\"\"\n",
    "    Give the squared discrepancy on the trace of the statical polarizability\n",
    "    \"\"\"\n",
    "    import numpy\n",
    "    err,sigma=relative_errors_and_uncertainties(alpha,alpha_ref,tol)\n",
    "    return numpy.mean(err**2),numpy.mean(2.0*err*sigma)\n",
    "\n",
    "def alpha_relative_discrepancy(alpha,alpha_ref,tol):\n",
    "    \"\"\"\n",
    "    Give the relative discrepancy on the value of the statical polarizability ( the physical observable)\n",
    "    \"\"\"\n",
    "    import numpy\n",
    "    return relative_errors_and_uncertainties(numpy.mean(alpha),numpy.mean(alpha_ref),tol)\n",
    "\n",
    "def compare_datasets(ref,data,xc,exclude=[],include=None,revert_ref=False,check_fields=False):\n",
    "    res={}\n",
    "    for mol in data:\n",
    "        ignore_mol= mol in exclude or (include is not None and mol not in include)\n",
    "        if xc not in data[mol] or ignore_mol: continue\n",
    "        alpha=data[mol][xc]\n",
    "        molr = mol.lower() if mol not in ref else mol\n",
    "        if molr not in ref: continue\n",
    "        alpha_ref=ref[molr][xc]\n",
    "        dataname=(mol,xc)\n",
    "        err=alpha_relative_discrepancy(alpha,alpha_ref,1.e-3)\n",
    "        if revert_ref: err=alpha_relative_discrepancy(alpha_ref,alpha,1.e-3)\n",
    "        field=data[mol].get(xc+'-f')\n",
    "        if check_fields:\n",
    "            field_ref=ref[mol].get('field_int')\n",
    "            if field != field_ref: continue\n",
    "        res[dataname]={'err':err,'key':dataname,'field':field}\n",
    "    return res\n",
    "\n",
    "def reformat_comparison_for_plot(result,ids=None):\n",
    "    from futile.Utils import sort_lists\n",
    "    data=result.keys()\n",
    "    data.sort()\n",
    "    #take the first data as an exemple\n",
    "    template=data[0]\n",
    "    #build the different levels\n",
    "    labels=['data']\n",
    "    if len(template) > 1: labels=list(set(tuple(d[1:]) for d in data))\n",
    "    labels.sort()\n",
    "    toplot=[]\n",
    "    for i,lev in enumerate(labels):\n",
    "        if lev=='data':\n",
    "            mols=[d[0] for d in data]\n",
    "            keys=[tuple([m]) for m in mols]\n",
    "        else:\n",
    "            mols=[ d[0] for d in data if tuple(d[1:])==lev]\n",
    "            keys=[tuple([m]+list(lev)) for m in mols]\n",
    "        curve=[result[k]['err'][0] for k in keys]\n",
    "        studies=[result[k]['key'] for k in keys]\n",
    "        fields=[result[k]['field'] for k in keys]\n",
    "        mols,curve,studies,fields=sort_lists(1,False,mols,curve,studies,fields)\n",
    "        id = str(lev) if ids is None else ids[i]\n",
    "        toplot.append({'mols':mols,'data':curve,'keys':studies,'fields':fields,'label':id})\n",
    "    return toplot\n",
    "\n",
    "#one curve per tuple size\n",
    "def plot_data(data):\n",
    "    import matplotlib.pyplot as plt\n",
    "    for curve in data:\n",
    "        lev=curve['label']\n",
    "        plt.plot(curve['mols'],curve['data'],'o',label=curve['label'])\n",
    "        plt.xticks(rotation='vertical')\n",
    "        ax = plt.axes()  \n",
    "        ax.yaxis.grid(linestyle='--') # horizontal lines\n",
    "        ax.xaxis.grid(linestyle='--') # vertical lines\n",
    "        plt.legend(loc='best')\n",
    "    return plt"
   ]
  },
  {
   "cell_type": "markdown",
   "metadata": {},
   "source": [
    "Make a Box and whisker plot to compare the data"
   ]
  },
  {
   "cell_type": "code",
   "execution_count": 27,
   "metadata": {},
   "outputs": [],
   "source": [
    "def write_fliers_names(ax,data,allfliers,labels):\n",
    "    import numpy as np\n",
    "    from futile.Utils import sort_lists\n",
    "    analyse=zip(data,allfliers)\n",
    "    analyse.reverse()\n",
    "    for orig,fliers in analyse:\n",
    "        ttx=fliers.get_xdata()\n",
    "        tty=fliers.get_ydata()\n",
    "        #get original names\n",
    "        lup=[orig['mols'][orig['data'].index(d)] for d in ttx]\n",
    "        if labels:\n",
    "            for i, txt in enumerate(lup):\n",
    "                ax.annotate(txt, (ttx[i], tty[i]+0.2),rotation=90)\n",
    "        tt=np.array(orig['data'])\n",
    "        mre=np.mean(tt)\n",
    "        std=np.std(tt)\n",
    "        rmsre2=np.mean(tt**2)\n",
    "        std2=np.std(tt**2)\n",
    "        print ('Study: '+orig['label']+20*' '+'#'+20*'-')\n",
    "        print (10*' '+'Total Number of Molecules: '+str(len(orig['mols'])))\n",
    "        print (10*' '+'MRE: '+str(mre)+' +/- '+str(std))\n",
    "        print (10*' '+'RMSRE: '+str(np.sqrt(rmsre2))+' +/- '+str(0.5/np.sqrt(rmsre2)*std2))\n",
    "        if len(ttx) > 0: \n",
    "            tt,lup2=sort_lists(0,True,ttx,lup)\n",
    "            print (10*' '+'There are '+str(len(ttx))+' outliers: '+str(list(lup2)))\n",
    "        print (' ')\n",
    "\n",
    "def plot_box_and_whisker(data,write_labels=False): \n",
    "    import matplotlib.pyplot as plt\n",
    "    toplot=[d['data']for d in data]\n",
    "    labels=[d['label'] for d in data]\n",
    "    tt=plt.boxplot(toplot,vert=False,patch_artist=False,labels=labels,meanline=True,showmeans=True)\n",
    "    ax = plt.axes()\n",
    "    fliers=tt['fliers']\n",
    "    #fliers.reverse()\n",
    "    write_fliers_names(ax,data,fliers,write_labels)\n",
    "    return plt\n"
   ]
  },
  {
   "cell_type": "code",
   "execution_count": 28,
   "metadata": {},
   "outputs": [],
   "source": [
    "def plot_field_intensities(data):\n",
    "    import matplotlib.pyplot as plt\n",
    "    for curve in data:\n",
    "        plt.plot(curve['fields'],curve['data'],'o',label=curve['label'])\n",
    "        plt.xticks(rotation='vertical')\n",
    "        ax = plt.axes()  \n",
    "        ax.yaxis.grid(linestyle='--') # horizontal lines\n",
    "        ax.xaxis.grid(linestyle='--') # vertical lines\n",
    "        plt.title('Error vs. field intensities')\n",
    "    return plt"
   ]
  },
  {
   "cell_type": "code",
   "execution_count": 29,
   "metadata": {},
   "outputs": [],
   "source": [
    "def comparison_of_data(restrict_to=None):\n",
    "    import copy\n",
    "    a=[]\n",
    "    for xc in ['lda-SPW92','pbe','pbe0']:\n",
    "        psps=['hgh_k']\n",
    "        if xc == 'pbe': psps+= ['nlcc_aw','nlcc_ss']\n",
    "        if xc != 'pbe0' and True:\n",
    "            MW_HG=compare_datasets(MW_data,HG_data,xc,revert_ref=True,include=restrict_to)\n",
    "            a+=reformat_comparison_for_plot(MW_HG,ids=['MW vs HG ('+xc+')'])\n",
    "        #fields=[]\n",
    "        for psp in psps:\n",
    "            ids=[psp+'('+xc+')']\n",
    "            if xc == 'pbe0':\n",
    "                exclude=copy.deepcopy(BG_missing['HG'][psp])\n",
    "                exclude=exclude.union(set(LR_mols))\n",
    "                HG_BG1=compare_datasets(HG_data,BG_data[psp],xc,exclude=exclude,include=restrict_to,check_fields=True)#,exclude=open_shell)\n",
    "                b=reformat_comparison_for_plot(HG_BG1,ids=ids)#[psp+' vs HG'])\n",
    "                fields=b\n",
    "            else:\n",
    "                MW_BG1=compare_datasets(MW_data,BG_data[psp],xc,exclude=MW_missing.union(set(LR_mols)),include=restrict_to)#,exclude=open_shell)\n",
    "                b=reformat_comparison_for_plot(MW_BG1,ids=ids)#[psp+' vs MW'])\n",
    "            a+=b\n",
    "            #HG_BG=compare_datasets(HG_data,BG_data[psp],xc,exclude=MW_missing,include=restrict_to)\n",
    "            #a+=reformat_comparison_for_plot(HG_BG,ids=[psp+' vs HG'])\n",
    "    #pp=plot_data(a)\n",
    "    #pp.title('Comparison for xc: '+xc)\n",
    "    #pp.show()\n",
    "    pp=plot_box_and_whisker(a)\n",
    "    pp.show()\n",
    "    #if xc == 'pbe0': \n",
    "    #    pp=plot_field_intensities(fields)\n",
    "    #    pp.show()"
   ]
  },
  {
   "cell_type": "code",
   "execution_count": 30,
   "metadata": {},
   "outputs": [],
   "source": [
    "#comparison_of_data()"
   ]
  },
  {
   "cell_type": "code",
   "execution_count": 31,
   "metadata": {},
   "outputs": [
    {
     "name": "stdout",
     "output_type": "stream",
     "text": [
      "Study: hgh_k(pbe0)                    #--------------------\n",
      "          Total Number of Molecules: 18\n",
      "          MRE: 0.15982728504746957 +/- 1.0197508068723897\n",
      "          RMSRE: 1.032199820365483 +/- 1.2232013538271649\n",
      "          There are 4 outliers: ['Mg', 'Mg2', 'NaCl', 'O3']\n",
      " \n",
      "Study: nlcc_ss(pbe)                    #--------------------\n",
      "          Total Number of Molecules: 74\n",
      "          MRE: -0.08157124119014869 +/- 0.6225218754327754\n",
      "          RMSRE: 0.6278434142217637 +/- 1.8582451757143656\n",
      "          There are 1 outliers: ['LiH']\n",
      " \n",
      "Study: nlcc_aw(pbe)                    #--------------------\n",
      "          Total Number of Molecules: 77\n",
      "          MRE: -0.06638306873658323 +/- 0.2054539354166054\n",
      "          RMSRE: 0.21591209181761123 +/- 0.17192619217600866\n",
      "          There are 1 outliers: ['Mg2']\n",
      " \n",
      "Study: hgh_k(pbe)                    #--------------------\n",
      "          Total Number of Molecules: 91\n",
      "          MRE: 0.11413264942815225 +/- 0.32302803413234976\n",
      "          RMSRE: 0.34259797503911205 +/- 0.345565499649604\n",
      "          There are 3 outliers: ['Mg', 'Mg2', 'AlF']\n",
      " \n",
      "Study: MW vs HG (pbe)                    #--------------------\n",
      "          Total Number of Molecules: 92\n",
      "          MRE: -0.266856849896756 +/- 0.28266407802171944\n",
      "          RMSRE: 0.38873070285313 +/- 0.5506983088101454\n",
      "          There are 10 outliers: ['NaCl', 'NaCN', 'LiCN', 'Be', 'LiCl', 'AlF', 'NaLi', 'Ne', 'Na2', 'He']\n",
      " \n",
      "Study: hgh_k(lda-SPW92)                    #--------------------\n",
      "          Total Number of Molecules: 91\n",
      "          MRE: 0.11711407723187447 +/- 0.6396559359344881\n",
      "          RMSRE: 0.6502887231546457 +/- 1.279263085943052\n",
      "          There are 9 outliers: ['NaCN', 'NaCl', 'BeH2', 'LiH', 'LiCN', 'AlF', 'NaLi', 'Na2', 'NaH']\n",
      " \n",
      "Study: MW vs HG (lda-SPW92)                    #--------------------\n",
      "          Total Number of Molecules: 92\n",
      "          MRE: -0.3060908443215714 +/- 0.2710175926177804\n",
      "          RMSRE: 0.40883020984979773 +/- 0.4977088996150849\n",
      "          There are 9 outliers: ['NaCl', 'NaCN', 'Be', 'LiCN', 'LiCl', 'AlF', 'NaLi', 'Na2', 'He']\n",
      " \n"
     ]
    },
    {
     "name": "stderr",
     "output_type": "stream",
     "text": [
      "/home/marco/.local/lib/python2.7/site-packages/matplotlib/cbook/deprecation.py:107: MatplotlibDeprecationWarning: Adding an axes using the same arguments as a previous axes currently reuses the earlier instance.  In a future version, a new instance will always be created and returned.  Meanwhile, this warning can be suppressed, and the future behavior ensured, by passing a unique label to each axes instance.\n",
      "  warnings.warn(message, mplDeprecation, stacklevel=1)\n"
     ]
    },
    {
     "data": {
      "text/plain": [
       "<Figure size 640x480 with 1 Axes>"
      ]
     },
     "metadata": {},
     "output_type": "display_data"
    }
   ],
   "source": [
    "comparison_of_data(restrict_to=closed_shell)"
   ]
  },
  {
   "cell_type": "code",
   "execution_count": 32,
   "metadata": {},
   "outputs": [
    {
     "name": "stdout",
     "output_type": "stream",
     "text": [
      "Study: hgh_k(pbe0)                    #--------------------\n",
      "          Total Number of Molecules: 2\n",
      "          MRE: 0.4793239553455465 +/- 0.19866243495117522\n",
      "          RMSRE: 0.5188624261100715 +/- 0.18352391560373635\n",
      " \n",
      "Study: nlcc_ss(pbe)                    #--------------------\n",
      "          Total Number of Molecules: 26\n",
      "          MRE: 0.11773966811931148 +/- 0.8301498420766337\n",
      "          RMSRE: 0.8384577447604057 +/- 1.0053466900718881\n",
      "          There are 4 outliers: ['BeH', 'C2H', 'HO2', 'Li']\n",
      " \n",
      "Study: nlcc_aw(pbe)                    #--------------------\n",
      "          Total Number of Molecules: 25\n",
      "          MRE: 0.18864579683399757 +/- 0.7152524337046475\n",
      "          RMSRE: 0.7397116198786897 +/- 0.8862527968116819\n",
      "          There are 3 outliers: ['FH-OH', 'C2H', 'HO2']\n",
      " \n",
      "Study: hgh_k(pbe)                    #--------------------\n",
      "          Total Number of Molecules: 28\n",
      "          MRE: -0.32383757181920886 +/- 1.4242987276144805\n",
      "          RMSRE: 1.460649731594125 +/- 2.2163924979984913\n",
      "          There are 4 outliers: ['FH-OH', 'BH2', 'CN', 'HO2']\n",
      " \n",
      "Study: MW vs HG (pbe)                    #--------------------\n",
      "          Total Number of Molecules: 36\n",
      "          MRE: -0.6597288894455295 +/- 1.2226570152754295\n",
      "          RMSRE: 1.3892920443777306 +/- 2.785468627830611\n",
      "          There are 5 outliers: ['Li', 'FH-OH', 'HO2', 'NCO', 'C2H']\n",
      " \n",
      "Study: hgh_k(lda-SPW92)                    #--------------------\n",
      "          Total Number of Molecules: 29\n",
      "          MRE: -0.36622822989589626 +/- 1.1357296177782408\n",
      "          RMSRE: 1.1933167563859104 +/- 1.8291136352376494\n",
      "          There are 3 outliers: ['FH-OH', 'BeH', 'HO2']\n",
      " \n",
      "Study: MW vs HG (lda-SPW92)                    #--------------------\n",
      "          Total Number of Molecules: 36\n",
      "          MRE: -0.611282288987523 +/- 1.2157360301107267\n",
      "          RMSRE: 1.360764539418637 +/- 3.3187366455768643\n",
      "          There are 4 outliers: ['Li', 'HO2', 'BeH', 'C2H']\n",
      " \n"
     ]
    },
    {
     "data": {
      "image/png": "[encoded data removed]",
      "text/plain": [
       "<Figure size 432x288 with 1 Axes>"
      ]
     },
     "metadata": {},
     "output_type": "display_data"
    }
   ],
   "source": [
    "comparison_of_data(restrict_to=open_shell)"
   ]
  },
  {
   "cell_type": "markdown",
   "metadata": {},
   "source": [
    "Marco : I introduce a slightly different analysis"
   ]
  },
  {
   "cell_type": "code",
   "execution_count": 167,
   "metadata": {},
   "outputs": [],
   "source": [
    "def comparison_of_data2(restrict_to=None):\n",
    "    import copy\n",
    "    a=[]\n",
    "    for xc in ['lda-SPW92','pbe','pbe0']:\n",
    "        psps=['hgh_k']\n",
    "        if xc == 'pbe': psps+= ['nlcc_aw','nlcc_ss']\n",
    "        if xc != 'pbe0' and True:\n",
    "            MW_HG=compare_datasets(MW_data,HG_data,xc,revert_ref=True,exclude=MW_missing.union(set(LR_mols)),include=restrict_to)\n",
    "            a+=reformat_comparison_for_plot(MW_HG,ids=['MW vs HG ('+xc+')'])\n",
    "        #fields=[]\n",
    "        for psp in psps:\n",
    "            ids=[psp+'('+xc+')']\n",
    "            if xc == 'pbe0':\n",
    "                exclude=copy.deepcopy(BG_missing['HG'][psp])\n",
    "                exclude=exclude.union(set(LR_mols))\n",
    "                HG_BG1=compare_datasets(HG_data,BG_data[psp],xc,exclude=exclude,include=restrict_to,check_fields=True)#,exclude=open_shell)\n",
    "                b=reformat_comparison_for_plot(HG_BG1,ids=ids)#[psp+' vs HG'])\n",
    "                fields=b\n",
    "            else:\n",
    "                exc = MW_missing.union(set(LR_mols))\n",
    "                if psp == 'nlcc_ss':\n",
    "                    exc = exc.union({'LiH'})\n",
    "                #print xc, psp\n",
    "                #print exc\n",
    "                MW_BG1=compare_datasets(MW_data,BG_data[psp],xc,exclude=MW_missing.union(set(LR_mols).union({'LiH'})),include=restrict_to)\n",
    "                MW_BG1=compare_datasets(MW_data,BG_data[psp],xc,exclude=exc,include=restrict_to)\n",
    "                b=reformat_comparison_for_plot(MW_BG1,ids=ids)#[psp+' vs MW'])\n",
    "            a+=b\n",
    "    return a"
   ]
  },
  {
   "cell_type": "code",
   "execution_count": 168,
   "metadata": {},
   "outputs": [],
   "source": [
    "def plot_box_and_whisker2(data,write_labels=False): \n",
    "    import matplotlib.pyplot as plt\n",
    "    toplot=[d['data']for d in data]\n",
    "    labels=[d['label'] for d in data]\n",
    "    tt=plt.boxplot(toplot,vert=False,patch_artist=False,labels=labels,meanline=True,showmeans=True)\n",
    "    ax = plt.axes()\n",
    "    fliers=tt['fliers']\n",
    "    #fliers.reverse()\n",
    "    write_fliers_names(ax,data,fliers,write_labels)\n",
    "    return plt"
   ]
  },
  {
   "cell_type": "code",
   "execution_count": 170,
   "metadata": {},
   "outputs": [],
   "source": [
    "data = comparison_of_data2(restrict_to=open_shell)"
   ]
  },
  {
   "cell_type": "code",
   "execution_count": 172,
   "metadata": {},
   "outputs": [
    {
     "name": "stdout",
     "output_type": "stream",
     "text": [
      "(0, 'MW vs HG (lda-SPW92)')\n",
      "(1, 'hgh_k(lda-SPW92)')\n",
      "(2, 'MW vs HG (pbe)')\n",
      "(3, 'hgh_k(pbe)')\n",
      "(4, 'nlcc_aw(pbe)')\n",
      "(5, 'nlcc_ss(pbe)')\n",
      "(6, 'hgh_k(pbe0)')\n"
     ]
    }
   ],
   "source": [
    "for psp in range(len(data)):\n",
    "    print(psp,data[psp]['label']) "
   ]
  },
  {
   "cell_type": "code",
   "execution_count": 173,
   "metadata": {},
   "outputs": [],
   "source": [
    "data[0]['label'] = 'MW(LDA) vs HHG'\n",
    "data[1]['label'] = 'HGH (LDA)'\n",
    "data[2]['label'] = 'MW(PBE) vs HHG'\n",
    "data[3]['label'] = 'HGH (PBE)'\n",
    "data[4]['label'] = 'NLCC-W (PBE)'\n",
    "data[5]['label'] = 'NLCC-S (PBE)'\n",
    "data[6]['label'] = 'HGH (PBE0)'"
   ]
  },
  {
   "cell_type": "code",
   "execution_count": 174,
   "metadata": {},
   "outputs": [],
   "source": [
    "#sort_data = [data[5],data[4],data[6],data[3],data[1],data[2],data[0]]\n",
    "sort_data = [data[4],data[5],data[3],data[1]]"
   ]
  },
  {
   "cell_type": "code",
   "execution_count": 175,
   "metadata": {},
   "outputs": [
    {
     "name": "stdout",
     "output_type": "stream",
     "text": [
      "Study: HGH (LDA)                    #--------------------\n",
      "          Total Number of Molecules: 29\n",
      "          MRE: -0.36622822989589626 +/- 1.1357296177782408\n",
      "          RMSRE: 1.1933167563859104 +/- 1.8291136352376494\n",
      "          There are 3 outliers: ['FH-OH', 'BeH', 'HO2']\n",
      " \n",
      "Study: HGH (PBE)                    #--------------------\n",
      "          Total Number of Molecules: 28\n",
      "          MRE: -0.32383757181920886 +/- 1.4242987276144805\n",
      "          RMSRE: 1.460649731594125 +/- 2.2163924979984913\n",
      "          There are 4 outliers: ['FH-OH', 'BH2', 'CN', 'HO2']\n",
      " \n",
      "Study: NLCC-S (PBE)                    #--------------------\n",
      "          Total Number of Molecules: 26\n",
      "          MRE: 0.11773966811931148 +/- 0.8301498420766337\n",
      "          RMSRE: 0.8384577447604057 +/- 1.0053466900718881\n",
      "          There are 4 outliers: ['BeH', 'C2H', 'HO2', 'Li']\n",
      " \n",
      "Study: NLCC-W (PBE)                    #--------------------\n",
      "          Total Number of Molecules: 25\n",
      "          MRE: 0.18864579683399757 +/- 0.7152524337046475\n",
      "          RMSRE: 0.7397116198786897 +/- 0.8862527968116819\n",
      "          There are 3 outliers: ['FH-OH', 'C2H', 'HO2']\n",
      " \n"
     ]
    },
    {
     "data": {
      "image/png": "[encoded data removed]",
      "text/plain": [
       "<Figure size 432x288 with 1 Axes>"
      ]
     },
     "metadata": {},
     "output_type": "display_data"
    }
   ],
   "source": [
    "%matplotlib inline\n",
    "pp = plot_box_and_whisker2(sort_data)\n",
    "pp.yticks(size=12)\n",
    "ax = pp.axes()\n",
    "#nsp\n",
    "#ax.axvspan(-4, 5, ymin=0.72, ymax=1, alpha=0.3, color='gray')\n",
    "#pp.xlim(-4,5)\n",
    "#sp\n",
    "#ax.axvspan(-8, 4, ymin=0.72, ymax=1, alpha=0.3, color='gray')\n",
    "#pp.xlim(-8,4)\n",
    "\n",
    "#closed-shell\n",
    "#ax.hlines(3.5,-5,5,linestyles='-')\n",
    "#pp.xlim(-5,5)\n",
    "\n",
    "#open-shell\n",
    "ax.hlines(3.5,-7,4,linestyles='-')\n",
    "pp.xlim(-7,4)\n",
    "\n",
    "pp.show()"
   ]
  },
  {
   "cell_type": "markdown",
   "metadata": {},
   "source": [
    "Build a plot analogous to fig 2-5 of the paper of Frediani"
   ]
  },
  {
   "cell_type": "code",
   "execution_count": 42,
   "metadata": {},
   "outputs": [],
   "source": [
    "import matplotlib.pyplot as plt\n",
    "import numpy as np"
   ]
  },
  {
   "cell_type": "code",
   "execution_count": 43,
   "metadata": {},
   "outputs": [],
   "source": [
    "data = comparison_of_data2()"
   ]
  },
  {
   "cell_type": "code",
   "execution_count": 44,
   "metadata": {},
   "outputs": [
    {
     "name": "stdout",
     "output_type": "stream",
     "text": [
      "(0, 'MW vs HG (lda-SPW92)')\n",
      "(1, 'hgh_k(lda-SPW92)')\n",
      "(2, 'MW vs HG (pbe)')\n",
      "(3, 'hgh_k(pbe)')\n",
      "(4, 'nlcc_aw(pbe)')\n",
      "(5, 'nlcc_ss(pbe)')\n",
      "(6, 'hgh_k(pbe0)')\n"
     ]
    }
   ],
   "source": [
    "for psp in range(len(data)):\n",
    "    print(psp,data[psp]['label']) "
   ]
  },
  {
   "cell_type": "code",
   "execution_count": 87,
   "metadata": {},
   "outputs": [
    {
     "name": "stdout",
     "output_type": "stream",
     "text": [
      "(0, 1.9965695077575265, 'NaH')\n",
      "(1, 1.960290074835239, 'Na2')\n",
      "(2, 1.7410137337099258, 'HO2')\n",
      "(3, 1.6380125057829462, 'NaLi')\n",
      "(4, 1.1167152720498237, 'Li')\n",
      "(5, 1.0641404220100423, 'CN')\n",
      "(112, -1.0367751116485975, 'CH2-t')\n",
      "(113, -1.0878485420676092, 'Na')\n",
      "(114, -1.2645975378291596, 'BH2')\n",
      "(115, -1.305127250099552, 'C2H')\n",
      "(116, -1.9575697737639555, 'BeH')\n",
      "(117, -2.3470012531119817, 'NaCl')\n",
      "(118, -3.7448689385948857, 'NaCN')\n",
      "(119, -4.898806534030996, 'FH-OH')\n"
     ]
    },
    {
     "data": {
      "text/plain": [
       "Text(0,0.5,'Relative Error (%)')"
      ]
     },
     "execution_count": 87,
     "metadata": {},
     "output_type": "execute_result"
    },
    {
     "data": {
      "image/png": "[encoded data removed]",
      "text/plain": [
       "<Figure size 432x288 with 1 Axes>"
      ]
     },
     "metadata": {},
     "output_type": "display_data"
    }
   ],
   "source": [
    "%matplotlib inline\n",
    "\n",
    "index = 1 #hgh(lda)\n",
    "bars = data[index]['data']\n",
    "mols = data[index]['mols']\n",
    "\n",
    "positions = np.arange(len(bars))\n",
    "\n",
    "fig, ax = plt.subplots()\n",
    "for pos,bar,mol in zip(positions,bars,mols):\n",
    "    if abs(bar) > 1:\n",
    "        print(pos,bar,mol)\n",
    "    if mol in closed_shell:\n",
    "        ax.bar(pos,bar,color='blue',width=0.4,label='closed-shell')\n",
    "    if mol in open_shell:\n",
    "        ax.bar(pos,bar,color='red',width=0.4,label='open-shell')\n",
    "plt.xticks([], [])\n",
    "ax.hlines(y=-1,xmin=-1,xmax=120,linestyle='dotted')\n",
    "ax.hlines(y=1,xmin=-1,xmax=120,linestyle='dotted')\n",
    "ax.hlines(y=0.0,xmin=-1,xmax=120)\n",
    "plt.xlim(-1,120)\n",
    "plt.ylim(-5,3)\n",
    "plt.legend(['lalla','cuccu'])\n",
    "handles,labels=ax.get_legend_handles_labels() \n",
    "i=np.arange(len(labels)) #make an index for later\n",
    "filter=np.array([]) #set up a filter (empty for now)\n",
    "unique_labels=list(set(labels)) #find unique labels\n",
    "for ul in unique_labels: #loop through unique labels\n",
    "    filter=np.append(filter,[i[np.array(labels)==ul][0]]) #find the first instance of this label and add its index to the filter\n",
    "handles=[handles[int(f)] for f in filter] #filter out legend items to keep only the first instance of each repeated label\n",
    "labels=[labels[int(f)] for f in filter]\n",
    "ax.legend(handles,labels) #draw the legend with the filtered handles and labels lists\n",
    "#ax.annotate('LiH', xy=(0, 4.5), xytext=(10, 4),arrowprops=dict(arrowstyle='->'),size=12)\n",
    "#ax.annotate('Li', xy=(1, 2.6), xytext=(10, 3),arrowprops=dict(arrowstyle='->'),size=12)\n",
    "ax.annotate('NaCl', xy=(117, -2.3), xytext=(90, -2.3),arrowprops=dict(arrowstyle='->'),size=12)\n",
    "ax.annotate('NaCN', xy=(118, -3.7), xytext=(90, -3.7),arrowprops=dict(arrowstyle='->'),size=12)\n",
    "ax.annotate('FH-OH', xy=(119, -4.8), xytext=(90, -4.8),arrowprops=dict(arrowstyle='->'),size=12)\n",
    "plt.ylabel('Relative Error (%)',size=14)"
   ]
  },
  {
   "cell_type": "code",
   "execution_count": 86,
   "metadata": {},
   "outputs": [
    {
     "name": "stdout",
     "output_type": "stream",
     "text": [
      "Using matplotlib backend: TkAgg\n",
      "(0, 2.3820646494197155, 'HO2')\n",
      "(1, 2.2044062049641853, 'CN')\n",
      "(111, -1.040221867481604, 'AlF')\n",
      "(112, -1.1329367844209914, 'Mg2')\n",
      "(113, -1.1947211846999537, 'Mg')\n",
      "(114, -1.444719641563554, 'CH2F')\n",
      "(115, -1.518647400250662, 'CH3')\n",
      "(116, -1.550139986437042, 'CH2-t')\n",
      "(117, -2.072987464188321, 'BH2')\n",
      "(118, -5.8979266544791, 'FH-OH')\n"
     ]
    },
    {
     "data": {
      "text/plain": [
       "Text(0,0.5,'Relative Error (%)')"
      ]
     },
     "execution_count": 86,
     "metadata": {},
     "output_type": "execute_result"
    },
    {
     "data": {
      "image/png": "[encoded data removed]",
      "text/plain": [
       "<Figure size 432x288 with 1 Axes>"
      ]
     },
     "metadata": {},
     "output_type": "display_data"
    }
   ],
   "source": [
    "%matplotlib auto\n",
    "\n",
    "index = 3 #hgh(pbe)\n",
    "bars = data[index]['data']\n",
    "mols = data[index]['mols']\n",
    "\n",
    "positions = np.arange(len(bars))\n",
    "\n",
    "fig, ax = plt.subplots()\n",
    "for pos,bar,mol in zip(positions,bars,mols):\n",
    "    if abs(bar) > 1:\n",
    "        print(pos,bar,mol)\n",
    "    if mol in closed_shell:\n",
    "        ax.bar(pos,bar,color='blue',width=0.4,label='closed-shell')\n",
    "    if mol in open_shell:\n",
    "        ax.bar(pos,bar,color='red',width=0.4,label='open-shell')\n",
    "plt.xticks([], [])\n",
    "ax.hlines(y=-0.5,xmin=-5,xmax=120,linestyle='dotted')\n",
    "ax.hlines(y=0.5,xmin=-5,xmax=120,linestyle='dotted')\n",
    "ax.hlines(y=0.0,xmin=-5,xmax=120)\n",
    "plt.xlim(-1,120)\n",
    "plt.ylim(-6,3)\n",
    "plt.legend(['lalla','cuccu'])\n",
    "handles,labels=ax.get_legend_handles_labels() \n",
    "i=np.arange(len(labels)) #make an index for later\n",
    "filter=np.array([]) #set up a filter (empty for now)\n",
    "unique_labels=list(set(labels)) #find unique labels\n",
    "for ul in unique_labels: #loop through unique labels\n",
    "    filter=np.append(filter,[i[np.array(labels)==ul][0]]) #find the first instance of this label and add its index to the filter\n",
    "handles=[handles[int(f)] for f in filter] #filter out legend items to keep only the first instance of each repeated label\n",
    "labels=[labels[int(f)] for f in filter]\n",
    "ax.legend(handles,labels) #draw the legend with the filtered handles and labels lists\n",
    "ax.annotate('HO$_2$', xy=(0, 2.4), xytext=(10, 2.4),arrowprops=dict(arrowstyle='->'),size=12)\n",
    "ax.annotate('CN', xy=(1, 2.2), xytext=(10, 1.8),arrowprops=dict(arrowstyle='->'),size=12)\n",
    "#ax.annotate('HO$_2$', xy=(2, 2.2), xytext=(10, 2),arrowprops=dict(arrowstyle='->'),size=12)\n",
    "ax.annotate('BH$_2$', xy=(117, -2), xytext=(90, -2),arrowprops=dict(arrowstyle='->'),size=12)\n",
    "ax.annotate('FH-OH', xy=(118, -5.8), xytext=(90, -5.8),arrowprops=dict(arrowstyle='->'),size=12)\n",
    "plt.ylabel('Relative Error (%)',size=14)"
   ]
  },
  {
   "cell_type": "code",
   "execution_count": 46,
   "metadata": {},
   "outputs": [
    {
     "name": "stdout",
     "output_type": "stream",
     "text": [
      "(0, 4.502913005749903, 'LiH')\n",
      "(1, 2.6131595439191995, 'Li')\n",
      "(2, 2.295828266699322, 'HO2')\n",
      "(3, 1.326017024098873, 'C2H')\n",
      "(99, -1.732440326873455, 'BeH')\n"
     ]
    },
    {
     "data": {
      "text/plain": [
       "Text(0,0.5,'Relative Error (%)')"
      ]
     },
     "execution_count": 46,
     "metadata": {},
     "output_type": "execute_result"
    },
    {
     "data": {
      "image/png": "[encoded data removed]",
      "text/plain": [
       "<Figure size 432x288 with 1 Axes>"
      ]
     },
     "metadata": {},
     "output_type": "display_data"
    }
   ],
   "source": [
    "%matplotlib inline\n",
    "\n",
    "index = 5 #nlcc-s\n",
    "bars = data[index]['data']\n",
    "mols = data[index]['mols']\n",
    "\n",
    "positions = np.arange(len(bars))\n",
    "\n",
    "fig, ax = plt.subplots()\n",
    "for pos,bar,mol in zip(positions,bars,mols):\n",
    "    if abs(bar) > 1:\n",
    "        print(pos,bar,mol)\n",
    "    if mol in closed_shell:\n",
    "        ax.bar(pos,bar,color='blue',width=0.4,label='closed-shell')\n",
    "    if mol in open_shell:\n",
    "        ax.bar(pos,bar,color='red',width=0.4,label='open-shell')\n",
    "plt.xticks([], [])\n",
    "ax.hlines(y=-0.5,xmin=-5,xmax=100,linestyle='dotted')\n",
    "ax.hlines(y=0.5,xmin=-5,xmax=100,linestyle='dotted')\n",
    "ax.hlines(y=0.0,xmin=-5,xmax=100)\n",
    "plt.xlim(-1,100)\n",
    "plt.legend(['lalla','cuccu'])\n",
    "handles,labels=ax.get_legend_handles_labels() \n",
    "i=np.arange(len(labels)) #make an index for later\n",
    "filter=np.array([]) #set up a filter (empty for now)\n",
    "unique_labels=list(set(labels)) #find unique labels\n",
    "for ul in unique_labels: #loop through unique labels\n",
    "    filter=np.append(filter,[i[np.array(labels)==ul][0]]) #find the first instance of this label and add its index to the filter\n",
    "handles=[handles[int(f)] for f in filter] #filter out legend items to keep only the first instance of each repeated label\n",
    "labels=[labels[int(f)] for f in filter]\n",
    "ax.legend(handles,labels) #draw the legend with the filtered handles and labels lists\n",
    "ax.annotate('LiH', xy=(0, 4.5), xytext=(10, 4),arrowprops=dict(arrowstyle='->'),size=12)\n",
    "ax.annotate('Li', xy=(1, 2.6), xytext=(10, 3),arrowprops=dict(arrowstyle='->'),size=12)\n",
    "ax.annotate('HO$_2$', xy=(2, 2.2), xytext=(10, 2),arrowprops=dict(arrowstyle='->'),size=12)\n",
    "ax.annotate('C$_2$H', xy=(3, 1.3), xytext=(10, 1.3),arrowprops=dict(arrowstyle='->'),size=12)\n",
    "ax.annotate('BeH', xy=(99, -1.7), xytext=(85, -1.5),arrowprops=dict(arrowstyle='->'),size=12)\n",
    "plt.ylabel('Relative Error (%)',size=14)"
   ]
  },
  {
   "cell_type": "code",
   "execution_count": 101,
   "metadata": {},
   "outputs": [
    {
     "name": "stdout",
     "output_type": "stream",
     "text": [
      "(0, 2.189967716837325, 'HO2')\n",
      "(1, 1.9628697075405646, 'C2H')\n",
      "(2, 1.871660318468317, 'FH-OH')\n"
     ]
    },
    {
     "data": {
      "text/plain": [
       "Text(0,0.5,'Relative Error (%)')"
      ]
     },
     "execution_count": 101,
     "metadata": {},
     "output_type": "execute_result"
    },
    {
     "data": {
      "image/png": "[encoded data removed]",
      "text/plain": [
       "<Figure size 432x288 with 1 Axes>"
      ]
     },
     "metadata": {},
     "output_type": "display_data"
    }
   ],
   "source": [
    "%matplotlib inline\n",
    "\n",
    "index = 4 #nlcc-w\n",
    "bars = data[index]['data']\n",
    "mols = data[index]['mols']\n",
    "\n",
    "positions = np.arange(len(bars))\n",
    "\n",
    "fig, ax = plt.subplots()\n",
    "for pos,bar,mol in zip(positions,bars,mols):\n",
    "    if abs(bar) > 1:\n",
    "        print(pos,bar,mol)\n",
    "    if mol in closed_shell:\n",
    "        ax.bar(pos,bar,color='blue',width=0.4,label='closed-shell')\n",
    "    if mol in open_shell:\n",
    "        ax.bar(pos,bar,color='red',width=0.4,label='open-shell')\n",
    "plt.xticks([], [])\n",
    "ax.hlines(y=-0.5,xmin=-5,xmax=105,linestyle='dotted')\n",
    "ax.hlines(y=0.5,xmin=-5,xmax=105,linestyle='dotted')\n",
    "ax.hlines(y=0.0,xmin=-5,xmax=105)\n",
    "plt.xlim(-1,102)\n",
    "plt.legend(['lalla','cuccu'])\n",
    "handles,labels=ax.get_legend_handles_labels() \n",
    "i=np.arange(len(labels)) #make an index for later\n",
    "filter=np.array([]) #set up a filter (empty for now)\n",
    "unique_labels=list(set(labels)) #find unique labels\n",
    "for ul in unique_labels: #loop through unique labels\n",
    "    filter=np.append(filter,[i[np.array(labels)==ul][0]]) #find the first instance of this label and add its index to the filter\n",
    "handles=[handles[int(f)] for f in filter] #filter out legend items to keep only the first instance of each repeated label\n",
    "labels=[labels[int(f)] for f in filter]\n",
    "ax.legend(handles,labels) #draw the legend with the filtered handles and labels lists\n",
    "ax.annotate('HO$_2$', xy=(0, 2.2), xytext=(10, 2.1),arrowprops=dict(arrowstyle='->'),size=12)\n",
    "ax.annotate('C$_2$H', xy=(1, 2), xytext=(10, 1.8),arrowprops=dict(arrowstyle='->'),size=12)\n",
    "ax.annotate('FH-OH', xy=(2, 1.9), xytext=(10, 1.5),arrowprops=dict(arrowstyle='->'),size=12)\n",
    "plt.ylabel('Relative Error (%)',size=14)"
   ]
  },
  {
   "cell_type": "code",
   "execution_count": 119,
   "metadata": {},
   "outputs": [
    {
     "name": "stdout",
     "output_type": "stream",
     "text": [
      "(0, 3.278781856962465, 'O3')\n",
      "(18, -1.7495319354630707, 'Mg2')\n",
      "(19, -1.7516071038112828, 'Mg')\n"
     ]
    },
    {
     "data": {
      "text/plain": [
       "Text(0,0.5,'Relative Error (%)')"
      ]
     },
     "execution_count": 119,
     "metadata": {},
     "output_type": "execute_result"
    },
    {
     "data": {
      "image/png": "[encoded data removed]",
      "text/plain": [
       "<Figure size 432x288 with 1 Axes>"
      ]
     },
     "metadata": {},
     "output_type": "display_data"
    }
   ],
   "source": [
    "%matplotlib inline\n",
    "\n",
    "index = 6 #pbe0\n",
    "bars = data[index]['data']\n",
    "mols = data[index]['mols']\n",
    "\n",
    "positions = np.arange(len(bars))\n",
    "\n",
    "fig, ax = plt.subplots()\n",
    "for pos,bar,mol in zip(positions,bars,mols):\n",
    "    if abs(bar) > 1:\n",
    "        print(pos,bar,mol)\n",
    "    if mol in closed_shell:\n",
    "        ax.bar(pos,bar,color='blue',width=0.4,label='closed-shell')\n",
    "    if mol in open_shell:\n",
    "        ax.bar(pos,bar,color='red',width=0.4,label='open-shell')\n",
    "plt.xticks([], [])\n",
    "ax.hlines(y=-0.5,xmin=-5,xmax=100,linestyle='dotted')\n",
    "ax.hlines(y=0.5,xmin=-5,xmax=100,linestyle='dotted')\n",
    "ax.hlines(y=0.0,xmin=-5,xmax=100)\n",
    "plt.xlim(-1,21)\n",
    "plt.legend(['lalla','cuccu'])\n",
    "handles,labels=ax.get_legend_handles_labels() \n",
    "i=np.arange(len(labels)) #make an index for later\n",
    "filter=np.array([]) #set up a filter (empty for now)\n",
    "unique_labels=list(set(labels)) #find unique labels\n",
    "for ul in unique_labels: #loop through unique labels\n",
    "    filter=np.append(filter,[i[np.array(labels)==ul][0]]) #find the first instance of this label and add its index to the filter\n",
    "handles=[handles[int(f)] for f in filter] #filter out legend items to keep only the first instance of each repeated label\n",
    "labels=[labels[int(f)] for f in filter]\n",
    "ax.legend(handles,labels) #draw the legend with the filtered handles and labels lists\n",
    "ax.annotate('O$_3$', xy=(0, 3.3), xytext=(3, 3),arrowprops=dict(arrowstyle='->'),size=12)\n",
    "ax.annotate('Mg$_2$', xy=(18, -1.3), xytext=(15, -1.3),arrowprops=dict(arrowstyle='->'),size=12)\n",
    "ax.annotate('Mg', xy=(19, -1.75), xytext=(15, -1.7),arrowprops=dict(arrowstyle='->'),size=12)\n",
    "plt.ylabel('Relative Error (%)',size=14)"
   ]
  },
  {
   "cell_type": "code",
   "execution_count": null,
   "metadata": {},
   "outputs": [],
   "source": []
  }
 ],
 "metadata": {
  "kernelspec": {
   "display_name": "Python 2",
   "language": "python",
   "name": "python2"
  },
  "language_info": {
   "codemirror_mode": {
    "name": "ipython",
    "version": 2
   },
   "file_extension": ".py",
   "mimetype": "text/x-python",
   "name": "python",
   "nbconvert_exporter": "python",
   "pygments_lexer": "ipython2",
   "version": "2.7.17"
  }
 },
 "nbformat": 4,
 "nbformat_minor": 4
}
