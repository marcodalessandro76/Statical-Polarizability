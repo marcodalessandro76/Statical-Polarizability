{
 "cells": [
  {
   "cell_type": "code",
   "execution_count": 1,
   "metadata": {},
   "outputs": [],
   "source": [
    "import yaml\n",
    "import os, sys\n",
    "sys.path.insert(0,'../')\n",
    "import Routines as R"
   ]
  },
  {
   "cell_type": "markdown",
   "metadata": {},
   "source": [
    "# Construction of the dataset"
   ]
  },
  {
   "cell_type": "markdown",
   "metadata": {},
   "source": [
    "The aim of this notebook is to build a dictionary that collect all the information needed to compute the statical polarizability (for all the chose psp's) for the HG dataset.\n",
    "\n",
    "To achieve this task we split the hg dataset into two parts according the sp or nsp nature of the computation. Then we associate to each molecule a set of study (i.e. a choice of xc and psp). The study is processed with the single study workflow previously defined. "
   ]
  },
  {
   "cell_type": "code",
   "execution_count": 9,
   "metadata": {},
   "outputs": [],
   "source": [
    "hg_dataset = yaml.load(open('../HG Dataset/hg_data.yaml'))\n",
    "#hg_dataset"
   ]
  },
  {
   "cell_type": "markdown",
   "metadata": {},
   "source": [
    "We choose to treat the $H$ 'molecule' within the spin-polarizaed framework, so we set its 'spi_pol' field to 'sp"
   ]
  },
  {
   "cell_type": "code",
   "execution_count": 10,
   "metadata": {},
   "outputs": [],
   "source": [
    "hg_dataset['H']['spin_pol'] = 'sp'"
   ]
  },
  {
   "cell_type": "code",
   "execution_count": 11,
   "metadata": {},
   "outputs": [
    {
     "data": {
      "text/plain": [
       "{'CCSD(T)': [0.667, 0.667, 0.667],\n",
       " 'lda-SPW92': [0.902, 0.902, 0.902],\n",
       " 'lda-Slater': [0.958, 0.958, 0.958],\n",
       " 'pbe': [0.829, 0.829, 0.829],\n",
       " 'pbe0': [0.775, 0.775, 0.775],\n",
       " 'spin_pol': 'sp'}"
      ]
     },
     "execution_count": 11,
     "metadata": {},
     "output_type": "execute_result"
    }
   ],
   "source": [
    "hg_dataset['H']"
   ]
  },
  {
   "cell_type": "markdown",
   "metadata": {},
   "source": [
    "## Construction of the nsp_dataset"
   ]
  },
  {
   "cell_type": "markdown",
   "metadata": {},
   "source": [
    "We build the nsp_dataset that contain all the molecules associated to a spin_pol = nsp.\n",
    "\n",
    "This dictionary contains also the reference results extracted from the hg_dataset and a key 'study' that specifies\n",
    "all the couples xc,psp associated to each molecule of the dataset."
   ]
  },
  {
   "cell_type": "code",
   "execution_count": 12,
   "metadata": {},
   "outputs": [],
   "source": [
    "nsp_dataset = {}\n",
    "for mol,data in hg_dataset.iteritems():\n",
    "    if data['spin_pol'] == 'nsp':\n",
    "        ref_results = {'lda_pw' : data['lda-SPW92'], 'pbe' : data['pbe'], 'pbe0' : data['pbe0']}\n",
    "        nsp_dataset[mol] = {'ref_results' : ref_results}"
   ]
  },
  {
   "cell_type": "code",
   "execution_count": 13,
   "metadata": {},
   "outputs": [
    {
     "name": "stdout",
     "output_type": "stream",
     "text": [
      "number of nsp molecules =  74\n"
     ]
    }
   ],
   "source": [
    "print 'number of nsp molecules = ', len(nsp_dataset.keys())"
   ]
  },
  {
   "cell_type": "code",
   "execution_count": 14,
   "metadata": {},
   "outputs": [
    {
     "data": {
      "text/plain": [
       "{'ref_results': {'lda_pw': [1.872, 1.872, 2.358],\n",
       "  'pbe': [1.856, 1.856, 2.363],\n",
       "  'pbe0': [1.778, 1.778, 2.274]}}"
      ]
     },
     "execution_count": 14,
     "metadata": {},
     "output_type": "execute_result"
    }
   ],
   "source": [
    "# for instance\n",
    "nsp_dataset['CO']"
   ]
  },
  {
   "cell_type": "markdown",
   "metadata": {},
   "source": [
    "Now we add the key study to the dataset. The possible couple of (xc,psp) are given by:\n",
    "\n",
    "* (lda_pt,hgh_k) : lda_pt stands for lda of Pade Teller implementation. This choice is realized by setting ixc = 1 in        the input file.\n",
    "\n",
    "* (lda_pw,hgh_k) : that correspond to the lda xc of Perdev and Wang (1992). This choice is realized by setting ixc = -001012 in the input file.\n",
    "  \n",
    "* (pbe,hgh_k) : this choice is realized by setting ixc = 11 in the input file.\n",
    "\n",
    "* (pbe,nlcc_aw) : that corresponds to the pbe xc with the non linear core correction psp of Alex Willand. This choice is realized by setting ixc = 11 and by adding the appropriate psp's in the folder of the study.\n",
    "\n",
    "* (pbe,nlcc_ss) : that corresponds to the pbe xc with the non linear core correction psp of S. Saha. This choice is realized by setting ixc = 11 and by adding the appropriate psp's in the folder of the study.\n",
    "\n",
    "\n",
    "* (pbe0,hgh_k)  : that corresponds to the hybrid pbe0 xc with the hgh_k psp. This choice is realized by setting ixc = 'PBE0' in the input. Moreover, since there is no default choice in BigDFT associated to this functional the appropriate psp has to be provided in the input file as follows:\n",
    "  \n",
    "  inp['psppar.atom']={'Pseudopotential XC': 11} "
   ]
  },
  {
   "cell_type": "markdown",
   "metadata": {},
   "source": [
    "The nlcc_aw and nlcc_ss psp's are not given for all the atoms of the dataset. These are the list of the atoms for which these psp's are available (see  http://bigdft.org/Wiki/index.php?title=NLCC_PBE_psppar for nlcc_aw and http://bigdft.org/Wiki/index.php?title=New_Soft-Accurate_NLCC_pseudopotentials for the nlcc_ss one)"
   ]
  },
  {
   "cell_type": "code",
   "execution_count": 15,
   "metadata": {},
   "outputs": [],
   "source": [
    "nlcc_aw = ['Al','B','C','Cl','F','H','Mg','N','O','P','S','Si']\n",
    "nlcc_ss = ['Al','B','Be','C','Ca','Cl','F','H','He','K','Li','Mg','N','Ne','O','P','Si']\n",
    "# plus other atoms that are not present in the  molecules of the dataset"
   ]
  },
  {
   "cell_type": "markdown",
   "metadata": {},
   "source": [
    "Associate all the possible studies to each molecule of the dataset. The studies that can be performed for all the molecules are given by"
   ]
  },
  {
   "cell_type": "code",
   "execution_count": 16,
   "metadata": {},
   "outputs": [],
   "source": [
    "studies = [('lda_pt','hgh_k'),('lda_pw','hgh_k'),('pbe','hgh_k'),('pbe0','hgh_k')]"
   ]
  },
  {
   "cell_type": "code",
   "execution_count": 17,
   "metadata": {},
   "outputs": [],
   "source": [
    "for mol in nsp_dataset:\n",
    "    nsp_dataset[mol]['study'] = studies"
   ]
  },
  {
   "cell_type": "markdown",
   "metadata": {},
   "source": [
    "The studies with the nlcc psp's are possible only if the atoms of the molecule belong to the list nlcc_aw or nlcc_ss"
   ]
  },
  {
   "cell_type": "code",
   "execution_count": 18,
   "metadata": {},
   "outputs": [],
   "source": [
    "for mol in nsp_dataset:\n",
    "    if R.molecule_inlist(mol,nlcc_aw):\n",
    "        nsp_dataset[mol]['study'] = nsp_dataset[mol]['study'] + [('pbe','nlcc_aw')]\n",
    "    if R.molecule_inlist(mol,nlcc_ss):\n",
    "        nsp_dataset[mol]['study'] = nsp_dataset[mol]['study'] + [('pbe','nlcc_ss')]"
   ]
  },
  {
   "cell_type": "code",
   "execution_count": 21,
   "metadata": {},
   "outputs": [
    {
     "data": {
      "text/plain": [
       "{'ref_results': {'lda_pw': [1.872, 1.872, 2.358],\n",
       "  'pbe': [1.856, 1.856, 2.363],\n",
       "  'pbe0': [1.778, 1.778, 2.274]},\n",
       " 'study': [('lda_pt', 'hgh_k'),\n",
       "  ('lda_pw', 'hgh_k'),\n",
       "  ('pbe', 'hgh_k'),\n",
       "  ('pbe0', 'hgh_k'),\n",
       "  ('pbe', 'nlcc_aw'),\n",
       "  ('pbe', 'nlcc_ss')]}"
      ]
     },
     "execution_count": 21,
     "metadata": {},
     "output_type": "execute_result"
    }
   ],
   "source": [
    "nsp_dataset['CO']"
   ]
  },
  {
   "cell_type": "markdown",
   "metadata": {},
   "source": [
    "Save the dataset as yaml file"
   ]
  },
  {
   "cell_type": "code",
   "execution_count": 22,
   "metadata": {},
   "outputs": [],
   "source": [
    "import yaml\n",
    "with open('nsp_dataset.yaml', 'w') as outfile:\n",
    "    yaml.dump(nsp_dataset, outfile, default_flow_style=False)"
   ]
  },
  {
   "cell_type": "markdown",
   "metadata": {},
   "source": [
    "This dataset can be passed to the 'Dataset calculator' notebook which runs the computations."
   ]
  },
  {
   "cell_type": "markdown",
   "metadata": {},
   "source": [
    "## Construction of the sp_dataset"
   ]
  },
  {
   "cell_type": "markdown",
   "metadata": {},
   "source": [
    "...TO BE DONE:....."
   ]
  },
  {
   "cell_type": "code",
   "execution_count": null,
   "metadata": {},
   "outputs": [],
   "source": []
  }
 ],
 "metadata": {
  "kernelspec": {
   "display_name": "Python 2",
   "language": "python",
   "name": "python2"
  },
  "language_info": {
   "codemirror_mode": {
    "name": "ipython",
    "version": 2
   },
   "file_extension": ".py",
   "mimetype": "text/x-python",
   "name": "python",
   "nbconvert_exporter": "python",
   "pygments_lexer": "ipython2",
   "version": "2.7.17"
  }
 },
 "nbformat": 4,
 "nbformat_minor": 2
}
