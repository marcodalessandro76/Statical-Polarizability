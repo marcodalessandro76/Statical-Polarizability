{
 "cells": [
  {
   "cell_type": "code",
   "execution_count": 40,
   "metadata": {},
   "outputs": [
    {
     "data": {
      "text/plain": [
       "<module 'StatPol' from '../StatPol.py'>"
      ]
     },
     "execution_count": 40,
     "metadata": {},
     "output_type": "execute_result"
    }
   ],
   "source": [
    "from BigDFT import Datasets as D, Calculators as C, Inputfiles as I, Logfiles as lf\n",
    "from BigDFT.Database import Molecules\n",
    "reload(Molecules)\n",
    "reload(D)\n",
    "import sys,os\n",
    "sys.path.insert(0,'../')\n",
    "import StatPol as SP\n",
    "reload(SP)"
   ]
  },
  {
   "cell_type": "code",
   "execution_count": 41,
   "metadata": {},
   "outputs": [],
   "source": [
    "def get_converged_input_energy(dataset,rtol,atol):\n",
    "    data=dataset.seek_convergence(atol=atol,rtol=rtol,attribute='energy')\n",
    "    return dataset.runs[dataset.names.index(D.name_from_id(data[0]))]['input'],data[1]\n",
    "\n",
    "def find_gs_domain(label,rtol,atol,path,inp_rmult,posinp,code):\n",
    "    crmult=inp_rmult['dft']['rmult'][0]\n",
    "    rmult_fine=inp_rmult['dft']['rmult'][1]\n",
    "    rmult_list=map(float,range(int(crmult),11))\n",
    "    seek_for_rmult = D.Dataset(label=label+'(GS)',run_dir=path,posinp=posinp)\n",
    "    for rm in rmult_list:\n",
    "        inp_rmult.set_rmult(coarse=rm,fine=rmult_fine)\n",
    "        seek_for_rmult.append_run(id={'rmult':rm},runner=code,input=inp_rmult)\n",
    "    input_gs,log_gs=get_converged_input_energy(seek_for_rmult,rtol,atol)\n",
    "    return {'input_gs':input_gs, 'dataset_gs': seek_for_rmult,'log_gs':log_gs}\n",
    "\n",
    "def extract_statical_polarizability(label,rtol,atol,path,input_for_alpha,posinp,code,ref):\n",
    "    ints=[1e-2,5e-3,1e-3,5e-4,1e-4]\n",
    "    get_alpha=D.Dataset(label=label+'(field)',run_dir=path)\n",
    "    for f in ints:\n",
    "        get_alpha.append_run(id={'f':f},runner=SP.build_alpha_dataset(input=input_for_alpha,posinp=posinp,run_dir=path,runner=code,intensity=f))\n",
    "    try:\n",
    "        data=get_alpha.seek_convergence(rtol=rtol,atol=atol)\n",
    "        intensity=data[0]['f']\n",
    "    except:\n",
    "        print ('Convergence in field not reached')\n",
    "        intensity=ints[-1]\n",
    "    rmult_fine=input_for_alpha['dft']['rmult'][1]\n",
    "    rmult_list=map(float,range(int(input_for_alpha['dft']['rmult'][0]),11))\n",
    "    final_alpha=D.Dataset(label=label+'(domain)',run_dir=path)\n",
    "    for rm in rmult_list:\n",
    "        input_for_alpha.set_rmult(coarse=rm,fine=rmult_fine)\n",
    "        final_alpha.append_run(id={'f':intensity,'rmult':rm},runner=SP.build_alpha_dataset(input=input_for_alpha,posinp=posinp,run_dir=path,runner=code,intensity=intensity))\n",
    "    try:\n",
    "        import numpy as np\n",
    "        data_final=final_alpha.seek_convergence(rtol=rtol,atol=atol)\n",
    "        AuToA = 0.5291772085**3\n",
    "        alpha_ref_ii = np.array(ref)/AuToA\n",
    "        eps = 100.0 * (data_final[1]-alpha_ref_ii)/alpha_ref_ii\n",
    "        print ('Relative difference in %',eps.tolist())\n",
    "    except LookupError as e:\n",
    "        print ('Convergence in domain not reached',e)\n",
    "        data_final=None\n",
    "    return {'alpha_convergence': data_final, 'dataset_field': get_alpha, 'dataset_rmult': final_alpha}"
   ]
  },
  {
   "cell_type": "code",
   "execution_count": 42,
   "metadata": {},
   "outputs": [],
   "source": [
    "def change_workdir(molecule,study,options):\n",
    "    from futile.Utils import ensure_dir\n",
    "    datadir=options.get('data_directory','Data')\n",
    "    for d in [datadir,molecule]:\n",
    "        ensure_dir(d)\n",
    "        os.chdir(d)\n",
    "    path=study[0]+'-'+study[1]\n",
    "    ensure_dir(path)\n",
    "    return '-'.join([molecule,path]),path\n",
    "\n",
    "def gs_study(molecule,study,code,options):\n",
    "    import Routines as R\n",
    "    from BigDFT import InputActions as A\n",
    "    reload(R)\n",
    "    hgrids=options.get('hgrids')\n",
    "    rmult_fine=options.get('rmult_fine')\n",
    "    wf_convergence=options.get('wf_convergence')\n",
    "    crmult_start=options.get('crmult',4.0)\n",
    "    rtol=options.get('rtol_gs',10*wf_convergence)\n",
    "    atol=options.get('atol_gs',1.e-3)\n",
    "    reference_results=options.get('reference_data')\n",
    "\n",
    "    initial_dir=os.path.abspath(os.path.dirname('.'))\n",
    "    label,path=change_workdir(molecule,study,options)\n",
    "\n",
    "    posinp=Molecules.Molecule(molecule)\n",
    "    \n",
    "    inp = I.Inputfile()\n",
    "    inp.set_hgrid(hgrids)\n",
    "    inp.set_rmult(coarse=crmult_start,fine=rmult_fine)\n",
    "    R.set_xc[study](inp,molecule)\n",
    "    inp.set_wavefunction_convergence(wf_convergence)\n",
    "    mpol=int(reference_results[molecule]['mpol_ref'])-1   \n",
    "    if mpol >0: inp.spin_polarize(mpol)\n",
    "    data= find_gs_domain(label,10*wf_convergence,atol,path,inp,posinp,code)\n",
    "    os.chdir(initial_dir)\n",
    "    \n",
    "    data['molecule']=molecule\n",
    "    data['posinp']=posinp\n",
    "    data['study']=study\n",
    "    return data \n",
    "\n",
    "def alpha_study(gs_data,code,options):\n",
    "    import copy\n",
    "    xc_conversion={'lda_pw': 'lda-SPW92', 'pbe': 'pbe', 'pbe0': 'pbe0'}\n",
    "    rtol=options.get('rtol',1.e-2)\n",
    "    atol=options.get('atol',1.e-3)\n",
    "    reference_results=options.get('reference_data')\n",
    "    study=gs_data['study']\n",
    "    molecule=gs_data['molecule']\n",
    "    posinp=gs_data['posinp']\n",
    "    xc=study[0]\n",
    "    ref_data=reference_results[molecule][xc_conversion[xc]]\n",
    "    \n",
    "    initial_dir=os.path.abspath(os.path.dirname('.'))\n",
    "    label,path=change_workdir(molecule,study,options)\n",
    "    input_gs=copy.deepcopy(gs_data['input_gs'])\n",
    "        \n",
    "    data=extract_statical_polarizability(label,rtol,atol,path,input_gs,posinp,code,ref=ref_data)\n",
    "    os.chdir(initial_dir)\n",
    "    \n",
    "    return data"
   ]
  },
  {
   "cell_type": "code",
   "execution_count": 43,
   "metadata": {},
   "outputs": [],
   "source": [
    "import yaml\n",
    "HG_data=yaml.load(open('../HG Dataset/hg_data.yaml'))"
   ]
  },
  {
   "cell_type": "code",
   "execution_count": 44,
   "metadata": {},
   "outputs": [],
   "source": [
    "def get_psp(molecule):\n",
    "    import Routines as R\n",
    "    from os import path as p\n",
    "    possible_psp=['nlcc_aw','nlcc_ss']\n",
    "    to_do=[True,True]\n",
    "    for at in R.get_atoms(molecule):\n",
    "        psp_available = [p.isfile(p.join('psp_'+psp,'psppar.'+at)) for psp in possible_psp]\n",
    "        to_do = [ a and b for a,b in zip(to_do,psp_available)]\n",
    "    return ['hgh_k'] + [psp for yes,psp in zip(to_do,possible_psp) if yes]"
   ]
  },
  {
   "cell_type": "code",
   "execution_count": 45,
   "metadata": {},
   "outputs": [],
   "source": [
    "initial_dir=os.path.abspath(os.path.dirname('/home/genovese/work/execute/StaticalPolarizability/Calculations/'))\n",
    "os.chdir(initial_dir)"
   ]
  },
  {
   "cell_type": "code",
   "execution_count": 46,
   "metadata": {},
   "outputs": [
    {
     "name": "stdout",
     "output_type": "stream",
     "text": [
      "Initialize a Calculator with OMP_NUM_THREADS=2 and command mpirun -np 4 /home/genovese/binaries/1.8.4-genovese/install/bin/bigdft\n"
     ]
    }
   ],
   "source": [
    "code=C.SystemCalculator(omp=2,mpi_run='mpirun -np 4',skip=True,verbose=False)\n",
    "options={'wf_convergence':1.e-6,'hgrids':0.3,'rmult_fine':9.0,'rtol':1.e-2,'atol':1.e-3,'reference_data':HG_data}"
   ]
  },
  {
   "cell_type": "code",
   "execution_count": 26,
   "metadata": {},
   "outputs": [
    {
     "name": "stdout",
     "output_type": "stream",
     "text": [
      "BF lda_pw hgh_k\n",
      "Fetching results for id \" {'rmult': 5.0} \"\n",
      "Convergence reached in Dataset \"BF-lda_pw-hgh_k(GS)\" for id \" {'rmult': 4.0}\n",
      "Fetching results for id \" {'f': 0.005} \"\n",
      "Convergence reached in Dataset \"BF-lda_pw-hgh_k(field)\" for id \" {'f': 0.01}\n",
      "Fetching results for id \" {'rmult': 5.0, 'f': 0.01} \"\n",
      "Fetching results for id \" {'rmult': 6.0, 'f': 0.01} \"\n",
      "Fetching results for id \" {'rmult': 7.0, 'f': 0.01} \"\n",
      "Convergence reached in Dataset \"BF-lda_pw-hgh_k(domain)\" for id \" {'rmult': 6.0, 'f': 0.01}\n",
      "('Relative difference in %', [0.5677769587487399, 0.5677769587487399, 0.36667789456298516])\n",
      "BF pbe hgh_k\n",
      "Fetching results for id \" {'rmult': 5.0} \"\n",
      "Convergence reached in Dataset \"BF-pbe-hgh_k(GS)\" for id \" {'rmult': 4.0}\n",
      "Fetching results for id \" {'f': 0.005} \"\n",
      "Convergence reached in Dataset \"BF-pbe-hgh_k(field)\" for id \" {'f': 0.01}\n",
      "Fetching results for id \" {'rmult': 5.0, 'f': 0.01} \"\n",
      "Fetching results for id \" {'rmult': 6.0, 'f': 0.01} \"\n",
      "Fetching results for id \" {'rmult': 7.0, 'f': 0.01} \"\n",
      "Convergence reached in Dataset \"BF-pbe-hgh_k(domain)\" for id \" {'rmult': 6.0, 'f': 0.01}\n",
      "('Relative difference in %', [0.390972818179824, 0.390972818179824, 0.13975372521363566])\n",
      "BF pbe nlcc_aw\n",
      "Fetching results for id \" {'rmult': 5.0} \"\n",
      "Convergence reached in Dataset \"BF-pbe-nlcc_aw(GS)\" for id \" {'rmult': 4.0}\n",
      "Fetching results for id \" {'f': 0.005} \"\n",
      "Convergence reached in Dataset \"BF-pbe-nlcc_aw(field)\" for id \" {'f': 0.01}\n",
      "Fetching results for id \" {'rmult': 5.0, 'f': 0.01} \"\n",
      "Fetching results for id \" {'rmult': 6.0, 'f': 0.01} \"\n",
      "Fetching results for id \" {'rmult': 7.0, 'f': 0.01} \"\n",
      "Convergence reached in Dataset \"BF-pbe-nlcc_aw(domain)\" for id \" {'rmult': 6.0, 'f': 0.01}\n",
      "('Relative difference in %', [0.5396105533424043, 0.5396105533424043, 0.4744897299574818])\n",
      "BF pbe nlcc_ss\n",
      "Fetching results for id \" {'rmult': 5.0} \"\n",
      "Convergence reached in Dataset \"BF-pbe-nlcc_ss(GS)\" for id \" {'rmult': 4.0}\n",
      "Fetching results for id \" {'f': 0.005} \"\n",
      "Convergence reached in Dataset \"BF-pbe-nlcc_ss(field)\" for id \" {'f': 0.01}\n",
      "Fetching results for id \" {'rmult': 5.0, 'f': 0.01} \"\n",
      "Fetching results for id \" {'rmult': 6.0, 'f': 0.01} \"\n",
      "Fetching results for id \" {'rmult': 7.0, 'f': 0.01} \"\n",
      "Convergence reached in Dataset \"BF-pbe-nlcc_ss(domain)\" for id \" {'rmult': 6.0, 'f': 0.01}\n",
      "('Relative difference in %', [0.39448376742551466, 0.39448376742551466, 1.0390515492117267])\n",
      "BF pbe0 hgh_k\n",
      "Fetching results for id \" {'rmult': 5.0} \"\n",
      "Convergence reached in Dataset \"BF-pbe0-hgh_k(GS)\" for id \" {'rmult': 4.0}\n",
      "Fetching results for id \" {'f': 0.005} \"\n",
      "Convergence reached in Dataset \"BF-pbe0-hgh_k(field)\" for id \" {'f': 0.01}\n",
      "Fetching results for id \" {'rmult': 5.0, 'f': 0.01} \"\n",
      "Fetching results for id \" {'rmult': 6.0, 'f': 0.01} \"\n",
      "Fetching results for id \" {'rmult': 7.0, 'f': 0.01} \"\n",
      "Convergence reached in Dataset \"BF-pbe0-hgh_k(domain)\" for id \" {'rmult': 6.0, 'f': 0.01}\n",
      "('Relative difference in %', [0.6499958387684861, 0.6499958387684861, 0.4980703935363564])\n",
      "BH2Cl lda_pw hgh_k\n",
      "Fetching results for id \" {'rmult': 5.0} \"\n",
      "Fetching results for id \" {'rmult': 6.0} \"\n",
      "Convergence reached in Dataset \"BH2Cl-lda_pw-hgh_k(GS)\" for id \" {'rmult': 5.0}\n",
      "Fetching results for id \" {'f': 0.005} \"\n",
      "Convergence reached in Dataset \"BH2Cl-lda_pw-hgh_k(field)\" for id \" {'f': 0.01}\n",
      "Fetching results for id \" {'rmult': 6.0, 'f': 0.01} \"\n",
      "Fetching results for id \" {'rmult': 7.0, 'f': 0.01} \"\n",
      "Convergence reached in Dataset \"BH2Cl-lda_pw-hgh_k(domain)\" for id \" {'rmult': 6.0, 'f': 0.01}\n",
      "('Relative difference in %', [0.2567461612554449, -0.05877931946206491, 0.038325185384671716])\n",
      "BH2Cl pbe hgh_k\n",
      "Fetching results for id \" {'rmult': 5.0} \"\n",
      "Fetching results for id \" {'rmult': 6.0} \"\n",
      "Convergence reached in Dataset \"BH2Cl-pbe-hgh_k(GS)\" for id \" {'rmult': 5.0}\n",
      "Fetching results for id \" {'f': 0.005} \"\n",
      "Convergence reached in Dataset \"BH2Cl-pbe-hgh_k(field)\" for id \" {'f': 0.01}\n",
      "Fetching results for id \" {'rmult': 6.0, 'f': 0.01} \"\n",
      "Fetching results for id \" {'rmult': 7.0, 'f': 0.01} \"\n",
      "Convergence reached in Dataset \"BH2Cl-pbe-hgh_k(domain)\" for id \" {'rmult': 6.0, 'f': 0.01}\n",
      "('Relative difference in %', [0.29470127242123856, -0.0659301096823349, -0.009896712939446243])\n",
      "BH2Cl pbe nlcc_aw\n",
      "Fetching results for id \" {'rmult': 5.0} \"\n",
      "Fetching results for id \" {'rmult': 6.0} \"\n",
      "Convergence reached in Dataset \"BH2Cl-pbe-nlcc_aw(GS)\" for id \" {'rmult': 5.0}\n",
      "Fetching results for id \" {'f': 0.005} \"\n",
      "Convergence reached in Dataset \"BH2Cl-pbe-nlcc_aw(field)\" for id \" {'f': 0.01}\n",
      "Fetching results for id \" {'rmult': 6.0, 'f': 0.01} \"\n",
      "Fetching results for id \" {'rmult': 7.0, 'f': 0.01} \"\n",
      "Convergence reached in Dataset \"BH2Cl-pbe-nlcc_aw(domain)\" for id \" {'rmult': 6.0, 'f': 0.01}\n",
      "('Relative difference in %', [-0.1917388892283246, -0.5260191762024522, -0.5666517870966729])\n",
      "BH2Cl pbe nlcc_ss\n",
      "Fetching results for id \" {'rmult': 5.0} \"\n",
      "Fetching results for id \" {'rmult': 6.0} \"\n",
      "Convergence reached in Dataset \"BH2Cl-pbe-nlcc_ss(GS)\" for id \" {'rmult': 5.0}\n",
      "Fetching results for id \" {'f': 0.005} \"\n",
      "Convergence reached in Dataset \"BH2Cl-pbe-nlcc_ss(field)\" for id \" {'f': 0.01}\n",
      "Fetching results for id \" {'rmult': 6.0, 'f': 0.01} \"\n",
      "Fetching results for id \" {'rmult': 7.0, 'f': 0.01} \"\n",
      "Convergence reached in Dataset \"BH2Cl-pbe-nlcc_ss(domain)\" for id \" {'rmult': 6.0, 'f': 0.01}\n",
      "('Relative difference in %', [-0.2895653431581742, -0.7084771971171167, -0.5616477556727243])\n",
      "BH2Cl pbe0 hgh_k\n",
      "Fetching results for id \" {'rmult': 5.0} \"\n",
      "Fetching results for id \" {'rmult': 6.0} \"\n",
      "Convergence reached in Dataset \"BH2Cl-pbe0-hgh_k(GS)\" for id \" {'rmult': 5.0}\n",
      "Fetching results for id \" {'f': 0.005} \"\n",
      "Convergence reached in Dataset \"BH2Cl-pbe0-hgh_k(field)\" for id \" {'f': 0.01}\n",
      "Fetching results for id \" {'rmult': 6.0, 'f': 0.01} \"\n",
      "Fetching results for id \" {'rmult': 7.0, 'f': 0.01} \"\n",
      "Convergence reached in Dataset \"BH2Cl-pbe0-hgh_k(domain)\" for id \" {'rmult': 6.0, 'f': 0.01}\n",
      "('Relative difference in %', [0.13891225510704266, -0.18902846497293616, -0.03958193743704508])\n",
      "LiH lda_pw hgh_k\n",
      "Fetching results for id \" {'rmult': 5.0} \"\n",
      "Fetching results for id \" {'rmult': 6.0} \"\n",
      "Convergence reached in Dataset \"LiH-lda_pw-hgh_k(GS)\" for id \" {'rmult': 5.0}\n",
      "Fetching results for id \" {'f': 0.005} \"\n",
      "Fetching results for id \" {'f': 0.001} \"\n",
      "Fetching results for id \" {'f': 0.0005} \"\n",
      "Convergence reached in Dataset \"LiH-lda_pw-hgh_k(field)\" for id \" {'f': 0.001}\n",
      "Fetching results for id \" {'rmult': 6.0, 'f': 0.001} \"\n",
      "Fetching results for id \" {'rmult': 7.0, 'f': 0.001} \"\n",
      "Convergence reached in Dataset \"LiH-lda_pw-hgh_k(domain)\" for id \" {'rmult': 6.0, 'f': 0.001}\n",
      "('Relative difference in %', [-0.5937034704680868, -0.5937034704680868, -3.6415728886509076])\n",
      "LiH pbe hgh_k\n",
      "Fetching results for id \" {'rmult': 5.0} \"\n",
      "Fetching results for id \" {'rmult': 6.0} \"\n",
      "Convergence reached in Dataset \"LiH-pbe-hgh_k(GS)\" for id \" {'rmult': 5.0}\n",
      "Fetching results for id \" {'f': 0.005} \"\n",
      "Fetching results for id \" {'f': 0.001} \"\n",
      "Convergence in field not reached\n"
     ]
    },
    {
     "ename": "AttributeError",
     "evalue": "Logfile instance has no attribute 'dipole'",
     "output_type": "error",
     "traceback": [
      "\u001b[0;31m---------------------------------------------------------------------------\u001b[0m",
      "\u001b[0;31mAttributeError\u001b[0m                            Traceback (most recent call last)",
      "\u001b[0;32m<ipython-input-26-68aef22c52dd>\u001b[0m in \u001b[0;36m<module>\u001b[0;34m()\u001b[0m\n\u001b[1;32m      8\u001b[0m             \u001b[0;32mprint\u001b[0m \u001b[0mmolecule\u001b[0m\u001b[0;34m,\u001b[0m\u001b[0mxc\u001b[0m\u001b[0;34m,\u001b[0m\u001b[0mp\u001b[0m\u001b[0;34m\u001b[0m\u001b[0m\n\u001b[1;32m      9\u001b[0m             \u001b[0mgs_data\u001b[0m\u001b[0;34m=\u001b[0m\u001b[0mgs_study\u001b[0m\u001b[0;34m(\u001b[0m\u001b[0mmolecule\u001b[0m\u001b[0;34m,\u001b[0m\u001b[0;34m(\u001b[0m\u001b[0mxc\u001b[0m\u001b[0;34m,\u001b[0m\u001b[0mp\u001b[0m\u001b[0;34m)\u001b[0m\u001b[0;34m,\u001b[0m\u001b[0mcode\u001b[0m\u001b[0;34m,\u001b[0m\u001b[0moptions\u001b[0m\u001b[0;34m)\u001b[0m\u001b[0;34m\u001b[0m\u001b[0m\n\u001b[0;32m---> 10\u001b[0;31m             \u001b[0mfull_data\u001b[0m\u001b[0;34m[\u001b[0m\u001b[0;34m(\u001b[0m\u001b[0mmolecule\u001b[0m\u001b[0;34m,\u001b[0m\u001b[0mxc\u001b[0m\u001b[0;34m,\u001b[0m\u001b[0mp\u001b[0m\u001b[0;34m)\u001b[0m\u001b[0;34m]\u001b[0m\u001b[0;34m=\u001b[0m\u001b[0malpha_study\u001b[0m\u001b[0;34m(\u001b[0m\u001b[0mgs_data\u001b[0m\u001b[0;34m,\u001b[0m\u001b[0mcode\u001b[0m\u001b[0;34m,\u001b[0m\u001b[0moptions\u001b[0m\u001b[0;34m)\u001b[0m\u001b[0;34m\u001b[0m\u001b[0m\n\u001b[0m\u001b[1;32m     11\u001b[0m             \u001b[0mfull_data\u001b[0m\u001b[0;34m[\u001b[0m\u001b[0;34m(\u001b[0m\u001b[0mmolecule\u001b[0m\u001b[0;34m,\u001b[0m\u001b[0mxc\u001b[0m\u001b[0;34m,\u001b[0m\u001b[0mp\u001b[0m\u001b[0;34m)\u001b[0m\u001b[0;34m]\u001b[0m\u001b[0;34m.\u001b[0m\u001b[0mupdate\u001b[0m\u001b[0;34m(\u001b[0m\u001b[0mgs_data\u001b[0m\u001b[0;34m)\u001b[0m\u001b[0;34m\u001b[0m\u001b[0m\n\u001b[1;32m     12\u001b[0m \u001b[0;31m#molecule='CO'\u001b[0m\u001b[0;34m\u001b[0m\u001b[0;34m\u001b[0m\u001b[0m\n",
      "\u001b[0;32m<ipython-input-21-444370a40f61>\u001b[0m in \u001b[0;36malpha_study\u001b[0;34m(gs_data, code, options)\u001b[0m\n\u001b[1;32m     62\u001b[0m     \u001b[0minput_gs\u001b[0m\u001b[0;34m=\u001b[0m\u001b[0mcopy\u001b[0m\u001b[0;34m.\u001b[0m\u001b[0mdeepcopy\u001b[0m\u001b[0;34m(\u001b[0m\u001b[0mgs_data\u001b[0m\u001b[0;34m[\u001b[0m\u001b[0;34m'input_gs'\u001b[0m\u001b[0;34m]\u001b[0m\u001b[0;34m)\u001b[0m\u001b[0;34m\u001b[0m\u001b[0m\n\u001b[1;32m     63\u001b[0m \u001b[0;34m\u001b[0m\u001b[0m\n\u001b[0;32m---> 64\u001b[0;31m     \u001b[0mdata\u001b[0m\u001b[0;34m=\u001b[0m\u001b[0mextract_statical_polarizability\u001b[0m\u001b[0;34m(\u001b[0m\u001b[0mlabel\u001b[0m\u001b[0;34m,\u001b[0m\u001b[0mrtol\u001b[0m\u001b[0;34m,\u001b[0m\u001b[0matol\u001b[0m\u001b[0;34m,\u001b[0m\u001b[0mpath\u001b[0m\u001b[0;34m,\u001b[0m\u001b[0minput_gs\u001b[0m\u001b[0;34m,\u001b[0m\u001b[0mposinp\u001b[0m\u001b[0;34m,\u001b[0m\u001b[0mcode\u001b[0m\u001b[0;34m,\u001b[0m\u001b[0mref\u001b[0m\u001b[0;34m=\u001b[0m\u001b[0mref_data\u001b[0m\u001b[0;34m)\u001b[0m\u001b[0;34m\u001b[0m\u001b[0m\n\u001b[0m\u001b[1;32m     65\u001b[0m     \u001b[0mos\u001b[0m\u001b[0;34m.\u001b[0m\u001b[0mchdir\u001b[0m\u001b[0;34m(\u001b[0m\u001b[0minitial_dir\u001b[0m\u001b[0;34m)\u001b[0m\u001b[0;34m\u001b[0m\u001b[0m\n\u001b[1;32m     66\u001b[0m \u001b[0;34m\u001b[0m\u001b[0m\n",
      "\u001b[0;32m<ipython-input-12-1c6b0da6dfae>\u001b[0m in \u001b[0;36mextract_statical_polarizability\u001b[0;34m(label, rtol, atol, path, input_for_alpha, posinp, code, ref)\u001b[0m\n\u001b[1;32m     33\u001b[0m     \u001b[0;32mtry\u001b[0m\u001b[0;34m:\u001b[0m\u001b[0;34m\u001b[0m\u001b[0m\n\u001b[1;32m     34\u001b[0m         \u001b[0;32mimport\u001b[0m \u001b[0mnumpy\u001b[0m \u001b[0;32mas\u001b[0m \u001b[0mnp\u001b[0m\u001b[0;34m\u001b[0m\u001b[0m\n\u001b[0;32m---> 35\u001b[0;31m         \u001b[0mdata_final\u001b[0m\u001b[0;34m=\u001b[0m\u001b[0mfinal_alpha\u001b[0m\u001b[0;34m.\u001b[0m\u001b[0mseek_convergence\u001b[0m\u001b[0;34m(\u001b[0m\u001b[0mrtol\u001b[0m\u001b[0;34m=\u001b[0m\u001b[0mrtol\u001b[0m\u001b[0;34m,\u001b[0m\u001b[0matol\u001b[0m\u001b[0;34m=\u001b[0m\u001b[0matol\u001b[0m\u001b[0;34m)\u001b[0m\u001b[0;34m\u001b[0m\u001b[0m\n\u001b[0m\u001b[1;32m     36\u001b[0m         \u001b[0mAuToA\u001b[0m \u001b[0;34m=\u001b[0m \u001b[0;36m0.5291772085\u001b[0m\u001b[0;34m**\u001b[0m\u001b[0;36m3\u001b[0m\u001b[0;34m\u001b[0m\u001b[0m\n\u001b[1;32m     37\u001b[0m         \u001b[0malpha_ref_ii\u001b[0m \u001b[0;34m=\u001b[0m \u001b[0mnp\u001b[0m\u001b[0;34m.\u001b[0m\u001b[0marray\u001b[0m\u001b[0;34m(\u001b[0m\u001b[0mref\u001b[0m\u001b[0;34m)\u001b[0m\u001b[0;34m/\u001b[0m\u001b[0mAuToA\u001b[0m\u001b[0;34m\u001b[0m\u001b[0m\n",
      "\u001b[0;32m/home/genovese/binaries/1.8.4-genovese/install/lib/python2.7/site-packages/BigDFT/Datasets.pyc\u001b[0m in \u001b[0;36mseek_convergence\u001b[0;34m(self, rtol, atol, selection, **kwargs)\u001b[0m\n\u001b[1;32m    247\u001b[0m \u001b[0;34m\u001b[0m\u001b[0m\n\u001b[1;32m    248\u001b[0m         \u001b[0mid_ref\u001b[0m\u001b[0;34m=\u001b[0m\u001b[0mto_get\u001b[0m\u001b[0;34m[\u001b[0m\u001b[0;36m0\u001b[0m\u001b[0;34m]\u001b[0m\u001b[0;34m\u001b[0m\u001b[0m\n\u001b[0;32m--> 249\u001b[0;31m         \u001b[0mref\u001b[0m\u001b[0;34m=\u001b[0m\u001b[0mself\u001b[0m\u001b[0;34m.\u001b[0m\u001b[0mfetch_results\u001b[0m\u001b[0;34m(\u001b[0m\u001b[0mid\u001b[0m\u001b[0;34m=\u001b[0m\u001b[0mid_ref\u001b[0m\u001b[0;34m,\u001b[0m\u001b[0;34m**\u001b[0m\u001b[0mkwargs\u001b[0m\u001b[0;34m)\u001b[0m\u001b[0;34m\u001b[0m\u001b[0m\n\u001b[0m\u001b[1;32m    250\u001b[0m         \u001b[0mref\u001b[0m\u001b[0;34m=\u001b[0m\u001b[0mref\u001b[0m\u001b[0;34m[\u001b[0m\u001b[0;36m0\u001b[0m\u001b[0;34m]\u001b[0m\u001b[0;34m\u001b[0m\u001b[0m\n\u001b[1;32m    251\u001b[0m         \u001b[0;32mfor\u001b[0m \u001b[0mid\u001b[0m \u001b[0;32min\u001b[0m \u001b[0mto_get\u001b[0m\u001b[0;34m[\u001b[0m\u001b[0;36m1\u001b[0m\u001b[0;34m:\u001b[0m\u001b[0;34m]\u001b[0m\u001b[0;34m:\u001b[0m\u001b[0;34m\u001b[0m\u001b[0m\n",
      "\u001b[0;32m/home/genovese/binaries/1.8.4-genovese/install/lib/python2.7/site-packages/BigDFT/Datasets.pyc\u001b[0m in \u001b[0;36mfetch_results\u001b[0;34m(self, id, attribute, run_if_not_present)\u001b[0m\n\u001b[1;32m    212\u001b[0m             \u001b[0;32mif\u001b[0m \u001b[0mrun_if_not_present\u001b[0m \u001b[0;32mand\u001b[0m \u001b[0mirun\u001b[0m \u001b[0;32mnot\u001b[0m \u001b[0;32min\u001b[0m \u001b[0mself\u001b[0m\u001b[0;34m.\u001b[0m\u001b[0mresults\u001b[0m\u001b[0;34m:\u001b[0m \u001b[0mselection_to_run\u001b[0m\u001b[0;34m.\u001b[0m\u001b[0mappend\u001b[0m\u001b[0;34m(\u001b[0m\u001b[0mirun\u001b[0m\u001b[0;34m)\u001b[0m\u001b[0;34m\u001b[0m\u001b[0m\n\u001b[1;32m    213\u001b[0m             \u001b[0mfetch_indices\u001b[0m\u001b[0;34m.\u001b[0m\u001b[0mappend\u001b[0m\u001b[0;34m(\u001b[0m\u001b[0mirun\u001b[0m\u001b[0;34m)\u001b[0m\u001b[0;34m\u001b[0m\u001b[0m\n\u001b[0;32m--> 214\u001b[0;31m         \u001b[0;32mif\u001b[0m \u001b[0mlen\u001b[0m\u001b[0;34m(\u001b[0m\u001b[0mselection_to_run\u001b[0m\u001b[0;34m)\u001b[0m \u001b[0;34m>\u001b[0m \u001b[0;36m0\u001b[0m\u001b[0;34m:\u001b[0m \u001b[0mself\u001b[0m\u001b[0;34m.\u001b[0m\u001b[0m_run_the_calculations\u001b[0m\u001b[0;34m(\u001b[0m\u001b[0mselection\u001b[0m\u001b[0;34m=\u001b[0m\u001b[0mselection_to_run\u001b[0m\u001b[0;34m)\u001b[0m\u001b[0;34m\u001b[0m\u001b[0m\n\u001b[0m\u001b[1;32m    215\u001b[0m \u001b[0;34m\u001b[0m\u001b[0m\n\u001b[1;32m    216\u001b[0m         \u001b[0mdata\u001b[0m \u001b[0;34m=\u001b[0m \u001b[0;34m[\u001b[0m\u001b[0;34m]\u001b[0m\u001b[0;34m\u001b[0m\u001b[0m\n",
      "\u001b[0;32m/home/genovese/binaries/1.8.4-genovese/install/lib/python2.7/site-packages/BigDFT/Datasets.pyc\u001b[0m in \u001b[0;36m_run_the_calculations\u001b[0;34m(self, selection)\u001b[0m\n\u001b[1;32m    154\u001b[0m                 \u001b[0minp\u001b[0m \u001b[0;34m=\u001b[0m \u001b[0mself\u001b[0m\u001b[0;34m.\u001b[0m\u001b[0mruns\u001b[0m\u001b[0;34m[\u001b[0m\u001b[0mr\u001b[0m\u001b[0;34m]\u001b[0m\u001b[0;34m\u001b[0m\u001b[0m\n\u001b[1;32m    155\u001b[0m                 \u001b[0mname\u001b[0m \u001b[0;34m=\u001b[0m \u001b[0mself\u001b[0m\u001b[0;34m.\u001b[0m\u001b[0mnames\u001b[0m\u001b[0;34m[\u001b[0m\u001b[0mr\u001b[0m\u001b[0;34m]\u001b[0m\u001b[0;34m\u001b[0m\u001b[0m\n\u001b[0;32m--> 156\u001b[0;31m                 \u001b[0mself\u001b[0m\u001b[0;34m.\u001b[0m\u001b[0mresults\u001b[0m\u001b[0;34m[\u001b[0m\u001b[0mr\u001b[0m\u001b[0;34m]\u001b[0m \u001b[0;34m=\u001b[0m \u001b[0mcalc\u001b[0m\u001b[0;34m.\u001b[0m\u001b[0mrun\u001b[0m\u001b[0;34m(\u001b[0m\u001b[0mname\u001b[0m\u001b[0;34m=\u001b[0m\u001b[0mname\u001b[0m\u001b[0;34m,\u001b[0m \u001b[0;34m**\u001b[0m\u001b[0minp\u001b[0m\u001b[0;34m)\u001b[0m\u001b[0;34m\u001b[0m\u001b[0m\n\u001b[0m\u001b[1;32m    157\u001b[0m \u001b[0;34m\u001b[0m\u001b[0m\n\u001b[1;32m    158\u001b[0m     \u001b[0;32mdef\u001b[0m \u001b[0mset_postprocessing_function\u001b[0m\u001b[0;34m(\u001b[0m\u001b[0mself\u001b[0m\u001b[0;34m,\u001b[0m \u001b[0mfunc\u001b[0m\u001b[0;34m)\u001b[0m\u001b[0;34m:\u001b[0m\u001b[0;34m\u001b[0m\u001b[0m\n",
      "\u001b[0;32m/home/genovese/binaries/1.8.4-genovese/install/lib/python2.7/site-packages/BigDFT/Calculators.pyc\u001b[0m in \u001b[0;36mrun\u001b[0;34m(self, **kwargs)\u001b[0m\n\u001b[1;32m    182\u001b[0m         \u001b[0mdict_merge\u001b[0m\u001b[0;34m(\u001b[0m\u001b[0mdest\u001b[0m\u001b[0;34m=\u001b[0m\u001b[0mrun_args\u001b[0m\u001b[0;34m,\u001b[0m \u001b[0msrc\u001b[0m\u001b[0;34m=\u001b[0m\u001b[0mrun_results\u001b[0m\u001b[0;34m)\u001b[0m\u001b[0;34m\u001b[0m\u001b[0m\n\u001b[1;32m    183\u001b[0m         \u001b[0;31m#safe_print('run_updated, again',run_args)\u001b[0m\u001b[0;34m\u001b[0m\u001b[0;34m\u001b[0m\u001b[0m\n\u001b[0;32m--> 184\u001b[0;31m         \u001b[0;32mreturn\u001b[0m \u001b[0mself\u001b[0m\u001b[0;34m.\u001b[0m\u001b[0mpost_processing\u001b[0m\u001b[0;34m(\u001b[0m\u001b[0;34m**\u001b[0m\u001b[0mrun_args\u001b[0m\u001b[0;34m)\u001b[0m\u001b[0;34m\u001b[0m\u001b[0m\n\u001b[0m\u001b[1;32m    185\u001b[0m \u001b[0;34m\u001b[0m\u001b[0m\n\u001b[1;32m    186\u001b[0m     \u001b[0;32mdef\u001b[0m \u001b[0mpre_processing\u001b[0m\u001b[0;34m(\u001b[0m\u001b[0mself\u001b[0m\u001b[0;34m)\u001b[0m\u001b[0;34m:\u001b[0m\u001b[0;34m\u001b[0m\u001b[0m\n",
      "\u001b[0;32m/home/genovese/binaries/1.8.4-genovese/install/lib/python2.7/site-packages/BigDFT/Datasets.pyc\u001b[0m in \u001b[0;36mpost_processing\u001b[0;34m(self, **kwargs)\u001b[0m\n\u001b[1;32m    174\u001b[0m         \"\"\"\n\u001b[1;32m    175\u001b[0m         \u001b[0;32mif\u001b[0m \u001b[0mself\u001b[0m\u001b[0;34m.\u001b[0m\u001b[0m_post_processing_function\u001b[0m \u001b[0;32mis\u001b[0m \u001b[0;32mnot\u001b[0m \u001b[0mNone\u001b[0m\u001b[0;34m:\u001b[0m\u001b[0;34m\u001b[0m\u001b[0m\n\u001b[0;32m--> 176\u001b[0;31m             \u001b[0;32mreturn\u001b[0m \u001b[0mself\u001b[0m\u001b[0;34m.\u001b[0m\u001b[0m_post_processing_function\u001b[0m\u001b[0;34m(\u001b[0m\u001b[0mself\u001b[0m\u001b[0;34m)\u001b[0m\u001b[0;34m\u001b[0m\u001b[0m\n\u001b[0m\u001b[1;32m    177\u001b[0m         \u001b[0;32melse\u001b[0m\u001b[0;34m:\u001b[0m\u001b[0;34m\u001b[0m\u001b[0m\n\u001b[1;32m    178\u001b[0m             \u001b[0;32mreturn\u001b[0m \u001b[0mself\u001b[0m\u001b[0;34m.\u001b[0m\u001b[0mresults\u001b[0m\u001b[0;34m\u001b[0m\u001b[0m\n",
      "\u001b[0;32m../StatPol.py\u001b[0m in \u001b[0;36meval_alpha\u001b[0;34m(study)\u001b[0m\n",
      "\u001b[0;32m/home/genovese/binaries/1.8.4-genovese/install/lib/python2.7/site-packages/BigDFT/Datasets.pyc\u001b[0m in \u001b[0;36mfetch_results\u001b[0;34m(self, id, attribute, run_if_not_present)\u001b[0m\n\u001b[1;32m    217\u001b[0m         \u001b[0;32mfor\u001b[0m \u001b[0mirun\u001b[0m \u001b[0;32min\u001b[0m \u001b[0mfetch_indices\u001b[0m\u001b[0;34m:\u001b[0m\u001b[0;34m\u001b[0m\u001b[0m\n\u001b[1;32m    218\u001b[0m             \u001b[0mr\u001b[0m \u001b[0;34m=\u001b[0m \u001b[0mself\u001b[0m\u001b[0;34m.\u001b[0m\u001b[0mresults\u001b[0m\u001b[0;34m[\u001b[0m\u001b[0mirun\u001b[0m\u001b[0;34m]\u001b[0m\u001b[0;34m\u001b[0m\u001b[0m\n\u001b[0;32m--> 219\u001b[0;31m             \u001b[0mdata\u001b[0m\u001b[0;34m.\u001b[0m\u001b[0mappend\u001b[0m\u001b[0;34m(\u001b[0m\u001b[0mr\u001b[0m \u001b[0;32mif\u001b[0m \u001b[0mattribute\u001b[0m \u001b[0;32mis\u001b[0m \u001b[0mNone\u001b[0m \u001b[0;32melse\u001b[0m \u001b[0mgetattr\u001b[0m\u001b[0;34m(\u001b[0m\u001b[0mr\u001b[0m\u001b[0;34m,\u001b[0m \u001b[0mattribute\u001b[0m\u001b[0;34m)\u001b[0m\u001b[0;34m)\u001b[0m\u001b[0;34m\u001b[0m\u001b[0m\n\u001b[0m\u001b[1;32m    220\u001b[0m         \u001b[0;32mreturn\u001b[0m \u001b[0mdata\u001b[0m\u001b[0;34m\u001b[0m\u001b[0m\n\u001b[1;32m    221\u001b[0m \u001b[0;34m\u001b[0m\u001b[0m\n",
      "\u001b[0;31mAttributeError\u001b[0m: Logfile instance has no attribute 'dipole'"
     ]
    }
   ],
   "source": [
    "full_data={}\n",
    "for molecule in HG_data:\n",
    "    data=HG_data[molecule]\n",
    "    if data['spin_pol'] != 'nsp': continue\n",
    "    for xc in ['lda_pw','pbe','pbe0']:\n",
    "        psp = ['hgh_k'] if xc != 'pbe' else get_psp(molecule)\n",
    "        for p in psp:\n",
    "            print molecule,xc,p\n",
    "            gs_data=gs_study(molecule,(xc,p),code,options)\n",
    "            full_data[(molecule,xc,p)]=alpha_study(gs_data,code,options)\n",
    "            full_data[(molecule,xc,p)].update(gs_data)\n",
    "#molecule='CO'\n",
    "#study = ('pbe', 'nlcc_aw')\n",
    "#results=alpha_study(molecule,study,code,options)"
   ]
  },
  {
   "cell_type": "code",
   "execution_count": 47,
   "metadata": {},
   "outputs": [
    {
     "name": "stdout",
     "output_type": "stream",
     "text": [
      "Fetching results for id \" {'rmult': 4.0} \"\n",
      "Fetching results for id \" {'rmult': 5.0} \"\n",
      "Fetching results for id \" {'rmult': 6.0} \"\n",
      "Convergence reached in Dataset \"O2-pbe-nlcc_ss(GS)\" for id \" {'rmult': 5.0} \"\n",
      "Fetching results for id \" {'f': 0.01} \"\n",
      "Fetching results for id \" {'f': 0.005} \"\n",
      "Convergence reached in Dataset \"O2-pbe-nlcc_ss(field)\" for id \" {'f': 0.01} \"\n",
      "Fetching results for id \" {'rmult': 5.0, 'f': 0.01} \"\n",
      "Fetching results for id \" {'rmult': 6.0, 'f': 0.01} \"\n",
      "Fetching results for id \" {'rmult': 7.0, 'f': 0.01} \"\n",
      "Fetching results for id \" {'rmult': 8.0, 'f': 0.01} \"\n",
      "Convergence reached in Dataset \"O2-pbe-nlcc_ss(domain)\" for id \" {'rmult': 7.0, 'f': 0.01} \"\n",
      "('Relative difference in %', [-0.2735657855144162, -0.2735657855144162, 0.23368186274972824])\n"
     ]
    }
   ],
   "source": [
    "dd=gs_study('O2',('pbe','nlcc_ss'),code,options)\n",
    "tt=alpha_study(dd,code,options)"
   ]
  },
  {
   "cell_type": "code",
   "execution_count": 26,
   "metadata": {},
   "outputs": [
    {
     "name": "stdout",
     "output_type": "stream",
     "text": [
      "Fetching results for id \" {'rmult': 6.0} \"\n",
      "Convergence reached in Dataset \"CO-lda_pw-hgh_k(GS)\" for id \" {'rmult': 5.0}\n",
      "Fetching results for id \" {'f': 0.005} \"\n",
      "Convergence reached in Dataset \"CO-lda_pw-hgh_k(field)\" for id \" {'f': 0.01}\n",
      "Fetching results for id \" {'rmult': 6.0, 'f': 0.01} \"\n",
      "Fetching results for id \" {'rmult': 7.0, 'f': 0.01} \"\n",
      "Convergence reached in Dataset \"CO-lda_pw-hgh_k(domain)\" for id \" {'rmult': 6.0, 'f': 0.01}\n",
      "('Relative difference in %', [-0.04292247676812145, -0.04292247676812145, -0.3758471694941252])\n"
     ]
    }
   ],
   "source": [
    "tt=alpha_study('CO',('lda_pw','hgh_k'),code,{'wf_convergence':1.e-6,'hgrids':0.3,'rmult_fine':9.0,'rtol':1.e-2,'atol':1.e-3, 'crmult':5.0,'reference_data':HG_data})"
   ]
  },
  {
   "cell_type": "code",
   "execution_count": 41,
   "metadata": {},
   "outputs": [],
   "source": [
    "dd=HG_data['O2']"
   ]
  },
  {
   "cell_type": "code",
   "execution_count": null,
   "metadata": {},
   "outputs": [],
   "source": []
  }
 ],
 "metadata": {
  "kernelspec": {
   "display_name": "Python 2",
   "language": "python",
   "name": "python2"
  },
  "language_info": {
   "codemirror_mode": {
    "name": "ipython",
    "version": 2
   },
   "file_extension": ".py",
   "mimetype": "text/x-python",
   "name": "python",
   "nbconvert_exporter": "python",
   "pygments_lexer": "ipython2",
   "version": "2.7.15rc1"
  }
 },
 "nbformat": 4,
 "nbformat_minor": 2
}
