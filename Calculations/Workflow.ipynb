{
 "cells": [
  {
   "cell_type": "code",
   "execution_count": 1,
   "metadata": {},
   "outputs": [
    {
     "data": {
      "text/plain": [
       "'/home/dalessandro/work/Statical_polarizability/Calculations'"
      ]
     },
     "execution_count": 1,
     "metadata": {},
     "output_type": "execute_result"
    }
   ],
   "source": [
    "from BigDFT import Datasets as D, Calculators as C, Inputfiles as I, Logfiles as lf\n",
    "from BigDFT.Database import Molecules\n",
    "import sys,os\n",
    "sys.path.insert(0,'../')\n",
    "import StatPol as SP\n",
    "\n",
    "basepath = os.getcwd()\n",
    "basepath"
   ]
  },
  {
   "cell_type": "code",
   "execution_count": 2,
   "metadata": {},
   "outputs": [],
   "source": [
    "omp = 1\n",
    "mpi_run = 'mpirun -np 16'"
   ]
  },
  {
   "cell_type": "markdown",
   "metadata": {},
   "source": [
    "# Workflow"
   ]
  },
  {
   "cell_type": "markdown",
   "metadata": {},
   "source": [
    "This notebook contains the complete workflow to extract the statical polarizability of the HG dataset."
   ]
  },
  {
   "cell_type": "markdown",
   "metadata": {},
   "source": [
    "## Construction of the relevant tools"
   ]
  },
  {
   "cell_type": "markdown",
   "metadata": {},
   "source": [
    "Define the functions needed to perform the workflow"
   ]
  },
  {
   "cell_type": "code",
   "execution_count": 3,
   "metadata": {},
   "outputs": [],
   "source": [
    "# Service functions \n",
    "\n",
    "def change_workdir(molecule,study,datadir):\n",
    "    \"\"\"\n",
    "    Ensure that the path Data_directory/molecule exists and\n",
    "    move there. \n",
    "    \"\"\"\n",
    "    from futile.Utils import ensure_dir\n",
    "    for d in [datadir,molecule]:\n",
    "        ensure_dir(d)\n",
    "        os.chdir(d)\n",
    "    path='-'.join(study)\n",
    "    ensure_dir(path)\n",
    "    return '-'.join([molecule,path]),path\n",
    "\n",
    "def get_psp(molecule):\n",
    "    \"\"\"\n",
    "    Check if the all the atoms of molecule have the psp of the type nlss_aw and nlcc_ss. \n",
    "    If it is true the corresponding pseudo is added to the list of psp to be performed, otherwise \n",
    "    only hgh_k is included.\n",
    "    \"\"\"\n",
    "    from os import path as p\n",
    "    import Routines as R\n",
    "    possible_psp=['nlcc_aw','nlcc_ss']\n",
    "    to_do=[True,True]\n",
    "    for at in R.get_atoms(molecule):\n",
    "        psp_available = [p.isfile(p.join('psp_'+psp,'psppar.'+at)) for psp in possible_psp]\n",
    "        to_do = [ a and b for a,b in zip(to_do,psp_available)]\n",
    "    return ['hgh_k'] + [psp for yes,psp in zip(to_do,possible_psp) if yes]\n",
    "\n",
    "def split_dataset(dataset,length=10):\n",
    "    \"\"\"\n",
    "    Split a list of molecules into a list of list with length elements. \n",
    "    \"\"\"\n",
    "    splitted = [[] for num in range(int(len(dataset)/length)+1)]\n",
    "    for ind,mol in enumerate(dataset):\n",
    "        splitted[int(ind/length)].append(mol)\n",
    "    return splitted"
   ]
  },
  {
   "cell_type": "code",
   "execution_count": 4,
   "metadata": {},
   "outputs": [],
   "source": [
    "# Tools for the ground state\n",
    "\n",
    "def get_converged_input_energy(dataset,rtol,atol):\n",
    "    data=dataset.seek_convergence(atol=atol,rtol=rtol,attribute='energy')\n",
    "    return dataset.runs[dataset.names.index(D.name_from_id(data[0]))]['input'],data[1]\n",
    "\n",
    "def find_gs_domain(label,rtol,atol,path,input,posinp,code):\n",
    "    \"\"\"\n",
    "    Use the seek_convergence method of Dataset to perform a convergence procedure on\n",
    "    the rmult value for a gs computation.\n",
    "    \"\"\"\n",
    "    crmult=input['dft']['rmult'][0]\n",
    "    rmult_fine=input['dft']['rmult'][1]\n",
    "    rmult_list=map(float,range(int(crmult),11))\n",
    "    seek_for_rmult = D.Dataset(label=label+'(GS)',run_dir=path,posinp=posinp)\n",
    "    for rm in rmult_list:\n",
    "        input.set_rmult(coarse=rm,fine=rmult_fine)\n",
    "        seek_for_rmult.append_run(id={'rmult':rm},runner=code,input=input)\n",
    "    input_gs,log_gs=get_converged_input_energy(seek_for_rmult,rtol,atol)\n",
    "    return {'input_gs':input_gs, 'dataset_gs': seek_for_rmult,'log_gs':log_gs}\n",
    "\n",
    "def gs_study(molecule,study,code,options):\n",
    "    \"\"\"\"\n",
    "    Workflow for the convergence analysis of the ground state.\n",
    "    \n",
    "    Args : \n",
    "       molecule (str) : name of the molecule\n",
    "       study (touple) : the couple (xc,psp)\n",
    "       code (runner)  : instance of SystemCalculator\n",
    "       options (dict) : dictionary with the computational options\n",
    "    \"\"\"\n",
    "    import Routines as R\n",
    "    hgrids=options.get('hgrids')\n",
    "    rmult_fine=options.get('rmult_fine')\n",
    "    wf_convergence=options.get('wf_convergence')\n",
    "    crmult_start=options.get('crmult',4.0)\n",
    "    rtol=options.get('rtol_gs',10*wf_convergence)\n",
    "    atol=options.get('atol_gs',1.e-3)\n",
    "    reference_results=options.get('reference_data')\n",
    "    datadir=options.get('data_directory','Data')\n",
    "\n",
    "    initial_dir=os.path.abspath(os.path.dirname('.'))\n",
    "    label,path=change_workdir(molecule,study,datadir)\n",
    "    \n",
    "    posinp=Molecules.Molecule(molecule)\n",
    "    \n",
    "    inp = I.Inputfile()\n",
    "    inp.set_hgrid(hgrids)\n",
    "    inp.set_rmult(coarse=crmult_start,fine=rmult_fine)\n",
    "    R.set_xc[study](inp,molecule,datadir)\n",
    "    inp.set_wavefunction_convergence(wf_convergence)\n",
    "    mpol=int(reference_results[molecule]['mpol_ref'])-1   \n",
    "    if mpol >0: inp.spin_polarize(mpol)\n",
    "    data= find_gs_domain(label,10*wf_convergence,atol,path,inp,posinp,code)\n",
    "    os.chdir(initial_dir)\n",
    "    \n",
    "    data['molecule']=molecule\n",
    "    data['posinp']=posinp\n",
    "    data['study']=study\n",
    "    return data "
   ]
  },
  {
   "cell_type": "code",
   "execution_count": 5,
   "metadata": {},
   "outputs": [],
   "source": [
    "# Tools for alpha\n",
    "def extract_statical_polarizability(label,rtol,atol,path,input_for_alpha,posinp,code,ref,single_field):\n",
    "    \n",
    "    # seek for the field convergence\n",
    "    if single_field is not None:\n",
    "        print 'Use field intensity : ' +str(single_field)\n",
    "        intensity=single_field\n",
    "        alpha_field=None \n",
    "    else:\n",
    "        ints=[1e-2,5e-3,1e-3,5e-4,1e-4]\n",
    "        alpha_field=D.Dataset(label=label+'(field)',run_dir=path)\n",
    "        for f in ints:\n",
    "            alpha_field.append_run(id={'f':f},runner=SP.build_alpha_dataset(input=input_for_alpha,posinp=posinp,run_dir=path,runner=code,intensity=f))\n",
    "        try:\n",
    "            data_field=alpha_field.seek_convergence(rtol=rtol,atol=atol)\n",
    "            intensity=data_field[0]['f']\n",
    "        except:\n",
    "            print ('Convergence in field not reached')\n",
    "            intensity=ints[-1]\n",
    "    \n",
    "    # seek for the rmult convergence\n",
    "    rmult_fine=input_for_alpha['dft']['rmult'][1]\n",
    "    rmult_list=map(float,range(int(input_for_alpha['dft']['rmult'][0]),13)) #enlarged for seeking convergence in some molecules\n",
    "    alpha_rmult=D.Dataset(label=label+'(domain)',run_dir=path)\n",
    "    for rm in rmult_list:\n",
    "        input_for_alpha.set_rmult(coarse=rm,fine=rmult_fine)\n",
    "        alpha_rmult.append_run(id={'f':intensity,'rmult':rm},runner=SP.build_alpha_dataset(input=input_for_alpha,posinp=posinp,run_dir=path,runner=code,intensity=intensity))\n",
    "    try:\n",
    "        import numpy as np\n",
    "        data_final=alpha_rmult.seek_convergence(rtol=rtol,atol=atol)\n",
    "        AuToA = 0.5291772085**3\n",
    "        alpha_ref_ii = np.array(ref)/AuToA\n",
    "        eps = 100.0 * (data_final[1]-alpha_ref_ii)/alpha_ref_ii\n",
    "        print ('Relative difference in %',eps.tolist())\n",
    "    except LookupError as e:\n",
    "        print ('Convergence in domain not reached',e)\n",
    "        data_final=None\n",
    "    return {'alpha_convergence': data_final, 'dataset_field': alpha_field, 'dataset_rmult': alpha_rmult}\n",
    "\n",
    "def alpha_study(gs_data,code,options,single_field=None):\n",
    "    \"\"\"\"\n",
    "    Workflow for the convergence analysis for the computation of alpha.\n",
    "    \n",
    "    Args : \n",
    "       gs_data        : output of gs_study\n",
    "       code (runner)  : instance of SystemCalculator\n",
    "       options (dict) : dictionary with the computational options\n",
    "    \"\"\"\n",
    "    import copy\n",
    "    xc_conversion={'lda_pw': 'lda-SPW92', 'pbe': 'pbe', 'pbe0': 'pbe0'}\n",
    "    rtol=options.get('rtol',1.e-2)\n",
    "    atol=options.get('atol',1.e-3)\n",
    "    reference_results=options.get('reference_data')\n",
    "    datadir=options.get('data_directory','Data')\n",
    "    study=gs_data['study']\n",
    "    molecule=gs_data['molecule']\n",
    "    posinp=gs_data['posinp']\n",
    "    xc=study[0]\n",
    "    ref_data=reference_results[molecule][xc_conversion[xc]]\n",
    "    \n",
    "    initial_dir=os.path.abspath(os.path.dirname('.'))\n",
    "    label,path=change_workdir(molecule,study,datadir)\n",
    "    input_gs=copy.deepcopy(gs_data['input_gs'])\n",
    "        \n",
    "    data=extract_statical_polarizability(label,rtol,atol,path,input_gs,posinp,code,ref=ref_data,single_field=single_field)\n",
    "    os.chdir(initial_dir)\n",
    "    \n",
    "    return data"
   ]
  },
  {
   "cell_type": "code",
   "execution_count": 6,
   "metadata": {},
   "outputs": [],
   "source": [
    "def data_to_save(data,options):\n",
    "    \"\"\"\n",
    "    Define the dictionary to be saved on file for data analysis\n",
    "    \"\"\"\n",
    "    from copy import deepcopy\n",
    "    res = {}\n",
    "    for s,values in data.iteritems():\n",
    "        res[s] = {}\n",
    "        if not (values['alpha_convergence'] is None):\n",
    "            res[s]['alpha_convergence'] = (values['alpha_convergence'][0],values['alpha_convergence'][1].tolist())\n",
    "        else : \n",
    "            res[s]['alpha_convergence'] = values['alpha_convergence']\n",
    "        \n",
    "        res[s]['posinp'] = {}\n",
    "        pos = values['posinp']\n",
    "        for key in pos:\n",
    "            res[s]['posinp'][key] = pos[key]\n",
    "        \n",
    "        res[s]['input_gs'] = {}\n",
    "        inp = values['input_gs']\n",
    "        for key in inp:\n",
    "            res[s]['input_gs'][key] = inp[key]\n",
    "        \n",
    "    save_options = deepcopy(options)\n",
    "    save_options.pop('reference_data')\n",
    "    res['options'] = save_options\n",
    "    return res"
   ]
  },
  {
   "cell_type": "markdown",
   "metadata": {},
   "source": [
    "## Single study analysis"
   ]
  },
  {
   "cell_type": "markdown",
   "metadata": {},
   "source": [
    "Build the dataset using the HG data written in hg_data.yaml. To each molecule of the dataset associate a set of studies=(xc,psp)"
   ]
  },
  {
   "cell_type": "code",
   "execution_count": 29,
   "metadata": {},
   "outputs": [],
   "source": [
    "import yaml\n",
    "HG_data=yaml.load(open('../HG Dataset/hg_data.yaml'))"
   ]
  },
  {
   "cell_type": "code",
   "execution_count": 30,
   "metadata": {},
   "outputs": [
    {
     "name": "stdout",
     "output_type": "stream",
     "text": [
      "Initialize a Calculator with OMP_NUM_THREADS=2 and command mpirun -np 16 /home/dalessandro/Applications/BigDFT/binaries/v1.8.4/install/bin/bigdft\n"
     ]
    }
   ],
   "source": [
    "code=C.SystemCalculator(omp=omp,mpi_run=mpi_run,skip=True,verbose=False)"
   ]
  },
  {
   "cell_type": "code",
   "execution_count": 31,
   "metadata": {},
   "outputs": [],
   "source": [
    "options={'wf_convergence':1.e-6,'hgrids':0.3,'rmult_fine':9.0,'rtol':1.e-3,'atol':1.e-3,\\\n",
    "         'reference_data':HG_data,'data_directory':'Data'}"
   ]
  },
  {
   "cell_type": "markdown",
   "metadata": {},
   "source": [
    "We can perform a single study with this workflow"
   ]
  },
  {
   "cell_type": "code",
   "execution_count": 32,
   "metadata": {},
   "outputs": [],
   "source": [
    "molecule = 'C2H'\n",
    "xc = 'pbe'\n",
    "psp = 'hgh_k'\n",
    "study_data = {}"
   ]
  },
  {
   "cell_type": "code",
   "execution_count": 33,
   "metadata": {},
   "outputs": [
    {
     "name": "stdout",
     "output_type": "stream",
     "text": [
      "Fetching results for id \" {'rmult': 4.0} \"\n",
      "Fetching results for id \" {'rmult': 5.0} \"\n",
      "Fetching results for id \" {'rmult': 6.0} \"\n",
      "Convergence reached in Dataset \"C2H-pbe-hgh_k(GS)\" for id \" {'rmult': 5.0} \"\n"
     ]
    }
   ],
   "source": [
    "gs_data=gs_study(molecule,(xc,psp),code,options)"
   ]
  },
  {
   "cell_type": "code",
   "execution_count": 34,
   "metadata": {},
   "outputs": [
    {
     "data": {
      "text/plain": [
       "{'dataset_gs': <BigDFT.Datasets.Dataset instance at 0x7fecfa38f908>,\n",
       " 'input_gs': {'dft': {'gnrm_cv': 1e-06,\n",
       "   'hgrids': 0.3,\n",
       "   'ixc': 11,\n",
       "   'mpol': 1,\n",
       "   'nspin': 2,\n",
       "   'rmult': [5.0, 9.0]}},\n",
       " 'log_gs': <BigDFT.Logfiles.Logfile instance at 0x7fecf5a7f950>,\n",
       " 'molecule': 'C2H',\n",
       " 'posinp': {'positions': [{'C': [0.0, 0.0, 0.0], 'frag': ['molecule', '0']},\n",
       "   {'C': [0.0, 0.0, -1.2165], 'frag': ['molecule', '0']},\n",
       "   {'H': [0.0, 0.0, 1.0465], 'frag': ['molecule', '0']}],\n",
       "  'units': 'angstroem'},\n",
       " 'study': ('pbe', 'hgh_k')}"
      ]
     },
     "execution_count": 34,
     "metadata": {},
     "output_type": "execute_result"
    }
   ],
   "source": [
    "gs_data"
   ]
  },
  {
   "cell_type": "code",
   "execution_count": 35,
   "metadata": {},
   "outputs": [],
   "source": [
    "s_f = 0.0005"
   ]
  },
  {
   "cell_type": "code",
   "execution_count": 36,
   "metadata": {
    "scrolled": true
   },
   "outputs": [
    {
     "name": "stdout",
     "output_type": "stream",
     "text": [
      "Use field intensity : 0.0005\n",
      "Fetching results for id \" {'rmult': 5.0, 'f': 0.0005} \"\n",
      "Fetching results for id \" {'rmult': 6.0, 'f': 0.0005} \"\n",
      "Fetching results for id \" {'rmult': 7.0, 'f': 0.0005} \"\n",
      "Fetching results for id \" {'rmult': 8.0, 'f': 0.0005} \"\n",
      "Fetching results for id \" {'rmult': 9.0, 'f': 0.0005} \"\n",
      "Fetching results for id \" {'rmult': 10.0, 'f': 0.0005} \"\n",
      "Fetching results for id \" {'rmult': 11.0, 'f': 0.0005} \"\n",
      "Fetching results for id \" {'rmult': 12.0, 'f': 0.0005} \"\n",
      "('Convergence in domain not reached', LookupError('Convergence not reached, enlarge the dataset or change tolerance values',))\n"
     ]
    }
   ],
   "source": [
    "study_data[(molecule,xc,psp)]=alpha_study(gs_data,code,options,single_field=s_f)\n",
    "study_data[(molecule,xc,psp)].update(gs_data)"
   ]
  },
  {
   "cell_type": "code",
   "execution_count": 37,
   "metadata": {},
   "outputs": [
    {
     "data": {
      "text/plain": [
       "{('C2H', 'pbe', 'hgh_k'): {'alpha_convergence': None,\n",
       "  'dataset_field': None,\n",
       "  'dataset_gs': <BigDFT.Datasets.Dataset instance at 0x7fecfa38f908>,\n",
       "  'dataset_rmult': <BigDFT.Datasets.Dataset instance at 0x7fecf8492830>,\n",
       "  'input_gs': {'dft': {'gnrm_cv': 1e-06,\n",
       "    'hgrids': 0.3,\n",
       "    'ixc': 11,\n",
       "    'mpol': 1,\n",
       "    'nspin': 2,\n",
       "    'rmult': [5.0, 9.0]}},\n",
       "  'log_gs': <BigDFT.Logfiles.Logfile instance at 0x7fecf5a7f950>,\n",
       "  'molecule': 'C2H',\n",
       "  'posinp': {'positions': [{'C': [0.0, 0.0, 0.0], 'frag': ['molecule', '0']},\n",
       "    {'C': [0.0, 0.0, -1.2165], 'frag': ['molecule', '0']},\n",
       "    {'H': [0.0, 0.0, 1.0465], 'frag': ['molecule', '0']}],\n",
       "   'units': 'angstroem'},\n",
       "  'study': ('pbe', 'hgh_k')}}"
      ]
     },
     "execution_count": 37,
     "metadata": {},
     "output_type": "execute_result"
    }
   ],
   "source": [
    "study_data"
   ]
  },
  {
   "cell_type": "code",
   "execution_count": 38,
   "metadata": {},
   "outputs": [
    {
     "data": {
      "text/plain": [
       "{0: array([24.73516, 24.73516, 27.5758 ]),\n",
       " 1: array([24.95816, 24.95816, 27.8219 ]),\n",
       " 2: array([25.85046, 25.85046, 27.8672 ]),\n",
       " 3: array([25.14882, 25.14882, 27.8727 ]),\n",
       " 4: array([25.33919, 25.33919, 27.8771 ]),\n",
       " 5: array([25.39615, 25.39615, 27.8762 ]),\n",
       " 6: array([25.12342, 25.12342, 27.8769 ]),\n",
       " 7: array([25.85049, 25.85049, 27.877  ])}"
      ]
     },
     "execution_count": 38,
     "metadata": {},
     "output_type": "execute_result"
    }
   ],
   "source": [
    "data_rmult = study_data['C2H','pbe','hgh_k']['dataset_rmult']\n",
    "data_rmult.results"
   ]
  },
  {
   "cell_type": "markdown",
   "metadata": {},
   "source": [
    "To check if convergence has been reached we can look at 'alpha_convergence'. \n",
    "\n",
    "If the value of 'f' is the last value of the field intensity list provided in the extract_statical_polarizability function, then the field convergence has not been reached. Moreover, if 'alpha_convergence' is None the rmult convergence on alpha has failed. "
   ]
  },
  {
   "cell_type": "code",
   "execution_count": 16,
   "metadata": {},
   "outputs": [
    {
     "data": {
      "text/plain": [
       "{'options': {'atol': 0.001,\n",
       "  'data_directory': 'Data',\n",
       "  'hgrids': 0.3,\n",
       "  'rmult_fine': 9.0,\n",
       "  'rtol': 0.001,\n",
       "  'wf_convergence': 1e-06},\n",
       " ('CO',\n",
       "  'pbe',\n",
       "  'nlcc_aw'): {'alpha_convergence': ({'f': 0.005, 'rmult': 7.0},\n",
       "   [12.540765999999998,\n",
       "    12.540765999999998,\n",
       "    15.889695000000001]), 'input_gs': {'dft': {'gnrm_cv': 1e-06,\n",
       "    'hgrids': 0.3,\n",
       "    'ixc': 11,\n",
       "    'rmult': [5.0, 9.0]}}, 'posinp': {'positions': [{'C': [0.0, 0.0, 0.0],\n",
       "     'frag': ['molecule', '0']},\n",
       "    {'O': [0.0, 0.0, 1.1282], 'frag': ['molecule', '0']}],\n",
       "   'units': 'angstroem'}}}"
      ]
     },
     "execution_count": 16,
     "metadata": {},
     "output_type": "execute_result"
    }
   ],
   "source": [
    "data_to_save(study_data,options)"
   ]
  },
  {
   "cell_type": "markdown",
   "metadata": {},
   "source": [
    "## Dataset analysis"
   ]
  },
  {
   "cell_type": "markdown",
   "metadata": {},
   "source": [
    "In the same way we can run the whole dataset (or a part of it). The results of the dataset (processed by data_to_save) are stored in the full_data dictionary. This dictionary can be dumped in a Yaml file and updated with new computatitions so that the complete dataset can be runned in more than one step. "
   ]
  },
  {
   "cell_type": "code",
   "execution_count": 7,
   "metadata": {},
   "outputs": [],
   "source": [
    "import yaml\n",
    "HG_data=yaml.load(open('../HG Dataset/hg_data.yaml'))\n",
    "# set the study for H to sp\n",
    "HG_data['H']['spin_pol'] = 'sp'"
   ]
  },
  {
   "cell_type": "code",
   "execution_count": 8,
   "metadata": {},
   "outputs": [],
   "source": [
    "# for computational reason it can be useful to split the complete dataset into the sp and the nsp ones.\n",
    "# Moreover, each dataset can be divided into groups. \n",
    "sp_dataset = []\n",
    "nsp_dataset = []\n",
    "for mol in HG_data:\n",
    "    if HG_data[mol]['spin_pol'] == 'nsp': \n",
    "        nsp_dataset.append(mol)\n",
    "    else : \n",
    "        sp_dataset.append(mol)\n",
    "\n",
    "# remove Li2 because the gs calculation does not converge with the\n",
    "# actual range of parameters\n",
    "ind =  sp_dataset.index('Li2')\n",
    "del sp_dataset[ind]\n",
    "\n",
    "sp_dataset.sort()\n",
    "nsp_dataset.sort()\n",
    "sp_split = split_dataset(sp_dataset)\n",
    "nsp_split = split_dataset(nsp_dataset)"
   ]
  },
  {
   "cell_type": "code",
   "execution_count": 9,
   "metadata": {},
   "outputs": [
    {
     "name": "stdout",
     "output_type": "stream",
     "text": [
      "74\n",
      "57\n"
     ]
    }
   ],
   "source": [
    "print len(nsp_dataset)\n",
    "print len(sp_dataset)"
   ]
  },
  {
   "cell_type": "code",
   "execution_count": 10,
   "metadata": {},
   "outputs": [
    {
     "data": {
      "text/plain": [
       "[['BH2', 'BN', 'BO', 'BS', 'Be', 'BeH', 'C2H', 'C2H3', 'CH2-t', 'CH2F'],\n",
       " ['CH2NH', 'CH2PH', 'CH3', 'CH3O', 'CN', 'F2', 'FCO', 'FH-OH', 'H', 'H2CN'],\n",
       " ['H2O-Li', 'HCHS', 'HCO', 'HCP', 'HNO', 'HNS', 'HO2', 'HOF', 'Li', 'N'],\n",
       " ['N2H2', 'NCO', 'NH', 'NH2', 'NO', 'NOCl', 'NP', 'Na', 'Na2', 'NaLi'],\n",
       " ['O2', 'O3', 'OCl', 'OF', 'OF2', 'OH', 'P', 'P2', 'PH', 'PH2'],\n",
       " ['PS', 'S2', 'SCl', 'SF', 'SH', 'SO-trip', 'SiH3']]"
      ]
     },
     "execution_count": 10,
     "metadata": {},
     "output_type": "execute_result"
    }
   ],
   "source": [
    "sp_split"
   ]
  },
  {
   "cell_type": "markdown",
   "metadata": {},
   "source": [
    "We also build a complete dataset that can be run to write all the results on file"
   ]
  },
  {
   "cell_type": "code",
   "execution_count": 11,
   "metadata": {},
   "outputs": [],
   "source": [
    "full_dataset = []\n",
    "for mol in HG_data:\n",
    "        full_dataset.append(mol)\n",
    "# remove Li2 because the gs calculation does not converge with the\n",
    "# actual range of parameters\n",
    "ind =  full_dataset.index('Li2')\n",
    "del full_dataset[ind]\n",
    "full_dataset.sort()"
   ]
  },
  {
   "cell_type": "code",
   "execution_count": 12,
   "metadata": {},
   "outputs": [
    {
     "data": {
      "text/plain": [
       "131"
      ]
     },
     "execution_count": 12,
     "metadata": {},
     "output_type": "execute_result"
    }
   ],
   "source": [
    "len(full_dataset)"
   ]
  },
  {
   "cell_type": "code",
   "execution_count": 13,
   "metadata": {},
   "outputs": [],
   "source": [
    "# check if some molecule folder is missing in Data\n",
    "for mol in full_dataset:\n",
    "    d = os.path.join('Data',mol)\n",
    "    if not os.path.isdir(d):\n",
    "        print mol"
   ]
  },
  {
   "cell_type": "code",
   "execution_count": 14,
   "metadata": {},
   "outputs": [],
   "source": [
    "full_dataset_split = split_dataset(full_dataset)"
   ]
  },
  {
   "cell_type": "code",
   "execution_count": 15,
   "metadata": {},
   "outputs": [
    {
     "name": "stdout",
     "output_type": "stream",
     "text": [
      "['AlF', 'Ar', 'BF', 'BH2', 'BH2Cl', 'BH2F', 'BH3', 'BHF2', 'BN', 'BO']\n",
      "['BS', 'Be', 'BeH', 'BeH2', 'C2H', 'C2H2', 'C2H3', 'C2H4', 'CH2-t', 'CH2BH']\n",
      "['CH2F', 'CH2NH', 'CH2PH', 'CH3', 'CH3BH2', 'CH3Cl', 'CH3F', 'CH3NH2', 'CH3O', 'CH3OH']\n",
      "['CH3SH', 'CH4', 'CN', 'CO', 'CO2', 'CS', 'CSO', 'Cl2', 'ClCN', 'ClF']\n",
      "['F2', 'FCN', 'FCO', 'FH-OH', 'FNO', 'H', 'H2', 'H2CN', 'H2O', 'H2O-Li']\n",
      "['HBO', 'HBS', 'HCCCl', 'HCCF', 'HCHO', 'HCHS', 'HCN', 'HCO', 'HCONH2', 'HCOOH']\n",
      "['HCP', 'HCl', 'HF', 'HNC', 'HNO', 'HNS', 'HO2', 'HOCl', 'HOF', 'HOOH']\n",
      "['He', 'Li', 'LiBH4', 'LiCN', 'LiCl', 'LiH', 'Mg', 'Mg2', 'N', 'N2']\n",
      "['N2H2', 'N2H4', 'NCO', 'NH', 'NH2', 'NH2Cl', 'NH2F', 'NH2OH', 'NH3', 'NH3O']\n",
      "['NO', 'NOCl', 'NP', 'Na', 'Na2', 'NaCN', 'NaCl', 'NaH', 'NaLi', 'Ne']\n",
      "['O2', 'O3', 'OCl', 'OCl2', 'OF', 'OF2', 'OH', 'P', 'P2', 'P2H4']\n",
      "['PH', 'PH2', 'PH2OH', 'PH3', 'PH3O', 'PS', 'S2', 'S2H2', 'SCl', 'SCl2']\n",
      "['SF', 'SF2', 'SH', 'SH2', 'SO-trip', 'SO2', 'SiH3', 'SiH3Cl', 'SiH3F', 'SiH4']\n",
      "['SiO']\n"
     ]
    }
   ],
   "source": [
    "for sets in full_dataset_split:\n",
    "    print sets"
   ]
  },
  {
   "cell_type": "markdown",
   "metadata": {},
   "source": [
    "We build a list with the molecules that, according to the Data analysis are not converged due to rmult in the alpha convergence. For these molecules we repeat the calculation rasing the highest rmult value to 12"
   ]
  },
  {
   "cell_type": "code",
   "execution_count": 16,
   "metadata": {},
   "outputs": [],
   "source": [
    "mol_high_rmult = ['BeH','OH','C2H','CH3O','H2O-Li','FH-OH']"
   ]
  },
  {
   "cell_type": "markdown",
   "metadata": {},
   "source": [
    "Run the dataset"
   ]
  },
  {
   "cell_type": "code",
   "execution_count": 39,
   "metadata": {},
   "outputs": [],
   "source": [
    "options={'wf_convergence':1.e-6,'hgrids':0.3,'rmult_fine':9.0,'rtol':1.e-3,'atol':1.e-3,\\\n",
    "         'reference_data':HG_data,'data_directory':'Data'}"
   ]
  },
  {
   "cell_type": "code",
   "execution_count": 40,
   "metadata": {},
   "outputs": [
    {
     "name": "stdout",
     "output_type": "stream",
     "text": [
      "Initialize a Calculator with OMP_NUM_THREADS=2 and command mpirun -np 16 /home/dalessandro/Applications/BigDFT/binaries/v1.8.4/install/bin/bigdft\n"
     ]
    }
   ],
   "source": [
    "code=C.SystemCalculator(omp=omp,mpi_run=mpi_run,skip=True,verbose=False)"
   ]
  },
  {
   "cell_type": "code",
   "execution_count": 41,
   "metadata": {},
   "outputs": [],
   "source": [
    "# standard value used to perform the field convergence procedure\n",
    "s_f = None\n",
    "# used for BN,OH,PS,FH-OH\n",
    "#s_f = 0.001"
   ]
  },
  {
   "cell_type": "code",
   "execution_count": 42,
   "metadata": {
    "scrolled": false
   },
   "outputs": [
    {
     "name": "stdout",
     "output_type": "stream",
     "text": [
      "\n",
      "CH3O lda_pw hgh_k\n",
      "Fetching results for id \" {'rmult': 4.0} \"\n",
      "Fetching results for id \" {'rmult': 5.0} \"\n",
      "Fetching results for id \" {'rmult': 6.0} \"\n",
      "Convergence reached in Dataset \"CH3O-lda_pw-hgh_k(GS)\" for id \" {'rmult': 5.0} \"\n",
      "Fetching results for id \" {'f': 0.01} \"\n",
      "Fetching results for id \" {'f': 0.005} \"\n",
      "Fetching results for id \" {'f': 0.001} \"\n",
      "Fetching results for id \" {'f': 0.0005} \"\n",
      "Fetching results for id \" {'f': 0.0001} \"\n",
      "Convergence in field not reached\n",
      "Fetching results for id \" {'rmult': 5.0, 'f': 0.0001} \"\n",
      "Fetching results for id \" {'rmult': 6.0, 'f': 0.0001} \"\n",
      "Fetching results for id \" {'rmult': 7.0, 'f': 0.0001} \"\n",
      "Fetching results for id \" {'rmult': 8.0, 'f': 0.0001} \"\n",
      "Fetching results for id \" {'rmult': 9.0, 'f': 0.0001} \"\n",
      "Fetching results for id \" {'rmult': 10.0, 'f': 0.0001} \"\n",
      "Fetching results for id \" {'rmult': 11.0, 'f': 0.0001} \"\n",
      "Fetching results for id \" {'rmult': 12.0, 'f': 0.0001} \"\n",
      "('Convergence in domain not reached', LookupError('Convergence not reached, enlarge the dataset or change tolerance values',))\n",
      "\n",
      "CH3O pbe hgh_k\n",
      "Fetching results for id \" {'rmult': 4.0} \"\n",
      "Fetching results for id \" {'rmult': 5.0} \"\n",
      "Fetching results for id \" {'rmult': 6.0} \"\n",
      "Convergence reached in Dataset \"CH3O-pbe-hgh_k(GS)\" for id \" {'rmult': 5.0} \"\n",
      "Fetching results for id \" {'f': 0.01} \"\n",
      "Fetching results for id \" {'f': 0.005} \"\n",
      "Fetching results for id \" {'f': 0.001} \"\n",
      "Fetching results for id \" {'f': 0.0005} \"\n",
      "Fetching results for id \" {'f': 0.0001} \"\n",
      "Convergence in field not reached\n",
      "Fetching results for id \" {'rmult': 5.0, 'f': 0.0001} \"\n",
      "Fetching results for id \" {'rmult': 6.0, 'f': 0.0001} \"\n",
      "Fetching results for id \" {'rmult': 7.0, 'f': 0.0001} \"\n",
      "Fetching results for id \" {'rmult': 8.0, 'f': 0.0001} \"\n",
      "Fetching results for id \" {'rmult': 9.0, 'f': 0.0001} \"\n",
      "Fetching results for id \" {'rmult': 10.0, 'f': 0.0001} \"\n",
      "Fetching results for id \" {'rmult': 11.0, 'f': 0.0001} \"\n",
      "Fetching results for id \" {'rmult': 12.0, 'f': 0.0001} \"\n",
      "('Convergence in domain not reached', LookupError('Convergence not reached, enlarge the dataset or change tolerance values',))\n",
      "\n",
      "CH3O pbe nlcc_aw\n",
      "Fetching results for id \" {'rmult': 4.0} \"\n",
      "Fetching results for id \" {'rmult': 5.0} \"\n",
      "Fetching results for id \" {'rmult': 6.0} \"\n",
      "Convergence reached in Dataset \"CH3O-pbe-nlcc_aw(GS)\" for id \" {'rmult': 5.0} \"\n",
      "Fetching results for id \" {'f': 0.01} \"\n",
      "Fetching results for id \" {'f': 0.005} \"\n",
      "Fetching results for id \" {'f': 0.001} \"\n",
      "Fetching results for id \" {'f': 0.0005} \"\n",
      "Fetching results for id \" {'f': 0.0001} \"\n",
      "Convergence in field not reached\n",
      "Fetching results for id \" {'rmult': 5.0, 'f': 0.0001} \"\n",
      "Fetching results for id \" {'rmult': 6.0, 'f': 0.0001} \"\n",
      "Fetching results for id \" {'rmult': 7.0, 'f': 0.0001} \"\n",
      "Fetching results for id \" {'rmult': 8.0, 'f': 0.0001} \"\n",
      "Fetching results for id \" {'rmult': 9.0, 'f': 0.0001} \"\n",
      "Convergence reached in Dataset \"CH3O-pbe-nlcc_aw(domain)\" for id \" {'rmult': 8.0, 'f': 0.0001} \"\n",
      "('Relative difference in %', [2031.1167840357846, 3408.7276878230377, -0.13035390224695753])\n",
      "\n",
      "CH3O pbe nlcc_ss\n",
      "Fetching results for id \" {'rmult': 4.0} \"\n",
      "Fetching results for id \" {'rmult': 5.0} \"\n",
      "Fetching results for id \" {'rmult': 6.0} \"\n",
      "Convergence reached in Dataset \"CH3O-pbe-nlcc_ss(GS)\" for id \" {'rmult': 5.0} \"\n",
      "Fetching results for id \" {'f': 0.01} \"\n",
      "Fetching results for id \" {'f': 0.005} \"\n",
      "Fetching results for id \" {'f': 0.001} \"\n",
      "Fetching results for id \" {'f': 0.0005} \"\n",
      "Fetching results for id \" {'f': 0.0001} \"\n",
      "Convergence in field not reached\n",
      "Fetching results for id \" {'rmult': 5.0, 'f': 0.0001} \"\n",
      "Fetching results for id \" {'rmult': 6.0, 'f': 0.0001} \"\n",
      "Fetching results for id \" {'rmult': 7.0, 'f': 0.0001} \"\n",
      "Fetching results for id \" {'rmult': 8.0, 'f': 0.0001} \"\n",
      "Fetching results for id \" {'rmult': 9.0, 'f': 0.0001} \"\n",
      "Fetching results for id \" {'rmult': 10.0, 'f': 0.0001} \"\n",
      "Fetching results for id \" {'rmult': 11.0, 'f': 0.0001} \"\n",
      "Fetching results for id \" {'rmult': 12.0, 'f': 0.0001} \"\n",
      "('Convergence in domain not reached', LookupError('Convergence not reached, enlarge the dataset or change tolerance values',))\n",
      "\n",
      "CH3O pbe0 hgh_k\n",
      "Fetching results for id \" {'rmult': 4.0} \"\n",
      "Fetching results for id \" {'rmult': 5.0} \"\n",
      "Fetching results for id \" {'rmult': 6.0} \"\n",
      "Convergence reached in Dataset \"CH3O-pbe0-hgh_k(GS)\" for id \" {'rmult': 5.0} \"\n",
      "Fetching results for id \" {'f': 0.01} \"\n",
      "Fetching results for id \" {'f': 0.005} \"\n",
      "Fetching results for id \" {'f': 0.001} \"\n",
      "Fetching results for id \" {'f': 0.0005} \"\n",
      "Fetching results for id \" {'f': 0.0001} \"\n",
      "Convergence in field not reached\n",
      "Fetching results for id \" {'rmult': 5.0, 'f': 0.0001} \"\n",
      "Fetching results for id \" {'rmult': 6.0, 'f': 0.0001} \"\n",
      "Fetching results for id \" {'rmult': 7.0, 'f': 0.0001} \"\n",
      "Fetching results for id \" {'rmult': 8.0, 'f': 0.0001} \"\n",
      "Fetching results for id \" {'rmult': 9.0, 'f': 0.0001} \"\n",
      "Fetching results for id \" {'rmult': 10.0, 'f': 0.0001} \"\n",
      "Fetching results for id \" {'rmult': 11.0, 'f': 0.0001} \"\n",
      "Fetching results for id \" {'rmult': 12.0, 'f': 0.0001} \"\n",
      "('Convergence in domain not reached', LookupError('Convergence not reached, enlarge the dataset or change tolerance values',))\n"
     ]
    }
   ],
   "source": [
    "full_data = {}\n",
    "for molecule in ['CH3O']:    #full_dataset: #full_dataset_split[2]+full_dataset_split[3]:\n",
    "    for xc in ['lda_pw','pbe','pbe0']:\n",
    "        psp = ['hgh_k'] if xc != 'pbe' else get_psp(molecule)\n",
    "        for p in psp:\n",
    "            print ''\n",
    "            print molecule,xc,p\n",
    "            gs_data=gs_study(molecule,(xc,p),code,options)\n",
    "            full_data[(molecule,xc,p)]=alpha_study(gs_data,code,options,single_field=s_f)\n",
    "            full_data[(molecule,xc,p)].update(gs_data)"
   ]
  },
  {
   "cell_type": "code",
   "execution_count": 27,
   "metadata": {},
   "outputs": [
    {
     "data": {
      "text/plain": [
       "{0: array([24.58603, 24.58603, 27.5763 ]),\n",
       " 1: array([24.87202, 24.87202, 27.8222 ]),\n",
       " 2: array([25.533155, 25.533155, 27.8683  ]),\n",
       " 3: array([25.009695, 25.009695, 27.87465 ]),\n",
       " 4: array([25.21616, 25.21616, 27.87775]),\n",
       " 5: array([25.244235, 25.244235, 27.87695 ]),\n",
       " 6: array([25.035905, 25.035905, 27.878   ]),\n",
       " 7: array([25.567155, 25.567155, 27.87815 ])}"
      ]
     },
     "execution_count": 27,
     "metadata": {},
     "output_type": "execute_result"
    }
   ],
   "source": [
    "data_rmult = full_data['C2H','pbe','hgh_k']['dataset_rmult']\n",
    "data_rmult.results"
   ]
  },
  {
   "cell_type": "code",
   "execution_count": 28,
   "metadata": {},
   "outputs": [
    {
     "data": {
      "text/plain": [
       "{'options': {'atol': 0.001,\n",
       "  'data_directory': 'Data',\n",
       "  'hgrids': 0.3,\n",
       "  'rmult_fine': 9.0,\n",
       "  'rtol': 0.001,\n",
       "  'wf_convergence': 1e-06},\n",
       " ('C2H',\n",
       "  'lda_pw',\n",
       "  'hgh_k'): {'alpha_convergence': ({'f': 0.001, 'rmult': 7.0},\n",
       "   [25.40469,\n",
       "    25.40469,\n",
       "    27.945699999999988]), 'input_gs': {'dft': {'gnrm_cv': 1e-06, 'hgrids': 0.3, 'ixc': '-001012', 'mpol': 1, 'nspin': 2, 'rmult': [5.0,\n",
       "     9.0]},\n",
       "   'psppar.C': {'Pseudopotential XC': 1},\n",
       "   'psppar.H': {'Pseudopotential XC': 1}}, 'posinp': {'positions': [{'C': [0.0,\n",
       "      0.0,\n",
       "      0.0],\n",
       "     'frag': ['molecule', '0']},\n",
       "    {'C': [0.0, 0.0, -1.2165], 'frag': ['molecule', '0']},\n",
       "    {'H': [0.0, 0.0, 1.0465], 'frag': ['molecule', '0']}],\n",
       "   'units': 'angstroem'}},\n",
       " ('C2H', 'pbe', 'hgh_k'): {'alpha_convergence': None,\n",
       "  'input_gs': {'dft': {'gnrm_cv': 1e-06,\n",
       "    'hgrids': 0.3,\n",
       "    'ixc': 11,\n",
       "    'mpol': 1,\n",
       "    'nspin': 2,\n",
       "    'rmult': [5.0, 9.0]}},\n",
       "  'posinp': {'positions': [{'C': [0.0, 0.0, 0.0], 'frag': ['molecule', '0']},\n",
       "    {'C': [0.0, 0.0, -1.2165], 'frag': ['molecule', '0']},\n",
       "    {'H': [0.0, 0.0, 1.0465], 'frag': ['molecule', '0']}],\n",
       "   'units': 'angstroem'}},\n",
       " ('C2H',\n",
       "  'pbe',\n",
       "  'nlcc_aw'): {'alpha_convergence': ({'f': 0.001, 'rmult': 8.0},\n",
       "   [26.748315,\n",
       "    26.748315,\n",
       "    27.88600000000002]), 'input_gs': {'dft': {'gnrm_cv': 1e-06, 'hgrids': 0.3, 'ixc': 11, 'mpol': 1, 'nspin': 2, 'rmult': [5.0,\n",
       "     9.0]}}, 'posinp': {'positions': [{'C': [0.0, 0.0, 0.0],\n",
       "     'frag': ['molecule', '0']},\n",
       "    {'C': [0.0, 0.0, -1.2165], 'frag': ['molecule', '0']},\n",
       "    {'H': [0.0, 0.0, 1.0465], 'frag': ['molecule', '0']}],\n",
       "   'units': 'angstroem'}},\n",
       " ('C2H',\n",
       "  'pbe',\n",
       "  'nlcc_ss'): {'alpha_convergence': ({'f': 0.001, 'rmult': 9.0},\n",
       "   [26.526435, 26.526435, 27.82145]), 'input_gs': {'dft': {'gnrm_cv': 1e-06,\n",
       "    'hgrids': 0.3,\n",
       "    'ixc': 11,\n",
       "    'mpol': 1,\n",
       "    'nspin': 2,\n",
       "    'rmult': [5.0, 9.0]}}, 'posinp': {'positions': [{'C': [0.0, 0.0, 0.0],\n",
       "     'frag': ['molecule', '0']},\n",
       "    {'C': [0.0, 0.0, -1.2165], 'frag': ['molecule', '0']},\n",
       "    {'H': [0.0, 0.0, 1.0465], 'frag': ['molecule', '0']}],\n",
       "   'units': 'angstroem'}},\n",
       " ('C2H',\n",
       "  'pbe0',\n",
       "  'hgh_k'): {'alpha_convergence': ({'f': 0.001, 'rmult': 9.0},\n",
       "   [21.919705,\n",
       "    21.919705,\n",
       "    27.154349999999994]), 'input_gs': {'dft': {'gnrm_cv': 1e-06, 'hgrids': 0.3, 'ixc': 'PBE0', 'mpol': 1, 'nspin': 2, 'rmult': [5.0,\n",
       "     9.0]},\n",
       "   'psppar.C': {'Pseudopotential XC': 11},\n",
       "   'psppar.H': {'Pseudopotential XC': 11}}, 'posinp': {'positions': [{'C': [0.0,\n",
       "      0.0,\n",
       "      0.0],\n",
       "     'frag': ['molecule', '0']},\n",
       "    {'C': [0.0, 0.0, -1.2165], 'frag': ['molecule', '0']},\n",
       "    {'H': [0.0, 0.0, 1.0465], 'frag': ['molecule', '0']}],\n",
       "   'units': 'angstroem'}}}"
      ]
     },
     "execution_count": 28,
     "metadata": {},
     "output_type": "execute_result"
    }
   ],
   "source": [
    "results = data_to_save(full_data,options)\n",
    "results"
   ]
  },
  {
   "cell_type": "code",
   "execution_count": 16,
   "metadata": {},
   "outputs": [],
   "source": [
    "#full_results = {}\n",
    "full_results = yaml.load(open('full_results.yaml'))"
   ]
  },
  {
   "cell_type": "code",
   "execution_count": 19,
   "metadata": {},
   "outputs": [
    {
     "data": {
      "text/plain": [
       "{'alpha_convergence': ({'f': 0.001, 'rmult': 8.0},\n",
       "  [6.8349435, 6.8349435, 9.32050000000001]),\n",
       " 'input_gs': {'dft': {'gnrm_cv': 1e-06,\n",
       "   'hgrids': 0.3,\n",
       "   'ixc': 11,\n",
       "   'mpol': 1,\n",
       "   'nspin': 2,\n",
       "   'rmult': [5.0, 9.0]}},\n",
       " 'posinp': {'positions': [{'H': [0.0, 0.0, 0.0], 'frag': ['molecule', '0']},\n",
       "   {'O': [0.0, 0.0, 0.9697], 'frag': ['molecule', '0']}],\n",
       "  'units': 'angstroem'}}"
      ]
     },
     "execution_count": 19,
     "metadata": {},
     "output_type": "execute_result"
    }
   ],
   "source": [
    "#full_results['CH3NH2','pbe0','hgh_k']\n",
    "full_results['OH','pbe','hgh_k']"
   ]
  },
  {
   "cell_type": "code",
   "execution_count": 17,
   "metadata": {},
   "outputs": [],
   "source": [
    "full_results.update(results)"
   ]
  },
  {
   "cell_type": "code",
   "execution_count": 16,
   "metadata": {},
   "outputs": [],
   "source": [
    "#full_results.keys()"
   ]
  },
  {
   "cell_type": "code",
   "execution_count": 18,
   "metadata": {},
   "outputs": [],
   "source": [
    "with open('full_results.yaml', 'w') as outfile:\n",
    "    yaml.dump(full_results, outfile, default_flow_style=False)"
   ]
  },
  {
   "cell_type": "markdown",
   "metadata": {},
   "source": [
    "## Specific study analysis"
   ]
  },
  {
   "cell_type": "markdown",
   "metadata": {},
   "source": [
    "Some studies of the dataset do not reach convergence with the standard workflow. For these studies we try to perform a dedicated analysis"
   ]
  },
  {
   "cell_type": "code",
   "execution_count": 8,
   "metadata": {},
   "outputs": [],
   "source": [
    "import yaml\n",
    "HG_data=yaml.load(open('../HG Dataset/hg_data.yaml'))"
   ]
  },
  {
   "cell_type": "code",
   "execution_count": 6,
   "metadata": {},
   "outputs": [
    {
     "name": "stdout",
     "output_type": "stream",
     "text": [
      "Initialize a Calculator with OMP_NUM_THREADS=1 and command mpirun -np 16 /home/dalessandro/Applications/BigDFT/binaries/v1.8.4/install/bin/bigdft\n"
     ]
    }
   ],
   "source": [
    "code=C.SystemCalculator(omp=omp,mpi_run=mpi_run,skip=True,verbose=False)"
   ]
  },
  {
   "cell_type": "code",
   "execution_count": 9,
   "metadata": {},
   "outputs": [],
   "source": [
    "options={'wf_convergence':1.e-6,'hgrids':0.3,'rmult_fine':9.0,'rtol':1.e-3,'atol':1.e-3,\\\n",
    "         'reference_data':HG_data,'data_directory':'Data'}"
   ]
  },
  {
   "cell_type": "code",
   "execution_count": 23,
   "metadata": {},
   "outputs": [],
   "source": [
    "molecule = 'PS'\n",
    "xc = 'lda_pw'\n",
    "psp = 'hgh_k'\n",
    "study_data = {}"
   ]
  },
  {
   "cell_type": "code",
   "execution_count": 24,
   "metadata": {},
   "outputs": [
    {
     "name": "stdout",
     "output_type": "stream",
     "text": [
      "Fetching results for id \" {'rmult': 4.0} \"\n",
      "Fetching results for id \" {'rmult': 5.0} \"\n",
      "Fetching results for id \" {'rmult': 6.0} \"\n",
      "Fetching results for id \" {'rmult': 7.0} \"\n",
      "Convergence reached in Dataset \"PS-lda_pw-hgh_k(GS)\" for id \" {'rmult': 6.0} \"\n"
     ]
    }
   ],
   "source": [
    "gs_data=gs_study(molecule,(xc,psp),code,options)"
   ]
  },
  {
   "cell_type": "code",
   "execution_count": 25,
   "metadata": {},
   "outputs": [
    {
     "data": {
      "text/plain": [
       "{'dataset_gs': <BigDFT.Datasets.Dataset instance at 0x7f6037918248>,\n",
       " 'input_gs': {'dft': {'gnrm_cv': 1e-06,\n",
       "   'hgrids': 0.3,\n",
       "   'ixc': '-001012',\n",
       "   'mpol': 1,\n",
       "   'nspin': 2,\n",
       "   'rmult': [6.0, 9.0]},\n",
       "  'psppar.P': {'Pseudopotential XC': 1},\n",
       "  'psppar.S': {'Pseudopotential XC': 1}},\n",
       " 'log_gs': <BigDFT.Logfiles.Logfile instance at 0x7f6035d19f38>,\n",
       " 'molecule': 'PS',\n",
       " 'posinp': {'positions': [{'S': [0.0, 0.0, 0.0], 'frag': ['molecule', '0']},\n",
       "   {'P': [0.0, 0.0, 1.9], 'frag': ['molecule', '0']}],\n",
       "  'units': 'angstroem'},\n",
       " 'study': ('lda_pw', 'hgh_k')}"
      ]
     },
     "execution_count": 25,
     "metadata": {},
     "output_type": "execute_result"
    }
   ],
   "source": [
    "gs_data"
   ]
  },
  {
   "cell_type": "code",
   "execution_count": 26,
   "metadata": {
    "scrolled": true
   },
   "outputs": [
    {
     "name": "stdout",
     "output_type": "stream",
     "text": [
      "Fetching results for id \" {'f': 0.01} \"\n",
      "Fetching results for id \" {'f': 0.005} \"\n",
      "Fetching results for id \" {'f': 0.001} \"\n",
      "Fetching results for id \" {'f': 0.0005} \"\n",
      "Fetching results for id \" {'f': 0.0001} \"\n",
      "Convergence in field not reached\n",
      "Fetching results for id \" {'rmult': 6.0, 'f': 0.0001} \"\n",
      "Fetching results for id \" {'rmult': 7.0, 'f': 0.0001} \"\n",
      "Fetching results for id \" {'rmult': 8.0, 'f': 0.0001} \"\n",
      "Fetching results for id \" {'rmult': 9.0, 'f': 0.0001} \"\n",
      "Convergence reached in Dataset \"PS-lda_pw-hgh_k(domain)\" for id \" {'rmult': 8.0, 'f': 0.0001} \"\n",
      "('Relative difference in %', [-6.633780267896963, -6.633780267896963, -0.3419660837812266])\n"
     ]
    }
   ],
   "source": [
    "study_data[(molecule,xc,psp)]=alpha_study(gs_data,code,options)\n",
    "study_data[(molecule,xc,psp)].update(gs_data)"
   ]
  },
  {
   "cell_type": "markdown",
   "metadata": {},
   "source": [
    "Collection of some results"
   ]
  },
  {
   "cell_type": "code",
   "execution_count": 27,
   "metadata": {},
   "outputs": [
    {
     "data": {
      "text/plain": [
       "{0: array([35.24757 , 35.24757 , 63.926085]),\n",
       " 1: array([35.14789, 35.14789, 63.69702]),\n",
       " 2: array([35.11898, 35.11898, 63.625  ]),\n",
       " 3: array([35.15776, 35.15776, 63.623  ]),\n",
       " 4: array([36.774245, 36.774245, 63.622   ])}"
      ]
     },
     "execution_count": 27,
     "metadata": {},
     "output_type": "execute_result"
    }
   ],
   "source": [
    "# results for PS\n",
    "data_field = study_data['PS','lda_pw','hgh_k']['dataset_field']\n",
    "data_field.results"
   ]
  },
  {
   "cell_type": "code",
   "execution_count": 31,
   "metadata": {},
   "outputs": [
    {
     "data": {
      "text/plain": [
       "{0: array([18.146625, 18.146625, 31.24421 ]),\n",
       " 1: array([18.097996, 18.097996, 31.08102 ]),\n",
       " 2: array([18.109625, 18.109625, 31.02895 ]),\n",
       " 3: array([18.426397, 18.426397, 31.0275  ]),\n",
       " 4: array([20.277075, 20.277075, 31.027   ])}"
      ]
     },
     "execution_count": 31,
     "metadata": {},
     "output_type": "execute_result"
    }
   ],
   "source": [
    "# results for BN\n",
    "data_field = study_data['BN','lda_pw','hgh_k']['dataset_field']\n",
    "data_field.results"
   ]
  },
  {
   "cell_type": "code",
   "execution_count": 23,
   "metadata": {},
   "outputs": [
    {
     "data": {
      "text/plain": [
       "{0: array([6.7345085, 6.7345085, 9.088    ]),\n",
       " 1: array([6.726453, 6.726453, 9.07523 ]),\n",
       " 2: array([6.7660125, 6.766012 , 9.0712   ]),\n",
       " 3: array([7.035406, 7.035406, 9.071   ]),\n",
       " 4: array([7.4663755, 7.4663755, 9.071    ])}"
      ]
     },
     "execution_count": 23,
     "metadata": {},
     "output_type": "execute_result"
    }
   ],
   "source": [
    "# results for OH\n",
    "data_field = study_data['OH','lda_pw','hgh_k']['dataset_field']\n",
    "data_field.results"
   ]
  },
  {
   "cell_type": "raw",
   "metadata": {},
   "source": [
    "How to choose to \"correct\" field in this case? Maybe an rmult analysis for each field could help?"
   ]
  },
  {
   "cell_type": "code",
   "execution_count": 12,
   "metadata": {},
   "outputs": [],
   "source": [
    "def extract_statical_polarizability_linearity(label,rtol,atol,path,input_for_alpha,posinp,code,ref):\n",
    "    \n",
    "    #ints= [1e-3,2e-3,5e-3] # for BN\n",
    "    ints= [5e-4,1e-3,2e-3,5e-3] # for OH,PS,CH3O\n",
    "       \n",
    "    results = {}\n",
    "    results['alpha_values'] = {}\n",
    "    rmult_fine=input_for_alpha['dft']['rmult'][1]\n",
    "    rmult_list=map(float,range(int(input_for_alpha['dft']['rmult'][0]),13))\n",
    "    for intensity in ints:\n",
    "    \n",
    "        # seek for the rmult convergence\n",
    "        alpha_rmult=D.Dataset(label=label+'(domain)',run_dir=path)\n",
    "        for rm in rmult_list:\n",
    "            input_for_alpha.set_rmult(coarse=rm,fine=rmult_fine)\n",
    "            alpha_rmult.append_run(id={'f':intensity,'rmult':rm},\\\n",
    "                runner=SP.build_alpha_dataset(input=input_for_alpha,posinp=posinp,run_dir=path,\\\n",
    "                            runner=code,intensity=intensity))\n",
    "    \n",
    "        try:\n",
    "            import numpy as np\n",
    "            data_final=alpha_rmult.seek_convergence(rtol=rtol,atol=atol)\n",
    "            AuToA = 0.5291772085**3\n",
    "            alpha_ref_ii = np.array(ref)/AuToA\n",
    "            eps = 100.0 * (data_final[1]-alpha_ref_ii)/alpha_ref_ii\n",
    "            print ('Relative difference in %',eps.tolist())\n",
    "        except LookupError as e:\n",
    "            print ('Convergence in domain not reached',e)\n",
    "            data_final=None\n",
    "        \n",
    "        results['alpha_values'][intensity] = {'alpha_convergence': data_final, 'dataset_rmult': alpha_rmult}\n",
    "    return results\n",
    "\n",
    "def alpha_study(gs_data,code,options,single_field=None):\n",
    "    \"\"\"\"\n",
    "    Workflow for the convergence analysis for the computation of alpha.\n",
    "    \n",
    "    Args : \n",
    "       gs_data        : output of gs_study\n",
    "       code (runner)  : instance of SystemCalculator\n",
    "       options (dict) : dictionary with the computational options\n",
    "    \"\"\"\n",
    "    import copy\n",
    "    xc_conversion={'lda_pw': 'lda-SPW92', 'pbe': 'pbe', 'pbe0': 'pbe0'}\n",
    "    rtol=options.get('rtol',1.e-2)\n",
    "    atol=options.get('atol',1.e-3)\n",
    "    reference_results=options.get('reference_data')\n",
    "    datadir=options.get('data_directory','Data')\n",
    "    study=gs_data['study']\n",
    "    molecule=gs_data['molecule']\n",
    "    posinp=gs_data['posinp']\n",
    "    xc=study[0]\n",
    "    ref_data=reference_results[molecule][xc_conversion[xc]]\n",
    "    \n",
    "    initial_dir=os.path.abspath(os.path.dirname('.'))\n",
    "    label,path=change_workdir(molecule,study,datadir)\n",
    "    input_gs=copy.deepcopy(gs_data['input_gs'])\n",
    "        \n",
    "    data=extract_statical_polarizability_linearity(label,rtol,atol,path,input_gs,posinp,code,ref=ref_data)\n",
    "    os.chdir(initial_dir)\n",
    "    \n",
    "    return data"
   ]
  },
  {
   "cell_type": "code",
   "execution_count": 10,
   "metadata": {},
   "outputs": [],
   "source": [
    "molecule = 'CH3O'\n",
    "xc = 'lda_pw'\n",
    "psp = 'hgh_k'\n",
    "study_data = {}"
   ]
  },
  {
   "cell_type": "code",
   "execution_count": 11,
   "metadata": {},
   "outputs": [
    {
     "name": "stdout",
     "output_type": "stream",
     "text": [
      "Fetching results for id \" {'rmult': 4.0} \"\n",
      "Fetching results for id \" {'rmult': 5.0} \"\n",
      "Fetching results for id \" {'rmult': 6.0} \"\n",
      "Convergence reached in Dataset \"CH3O-lda_pw-hgh_k(GS)\" for id \" {'rmult': 5.0} \"\n"
     ]
    }
   ],
   "source": [
    "gs_data=gs_study(molecule,(xc,psp),code,options)"
   ]
  },
  {
   "cell_type": "code",
   "execution_count": 33,
   "metadata": {},
   "outputs": [],
   "source": [
    "#gs_data"
   ]
  },
  {
   "cell_type": "code",
   "execution_count": 13,
   "metadata": {
    "scrolled": false
   },
   "outputs": [
    {
     "name": "stdout",
     "output_type": "stream",
     "text": [
      "Fetching results for id \" {'rmult': 5.0, 'f': 0.0005} \"\n",
      "Fetching results for id \" {'rmult': 6.0, 'f': 0.0005} \"\n",
      "Fetching results for id \" {'rmult': 7.0, 'f': 0.0005} \"\n",
      "Fetching results for id \" {'rmult': 8.0, 'f': 0.0005} \"\n",
      "Convergence reached in Dataset \"CH3O-lda_pw-hgh_k(domain)\" for id \" {'rmult': 7.0, 'f': 0.0005} \"\n",
      "('Relative difference in %', [375.17147810329845, 710.4895685149879, -0.7292205601945779])\n",
      "Fetching results for id \" {'rmult': 5.0, 'f': 0.001} \"\n",
      "Fetching results for id \" {'rmult': 6.0, 'f': 0.001} \"\n",
      "Fetching results for id \" {'rmult': 7.0, 'f': 0.001} \"\n",
      "Fetching results for id \" {'rmult': 8.0, 'f': 0.001} \"\n",
      "Convergence reached in Dataset \"CH3O-lda_pw-hgh_k(domain)\" for id \" {'rmult': 7.0, 'f': 0.001} \"\n",
      "('Relative difference in %', [166.68681275853152, 354.27658232270954, -0.7262546415666635])\n",
      "Fetching results for id \" {'rmult': 5.0, 'f': 0.002} \"\n",
      "Fetching results for id \" {'rmult': 6.0, 'f': 0.002} \"\n",
      "Fetching results for id \" {'rmult': 7.0, 'f': 0.002} \"\n",
      "Fetching results for id \" {'rmult': 8.0, 'f': 0.002} \"\n",
      "Convergence reached in Dataset \"CH3O-lda_pw-hgh_k(domain)\" for id \" {'rmult': 7.0, 'f': 0.002} \"\n",
      "('Relative difference in %', [62.14108317223786, 176.1897207447608, -0.7138348573117957])\n",
      "Fetching results for id \" {'rmult': 5.0, 'f': 0.005} \"\n",
      "Fetching results for id \" {'rmult': 6.0, 'f': 0.005} \"\n",
      "Fetching results for id \" {'rmult': 7.0, 'f': 0.005} \"\n",
      "Fetching results for id \" {'rmult': 8.0, 'f': 0.005} \"\n",
      "Fetching results for id \" {'rmult': 9.0, 'f': 0.005} \"\n",
      "Convergence reached in Dataset \"CH3O-lda_pw-hgh_k(domain)\" for id \" {'rmult': 8.0, 'f': 0.005} \"\n",
      "('Relative difference in %', [-0.5469196322685035, 69.50079417981858, -0.5185661896381777])\n"
     ]
    }
   ],
   "source": [
    "study_data[(molecule,xc,psp)]=alpha_study(gs_data,code,options)\n",
    "study_data[(molecule,xc,psp)].update(gs_data)"
   ]
  },
  {
   "cell_type": "code",
   "execution_count": 40,
   "metadata": {},
   "outputs": [],
   "source": [
    "#study_data"
   ]
  },
  {
   "cell_type": "code",
   "execution_count": 14,
   "metadata": {},
   "outputs": [
    {
     "data": {
      "text/plain": [
       "{0.0005: {'alpha_convergence': ({'f': 0.0005, 'rmult': 7.0},\n",
       "   array([164.30701, 164.5212 ,  26.7764 ])),\n",
       "  'dataset_rmult': <BigDFT.Datasets.Dataset instance at 0x7f2018967ea8>},\n",
       " 0.001: {'alpha_convergence': ({'f': 0.001, 'rmult': 7.0},\n",
       "   array([92.21621, 92.21356, 26.7772 ])),\n",
       "  'dataset_rmult': <BigDFT.Datasets.Dataset instance at 0x7f201786d758>},\n",
       " 0.002: {'alpha_convergence': ({'f': 0.002, 'rmult': 7.0},\n",
       "   array([56.0659  , 56.063725, 26.78055 ])),\n",
       "  'dataset_rmult': <BigDFT.Datasets.Dataset instance at 0x7f2017150560>},\n",
       " 0.005: {'alpha_convergence': ({'f': 0.005, 'rmult': 8.0},\n",
       "   array([34.38935, 34.40695, 26.83322])),\n",
       "  'dataset_rmult': <BigDFT.Datasets.Dataset instance at 0x7f2016829248>}}"
      ]
     },
     "execution_count": 14,
     "metadata": {},
     "output_type": "execute_result"
    }
   ],
   "source": [
    "# results for CH3O (lda hgh_k)\n",
    "alphas = study_data['CH3O','lda_pw','hgh_k']['alpha_values']\n",
    "alphas"
   ]
  },
  {
   "cell_type": "code",
   "execution_count": 35,
   "metadata": {},
   "outputs": [
    {
     "data": {
      "text/plain": [
       "{0.0005: {'alpha_convergence': ({'f': 0.0005, 'rmult': 8.0},\n",
       "   array([35.63018, 35.63018, 64.624  ])),\n",
       "  'dataset_rmult': <BigDFT.Datasets.Dataset instance at 0x7f6033694050>},\n",
       " 0.001: {'alpha_convergence': ({'f': 0.001, 'rmult': 8.0},\n",
       "   array([35.6316, 35.6316, 64.6276])),\n",
       "  'dataset_rmult': <BigDFT.Datasets.Dataset instance at 0x7f6035bd4908>},\n",
       " 0.002: {'alpha_convergence': ({'f': 0.002, 'rmult': 8.0},\n",
       "   array([35.63728  , 35.63728  , 64.6419175])),\n",
       "  'dataset_rmult': <BigDFT.Datasets.Dataset instance at 0x7f6035640950>},\n",
       " 0.005: {'alpha_convergence': ({'f': 0.005, 'rmult': 8.0},\n",
       "   array([35.67728, 35.67728, 64.744  ])),\n",
       "  'dataset_rmult': <BigDFT.Datasets.Dataset instance at 0x7f603502d518>}}"
      ]
     },
     "execution_count": 35,
     "metadata": {},
     "output_type": "execute_result"
    }
   ],
   "source": [
    "# results for PS (lda hgh_k)\n",
    "alphas = study_data['PS','lda_pw','hgh_k']['alpha_values']\n",
    "alphas"
   ]
  },
  {
   "cell_type": "code",
   "execution_count": 39,
   "metadata": {},
   "outputs": [
    {
     "data": {
      "text/plain": [
       "True"
      ]
     },
     "execution_count": 39,
     "metadata": {},
     "output_type": "execute_result"
    }
   ],
   "source": [
    "import numpy as np\n",
    "np.allclose(alphas[0.001]['alpha_convergence'][1],alphas[0.002]['alpha_convergence'][1],rtol=1e-3,atol=1e-3)"
   ]
  },
  {
   "cell_type": "code",
   "execution_count": 48,
   "metadata": {},
   "outputs": [
    {
     "data": {
      "text/plain": [
       "{0.0005: {'alpha_convergence': ({'f': 0.0005, 'rmult': 8.0},\n",
       "   array([6.83494, 6.83494, 9.3203 ])),\n",
       "  'dataset_rmult': <BigDFT.Datasets.Dataset instance at 0x7feffeb893b0>},\n",
       " 0.001: {'alpha_convergence': ({'f': 0.001, 'rmult': 8.0},\n",
       "   array([6.8349435, 6.8349435, 9.3205   ])),\n",
       "  'dataset_rmult': <BigDFT.Datasets.Dataset instance at 0x7feffe495fc8>},\n",
       " 0.002: {'alpha_convergence': ({'f': 0.002, 'rmult': 8.0},\n",
       "   array([6.8357825, 6.8357825, 9.32125  ])),\n",
       "  'dataset_rmult': <BigDFT.Datasets.Dataset instance at 0x7feffdde2a28>},\n",
       " 0.005: {'alpha_convergence': ({'f': 0.005, 'rmult': 8.0},\n",
       "   array([6.839758, 6.839758, 9.32648 ])),\n",
       "  'dataset_rmult': <BigDFT.Datasets.Dataset instance at 0x7feffd5998c0>}}"
      ]
     },
     "execution_count": 48,
     "metadata": {},
     "output_type": "execute_result"
    }
   ],
   "source": [
    "# results for OH (pbe hgh_k)\n",
    "alphas = study_data['OH','pbe','hgh_k']['alpha_values']\n",
    "alphas"
   ]
  },
  {
   "cell_type": "code",
   "execution_count": 50,
   "metadata": {},
   "outputs": [
    {
     "data": {
      "text/plain": [
       "True"
      ]
     },
     "execution_count": 50,
     "metadata": {},
     "output_type": "execute_result"
    }
   ],
   "source": [
    "import numpy as np\n",
    "np.allclose(alphas[0.001]['alpha_convergence'][1],alphas[0.005]['alpha_convergence'][1],rtol=1e-3,atol=1e-3)"
   ]
  },
  {
   "cell_type": "code",
   "execution_count": 41,
   "metadata": {},
   "outputs": [
    {
     "data": {
      "text/plain": [
       "{0.0005: {'alpha_convergence': ({'f': 0.0005, 'rmult': 8.0},\n",
       "   array([6.939519, 6.939519, 9.3307  ])),\n",
       "  'dataset_rmult': <BigDFT.Datasets.Dataset instance at 0x7ff000301488>},\n",
       " 0.001: {'alpha_convergence': ({'f': 0.001, 'rmult': 8.0},\n",
       "   array([6.9395655, 6.9395655, 9.33085  ])),\n",
       "  'dataset_rmult': <BigDFT.Datasets.Dataset instance at 0x7ff0008df908>},\n",
       " 0.002: {'alpha_convergence': ({'f': 0.002, 'rmult': 8.0},\n",
       "   array([6.9407025, 6.9407025, 9.331625 ])),\n",
       "  'dataset_rmult': <BigDFT.Datasets.Dataset instance at 0x7fefff9d43f8>},\n",
       " 0.005: {'alpha_convergence': ({'f': 0.005, 'rmult': 8.0},\n",
       "   array([6.944738, 6.944738, 9.33686 ])),\n",
       "  'dataset_rmult': <BigDFT.Datasets.Dataset instance at 0x7fefff5a65f0>}}"
      ]
     },
     "execution_count": 41,
     "metadata": {},
     "output_type": "execute_result"
    }
   ],
   "source": [
    "# results for OH (lda)\n",
    "alphas = study_data['OH','lda_pw','hgh_k']['alpha_values']\n",
    "alphas"
   ]
  },
  {
   "cell_type": "code",
   "execution_count": 43,
   "metadata": {},
   "outputs": [
    {
     "data": {
      "text/plain": [
       "True"
      ]
     },
     "execution_count": 43,
     "metadata": {},
     "output_type": "execute_result"
    }
   ],
   "source": [
    "import numpy as np\n",
    "np.allclose(alphas[0.001]['alpha_convergence'][1],alphas[0.005]['alpha_convergence'][1],rtol=1e-3,atol=1e-3)"
   ]
  },
  {
   "cell_type": "code",
   "execution_count": 50,
   "metadata": {},
   "outputs": [
    {
     "data": {
      "text/plain": [
       "{0.001: {'alpha_convergence': ({'f': 0.001, 'rmult': 6.0},\n",
       "   array([18.18901, 18.18901, 31.29695])),\n",
       "  'dataset_rmult': <BigDFT.Datasets.Dataset instance at 0x7f59f1a8a9e0>},\n",
       " 0.002: {'alpha_convergence': ({'f': 0.002, 'rmult': 6.0},\n",
       "   array([18.191185, 18.191185, 31.304575])),\n",
       "  'dataset_rmult': <BigDFT.Datasets.Dataset instance at 0x7f59f1552488>},\n",
       " 0.005: {'alpha_convergence': ({'f': 0.005, 'rmult': 7.0},\n",
       "   array([18.219973, 18.219973, 31.3895  ])),\n",
       "  'dataset_rmult': <BigDFT.Datasets.Dataset instance at 0x7f59f0f99680>}}"
      ]
     },
     "execution_count": 50,
     "metadata": {},
     "output_type": "execute_result"
    }
   ],
   "source": [
    "# results for BN\n",
    "alphas = study_data['BN','lda_pw','hgh_k']['alpha_values']\n",
    "alphas"
   ]
  },
  {
   "cell_type": "code",
   "execution_count": 51,
   "metadata": {},
   "outputs": [
    {
     "data": {
      "text/plain": [
       "True"
      ]
     },
     "execution_count": 51,
     "metadata": {},
     "output_type": "execute_result"
    }
   ],
   "source": [
    "import numpy as np\n",
    "np.allclose(alphas[0.001]['alpha_convergence'][1],alphas[0.002]['alpha_convergence'][1],rtol=1e-3,atol=1e-3)"
   ]
  },
  {
   "cell_type": "code",
   "execution_count": 52,
   "metadata": {},
   "outputs": [
    {
     "data": {
      "text/plain": [
       "False"
      ]
     },
     "execution_count": 52,
     "metadata": {},
     "output_type": "execute_result"
    }
   ],
   "source": [
    "np.allclose(alphas[0.001]['alpha_convergence'][1],alphas[0.005]['alpha_convergence'][1],rtol=1e-3,atol=1e-3)"
   ]
  },
  {
   "cell_type": "markdown",
   "metadata": {},
   "source": [
    "On the basis of this analysis we can state that a converged results is found for field 1em3"
   ]
  },
  {
   "cell_type": "markdown",
   "metadata": {},
   "source": [
    "OH (in lda hgh_k) does not converge in the standard approach beacause the rmult used to perform the field convergence is too small"
   ]
  },
  {
   "cell_type": "code",
   "execution_count": null,
   "metadata": {},
   "outputs": [],
   "source": []
  },
  {
   "cell_type": "code",
   "execution_count": null,
   "metadata": {},
   "outputs": [],
   "source": []
  },
  {
   "cell_type": "code",
   "execution_count": null,
   "metadata": {},
   "outputs": [],
   "source": []
  }
 ],
 "metadata": {
  "kernelspec": {
   "display_name": "Python 2",
   "language": "python",
   "name": "python2"
  },
  "language_info": {
   "codemirror_mode": {
    "name": "ipython",
    "version": 2
   },
   "file_extension": ".py",
   "mimetype": "text/x-python",
   "name": "python",
   "nbconvert_exporter": "python",
   "pygments_lexer": "ipython2",
   "version": "2.7.13"
  }
 },
 "nbformat": 4,
 "nbformat_minor": 2
}
