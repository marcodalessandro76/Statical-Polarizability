{
 "cells": [
  {
   "cell_type": "code",
   "execution_count": 1,
   "metadata": {},
   "outputs": [
    {
     "data": {
      "text/plain": [
       "'/home/marco/Data/RICERCA/DFT AND MANY BODY/LR MOLECULES/Statical polarizability/Analysis/Calculations'"
      ]
     },
     "execution_count": 1,
     "metadata": {},
     "output_type": "execute_result"
    }
   ],
   "source": [
    "from BigDFT import Datasets as D, Calculators as C, Inputfiles as I, Logfiles as lf\n",
    "from BigDFT.Database import Molecules\n",
    "import sys,os\n",
    "sys.path.insert(0,'../')\n",
    "import StatPol as SP\n",
    "\n",
    "basepath = os.getcwd()\n",
    "basepath"
   ]
  },
  {
   "cell_type": "code",
   "execution_count": 2,
   "metadata": {},
   "outputs": [],
   "source": [
    "omp = 2\n",
    "mpi_run = 'mpirun -np 4'"
   ]
  },
  {
   "cell_type": "markdown",
   "metadata": {},
   "source": [
    "# Workflow"
   ]
  },
  {
   "cell_type": "markdown",
   "metadata": {},
   "source": [
    "This notebook contains the complete workflow to extract the statical polarizability of the HG dataset."
   ]
  },
  {
   "cell_type": "markdown",
   "metadata": {},
   "source": [
    "## Construction of the relevant tools"
   ]
  },
  {
   "cell_type": "markdown",
   "metadata": {},
   "source": [
    "Define the functions needed to perform the workflow"
   ]
  },
  {
   "cell_type": "code",
   "execution_count": 3,
   "metadata": {},
   "outputs": [],
   "source": [
    "# Service functions \n",
    "\n",
    "def change_workdir(molecule,study,datadir):\n",
    "    \"\"\"\n",
    "    Ensure that the path Data_directory/molecule exists and\n",
    "    move there. \n",
    "    \"\"\"\n",
    "    from futile.Utils import ensure_dir\n",
    "    for d in [datadir,molecule]:\n",
    "        ensure_dir(d)\n",
    "        os.chdir(d)\n",
    "    path='-'.join(study)\n",
    "    ensure_dir(path)\n",
    "    return '-'.join([molecule,path]),path\n",
    "\n",
    "def get_psp(molecule):\n",
    "    \"\"\"\n",
    "    Check if the all the atoms of molecule have the nlcc of the type nlss_aw and nlcc_ss. \n",
    "    If it is true the corresponding pseudo is added to the list of psp to be performed, otherwise \n",
    "    only hgh_k is included.\n",
    "    \"\"\"\n",
    "    from os import path as p\n",
    "    import Routines as R\n",
    "    possible_psp=['nlcc_aw','nlcc_ss']\n",
    "    to_do=[True,True]\n",
    "    for at in R.get_atoms(molecule):\n",
    "        psp_available = [p.isfile(p.join('psp_'+psp,'psppar.'+at)) for psp in possible_psp]\n",
    "        to_do = [ a and b for a,b in zip(to_do,psp_available)]\n",
    "    return ['hgh_k'] + [psp for yes,psp in zip(to_do,possible_psp) if yes]\n",
    "\n",
    "def split_dataset(dataset,length=10):\n",
    "    \"\"\"\n",
    "    Split a list of molecules into a list of list with length elements. \n",
    "    \"\"\"\n",
    "    splitted = [[] for num in range(int(len(dataset)/length)+1)]\n",
    "    for ind,mol in enumerate(dataset):\n",
    "        splitted[int(ind/length)].append(mol)\n",
    "    return splitted"
   ]
  },
  {
   "cell_type": "code",
   "execution_count": 4,
   "metadata": {},
   "outputs": [],
   "source": [
    "# Tools for the ground state\n",
    "\n",
    "def get_converged_input_energy(dataset,rtol,atol):\n",
    "    data=dataset.seek_convergence(atol=atol,rtol=rtol,attribute='energy')\n",
    "    return dataset.runs[dataset.names.index(D.name_from_id(data[0]))]['input'],data[1]\n",
    "\n",
    "def find_gs_domain(label,rtol,atol,path,input,posinp,code):\n",
    "    \"\"\"\n",
    "    Use the seek_convergence method of Dataset to perform a convergence procedure on\n",
    "    the rmult value for a gs computation.\n",
    "    \"\"\"\n",
    "    crmult=input['dft']['rmult'][0]\n",
    "    rmult_fine=input['dft']['rmult'][1]\n",
    "    rmult_list=map(float,range(int(crmult),11))\n",
    "    seek_for_rmult = D.Dataset(label=label+'(GS)',run_dir=path,posinp=posinp)\n",
    "    for rm in rmult_list:\n",
    "        input.set_rmult(coarse=rm,fine=rmult_fine)\n",
    "        seek_for_rmult.append_run(id={'rmult':rm},runner=code,input=input)\n",
    "    input_gs,log_gs=get_converged_input_energy(seek_for_rmult,rtol,atol)\n",
    "    return {'input_gs':input_gs, 'dataset_gs': seek_for_rmult,'log_gs':log_gs}\n",
    "\n",
    "def gs_study(molecule,study,code,options):\n",
    "    \"\"\"\"\n",
    "    Workflow for the convergence analysis of the ground state.\n",
    "    \n",
    "    Args : \n",
    "       molecule (str) : name of the molecule\n",
    "       study (touple) : the couple (xc,psp)\n",
    "       code (runner)  : instance of SystemCalculator\n",
    "       options (dict) : dictionary with the computational options\n",
    "    \"\"\"\n",
    "    import Routines as R\n",
    "    hgrids=options.get('hgrids')\n",
    "    rmult_fine=options.get('rmult_fine')\n",
    "    wf_convergence=options.get('wf_convergence')\n",
    "    crmult_start=options.get('crmult',4.0)\n",
    "    rtol=options.get('rtol_gs',10*wf_convergence)\n",
    "    atol=options.get('atol_gs',1.e-3)\n",
    "    reference_results=options.get('reference_data')\n",
    "    datadir=options.get('data_directory','Data')\n",
    "\n",
    "    initial_dir=os.path.abspath(os.path.dirname('.'))\n",
    "    label,path=change_workdir(molecule,study,datadir)\n",
    "    \n",
    "    posinp=Molecules.Molecule(molecule)\n",
    "    \n",
    "    inp = I.Inputfile()\n",
    "    inp.set_hgrid(hgrids)\n",
    "    inp.set_rmult(coarse=crmult_start,fine=rmult_fine)\n",
    "    R.set_xc[study](inp,molecule,datadir)\n",
    "    inp.set_wavefunction_convergence(wf_convergence)\n",
    "    mpol=int(reference_results[molecule]['mpol_ref'])-1   \n",
    "    if mpol >0: inp.spin_polarize(mpol)\n",
    "    data= find_gs_domain(label,10*wf_convergence,atol,path,inp,posinp,code)\n",
    "    os.chdir(initial_dir)\n",
    "    \n",
    "    data['molecule']=molecule\n",
    "    data['posinp']=posinp\n",
    "    data['study']=study\n",
    "    return data "
   ]
  },
  {
   "cell_type": "code",
   "execution_count": 5,
   "metadata": {},
   "outputs": [],
   "source": [
    "# Tools for alpha\n",
    "def extract_statical_polarizability(label,rtol,atol,path,input_for_alpha,posinp,code,ref):\n",
    "    \n",
    "    # seek for the field convergence\n",
    "    ints=[1e-2,5e-3,1e-3,5e-4,1e-4]\n",
    "    alpha_field=D.Dataset(label=label+'(field)',run_dir=path)\n",
    "    for f in ints:\n",
    "        alpha_field.append_run(id={'f':f},runner=SP.build_alpha_dataset(input=input_for_alpha,posinp=posinp,run_dir=path,runner=code,intensity=f))\n",
    "    try:\n",
    "        data_field=alpha_field.seek_convergence(rtol=rtol,atol=atol)\n",
    "        intensity=data_field[0]['f']\n",
    "    except:\n",
    "        print ('Convergence in field not reached')\n",
    "        intensity=ints[-1]\n",
    "    \n",
    "    # seek for the rmult convergence\n",
    "    rmult_fine=input_for_alpha['dft']['rmult'][1]\n",
    "    rmult_list=map(float,range(int(input_for_alpha['dft']['rmult'][0]),11))\n",
    "    alpha_rmult=D.Dataset(label=label+'(domain)',run_dir=path)\n",
    "    for rm in rmult_list:\n",
    "        input_for_alpha.set_rmult(coarse=rm,fine=rmult_fine)\n",
    "        alpha_rmult.append_run(id={'f':intensity,'rmult':rm},runner=SP.build_alpha_dataset(input=input_for_alpha,posinp=posinp,run_dir=path,runner=code,intensity=intensity))\n",
    "    try:\n",
    "        import numpy as np\n",
    "        data_final=alpha_rmult.seek_convergence(rtol=rtol,atol=atol)\n",
    "        AuToA = 0.5291772085**3\n",
    "        alpha_ref_ii = np.array(ref)/AuToA\n",
    "        eps = 100.0 * (data_final[1]-alpha_ref_ii)/alpha_ref_ii\n",
    "        print ('Relative difference in %',eps.tolist())\n",
    "    except LookupError as e:\n",
    "        print ('Convergence in domain not reached',e)\n",
    "        data_final=None\n",
    "    return {'alpha_convergence': data_final, 'dataset_field': alpha_field, 'dataset_rmult': alpha_rmult}\n",
    "\n",
    "\n",
    "def alpha_study(gs_data,code,options):\n",
    "    \"\"\"\"\n",
    "    Workflow for the convergence analysis for the computation of alpha.\n",
    "    \n",
    "    Args : \n",
    "       gs_data        : output of gs_study\n",
    "       code (runner)  : instance of SystemCalculator\n",
    "       options (dict) : dictionary with the computational options\n",
    "    \"\"\"\n",
    "    import copy\n",
    "    xc_conversion={'lda_pw': 'lda-SPW92', 'pbe': 'pbe', 'pbe0': 'pbe0'}\n",
    "    rtol=options.get('rtol',1.e-2)\n",
    "    atol=options.get('atol',1.e-3)\n",
    "    reference_results=options.get('reference_data')\n",
    "    datadir=options.get('data_directory','Data')\n",
    "    study=gs_data['study']\n",
    "    molecule=gs_data['molecule']\n",
    "    posinp=gs_data['posinp']\n",
    "    xc=study[0]\n",
    "    ref_data=reference_results[molecule][xc_conversion[xc]]\n",
    "    \n",
    "    initial_dir=os.path.abspath(os.path.dirname('.'))\n",
    "    label,path=change_workdir(molecule,study,datadir)\n",
    "    input_gs=copy.deepcopy(gs_data['input_gs'])\n",
    "        \n",
    "    data=extract_statical_polarizability(label,rtol,atol,path,input_gs,posinp,code,ref=ref_data)\n",
    "    os.chdir(initial_dir)\n",
    "    \n",
    "    return data"
   ]
  },
  {
   "cell_type": "code",
   "execution_count": 7,
   "metadata": {},
   "outputs": [],
   "source": [
    "def data_to_save(data,options):\n",
    "    \"\"\"\n",
    "    Define the dictionary to be saved on file for data analysis\n",
    "    \"\"\"\n",
    "    from copy import deepcopy\n",
    "    res = {}\n",
    "    for s,values in data.iteritems():\n",
    "        res[s] = {}\n",
    "        res[s]['alpha_convergence'] = (values['alpha_convergence'][0],values['alpha_convergence'][1].tolist())\n",
    "        \n",
    "        res[s]['posinp'] = {}\n",
    "        pos = values['posinp']\n",
    "        for key in pos:\n",
    "            res[s]['posinp'][key] = pos[key]\n",
    "        \n",
    "        res[s]['input_gs'] = {}\n",
    "        inp = values['input_gs']\n",
    "        for key in inp:\n",
    "            res[s]['input_gs'][key] = inp[key]\n",
    "        \n",
    "    save_options = deepcopy(options)\n",
    "    save_options.pop('reference_data')\n",
    "    res['options'] = save_options\n",
    "    return res"
   ]
  },
  {
   "cell_type": "markdown",
   "metadata": {},
   "source": [
    "## Single study analysis"
   ]
  },
  {
   "cell_type": "markdown",
   "metadata": {},
   "source": [
    "Build the dataset using the HG data written in hg_data.yaml. To each molecule of the dataset associate a set of studies=(xc,psp)"
   ]
  },
  {
   "cell_type": "code",
   "execution_count": 6,
   "metadata": {},
   "outputs": [],
   "source": [
    "import yaml\n",
    "HG_data=yaml.load(open('../HG Dataset/hg_data.yaml'))"
   ]
  },
  {
   "cell_type": "code",
   "execution_count": 7,
   "metadata": {},
   "outputs": [
    {
     "name": "stdout",
     "output_type": "stream",
     "text": [
      "Initialize a Calculator with OMP_NUM_THREADS=2 and command mpirun -np 4 /home/marco/Applications/BigDFT/binaries/v1.8.3/install/bin/bigdft\n"
     ]
    }
   ],
   "source": [
    "code=C.SystemCalculator(omp=omp,mpi_run=mpi_run,skip=True,verbose=False)"
   ]
  },
  {
   "cell_type": "code",
   "execution_count": 8,
   "metadata": {},
   "outputs": [],
   "source": [
    "options={'wf_convergence':1.e-6,'hgrids':0.3,'rmult_fine':9.0,'rtol':1.e-3,'atol':1.e-3,\\\n",
    "         'reference_data':HG_data,'data_directory':'Data_Test'}"
   ]
  },
  {
   "cell_type": "markdown",
   "metadata": {},
   "source": [
    "We can perform a single study with this workflow"
   ]
  },
  {
   "cell_type": "code",
   "execution_count": 9,
   "metadata": {},
   "outputs": [],
   "source": [
    "molecule = 'CO'\n",
    "xc = 'pbe'\n",
    "psp = 'nlcc_aw'\n",
    "study_data = {}"
   ]
  },
  {
   "cell_type": "code",
   "execution_count": 10,
   "metadata": {},
   "outputs": [
    {
     "name": "stdout",
     "output_type": "stream",
     "text": [
      "Fetching results for id \" {'rmult': 4.0} \"\n",
      "Fetching results for id \" {'rmult': 5.0} \"\n",
      "Fetching results for id \" {'rmult': 6.0} \"\n",
      "Convergence reached in Dataset \"CO-pbe-nlcc_aw(GS)\" for id \" {'rmult': 5.0} \"\n"
     ]
    }
   ],
   "source": [
    "gs_data=gs_study(molecule,(xc,psp),code,options)"
   ]
  },
  {
   "cell_type": "code",
   "execution_count": 11,
   "metadata": {},
   "outputs": [
    {
     "data": {
      "text/plain": [
       "{'dataset_gs': <BigDFT.Datasets.Dataset instance at 0x7ff372512d40>,\n",
       " 'input_gs': {'dft': {'gnrm_cv': 1e-06,\n",
       "   'hgrids': 0.3,\n",
       "   'ixc': 11,\n",
       "   'rmult': [5.0, 9.0]}},\n",
       " 'log_gs': <BigDFT.Logfiles.Logfile instance at 0x7ff3a080fea8>,\n",
       " 'molecule': 'CO',\n",
       " 'posinp': {'positions': [{'C': [0.0, 0.0, 0.0], 'frag': ['molecule', '0']},\n",
       "   {'O': [0.0, 0.0, 1.1282], 'frag': ['molecule', '0']}],\n",
       "  'units': 'angstroem'},\n",
       " 'study': ('pbe', 'nlcc_aw')}"
      ]
     },
     "execution_count": 11,
     "metadata": {},
     "output_type": "execute_result"
    }
   ],
   "source": [
    "gs_data"
   ]
  },
  {
   "cell_type": "code",
   "execution_count": 12,
   "metadata": {},
   "outputs": [
    {
     "name": "stdout",
     "output_type": "stream",
     "text": [
      "Fetching results for id \" {'f': 0.01} \"\n",
      "Fetching results for id \" {'f': 0.005} \"\n",
      "Convergence reached in Dataset \"CO-pbe-nlcc_aw(field)\" for id \" {'f': 0.01} \"\n",
      "Fetching results for id \" {'rmult': 5.0, 'f': 0.01} \"\n",
      "Fetching results for id \" {'rmult': 6.0, 'f': 0.01} \"\n",
      "Fetching results for id \" {'rmult': 7.0, 'f': 0.01} \"\n",
      "Convergence reached in Dataset \"CO-pbe-nlcc_aw(domain)\" for id \" {'rmult': 6.0, 'f': 0.01} \"\n",
      "('Relative difference in %', [0.09513847487007111, 0.09513847487007111, -0.4548519809751674])\n"
     ]
    }
   ],
   "source": [
    "study_data[(molecule,xc,psp)]=alpha_study(gs_data,code,options)\n",
    "study_data[(molecule,xc,psp)].update(gs_data)"
   ]
  },
  {
   "cell_type": "code",
   "execution_count": 13,
   "metadata": {},
   "outputs": [
    {
     "data": {
      "text/plain": [
       "{('CO',\n",
       "  'pbe',\n",
       "  'nlcc_aw'): {'alpha_convergence': ({'f': 0.01, 'rmult': 6.0},\n",
       "   array([12.536825 , 12.536825 , 15.8737825])), 'dataset_field': <BigDFT.Datasets.Dataset instance at 0x7ff3725781b8>, 'dataset_gs': <BigDFT.Datasets.Dataset instance at 0x7ff372512d40>, 'dataset_rmult': <BigDFT.Datasets.Dataset instance at 0x7ff372576200>, 'input_gs': {'dft': {'gnrm_cv': 1e-06,\n",
       "    'hgrids': 0.3,\n",
       "    'ixc': 11,\n",
       "    'rmult': [5.0,\n",
       "     9.0]}}, 'log_gs': <BigDFT.Logfiles.Logfile instance at 0x7ff3a080fea8>, 'molecule': 'CO', 'posinp': {'positions': [{'C': [0.0,\n",
       "      0.0,\n",
       "      0.0],\n",
       "     'frag': ['molecule', '0']},\n",
       "    {'O': [0.0, 0.0, 1.1282], 'frag': ['molecule', '0']}],\n",
       "   'units': 'angstroem'}, 'study': ('pbe', 'nlcc_aw')}}"
      ]
     },
     "execution_count": 13,
     "metadata": {},
     "output_type": "execute_result"
    }
   ],
   "source": [
    "study_data"
   ]
  },
  {
   "cell_type": "markdown",
   "metadata": {},
   "source": [
    "To check if convergence has been reached we can look at 'alpha_convergence'. \n",
    "\n",
    "If the value of 'f' is the last value of the field intensity list provided in the extract_statical_polarizability function, then the field convergence has not been reached. Moreover, if 'alpha_convergence' is None the rmult convergence on alpha has failed. "
   ]
  },
  {
   "cell_type": "code",
   "execution_count": 17,
   "metadata": {},
   "outputs": [
    {
     "data": {
      "text/plain": [
       "{'options': {'atol': 0.001,\n",
       "  'data_directory': 'Data_Test',\n",
       "  'hgrids': 0.3,\n",
       "  'rmult_fine': 9.0,\n",
       "  'rtol': 0.01,\n",
       "  'wf_convergence': 1e-06},\n",
       " ('CO',\n",
       "  'pbe',\n",
       "  'nlcc_aw'): {'alpha_convergence': ({'f': 0.01, 'rmult': 6.0},\n",
       "   array([12.536825 , 12.536825 , 15.8737825])), 'input_gs': {'dft': {'gnrm_cv': 1e-06,\n",
       "    'hgrids': 0.3,\n",
       "    'ixc': 11,\n",
       "    'rmult': [5.0, 9.0]}}, 'posinp': {'positions': [{'C': [0.0, 0.0, 0.0],\n",
       "     'frag': ['molecule', '0']},\n",
       "    {'O': [0.0, 0.0, 1.1282], 'frag': ['molecule', '0']}],\n",
       "   'units': 'angstroem'}}}"
      ]
     },
     "execution_count": 17,
     "metadata": {},
     "output_type": "execute_result"
    }
   ],
   "source": [
    "data_to_save(study_data)"
   ]
  },
  {
   "cell_type": "markdown",
   "metadata": {},
   "source": [
    "## Dataset analysis"
   ]
  },
  {
   "cell_type": "markdown",
   "metadata": {},
   "source": [
    "In the same way we can run the whole dataset (or a part of it). The results of the dataset (processed by data_to_save) are stored in the full_data dictionary. This dictionary can be dumped in a Yaml file and updated with new computatitions so that the complete dataset can be runned in more than one step. "
   ]
  },
  {
   "cell_type": "code",
   "execution_count": 8,
   "metadata": {},
   "outputs": [],
   "source": [
    "import yaml\n",
    "HG_data=yaml.load(open('../HG Dataset/hg_data.yaml'))\n",
    "# set the study for H to sp\n",
    "HG_data['H']['spin_pol'] = 'sp'"
   ]
  },
  {
   "cell_type": "code",
   "execution_count": 8,
   "metadata": {},
   "outputs": [],
   "source": [
    "# for computational reason it can be useful to split the complete dataset into the sp and the nsp ones.\n",
    "# Moreover, each dataset can be divided into groups. \n",
    "sp_dataset = []\n",
    "nsp_dataset = []\n",
    "for mol in HG_data:\n",
    "    if HG_data[mol]['spin_pol'] == 'nsp': \n",
    "        nsp_dataset.append(mol)\n",
    "    else : \n",
    "        sp_dataset.append(mol)\n",
    "# remove the H2O-Li molecule because we are not able to treat it with the\n",
    "# current implementation of the functions\n",
    "ind =  sp_dataset.index('H2O-Li')\n",
    "del sp_dataset[ind]\n",
    "# remove also Li2 because the gs calculation does not converge with the\n",
    "# actual range of parameters\n",
    "ind =  sp_dataset.index('Li2')\n",
    "del sp_dataset[ind]\n",
    "# remove the FH-OH molecule because we are not able to treat it with the\n",
    "# current implementation of the functions\n",
    "ind =  sp_dataset.index('FH-OH')\n",
    "del sp_dataset[ind]\n",
    "sp_dataset.sort()\n",
    "nsp_dataset.sort()\n",
    "sp_split = split_dataset(sp_dataset)\n",
    "nsp_split = split_dataset(nsp_dataset)"
   ]
  },
  {
   "cell_type": "code",
   "execution_count": 9,
   "metadata": {},
   "outputs": [
    {
     "name": "stdout",
     "output_type": "stream",
     "text": [
      "74\n",
      "55\n"
     ]
    }
   ],
   "source": [
    "print len(nsp_dataset)\n",
    "print len(sp_dataset)"
   ]
  },
  {
   "cell_type": "code",
   "execution_count": 10,
   "metadata": {},
   "outputs": [
    {
     "data": {
      "text/plain": [
       "[['BH2', 'BN', 'BO', 'BS', 'Be', 'BeH', 'C2H', 'C2H3', 'CH2', 'CH2F'],\n",
       " ['CH2NH', 'CH2PH', 'CH3', 'CH3O', 'CN', 'F2', 'FCO', 'H', 'H2CN', 'HCHS'],\n",
       " ['HCO', 'HCP', 'HNO', 'HNS', 'HO2', 'HOF', 'Li', 'N', 'N2H2', 'NCO'],\n",
       " ['NH', 'NH2', 'NO', 'NOCl', 'NP', 'Na', 'Na2', 'NaLi', 'O2', 'O3'],\n",
       " ['OCl', 'OF', 'OF2', 'OH', 'P', 'P2', 'PH', 'PH2', 'PS', 'S2'],\n",
       " ['SCl', 'SF', 'SH', 'SO', 'SiH3']]"
      ]
     },
     "execution_count": 10,
     "metadata": {},
     "output_type": "execute_result"
    }
   ],
   "source": [
    "sp_split"
   ]
  },
  {
   "cell_type": "markdown",
   "metadata": {},
   "source": [
    "We also build a complete dataset that can be run to write all the results on file"
   ]
  },
  {
   "cell_type": "code",
   "execution_count": 9,
   "metadata": {},
   "outputs": [],
   "source": [
    "full_dataset = []\n",
    "for mol in HG_data:\n",
    "        full_dataset.append(mol)\n",
    "# remove the H2O-Li molecule because we are not able to treat it with the\n",
    "# current implementation of the functions\n",
    "ind =  full_dataset.index('H2O-Li')\n",
    "del full_dataset[ind]\n",
    "# remove also Li2 because the gs calculation does not converge with the\n",
    "# actual range of parameters\n",
    "ind =  full_dataset.index('Li2')\n",
    "del full_dataset[ind]\n",
    "# remove the FH-OH molecule because we are not able to treat it with the\n",
    "# current implementation of the functions\n",
    "ind =  full_dataset.index('FH-OH')\n",
    "del full_dataset[ind]\n",
    "full_dataset.sort()"
   ]
  },
  {
   "cell_type": "code",
   "execution_count": 10,
   "metadata": {},
   "outputs": [
    {
     "data": {
      "text/plain": [
       "129"
      ]
     },
     "execution_count": 10,
     "metadata": {},
     "output_type": "execute_result"
    }
   ],
   "source": [
    "len(full_dataset)"
   ]
  },
  {
   "cell_type": "code",
   "execution_count": 11,
   "metadata": {},
   "outputs": [],
   "source": [
    "# no molecule is missing in Data\n",
    "for mol in full_dataset:\n",
    "    d = os.path.join('Data',mol)\n",
    "    if not os.path.isdir(d):\n",
    "        print mol"
   ]
  },
  {
   "cell_type": "markdown",
   "metadata": {},
   "source": [
    "Run the dataset"
   ]
  },
  {
   "cell_type": "code",
   "execution_count": 13,
   "metadata": {},
   "outputs": [],
   "source": [
    "options={'wf_convergence':1.e-6,'hgrids':0.3,'rmult_fine':9.0,'rtol':1.e-3,'atol':1.e-3,\\\n",
    "         'reference_data':HG_data,'data_directory':'Data'}"
   ]
  },
  {
   "cell_type": "code",
   "execution_count": 14,
   "metadata": {},
   "outputs": [
    {
     "name": "stdout",
     "output_type": "stream",
     "text": [
      "Initialize a Calculator with OMP_NUM_THREADS=2 and command mpirun -np 4 /home/marco/Applications/BigDFT/binaries/v1.8.3/install/bin/bigdft\n"
     ]
    }
   ],
   "source": [
    "code=C.SystemCalculator(omp=omp,mpi_run=mpi_run,skip=True,verbose=False)"
   ]
  },
  {
   "cell_type": "code",
   "execution_count": 15,
   "metadata": {
    "scrolled": false
   },
   "outputs": [
    {
     "name": "stdout",
     "output_type": "stream",
     "text": [
      "\n",
      "CO lda_pw hgh_k\n",
      "Fetching results for id \" {'rmult': 4.0} \"\n",
      "Fetching results for id \" {'rmult': 5.0} \"\n",
      "Fetching results for id \" {'rmult': 6.0} \"\n",
      "Convergence reached in Dataset \"CO-lda_pw-hgh_k(GS)\" for id \" {'rmult': 5.0} \"\n",
      "Fetching results for id \" {'f': 0.01} \"\n",
      "Fetching results for id \" {'f': 0.005} \"\n",
      "Fetching results for id \" {'f': 0.001} \"\n",
      "Convergence reached in Dataset \"CO-lda_pw-hgh_k(field)\" for id \" {'f': 0.005} \"\n",
      "Fetching results for id \" {'rmult': 5.0, 'f': 0.005} \"\n",
      "Fetching results for id \" {'rmult': 6.0, 'f': 0.005} \"\n",
      "Fetching results for id \" {'rmult': 7.0, 'f': 0.005} \"\n",
      "Fetching results for id \" {'rmult': 8.0, 'f': 0.005} \"\n",
      "Convergence reached in Dataset \"CO-lda_pw-hgh_k(domain)\" for id \" {'rmult': 7.0, 'f': 0.005} \"\n",
      "('Relative difference in %', [-0.03213317340353974, -0.03213317340353974, -0.30443194310611926])\n",
      "\n",
      "CO pbe hgh_k\n",
      "Fetching results for id \" {'rmult': 4.0} \"\n",
      "Fetching results for id \" {'rmult': 5.0} \"\n",
      "Fetching results for id \" {'rmult': 6.0} \"\n",
      "Convergence reached in Dataset \"CO-pbe-hgh_k(GS)\" for id \" {'rmult': 5.0} \"\n",
      "Fetching results for id \" {'f': 0.01} \"\n",
      "Fetching results for id \" {'f': 0.005} \"\n",
      "Fetching results for id \" {'f': 0.001} \"\n",
      "Convergence reached in Dataset \"CO-pbe-hgh_k(field)\" for id \" {'f': 0.005} \"\n",
      "Fetching results for id \" {'rmult': 5.0, 'f': 0.005} \"\n",
      "Fetching results for id \" {'rmult': 6.0, 'f': 0.005} \"\n",
      "Fetching results for id \" {'rmult': 7.0, 'f': 0.005} \"\n",
      "Fetching results for id \" {'rmult': 8.0, 'f': 0.005} \"\n",
      "Convergence reached in Dataset \"CO-pbe-hgh_k(domain)\" for id \" {'rmult': 7.0, 'f': 0.005} \"\n",
      "('Relative difference in %', [-0.12151778998597862, -0.12151778998597862, -0.257206940504792])\n",
      "\n",
      "CO pbe nlcc_aw\n",
      "Fetching results for id \" {'rmult': 4.0} \"\n",
      "Fetching results for id \" {'rmult': 5.0} \"\n",
      "Fetching results for id \" {'rmult': 6.0} \"\n",
      "Convergence reached in Dataset \"CO-pbe-nlcc_aw(GS)\" for id \" {'rmult': 5.0} \"\n",
      "Fetching results for id \" {'f': 0.01} \"\n",
      "Fetching results for id \" {'f': 0.005} \"\n",
      "Fetching results for id \" {'f': 0.001} \"\n",
      "Convergence reached in Dataset \"CO-pbe-nlcc_aw(field)\" for id \" {'f': 0.005} \"\n",
      "Fetching results for id \" {'rmult': 5.0, 'f': 0.005} \"\n",
      "Fetching results for id \" {'rmult': 6.0, 'f': 0.005} \"\n",
      "Fetching results for id \" {'rmult': 7.0, 'f': 0.005} \"\n",
      "Fetching results for id \" {'rmult': 8.0, 'f': 0.005} \"\n",
      "Convergence reached in Dataset \"CO-pbe-nlcc_aw(domain)\" for id \" {'rmult': 7.0, 'f': 0.005} \"\n",
      "('Relative difference in %', [0.1266037733590598, 0.1266037733590598, -0.35506403390880337])\n",
      "\n",
      "CO pbe nlcc_ss\n",
      "Fetching results for id \" {'rmult': 4.0} \"\n",
      "Fetching results for id \" {'rmult': 5.0} \"\n",
      "Fetching results for id \" {'rmult': 6.0} \"\n",
      "Convergence reached in Dataset \"CO-pbe-nlcc_ss(GS)\" for id \" {'rmult': 5.0} \"\n",
      "Fetching results for id \" {'f': 0.01} \"\n",
      "Fetching results for id \" {'f': 0.005} \"\n",
      "Fetching results for id \" {'f': 0.001} \"\n",
      "Convergence reached in Dataset \"CO-pbe-nlcc_ss(field)\" for id \" {'f': 0.005} \"\n",
      "Fetching results for id \" {'rmult': 5.0, 'f': 0.005} \"\n",
      "Fetching results for id \" {'rmult': 6.0, 'f': 0.005} \"\n",
      "Fetching results for id \" {'rmult': 7.0, 'f': 0.005} \"\n",
      "Fetching results for id \" {'rmult': 8.0, 'f': 0.005} \"\n",
      "Convergence reached in Dataset \"CO-pbe-nlcc_ss(domain)\" for id \" {'rmult': 7.0, 'f': 0.005} \"\n",
      "('Relative difference in %', [0.006155792388460993, 0.006155792388460993, -0.14949929519175825])\n",
      "\n",
      "CO pbe0 hgh_k\n",
      "Fetching results for id \" {'rmult': 4.0} \"\n",
      "Fetching results for id \" {'rmult': 5.0} \"\n",
      "Fetching results for id \" {'rmult': 6.0} \"\n",
      "Convergence reached in Dataset \"CO-pbe0-hgh_k(GS)\" for id \" {'rmult': 5.0} \"\n",
      "Fetching results for id \" {'f': 0.01} \"\n",
      "Fetching results for id \" {'f': 0.005} \"\n",
      "Fetching results for id \" {'f': 0.001} \"\n",
      "Convergence reached in Dataset \"CO-pbe0-hgh_k(field)\" for id \" {'f': 0.005} \"\n",
      "Fetching results for id \" {'rmult': 5.0, 'f': 0.005} \"\n",
      "Fetching results for id \" {'rmult': 6.0, 'f': 0.005} \"\n",
      "Fetching results for id \" {'rmult': 7.0, 'f': 0.005} \"\n",
      "Fetching results for id \" {'rmult': 8.0, 'f': 0.005} \"\n",
      "Convergence reached in Dataset \"CO-pbe0-hgh_k(domain)\" for id \" {'rmult': 7.0, 'f': 0.005} \"\n",
      "('Relative difference in %', [0.10209664069404235, 0.10209664069404235, -0.1637515964388872])\n",
      "\n",
      "NO lda_pw hgh_k\n",
      "Fetching results for id \" {'rmult': 4.0} \"\n",
      "Fetching results for id \" {'rmult': 5.0} \"\n",
      "Fetching results for id \" {'rmult': 6.0} \"\n",
      "Convergence reached in Dataset \"NO-lda_pw-hgh_k(GS)\" for id \" {'rmult': 5.0} \"\n",
      "Fetching results for id \" {'f': 0.01} \"\n",
      "Fetching results for id \" {'f': 0.005} \"\n",
      "Convergence reached in Dataset \"NO-lda_pw-hgh_k(field)\" for id \" {'f': 0.01} \"\n",
      "Fetching results for id \" {'rmult': 5.0, 'f': 0.01} \"\n",
      "Fetching results for id \" {'rmult': 6.0, 'f': 0.01} \"\n",
      "Fetching results for id \" {'rmult': 7.0, 'f': 0.01} \"\n",
      "Fetching results for id \" {'rmult': 8.0, 'f': 0.01} \"\n",
      "Fetching results for id \" {'rmult': 9.0, 'f': 0.01} \"\n",
      "Fetching results for id \" {'rmult': 10.0, 'f': 0.01} \"\n",
      "Convergence reached in Dataset \"NO-lda_pw-hgh_k(domain)\" for id \" {'rmult': 9.0, 'f': 0.01} \"\n",
      "('Relative difference in %', [-13.066352686058513, -13.066352686058513, 0.06238531817296202])\n",
      "\n",
      "NO pbe hgh_k\n",
      "Fetching results for id \" {'rmult': 4.0} \"\n",
      "Fetching results for id \" {'rmult': 5.0} \"\n",
      "Fetching results for id \" {'rmult': 6.0} \"\n",
      "Convergence reached in Dataset \"NO-pbe-hgh_k(GS)\" for id \" {'rmult': 5.0} \"\n",
      "Fetching results for id \" {'f': 0.01} \"\n",
      "Fetching results for id \" {'f': 0.005} \"\n",
      "Convergence reached in Dataset \"NO-pbe-hgh_k(field)\" for id \" {'f': 0.01} \"\n",
      "Fetching results for id \" {'rmult': 5.0, 'f': 0.01} \"\n",
      "Fetching results for id \" {'rmult': 6.0, 'f': 0.01} \"\n",
      "Fetching results for id \" {'rmult': 7.0, 'f': 0.01} \"\n",
      "Fetching results for id \" {'rmult': 8.0, 'f': 0.01} \"\n",
      "Fetching results for id \" {'rmult': 9.0, 'f': 0.01} \"\n",
      "Fetching results for id \" {'rmult': 10.0, 'f': 0.01} \"\n",
      "Convergence reached in Dataset \"NO-pbe-hgh_k(domain)\" for id \" {'rmult': 9.0, 'f': 0.01} \"\n",
      "('Relative difference in %', [-14.073515118047919, -14.073515118047919, 0.07833877294466264])\n",
      "\n",
      "NO pbe nlcc_aw\n",
      "Fetching results for id \" {'rmult': 4.0} \"\n",
      "Fetching results for id \" {'rmult': 5.0} \"\n",
      "Fetching results for id \" {'rmult': 6.0} \"\n",
      "Convergence reached in Dataset \"NO-pbe-nlcc_aw(GS)\" for id \" {'rmult': 5.0} \"\n",
      "Fetching results for id \" {'f': 0.01} \"\n",
      "Fetching results for id \" {'f': 0.005} \"\n",
      "Convergence reached in Dataset \"NO-pbe-nlcc_aw(field)\" for id \" {'f': 0.01} \"\n",
      "Fetching results for id \" {'rmult': 5.0, 'f': 0.01} \"\n",
      "Fetching results for id \" {'rmult': 6.0, 'f': 0.01} \"\n",
      "Fetching results for id \" {'rmult': 7.0, 'f': 0.01} \"\n",
      "Fetching results for id \" {'rmult': 8.0, 'f': 0.01} \"\n",
      "Fetching results for id \" {'rmult': 9.0, 'f': 0.01} \"\n",
      "Fetching results for id \" {'rmult': 10.0, 'f': 0.01} \"\n",
      "Convergence reached in Dataset \"NO-pbe-nlcc_aw(domain)\" for id \" {'rmult': 9.0, 'f': 0.01} \"\n",
      "('Relative difference in %', [-13.772762523680612, -13.772762523680612, 0.287055887442112])\n",
      "\n",
      "NO pbe nlcc_ss\n",
      "Fetching results for id \" {'rmult': 4.0} \"\n",
      "Fetching results for id \" {'rmult': 5.0} \"\n",
      "Fetching results for id \" {'rmult': 6.0} \"\n",
      "Convergence reached in Dataset \"NO-pbe-nlcc_ss(GS)\" for id \" {'rmult': 5.0} \"\n",
      "Fetching results for id \" {'f': 0.01} \"\n",
      "Fetching results for id \" {'f': 0.005} \"\n",
      "Convergence reached in Dataset \"NO-pbe-nlcc_ss(field)\" for id \" {'f': 0.01} \"\n",
      "Fetching results for id \" {'rmult': 5.0, 'f': 0.01} \"\n",
      "Fetching results for id \" {'rmult': 6.0, 'f': 0.01} \"\n",
      "Fetching results for id \" {'rmult': 7.0, 'f': 0.01} \"\n",
      "Fetching results for id \" {'rmult': 8.0, 'f': 0.01} \"\n",
      "Fetching results for id \" {'rmult': 9.0, 'f': 0.01} \"\n",
      "Fetching results for id \" {'rmult': 10.0, 'f': 0.01} \"\n",
      "Convergence reached in Dataset \"NO-pbe-nlcc_ss(domain)\" for id \" {'rmult': 9.0, 'f': 0.01} \"\n",
      "('Relative difference in %', [-13.903691224733274, -13.903691224733274, 0.6095673840471036])\n",
      "\n",
      "NO pbe0 hgh_k\n",
      "Fetching results for id \" {'rmult': 4.0} \"\n",
      "Fetching results for id \" {'rmult': 5.0} \"\n",
      "Fetching results for id \" {'rmult': 6.0} \"\n",
      "Convergence reached in Dataset \"NO-pbe0-hgh_k(GS)\" for id \" {'rmult': 5.0} \"\n",
      "Fetching results for id \" {'f': 0.01} \"\n",
      "Fetching results for id \" {'f': 0.005} \"\n",
      "Convergence reached in Dataset \"NO-pbe0-hgh_k(field)\" for id \" {'f': 0.01} \"\n",
      "Fetching results for id \" {'rmult': 5.0, 'f': 0.01} \"\n",
      "Fetching results for id \" {'rmult': 6.0, 'f': 0.01} \"\n"
     ]
    },
    {
     "name": "stdout",
     "output_type": "stream",
     "text": [
      "Fetching results for id \" {'rmult': 7.0, 'f': 0.01} \"\n",
      "Fetching results for id \" {'rmult': 8.0, 'f': 0.01} \"\n",
      "Fetching results for id \" {'rmult': 9.0, 'f': 0.01} \"\n",
      "Convergence reached in Dataset \"NO-pbe0-hgh_k(domain)\" for id \" {'rmult': 8.0, 'f': 0.01} \"\n",
      "('Relative difference in %', [-9.76090968666787, -9.76090968666787, 0.12039364425358311])\n"
     ]
    }
   ],
   "source": [
    "full_data = {}\n",
    "#for molecule in nsp_split[0]:\n",
    "for molecule in full_dataset:\n",
    "    for xc in ['lda_pw','pbe','pbe0']:\n",
    "        psp = ['hgh_k'] if xc != 'pbe' else get_psp(molecule)\n",
    "        for p in psp:\n",
    "            print ''\n",
    "            print molecule,xc,p\n",
    "            gs_data=gs_study(molecule,(xc,p),code,options)\n",
    "            full_data[(molecule,xc,p)]=alpha_study(gs_data,code,options)\n",
    "            full_data[(molecule,xc,p)].update(gs_data)"
   ]
  },
  {
   "cell_type": "code",
   "execution_count": 17,
   "metadata": {},
   "outputs": [],
   "source": [
    "results = data_to_save(full_data,options)\n",
    "#results"
   ]
  },
  {
   "cell_type": "code",
   "execution_count": 19,
   "metadata": {},
   "outputs": [],
   "source": [
    "with open('full_results.yaml', 'w') as outfile:\n",
    "    yaml.dump(results, outfile, default_flow_style=False)"
   ]
  },
  {
   "cell_type": "markdown",
   "metadata": {},
   "source": [
    "Test for the fetching of the data"
   ]
  },
  {
   "cell_type": "code",
   "execution_count": 20,
   "metadata": {},
   "outputs": [],
   "source": [
    "plu = yaml.load(open('full_results.yaml'))"
   ]
  },
  {
   "cell_type": "code",
   "execution_count": 21,
   "metadata": {},
   "outputs": [
    {
     "data": {
      "text/plain": [
       "{'alpha_convergence': ({'f': 0.005, 'rmult': 7.0},\n",
       "  [12.540765999999998, 12.540765999999998, 15.889695000000001]),\n",
       " 'input_gs': {'dft': {'gnrm_cv': 1e-06,\n",
       "   'hgrids': 0.3,\n",
       "   'ixc': 11,\n",
       "   'rmult': [5.0, 9.0]}},\n",
       " 'posinp': {'positions': [{'C': [0.0, 0.0, 0.0], 'frag': ['molecule', '0']},\n",
       "   {'O': [0.0, 0.0, 1.1282], 'frag': ['molecule', '0']}],\n",
       "  'units': 'angstroem'}}"
      ]
     },
     "execution_count": 21,
     "metadata": {},
     "output_type": "execute_result"
    }
   ],
   "source": [
    "plu[('CO', 'pbe', 'nlcc_aw')]"
   ]
  },
  {
   "cell_type": "code",
   "execution_count": null,
   "metadata": {},
   "outputs": [],
   "source": []
  },
  {
   "cell_type": "code",
   "execution_count": 1,
   "metadata": {},
   "outputs": [],
   "source": [
    "#from futile import YamlIO as Y\n",
    "#from futile.Utils import make_dict\n",
    "#res_file = 'results.yaml'\n",
    "#local_res = make_dict(results)\n",
    "#Y.dump(local_res, filename=res_file)"
   ]
  }
 ],
 "metadata": {
  "kernelspec": {
   "display_name": "Python 2",
   "language": "python",
   "name": "python2"
  },
  "language_info": {
   "codemirror_mode": {
    "name": "ipython",
    "version": 2
   },
   "file_extension": ".py",
   "mimetype": "text/x-python",
   "name": "python",
   "nbconvert_exporter": "python",
   "pygments_lexer": "ipython2",
   "version": "2.7.15+"
  }
 },
 "nbformat": 4,
 "nbformat_minor": 2
}
