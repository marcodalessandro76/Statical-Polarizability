{
 "cells": [
  {
   "cell_type": "code",
   "execution_count": 1,
   "metadata": {},
   "outputs": [
    {
     "data": {
      "text/plain": [
       "'/home/dalessandro/work/Statical_polarizability/Calculations'"
      ]
     },
     "execution_count": 1,
     "metadata": {},
     "output_type": "execute_result"
    }
   ],
   "source": [
    "from BigDFT import Datasets as D, Calculators as C, Inputfiles as I, Logfiles as lf\n",
    "from BigDFT.Database import Molecules\n",
    "import sys,os\n",
    "sys.path.insert(0,'../')\n",
    "import StatPol as SP\n",
    "\n",
    "basepath = os.getcwd()\n",
    "basepath"
   ]
  },
  {
   "cell_type": "code",
   "execution_count": 2,
   "metadata": {},
   "outputs": [],
   "source": [
    "omp = 2\n",
    "mpi_run = 'mpirun -np 8'"
   ]
  },
  {
   "cell_type": "markdown",
   "metadata": {},
   "source": [
    "# Workflow"
   ]
  },
  {
   "cell_type": "markdown",
   "metadata": {},
   "source": [
    "This notebook contains the complete workflow to extract the statical polarizability of the HG dataset."
   ]
  },
  {
   "cell_type": "markdown",
   "metadata": {},
   "source": [
    "## Construction of the relevant tools"
   ]
  },
  {
   "cell_type": "markdown",
   "metadata": {},
   "source": [
    "Define the functions needed to perform the workflow"
   ]
  },
  {
   "cell_type": "code",
   "execution_count": 3,
   "metadata": {},
   "outputs": [],
   "source": [
    "# Service functions \n",
    "\n",
    "def change_workdir(molecule,study,datadir):\n",
    "    \"\"\"\n",
    "    Ensure that the path Data_directory/molecule exists and\n",
    "    move there. \n",
    "    \"\"\"\n",
    "    from futile.Utils import ensure_dir\n",
    "    for d in [datadir,molecule]:\n",
    "        ensure_dir(d)\n",
    "        os.chdir(d)\n",
    "    path='-'.join(study)\n",
    "    ensure_dir(path)\n",
    "    return '-'.join([molecule,path]),path\n",
    "\n",
    "def get_psp(molecule):\n",
    "    \"\"\"\n",
    "    Check if the all the atoms of molecule have the psp of the type nlss_aw and nlcc_ss. \n",
    "    If it is true the corresponding pseudo is added to the list of psp to be performed, otherwise \n",
    "    only hgh_k is included.\n",
    "    \"\"\"\n",
    "    from os import path as p\n",
    "    import Routines as R\n",
    "    possible_psp=['nlcc_aw','nlcc_ss']\n",
    "    to_do=[True,True]\n",
    "    for at in R.get_atoms(molecule):\n",
    "        psp_available = [p.isfile(p.join('psp_'+psp,'psppar.'+at)) for psp in possible_psp]\n",
    "        to_do = [ a and b for a,b in zip(to_do,psp_available)]\n",
    "    return ['hgh_k'] + [psp for yes,psp in zip(to_do,possible_psp) if yes]\n",
    "\n",
    "def split_dataset(dataset,length=10):\n",
    "    \"\"\"\n",
    "    Split a list of molecules into a list of list with length elements. \n",
    "    \"\"\"\n",
    "    splitted = [[] for num in range(int(len(dataset)/length)+1)]\n",
    "    for ind,mol in enumerate(dataset):\n",
    "        splitted[int(ind/length)].append(mol)\n",
    "    return splitted"
   ]
  },
  {
   "cell_type": "code",
   "execution_count": 4,
   "metadata": {},
   "outputs": [],
   "source": [
    "# Tools for the ground state\n",
    "\n",
    "def get_converged_input_energy(dataset,rtol,atol):\n",
    "    data=dataset.seek_convergence(atol=atol,rtol=rtol,attribute='energy')\n",
    "    return dataset.runs[dataset.names.index(D.name_from_id(data[0]))]['input'],data[1]\n",
    "\n",
    "def find_gs_domain(label,rtol,atol,path,input,posinp,code):\n",
    "    \"\"\"\n",
    "    Use the seek_convergence method of Dataset to perform a convergence procedure on\n",
    "    the rmult value for a gs computation.\n",
    "    \"\"\"\n",
    "    crmult=input['dft']['rmult'][0]\n",
    "    rmult_fine=input['dft']['rmult'][1]\n",
    "    rmult_list=map(float,range(int(crmult),11))\n",
    "    seek_for_rmult = D.Dataset(label=label+'(GS)',run_dir=path,posinp=posinp)\n",
    "    for rm in rmult_list:\n",
    "        input.set_rmult(coarse=rm,fine=rmult_fine)\n",
    "        seek_for_rmult.append_run(id={'rmult':rm},runner=code,input=input)\n",
    "    input_gs,log_gs=get_converged_input_energy(seek_for_rmult,rtol,atol)\n",
    "    return {'input_gs':input_gs, 'dataset_gs': seek_for_rmult,'log_gs':log_gs}\n",
    "\n",
    "def gs_study(molecule,study,code,options):\n",
    "    \"\"\"\"\n",
    "    Workflow for the convergence analysis of the ground state.\n",
    "    \n",
    "    Args : \n",
    "       molecule (str) : name of the molecule\n",
    "       study (touple) : the couple (xc,psp)\n",
    "       code (runner)  : instance of SystemCalculator\n",
    "       options (dict) : dictionary with the computational options\n",
    "    \"\"\"\n",
    "    import Routines as R\n",
    "    hgrids=options.get('hgrids')\n",
    "    rmult_fine=options.get('rmult_fine')\n",
    "    wf_convergence=options.get('wf_convergence')\n",
    "    crmult_start=options.get('crmult',4.0)\n",
    "    rtol=options.get('rtol_gs',10*wf_convergence)\n",
    "    atol=options.get('atol_gs',1.e-3)\n",
    "    reference_results=options.get('reference_data')\n",
    "    datadir=options.get('data_directory','Data')\n",
    "\n",
    "    initial_dir=os.path.abspath(os.path.dirname('.'))\n",
    "    label,path=change_workdir(molecule,study,datadir)\n",
    "    \n",
    "    posinp=Molecules.Molecule(molecule)\n",
    "    \n",
    "    inp = I.Inputfile()\n",
    "    inp.set_hgrid(hgrids)\n",
    "    inp.set_rmult(coarse=crmult_start,fine=rmult_fine)\n",
    "    R.set_xc[study](inp,molecule,datadir)\n",
    "    inp.set_wavefunction_convergence(wf_convergence)\n",
    "    mpol=int(reference_results[molecule]['mpol_ref'])-1   \n",
    "    if mpol >0: inp.spin_polarize(mpol)\n",
    "    data= find_gs_domain(label,10*wf_convergence,atol,path,inp,posinp,code)\n",
    "    os.chdir(initial_dir)\n",
    "    \n",
    "    data['molecule']=molecule\n",
    "    data['posinp']=posinp\n",
    "    data['study']=study\n",
    "    return data "
   ]
  },
  {
   "cell_type": "code",
   "execution_count": 5,
   "metadata": {},
   "outputs": [],
   "source": [
    "# Tools for alpha\n",
    "def extract_statical_polarizability(label,rtol,atol,path,input_for_alpha,posinp,code,ref):\n",
    "    \n",
    "    # seek for the field convergence\n",
    "    ints=[1e-2,5e-3,1e-3,5e-4,1e-4]\n",
    "    alpha_field=D.Dataset(label=label+'(field)',run_dir=path)\n",
    "    for f in ints:\n",
    "        alpha_field.append_run(id={'f':f},runner=SP.build_alpha_dataset(input=input_for_alpha,posinp=posinp,run_dir=path,runner=code,intensity=f))\n",
    "    try:\n",
    "        data_field=alpha_field.seek_convergence(rtol=rtol,atol=atol)\n",
    "        intensity=data_field[0]['f']\n",
    "    except:\n",
    "        print ('Convergence in field not reached')\n",
    "        intensity=ints[-1]\n",
    "    \n",
    "    # seek for the rmult convergence\n",
    "    rmult_fine=input_for_alpha['dft']['rmult'][1]\n",
    "    rmult_list=map(float,range(int(input_for_alpha['dft']['rmult'][0]),13)) #enlarged for seeking convergence in some molecules\n",
    "    alpha_rmult=D.Dataset(label=label+'(domain)',run_dir=path)\n",
    "    for rm in rmult_list:\n",
    "        input_for_alpha.set_rmult(coarse=rm,fine=rmult_fine)\n",
    "        alpha_rmult.append_run(id={'f':intensity,'rmult':rm},runner=SP.build_alpha_dataset(input=input_for_alpha,posinp=posinp,run_dir=path,runner=code,intensity=intensity))\n",
    "    try:\n",
    "        import numpy as np\n",
    "        data_final=alpha_rmult.seek_convergence(rtol=rtol,atol=atol)\n",
    "        AuToA = 0.5291772085**3\n",
    "        alpha_ref_ii = np.array(ref)/AuToA\n",
    "        eps = 100.0 * (data_final[1]-alpha_ref_ii)/alpha_ref_ii\n",
    "        print ('Relative difference in %',eps.tolist())\n",
    "    except LookupError as e:\n",
    "        print ('Convergence in domain not reached',e)\n",
    "        data_final=None\n",
    "    return {'alpha_convergence': data_final, 'dataset_field': alpha_field, 'dataset_rmult': alpha_rmult}\n",
    "\n",
    "\n",
    "def alpha_study(gs_data,code,options):\n",
    "    \"\"\"\"\n",
    "    Workflow for the convergence analysis for the computation of alpha.\n",
    "    \n",
    "    Args : \n",
    "       gs_data        : output of gs_study\n",
    "       code (runner)  : instance of SystemCalculator\n",
    "       options (dict) : dictionary with the computational options\n",
    "    \"\"\"\n",
    "    import copy\n",
    "    xc_conversion={'lda_pw': 'lda-SPW92', 'pbe': 'pbe', 'pbe0': 'pbe0'}\n",
    "    rtol=options.get('rtol',1.e-2)\n",
    "    atol=options.get('atol',1.e-3)\n",
    "    reference_results=options.get('reference_data')\n",
    "    datadir=options.get('data_directory','Data')\n",
    "    study=gs_data['study']\n",
    "    molecule=gs_data['molecule']\n",
    "    posinp=gs_data['posinp']\n",
    "    xc=study[0]\n",
    "    ref_data=reference_results[molecule][xc_conversion[xc]]\n",
    "    \n",
    "    initial_dir=os.path.abspath(os.path.dirname('.'))\n",
    "    label,path=change_workdir(molecule,study,datadir)\n",
    "    input_gs=copy.deepcopy(gs_data['input_gs'])\n",
    "        \n",
    "    data=extract_statical_polarizability(label,rtol,atol,path,input_gs,posinp,code,ref=ref_data)\n",
    "    os.chdir(initial_dir)\n",
    "    \n",
    "    return data"
   ]
  },
  {
   "cell_type": "code",
   "execution_count": 6,
   "metadata": {},
   "outputs": [],
   "source": [
    "def data_to_save(data,options):\n",
    "    \"\"\"\n",
    "    Define the dictionary to be saved on file for data analysis\n",
    "    \"\"\"\n",
    "    from copy import deepcopy\n",
    "    res = {}\n",
    "    for s,values in data.iteritems():\n",
    "        res[s] = {}\n",
    "        if not (values['alpha_convergence'] is None):\n",
    "            res[s]['alpha_convergence'] = (values['alpha_convergence'][0],values['alpha_convergence'][1].tolist())\n",
    "        else : \n",
    "            res[s]['alpha_convergence'] = values['alpha_convergence']\n",
    "        \n",
    "        res[s]['posinp'] = {}\n",
    "        pos = values['posinp']\n",
    "        for key in pos:\n",
    "            res[s]['posinp'][key] = pos[key]\n",
    "        \n",
    "        res[s]['input_gs'] = {}\n",
    "        inp = values['input_gs']\n",
    "        for key in inp:\n",
    "            res[s]['input_gs'][key] = inp[key]\n",
    "        \n",
    "    save_options = deepcopy(options)\n",
    "    save_options.pop('reference_data')\n",
    "    res['options'] = save_options\n",
    "    return res"
   ]
  },
  {
   "cell_type": "markdown",
   "metadata": {},
   "source": [
    "## Single study analysis"
   ]
  },
  {
   "cell_type": "markdown",
   "metadata": {},
   "source": [
    "Build the dataset using the HG data written in hg_data.yaml. To each molecule of the dataset associate a set of studies=(xc,psp)"
   ]
  },
  {
   "cell_type": "code",
   "execution_count": 8,
   "metadata": {},
   "outputs": [],
   "source": [
    "import yaml\n",
    "HG_data=yaml.load(open('../HG Dataset/hg_data.yaml'))"
   ]
  },
  {
   "cell_type": "code",
   "execution_count": 9,
   "metadata": {},
   "outputs": [
    {
     "name": "stdout",
     "output_type": "stream",
     "text": [
      "Initialize a Calculator with OMP_NUM_THREADS=2 and command mpirun -np 8 /home/dalessandro/Applications/BigDFT/binaries/v1.8.4/install/bin/bigdft\n"
     ]
    }
   ],
   "source": [
    "code=C.SystemCalculator(omp=omp,mpi_run=mpi_run,skip=True,verbose=False)"
   ]
  },
  {
   "cell_type": "code",
   "execution_count": 10,
   "metadata": {},
   "outputs": [],
   "source": [
    "options={'wf_convergence':1.e-6,'hgrids':0.3,'rmult_fine':9.0,'rtol':1.e-3,'atol':1.e-3,\\\n",
    "         'reference_data':HG_data,'data_directory':'Data'}"
   ]
  },
  {
   "cell_type": "markdown",
   "metadata": {},
   "source": [
    "We can perform a single study with this workflow"
   ]
  },
  {
   "cell_type": "code",
   "execution_count": 11,
   "metadata": {},
   "outputs": [],
   "source": [
    "molecule = 'CO'\n",
    "xc = 'pbe'\n",
    "psp = 'nlcc_aw'\n",
    "study_data = {}"
   ]
  },
  {
   "cell_type": "code",
   "execution_count": 12,
   "metadata": {},
   "outputs": [
    {
     "name": "stdout",
     "output_type": "stream",
     "text": [
      "Fetching results for id \" {'rmult': 4.0} \"\n",
      "Fetching results for id \" {'rmult': 5.0} \"\n",
      "Fetching results for id \" {'rmult': 6.0} \"\n",
      "Convergence reached in Dataset \"CO-pbe-nlcc_aw(GS)\" for id \" {'rmult': 5.0} \"\n"
     ]
    }
   ],
   "source": [
    "gs_data=gs_study(molecule,(xc,psp),code,options)"
   ]
  },
  {
   "cell_type": "code",
   "execution_count": 13,
   "metadata": {},
   "outputs": [
    {
     "data": {
      "text/plain": [
       "{'dataset_gs': <BigDFT.Datasets.Dataset instance at 0x7fc3f8122c68>,\n",
       " 'input_gs': {'dft': {'gnrm_cv': 1e-06,\n",
       "   'hgrids': 0.3,\n",
       "   'ixc': 11,\n",
       "   'rmult': [5.0, 9.0]}},\n",
       " 'log_gs': <BigDFT.Logfiles.Logfile instance at 0x7fc3f854dc20>,\n",
       " 'molecule': 'CO',\n",
       " 'posinp': {'positions': [{'C': [0.0, 0.0, 0.0], 'frag': ['molecule', '0']},\n",
       "   {'O': [0.0, 0.0, 1.1282], 'frag': ['molecule', '0']}],\n",
       "  'units': 'angstroem'},\n",
       " 'study': ('pbe', 'nlcc_aw')}"
      ]
     },
     "execution_count": 13,
     "metadata": {},
     "output_type": "execute_result"
    }
   ],
   "source": [
    "gs_data"
   ]
  },
  {
   "cell_type": "code",
   "execution_count": 14,
   "metadata": {},
   "outputs": [
    {
     "name": "stdout",
     "output_type": "stream",
     "text": [
      "Fetching results for id \" {'f': 0.01} \"\n",
      "Fetching results for id \" {'f': 0.005} \"\n",
      "Fetching results for id \" {'f': 0.001} \"\n",
      "Convergence reached in Dataset \"CO-pbe-nlcc_aw(field)\" for id \" {'f': 0.005} \"\n",
      "Fetching results for id \" {'rmult': 5.0, 'f': 0.005} \"\n",
      "Fetching results for id \" {'rmult': 6.0, 'f': 0.005} \"\n",
      "Fetching results for id \" {'rmult': 7.0, 'f': 0.005} \"\n",
      "Fetching results for id \" {'rmult': 8.0, 'f': 0.005} \"\n",
      "Convergence reached in Dataset \"CO-pbe-nlcc_aw(domain)\" for id \" {'rmult': 7.0, 'f': 0.005} \"\n",
      "('Relative difference in %', [0.1266037733590598, 0.1266037733590598, -0.35506403390880337])\n"
     ]
    }
   ],
   "source": [
    "study_data[(molecule,xc,psp)]=alpha_study(gs_data,code,options)\n",
    "study_data[(molecule,xc,psp)].update(gs_data)"
   ]
  },
  {
   "cell_type": "code",
   "execution_count": 15,
   "metadata": {},
   "outputs": [
    {
     "data": {
      "text/plain": [
       "{('CO',\n",
       "  'pbe',\n",
       "  'nlcc_aw'): {'alpha_convergence': ({'f': 0.005, 'rmult': 7.0},\n",
       "   array([12.540766, 12.540766, 15.889695])), 'dataset_field': <BigDFT.Datasets.Dataset instance at 0x7fc3f82a05f0>, 'dataset_gs': <BigDFT.Datasets.Dataset instance at 0x7fc3f8122c68>, 'dataset_rmult': <BigDFT.Datasets.Dataset instance at 0x7fc3f81285f0>, 'input_gs': {'dft': {'gnrm_cv': 1e-06,\n",
       "    'hgrids': 0.3,\n",
       "    'ixc': 11,\n",
       "    'rmult': [5.0,\n",
       "     9.0]}}, 'log_gs': <BigDFT.Logfiles.Logfile instance at 0x7fc3f854dc20>, 'molecule': 'CO', 'posinp': {'positions': [{'C': [0.0,\n",
       "      0.0,\n",
       "      0.0],\n",
       "     'frag': ['molecule', '0']},\n",
       "    {'O': [0.0, 0.0, 1.1282], 'frag': ['molecule', '0']}],\n",
       "   'units': 'angstroem'}, 'study': ('pbe', 'nlcc_aw')}}"
      ]
     },
     "execution_count": 15,
     "metadata": {},
     "output_type": "execute_result"
    }
   ],
   "source": [
    "study_data"
   ]
  },
  {
   "cell_type": "markdown",
   "metadata": {},
   "source": [
    "To check if convergence has been reached we can look at 'alpha_convergence'. \n",
    "\n",
    "If the value of 'f' is the last value of the field intensity list provided in the extract_statical_polarizability function, then the field convergence has not been reached. Moreover, if 'alpha_convergence' is None the rmult convergence on alpha has failed. "
   ]
  },
  {
   "cell_type": "code",
   "execution_count": 16,
   "metadata": {},
   "outputs": [
    {
     "data": {
      "text/plain": [
       "{'options': {'atol': 0.001,\n",
       "  'data_directory': 'Data',\n",
       "  'hgrids': 0.3,\n",
       "  'rmult_fine': 9.0,\n",
       "  'rtol': 0.001,\n",
       "  'wf_convergence': 1e-06},\n",
       " ('CO',\n",
       "  'pbe',\n",
       "  'nlcc_aw'): {'alpha_convergence': ({'f': 0.005, 'rmult': 7.0},\n",
       "   [12.540765999999998,\n",
       "    12.540765999999998,\n",
       "    15.889695000000001]), 'input_gs': {'dft': {'gnrm_cv': 1e-06,\n",
       "    'hgrids': 0.3,\n",
       "    'ixc': 11,\n",
       "    'rmult': [5.0, 9.0]}}, 'posinp': {'positions': [{'C': [0.0, 0.0, 0.0],\n",
       "     'frag': ['molecule', '0']},\n",
       "    {'O': [0.0, 0.0, 1.1282], 'frag': ['molecule', '0']}],\n",
       "   'units': 'angstroem'}}}"
      ]
     },
     "execution_count": 16,
     "metadata": {},
     "output_type": "execute_result"
    }
   ],
   "source": [
    "data_to_save(study_data,options)"
   ]
  },
  {
   "cell_type": "markdown",
   "metadata": {},
   "source": [
    "## Dataset analysis"
   ]
  },
  {
   "cell_type": "markdown",
   "metadata": {},
   "source": [
    "In the same way we can run the whole dataset (or a part of it). The results of the dataset (processed by data_to_save) are stored in the full_data dictionary. This dictionary can be dumped in a Yaml file and updated with new computatitions so that the complete dataset can be runned in more than one step. "
   ]
  },
  {
   "cell_type": "code",
   "execution_count": 7,
   "metadata": {},
   "outputs": [],
   "source": [
    "import yaml\n",
    "HG_data=yaml.load(open('../HG Dataset/hg_data.yaml'))\n",
    "# set the study for H to sp\n",
    "HG_data['H']['spin_pol'] = 'sp'"
   ]
  },
  {
   "cell_type": "code",
   "execution_count": 8,
   "metadata": {},
   "outputs": [],
   "source": [
    "# for computational reason it can be useful to split the complete dataset into the sp and the nsp ones.\n",
    "# Moreover, each dataset can be divided into groups. \n",
    "sp_dataset = []\n",
    "nsp_dataset = []\n",
    "for mol in HG_data:\n",
    "    if HG_data[mol]['spin_pol'] == 'nsp': \n",
    "        nsp_dataset.append(mol)\n",
    "    else : \n",
    "        sp_dataset.append(mol)\n",
    "\n",
    "# remove Li2 because the gs calculation does not converge with the\n",
    "# actual range of parameters\n",
    "ind =  sp_dataset.index('Li2')\n",
    "del sp_dataset[ind]\n",
    "\n",
    "sp_dataset.sort()\n",
    "nsp_dataset.sort()\n",
    "sp_split = split_dataset(sp_dataset)\n",
    "nsp_split = split_dataset(nsp_dataset)"
   ]
  },
  {
   "cell_type": "code",
   "execution_count": 9,
   "metadata": {},
   "outputs": [
    {
     "name": "stdout",
     "output_type": "stream",
     "text": [
      "74\n",
      "57\n"
     ]
    }
   ],
   "source": [
    "print len(nsp_dataset)\n",
    "print len(sp_dataset)"
   ]
  },
  {
   "cell_type": "code",
   "execution_count": 10,
   "metadata": {},
   "outputs": [
    {
     "data": {
      "text/plain": [
       "[['BH2', 'BN', 'BO', 'BS', 'Be', 'BeH', 'C2H', 'C2H3', 'CH2-t', 'CH2F'],\n",
       " ['CH2NH', 'CH2PH', 'CH3', 'CH3O', 'CN', 'F2', 'FCO', 'FH-OH', 'H', 'H2CN'],\n",
       " ['H2O-Li', 'HCHS', 'HCO', 'HCP', 'HNO', 'HNS', 'HO2', 'HOF', 'Li', 'N'],\n",
       " ['N2H2', 'NCO', 'NH', 'NH2', 'NO', 'NOCl', 'NP', 'Na', 'Na2', 'NaLi'],\n",
       " ['O2', 'O3', 'OCl', 'OF', 'OF2', 'OH', 'P', 'P2', 'PH', 'PH2'],\n",
       " ['PS', 'S2', 'SCl', 'SF', 'SH', 'SO-trip', 'SiH3']]"
      ]
     },
     "execution_count": 10,
     "metadata": {},
     "output_type": "execute_result"
    }
   ],
   "source": [
    "sp_split"
   ]
  },
  {
   "cell_type": "markdown",
   "metadata": {},
   "source": [
    "We also build a complete dataset that can be run to write all the results on file"
   ]
  },
  {
   "cell_type": "code",
   "execution_count": 11,
   "metadata": {},
   "outputs": [],
   "source": [
    "full_dataset = []\n",
    "for mol in HG_data:\n",
    "        full_dataset.append(mol)\n",
    "# remove Li2 because the gs calculation does not converge with the\n",
    "# actual range of parameters\n",
    "ind =  full_dataset.index('Li2')\n",
    "del full_dataset[ind]\n",
    "full_dataset.sort()"
   ]
  },
  {
   "cell_type": "code",
   "execution_count": 12,
   "metadata": {},
   "outputs": [
    {
     "data": {
      "text/plain": [
       "131"
      ]
     },
     "execution_count": 12,
     "metadata": {},
     "output_type": "execute_result"
    }
   ],
   "source": [
    "len(full_dataset)"
   ]
  },
  {
   "cell_type": "code",
   "execution_count": 13,
   "metadata": {},
   "outputs": [],
   "source": [
    "# check if some molecule folder is missing in Data\n",
    "for mol in full_dataset:\n",
    "    d = os.path.join('Data',mol)\n",
    "    if not os.path.isdir(d):\n",
    "        print mol"
   ]
  },
  {
   "cell_type": "code",
   "execution_count": 14,
   "metadata": {},
   "outputs": [],
   "source": [
    "full_dataset_split = split_dataset(full_dataset)"
   ]
  },
  {
   "cell_type": "code",
   "execution_count": 15,
   "metadata": {},
   "outputs": [
    {
     "name": "stdout",
     "output_type": "stream",
     "text": [
      "['AlF', 'Ar', 'BF', 'BH2', 'BH2Cl', 'BH2F', 'BH3', 'BHF2', 'BN', 'BO']\n",
      "['BS', 'Be', 'BeH', 'BeH2', 'C2H', 'C2H2', 'C2H3', 'C2H4', 'CH2-t', 'CH2BH']\n",
      "['CH2F', 'CH2NH', 'CH2PH', 'CH3', 'CH3BH2', 'CH3Cl', 'CH3F', 'CH3NH2', 'CH3O', 'CH3OH']\n",
      "['CH3SH', 'CH4', 'CN', 'CO', 'CO2', 'CS', 'CSO', 'Cl2', 'ClCN', 'ClF']\n",
      "['F2', 'FCN', 'FCO', 'FH-OH', 'FNO', 'H', 'H2', 'H2CN', 'H2O', 'H2O-Li']\n",
      "['HBO', 'HBS', 'HCCCl', 'HCCF', 'HCHO', 'HCHS', 'HCN', 'HCO', 'HCONH2', 'HCOOH']\n",
      "['HCP', 'HCl', 'HF', 'HNC', 'HNO', 'HNS', 'HO2', 'HOCl', 'HOF', 'HOOH']\n",
      "['He', 'Li', 'LiBH4', 'LiCN', 'LiCl', 'LiH', 'Mg', 'Mg2', 'N', 'N2']\n",
      "['N2H2', 'N2H4', 'NCO', 'NH', 'NH2', 'NH2Cl', 'NH2F', 'NH2OH', 'NH3', 'NH3O']\n",
      "['NO', 'NOCl', 'NP', 'Na', 'Na2', 'NaCN', 'NaCl', 'NaH', 'NaLi', 'Ne']\n",
      "['O2', 'O3', 'OCl', 'OCl2', 'OF', 'OF2', 'OH', 'P', 'P2', 'P2H4']\n",
      "['PH', 'PH2', 'PH2OH', 'PH3', 'PH3O', 'PS', 'S2', 'S2H2', 'SCl', 'SCl2']\n",
      "['SF', 'SF2', 'SH', 'SH2', 'SO-trip', 'SO2', 'SiH3', 'SiH3Cl', 'SiH3F', 'SiH4']\n",
      "['SiO']\n"
     ]
    }
   ],
   "source": [
    "for sets in full_dataset_split:\n",
    "    print sets"
   ]
  },
  {
   "cell_type": "markdown",
   "metadata": {},
   "source": [
    "We build a list with the molecules that, according to the Data analysis are not converged due to rmult in the alpha convergence. For these molecules we repeat the calculation rasing the highest rmult value to 12"
   ]
  },
  {
   "cell_type": "code",
   "execution_count": 16,
   "metadata": {},
   "outputs": [],
   "source": [
    "mol_high_rmult = ['BeH','OH','C2H','CH3O','H2O-Li','FH-OH']"
   ]
  },
  {
   "cell_type": "markdown",
   "metadata": {},
   "source": [
    "Run the dataset"
   ]
  },
  {
   "cell_type": "code",
   "execution_count": 17,
   "metadata": {},
   "outputs": [],
   "source": [
    "options={'wf_convergence':1.e-6,'hgrids':0.3,'rmult_fine':9.0,'rtol':1.e-3,'atol':1.e-3,\\\n",
    "         'reference_data':HG_data,'data_directory':'Data'}"
   ]
  },
  {
   "cell_type": "code",
   "execution_count": 18,
   "metadata": {},
   "outputs": [
    {
     "name": "stdout",
     "output_type": "stream",
     "text": [
      "Initialize a Calculator with OMP_NUM_THREADS=2 and command mpirun -np 8 /home/dalessandro/Applications/BigDFT/binaries/v1.8.4/install/bin/bigdft\n"
     ]
    }
   ],
   "source": [
    "code=C.SystemCalculator(omp=omp,mpi_run=mpi_run,skip=True,verbose=False)"
   ]
  },
  {
   "cell_type": "code",
   "execution_count": 27,
   "metadata": {
    "scrolled": false
   },
   "outputs": [
    {
     "name": "stdout",
     "output_type": "stream",
     "text": [
      "\n",
      "OH lda_pw hgh_k\n",
      "Fetching results for id \" {'rmult': 4.0} \"\n",
      "Fetching results for id \" {'rmult': 5.0} \"\n",
      "Fetching results for id \" {'rmult': 6.0} \"\n",
      "Convergence reached in Dataset \"OH-lda_pw-hgh_k(GS)\" for id \" {'rmult': 5.0} \"\n",
      "Fetching results for id \" {'f': 0.01} \"\n",
      "Fetching results for id \" {'f': 0.005} \"\n",
      "Fetching results for id \" {'f': 0.001} \"\n",
      "Fetching results for id \" {'f': 0.0005} \"\n",
      "Fetching results for id \" {'f': 0.0001} \"\n",
      "Convergence in field not reached\n",
      "Fetching results for id \" {'rmult': 5.0, 'f': 0.0001} \"\n",
      "Fetching results for id \" {'rmult': 6.0, 'f': 0.0001} \"\n",
      "Fetching results for id \" {'rmult': 7.0, 'f': 0.0001} \"\n",
      "Fetching results for id \" {'rmult': 8.0, 'f': 0.0001} \"\n",
      "Fetching results for id \" {'rmult': 9.0, 'f': 0.0001} \"\n",
      "Convergence reached in Dataset \"OH-lda_pw-hgh_k(domain)\" for id \" {'rmult': 8.0, 'f': 0.0001} \"\n",
      "('Relative difference in %', [-21.277077339061314, -21.277088685516865, 0.2637731367137531])\n",
      "\n",
      "OH pbe hgh_k\n",
      "Fetching results for id \" {'rmult': 4.0} \"\n",
      "Fetching results for id \" {'rmult': 5.0} \"\n",
      "Fetching results for id \" {'rmult': 6.0} \"\n",
      "Convergence reached in Dataset \"OH-pbe-hgh_k(GS)\" for id \" {'rmult': 5.0} \"\n",
      "Fetching results for id \" {'f': 0.01} \"\n",
      "Fetching results for id \" {'f': 0.005} \"\n",
      "Fetching results for id \" {'f': 0.001} \"\n",
      "Fetching results for id \" {'f': 0.0005} \"\n",
      "Fetching results for id \" {'f': 0.0001} \"\n",
      "Convergence in field not reached\n",
      "Fetching results for id \" {'rmult': 5.0, 'f': 0.0001} \"\n",
      "Fetching results for id \" {'rmult': 6.0, 'f': 0.0001} \"\n",
      "Fetching results for id \" {'rmult': 7.0, 'f': 0.0001} \"\n",
      "Fetching results for id \" {'rmult': 8.0, 'f': 0.0001} \"\n",
      "Fetching results for id \" {'rmult': 9.0, 'f': 0.0001} \"\n",
      "Fetching results for id \" {'rmult': 10.0, 'f': 0.0001} \"\n",
      "Fetching results for id \" {'rmult': 11.0, 'f': 0.0001} \"\n",
      "Fetching results for id \" {'rmult': 12.0, 'f': 0.0001} \"\n",
      "('Convergence in domain not reached', LookupError('Convergence not reached, enlarge the dataset or change tolerance values',))\n",
      "\n",
      "OH pbe nlcc_aw\n",
      "Fetching results for id \" {'rmult': 4.0} \"\n",
      "Fetching results for id \" {'rmult': 5.0} \"\n",
      "Fetching results for id \" {'rmult': 6.0} \"\n",
      "Convergence reached in Dataset \"OH-pbe-nlcc_aw(GS)\" for id \" {'rmult': 5.0} \"\n",
      "Fetching results for id \" {'f': 0.01} \"\n",
      "Fetching results for id \" {'f': 0.005} \"\n",
      "Fetching results for id \" {'f': 0.001} \"\n",
      "Fetching results for id \" {'f': 0.0005} \"\n",
      "Fetching results for id \" {'f': 0.0001} \"\n",
      "Convergence in field not reached\n",
      "Fetching results for id \" {'rmult': 5.0, 'f': 0.0001} \"\n",
      "Fetching results for id \" {'rmult': 6.0, 'f': 0.0001} \"\n",
      "Fetching results for id \" {'rmult': 7.0, 'f': 0.0001} \"\n",
      "Fetching results for id \" {'rmult': 8.0, 'f': 0.0001} \"\n",
      "Fetching results for id \" {'rmult': 9.0, 'f': 0.0001} \"\n",
      "Convergence reached in Dataset \"OH-pbe-nlcc_aw(domain)\" for id \" {'rmult': 8.0, 'f': 0.0001} \"\n",
      "('Relative difference in %', [-21.740910565911804, -21.740910565911804, 0.02198852687380351])\n",
      "\n",
      "OH pbe nlcc_ss\n",
      "Fetching results for id \" {'rmult': 4.0} \"\n",
      "Fetching results for id \" {'rmult': 5.0} \"\n",
      "Fetching results for id \" {'rmult': 6.0} \"\n",
      "Convergence reached in Dataset \"OH-pbe-nlcc_ss(GS)\" for id \" {'rmult': 5.0} \"\n",
      "Fetching results for id \" {'f': 0.01} \"\n",
      "Fetching results for id \" {'f': 0.005} \"\n",
      "Fetching results for id \" {'f': 0.001} \"\n",
      "Fetching results for id \" {'f': 0.0005} \"\n",
      "Fetching results for id \" {'f': 0.0001} \"\n",
      "Convergence in field not reached\n",
      "Fetching results for id \" {'rmult': 5.0, 'f': 0.0001} \"\n",
      "Fetching results for id \" {'rmult': 6.0, 'f': 0.0001} \"\n",
      "Fetching results for id \" {'rmult': 7.0, 'f': 0.0001} \"\n",
      "Fetching results for id \" {'rmult': 8.0, 'f': 0.0001} \"\n",
      "Fetching results for id \" {'rmult': 9.0, 'f': 0.0001} \"\n",
      "Convergence reached in Dataset \"OH-pbe-nlcc_ss(domain)\" for id \" {'rmult': 8.0, 'f': 0.0001} \"\n",
      "('Relative difference in %', [-22.067030565290228, -22.067030565290228, -0.010295723558684092])\n",
      "\n",
      "OH pbe0 hgh_k\n",
      "Fetching results for id \" {'rmult': 4.0} \"\n",
      "Fetching results for id \" {'rmult': 5.0} \"\n",
      "Fetching results for id \" {'rmult': 6.0} \"\n",
      "Convergence reached in Dataset \"OH-pbe0-hgh_k(GS)\" for id \" {'rmult': 5.0} \"\n",
      "Fetching results for id \" {'f': 0.01} \"\n",
      "Fetching results for id \" {'f': 0.005} \"\n",
      "Fetching results for id \" {'f': 0.001} \"\n",
      "Fetching results for id \" {'f': 0.0005} \"\n",
      "Fetching results for id \" {'f': 0.0001} \"\n",
      "Convergence in field not reached\n",
      "Fetching results for id \" {'rmult': 5.0, 'f': 0.0001} \"\n",
      "Fetching results for id \" {'rmult': 6.0, 'f': 0.0001} \"\n",
      "Fetching results for id \" {'rmult': 7.0, 'f': 0.0001} \"\n",
      "Fetching results for id \" {'rmult': 8.0, 'f': 0.0001} \"\n",
      "Fetching results for id \" {'rmult': 9.0, 'f': 0.0001} \"\n",
      "Fetching results for id \" {'rmult': 10.0, 'f': 0.0001} \"\n",
      "Fetching results for id \" {'rmult': 11.0, 'f': 0.0001} \"\n",
      "Fetching results for id \" {'rmult': 12.0, 'f': 0.0001} \"\n",
      "('Convergence in domain not reached', LookupError('Convergence not reached, enlarge the dataset or change tolerance values',))\n"
     ]
    }
   ],
   "source": [
    "full_data = {}\n",
    "for molecule in ['OH']:    #full_dataset: #full_dataset_split[2]+full_dataset_split[3]:\n",
    "    for xc in ['lda_pw','pbe','pbe0']:\n",
    "        psp = ['hgh_k'] if xc != 'pbe' else get_psp(molecule)\n",
    "        for p in psp:\n",
    "            print ''\n",
    "            print molecule,xc,p\n",
    "            gs_data=gs_study(molecule,(xc,p),code,options)\n",
    "            full_data[(molecule,xc,p)]=alpha_study(gs_data,code,options)\n",
    "            full_data[(molecule,xc,p)].update(gs_data)"
   ]
  },
  {
   "cell_type": "code",
   "execution_count": 20,
   "metadata": {},
   "outputs": [
    {
     "data": {
      "text/plain": [
       "{('BeH',\n",
       "  'lda_pw',\n",
       "  'hgh_k'): {'alpha_convergence': ({'f': 0.001, 'rmult': 9.0},\n",
       "   array([38.644185, 38.644185, 29.04106 ])), 'dataset_field': <BigDFT.Datasets.Dataset instance at 0x7fe5c5a223f8>, 'dataset_gs': <BigDFT.Datasets.Dataset instance at 0x7fe5c6711998>, 'dataset_rmult': <BigDFT.Datasets.Dataset instance at 0x7fe5c584be60>, 'input_gs': {'dft': {'gnrm_cv': 1e-06,\n",
       "    'hgrids': 0.3,\n",
       "    'ixc': '-001012',\n",
       "    'mpol': 1,\n",
       "    'nspin': 2,\n",
       "    'rmult': [6.0, 9.0]},\n",
       "   'psppar.Be': {'Pseudopotential XC': 1},\n",
       "   'psppar.H': {'Pseudopotential XC': 1}}, 'log_gs': <BigDFT.Logfiles.Logfile instance at 0x7fe5c5b5de60>, 'molecule': 'BeH', 'posinp': {'positions': [{'H': [0.0,\n",
       "      0.0,\n",
       "      0.0],\n",
       "     'frag': ['molecule', '0']},\n",
       "    {'Be': [0.0, 0.0, 1.3426], 'frag': ['molecule', '0']}],\n",
       "   'units': 'angstroem'}, 'study': ('lda_pw', 'hgh_k')},\n",
       " ('BeH',\n",
       "  'pbe',\n",
       "  'hgh_k'): {'alpha_convergence': ({'f': 0.001, 'rmult': 10.0},\n",
       "   array([38.32382, 38.32382, 28.90645])), 'dataset_field': <BigDFT.Datasets.Dataset instance at 0x7fe5c512f680>, 'dataset_gs': <BigDFT.Datasets.Dataset instance at 0x7fe5c518d950>, 'dataset_rmult': <BigDFT.Datasets.Dataset instance at 0x7fe5c4ccdb00>, 'input_gs': {'dft': {'gnrm_cv': 1e-06,\n",
       "    'hgrids': 0.3,\n",
       "    'ixc': 11,\n",
       "    'mpol': 1,\n",
       "    'nspin': 2,\n",
       "    'rmult': [6.0,\n",
       "     9.0]}}, 'log_gs': <BigDFT.Logfiles.Logfile instance at 0x7fe5c5171fc8>, 'molecule': 'BeH', 'posinp': {'positions': [{'H': [0.0,\n",
       "      0.0,\n",
       "      0.0],\n",
       "     'frag': ['molecule', '0']},\n",
       "    {'Be': [0.0, 0.0, 1.3426], 'frag': ['molecule', '0']}],\n",
       "   'units': 'angstroem'}, 'study': ('pbe', 'hgh_k')},\n",
       " ('BeH',\n",
       "  'pbe',\n",
       "  'nlcc_ss'): {'alpha_convergence': ({'f': 0.001, 'rmult': 10.0},\n",
       "   array([37.69994, 37.69994, 28.41232])), 'dataset_field': <BigDFT.Datasets.Dataset instance at 0x7fe5c44cdcb0>, 'dataset_gs': <BigDFT.Datasets.Dataset instance at 0x7fe5c45ad290>, 'dataset_rmult': <BigDFT.Datasets.Dataset instance at 0x7fe5c40595f0>, 'input_gs': {'dft': {'gnrm_cv': 1e-06,\n",
       "    'hgrids': 0.3,\n",
       "    'ixc': 11,\n",
       "    'mpol': 1,\n",
       "    'nspin': 2,\n",
       "    'rmult': [6.0,\n",
       "     9.0]}}, 'log_gs': <BigDFT.Logfiles.Logfile instance at 0x7fe5c450dc68>, 'molecule': 'BeH', 'posinp': {'positions': [{'H': [0.0,\n",
       "      0.0,\n",
       "      0.0],\n",
       "     'frag': ['molecule', '0']},\n",
       "    {'Be': [0.0, 0.0, 1.3426], 'frag': ['molecule', '0']}],\n",
       "   'units': 'angstroem'}, 'study': ('pbe', 'nlcc_ss')},\n",
       " ('BeH',\n",
       "  'pbe0',\n",
       "  'hgh_k'): {'alpha_convergence': ({'f': 0.001, 'rmult': 9.0},\n",
       "   array([37.670455, 37.670455, 27.47715 ])), 'dataset_field': <BigDFT.Datasets.Dataset instance at 0x7fe5c38a9dd0>, 'dataset_gs': <BigDFT.Datasets.Dataset instance at 0x7fe5c3921fc8>, 'dataset_rmult': <BigDFT.Datasets.Dataset instance at 0x7fe5c34287e8>, 'input_gs': {'dft': {'gnrm_cv': 1e-06,\n",
       "    'hgrids': 0.3,\n",
       "    'ixc': 'PBE0',\n",
       "    'mpol': 1,\n",
       "    'nspin': 2,\n",
       "    'rmult': [5.0, 9.0]},\n",
       "   'psppar.Be': {'Pseudopotential XC': 11},\n",
       "   'psppar.H': {'Pseudopotential XC': 11}}, 'log_gs': <BigDFT.Logfiles.Logfile instance at 0x7fe5c38ee518>, 'molecule': 'BeH', 'posinp': {'positions': [{'H': [0.0,\n",
       "      0.0,\n",
       "      0.0],\n",
       "     'frag': ['molecule', '0']},\n",
       "    {'Be': [0.0, 0.0, 1.3426], 'frag': ['molecule', '0']}],\n",
       "   'units': 'angstroem'}, 'study': ('pbe0', 'hgh_k')},\n",
       " ('C2H',\n",
       "  'lda_pw',\n",
       "  'hgh_k'): {'alpha_convergence': ({'f': 0.001, 'rmult': 7.0},\n",
       "   array([25.40469, 25.40469, 27.9457 ])), 'dataset_field': <BigDFT.Datasets.Dataset instance at 0x7fe5bdf54908>, 'dataset_gs': <BigDFT.Datasets.Dataset instance at 0x7fe5bdfc0b90>, 'dataset_rmult': <BigDFT.Datasets.Dataset instance at 0x7fe5bda41d88>, 'input_gs': {'dft': {'gnrm_cv': 1e-06,\n",
       "    'hgrids': 0.3,\n",
       "    'ixc': '-001012',\n",
       "    'mpol': 1,\n",
       "    'nspin': 2,\n",
       "    'rmult': [5.0, 9.0]},\n",
       "   'psppar.C': {'Pseudopotential XC': 1},\n",
       "   'psppar.H': {'Pseudopotential XC': 1}}, 'log_gs': <BigDFT.Logfiles.Logfile instance at 0x7fe5bdf93170>, 'molecule': 'C2H', 'posinp': {'positions': [{'C': [0.0,\n",
       "      0.0,\n",
       "      0.0],\n",
       "     'frag': ['molecule', '0']},\n",
       "    {'C': [0.0, 0.0, -1.2165], 'frag': ['molecule', '0']},\n",
       "    {'H': [0.0, 0.0, 1.0465], 'frag': ['molecule', '0']}],\n",
       "   'units': 'angstroem'}, 'study': ('lda_pw', 'hgh_k')},\n",
       " ('C2H', 'pbe', 'hgh_k'): {'alpha_convergence': None,\n",
       "  'dataset_field': <BigDFT.Datasets.Dataset instance at 0x7fe5bd2cd7a0>,\n",
       "  'dataset_gs': <BigDFT.Datasets.Dataset instance at 0x7fe5bd3b57a0>,\n",
       "  'dataset_rmult': <BigDFT.Datasets.Dataset instance at 0x7fe5bccebb48>,\n",
       "  'input_gs': {'dft': {'gnrm_cv': 1e-06,\n",
       "    'hgrids': 0.3,\n",
       "    'ixc': 11,\n",
       "    'mpol': 1,\n",
       "    'nspin': 2,\n",
       "    'rmult': [5.0, 9.0]}},\n",
       "  'log_gs': <BigDFT.Logfiles.Logfile instance at 0x7fe5bd37fbd8>,\n",
       "  'molecule': 'C2H',\n",
       "  'posinp': {'positions': [{'C': [0.0, 0.0, 0.0], 'frag': ['molecule', '0']},\n",
       "    {'C': [0.0, 0.0, -1.2165], 'frag': ['molecule', '0']},\n",
       "    {'H': [0.0, 0.0, 1.0465], 'frag': ['molecule', '0']}],\n",
       "   'units': 'angstroem'},\n",
       "  'study': ('pbe', 'hgh_k')},\n",
       " ('C2H',\n",
       "  'pbe',\n",
       "  'nlcc_aw'): {'alpha_convergence': ({'f': 0.001, 'rmult': 8.0},\n",
       "   array([26.748315, 26.748315, 27.886   ])), 'dataset_field': <BigDFT.Datasets.Dataset instance at 0x7fe5bc16d4d0>, 'dataset_gs': <BigDFT.Datasets.Dataset instance at 0x7fe5bc1db488>, 'dataset_rmult': <BigDFT.Datasets.Dataset instance at 0x7fe5bbc35e60>, 'input_gs': {'dft': {'gnrm_cv': 1e-06,\n",
       "    'hgrids': 0.3,\n",
       "    'ixc': 11,\n",
       "    'mpol': 1,\n",
       "    'nspin': 2,\n",
       "    'rmult': [5.0,\n",
       "     9.0]}}, 'log_gs': <BigDFT.Logfiles.Logfile instance at 0x7fe5bc1a5bd8>, 'molecule': 'C2H', 'posinp': {'positions': [{'C': [0.0,\n",
       "      0.0,\n",
       "      0.0],\n",
       "     'frag': ['molecule', '0']},\n",
       "    {'C': [0.0, 0.0, -1.2165], 'frag': ['molecule', '0']},\n",
       "    {'H': [0.0, 0.0, 1.0465], 'frag': ['molecule', '0']}],\n",
       "   'units': 'angstroem'}, 'study': ('pbe', 'nlcc_aw')},\n",
       " ('C2H',\n",
       "  'pbe',\n",
       "  'nlcc_ss'): {'alpha_convergence': ({'f': 0.001, 'rmult': 9.0},\n",
       "   array([26.526435, 26.526435, 27.82145 ])), 'dataset_field': <BigDFT.Datasets.Dataset instance at 0x7fe5bb394a28>, 'dataset_gs': <BigDFT.Datasets.Dataset instance at 0x7fe5bb47cd88>, 'dataset_rmult': <BigDFT.Datasets.Dataset instance at 0x7fe5bae5b128>, 'input_gs': {'dft': {'gnrm_cv': 1e-06,\n",
       "    'hgrids': 0.3,\n",
       "    'ixc': 11,\n",
       "    'mpol': 1,\n",
       "    'nspin': 2,\n",
       "    'rmult': [5.0,\n",
       "     9.0]}}, 'log_gs': <BigDFT.Logfiles.Logfile instance at 0x7fe5bb3d1320>, 'molecule': 'C2H', 'posinp': {'positions': [{'C': [0.0,\n",
       "      0.0,\n",
       "      0.0],\n",
       "     'frag': ['molecule', '0']},\n",
       "    {'C': [0.0, 0.0, -1.2165], 'frag': ['molecule', '0']},\n",
       "    {'H': [0.0, 0.0, 1.0465], 'frag': ['molecule', '0']}],\n",
       "   'units': 'angstroem'}, 'study': ('pbe', 'nlcc_ss')},\n",
       " ('C2H',\n",
       "  'pbe0',\n",
       "  'hgh_k'): {'alpha_convergence': ({'f': 0.001, 'rmult': 9.0},\n",
       "   array([21.919705, 21.919705, 27.15435 ])), 'dataset_field': <BigDFT.Datasets.Dataset instance at 0x7fe5ba4e1440>, 'dataset_gs': <BigDFT.Datasets.Dataset instance at 0x7fe5ba546560>, 'dataset_rmult': <BigDFT.Datasets.Dataset instance at 0x7fe5b9fbc710>, 'input_gs': {'dft': {'gnrm_cv': 1e-06,\n",
       "    'hgrids': 0.3,\n",
       "    'ixc': 'PBE0',\n",
       "    'mpol': 1,\n",
       "    'nspin': 2,\n",
       "    'rmult': [5.0, 9.0]},\n",
       "   'psppar.C': {'Pseudopotential XC': 11},\n",
       "   'psppar.H': {'Pseudopotential XC': 11}}, 'log_gs': <BigDFT.Logfiles.Logfile instance at 0x7fe5ba511998>, 'molecule': 'C2H', 'posinp': {'positions': [{'C': [0.0,\n",
       "      0.0,\n",
       "      0.0],\n",
       "     'frag': ['molecule', '0']},\n",
       "    {'C': [0.0, 0.0, -1.2165], 'frag': ['molecule', '0']},\n",
       "    {'H': [0.0, 0.0, 1.0465], 'frag': ['molecule', '0']}],\n",
       "   'units': 'angstroem'}, 'study': ('pbe0', 'hgh_k')},\n",
       " ('CH3O', 'lda_pw', 'hgh_k'): {'alpha_convergence': None,\n",
       "  'dataset_field': <BigDFT.Datasets.Dataset instance at 0x7fe5b958d3f8>,\n",
       "  'dataset_gs': <BigDFT.Datasets.Dataset instance at 0x7fe5b966c3b0>,\n",
       "  'dataset_rmult': <BigDFT.Datasets.Dataset instance at 0x7fe5b8f32c68>,\n",
       "  'input_gs': {'dft': {'gnrm_cv': 1e-06,\n",
       "    'hgrids': 0.3,\n",
       "    'ixc': '-001012',\n",
       "    'mpol': 1,\n",
       "    'nspin': 2,\n",
       "    'rmult': [5.0, 9.0]},\n",
       "   'psppar.C': {'Pseudopotential XC': 1},\n",
       "   'psppar.H': {'Pseudopotential XC': 1},\n",
       "   'psppar.O': {'Pseudopotential XC': 1}},\n",
       "  'log_gs': <BigDFT.Logfiles.Logfile instance at 0x7fe5b95c8200>,\n",
       "  'molecule': 'CH3O',\n",
       "  'posinp': {'positions': [{'C': [0.0, 0.0, -0.5899],\n",
       "     'frag': ['molecule', '0']},\n",
       "    {'O': [0.0, 0.0, 0.8151], 'frag': ['molecule', '0']},\n",
       "    {'H': [0.0, 1.036, -0.9938], 'frag': ['molecule', '0']},\n",
       "    {'H': [0.8972, -0.518, -0.9938], 'frag': ['molecule', '0']},\n",
       "    {'H': [-0.8972, -0.518, -0.9938], 'frag': ['molecule', '0']}],\n",
       "   'units': 'angstroem'},\n",
       "  'study': ('lda_pw', 'hgh_k')},\n",
       " ('CH3O', 'pbe', 'hgh_k'): {'alpha_convergence': None,\n",
       "  'dataset_field': <BigDFT.Datasets.Dataset instance at 0x7fe5b8287368>,\n",
       "  'dataset_gs': <BigDFT.Datasets.Dataset instance at 0x7fe5b8f32bd8>,\n",
       "  'dataset_rmult': <BigDFT.Datasets.Dataset instance at 0x7fe5b7c13fc8>,\n",
       "  'input_gs': {'dft': {'gnrm_cv': 1e-06,\n",
       "    'hgrids': 0.3,\n",
       "    'ixc': 11,\n",
       "    'mpol': 1,\n",
       "    'nspin': 2,\n",
       "    'rmult': [5.0, 9.0]}},\n",
       "  'log_gs': <BigDFT.Logfiles.Logfile instance at 0x7fe5b8333f80>,\n",
       "  'molecule': 'CH3O',\n",
       "  'posinp': {'positions': [{'C': [0.0, 0.0, -0.5899],\n",
       "     'frag': ['molecule', '0']},\n",
       "    {'O': [0.0, 0.0, 0.8151], 'frag': ['molecule', '0']},\n",
       "    {'H': [0.0, 1.036, -0.9938], 'frag': ['molecule', '0']},\n",
       "    {'H': [0.8972, -0.518, -0.9938], 'frag': ['molecule', '0']},\n",
       "    {'H': [-0.8972, -0.518, -0.9938], 'frag': ['molecule', '0']}],\n",
       "   'units': 'angstroem'},\n",
       "  'study': ('pbe', 'hgh_k')},\n",
       " ('CH3O',\n",
       "  'pbe',\n",
       "  'nlcc_aw'): {'alpha_convergence': ({'f': 0.0001, 'rmult': 8.0},\n",
       "   array([705.9873, 706.08  ,  26.2505])), 'dataset_field': <BigDFT.Datasets.Dataset instance at 0x7fe5b6f9c0e0>, 'dataset_gs': <BigDFT.Datasets.Dataset instance at 0x7fe5b7051ea8>, 'dataset_rmult': <BigDFT.Datasets.Dataset instance at 0x7fe5b68a1368>, 'input_gs': {'dft': {'gnrm_cv': 1e-06,\n",
       "    'hgrids': 0.3,\n",
       "    'ixc': 11,\n",
       "    'mpol': 1,\n",
       "    'nspin': 2,\n",
       "    'rmult': [5.0,\n",
       "     9.0]}}, 'log_gs': <BigDFT.Logfiles.Logfile instance at 0x7fe5b703a3b0>, 'molecule': 'CH3O', 'posinp': {'positions': [{'C': [0.0,\n",
       "      0.0,\n",
       "      -0.5899],\n",
       "     'frag': ['molecule', '0']},\n",
       "    {'O': [0.0, 0.0, 0.8151], 'frag': ['molecule', '0']},\n",
       "    {'H': [0.0, 1.036, -0.9938], 'frag': ['molecule', '0']},\n",
       "    {'H': [0.8972, -0.518, -0.9938], 'frag': ['molecule', '0']},\n",
       "    {'H': [-0.8972, -0.518, -0.9938], 'frag': ['molecule', '0']}],\n",
       "   'units': 'angstroem'}, 'study': ('pbe', 'nlcc_aw')},\n",
       " ('CH3O', 'pbe', 'nlcc_ss'): {'alpha_convergence': None,\n",
       "  'dataset_field': <BigDFT.Datasets.Dataset instance at 0x7fe5b5f124d0>,\n",
       "  'dataset_gs': <BigDFT.Datasets.Dataset instance at 0x7fe5b5ff23b0>,\n",
       "  'dataset_rmult': <BigDFT.Datasets.Dataset instance at 0x7fe5b58a23b0>,\n",
       "  'input_gs': {'dft': {'gnrm_cv': 1e-06,\n",
       "    'hgrids': 0.3,\n",
       "    'ixc': 11,\n",
       "    'mpol': 1,\n",
       "    'nspin': 2,\n",
       "    'rmult': [5.0, 9.0]}},\n",
       "  'log_gs': <BigDFT.Logfiles.Logfile instance at 0x7fe5b5f4c440>,\n",
       "  'molecule': 'CH3O',\n",
       "  'posinp': {'positions': [{'C': [0.0, 0.0, -0.5899],\n",
       "     'frag': ['molecule', '0']},\n",
       "    {'O': [0.0, 0.0, 0.8151], 'frag': ['molecule', '0']},\n",
       "    {'H': [0.0, 1.036, -0.9938], 'frag': ['molecule', '0']},\n",
       "    {'H': [0.8972, -0.518, -0.9938], 'frag': ['molecule', '0']},\n",
       "    {'H': [-0.8972, -0.518, -0.9938], 'frag': ['molecule', '0']}],\n",
       "   'units': 'angstroem'},\n",
       "  'study': ('pbe', 'nlcc_ss')},\n",
       " ('CH3O', 'pbe0', 'hgh_k'): {'alpha_convergence': None,\n",
       "  'dataset_field': <BigDFT.Datasets.Dataset instance at 0x7fe5b4c4e518>,\n",
       "  'dataset_gs': <BigDFT.Datasets.Dataset instance at 0x7fe5b4d277a0>,\n",
       "  'dataset_rmult': <BigDFT.Datasets.Dataset instance at 0x7fe5b4589ef0>,\n",
       "  'input_gs': {'dft': {'gnrm_cv': 1e-06,\n",
       "    'hgrids': 0.3,\n",
       "    'ixc': 'PBE0',\n",
       "    'mpol': 1,\n",
       "    'nspin': 2,\n",
       "    'rmult': [5.0, 9.0]},\n",
       "   'psppar.C': {'Pseudopotential XC': 11},\n",
       "   'psppar.H': {'Pseudopotential XC': 11},\n",
       "   'psppar.O': {'Pseudopotential XC': 11}},\n",
       "  'log_gs': <BigDFT.Logfiles.Logfile instance at 0x7fe5b4c851b8>,\n",
       "  'molecule': 'CH3O',\n",
       "  'posinp': {'positions': [{'C': [0.0, 0.0, -0.5899],\n",
       "     'frag': ['molecule', '0']},\n",
       "    {'O': [0.0, 0.0, 0.8151], 'frag': ['molecule', '0']},\n",
       "    {'H': [0.0, 1.036, -0.9938], 'frag': ['molecule', '0']},\n",
       "    {'H': [0.8972, -0.518, -0.9938], 'frag': ['molecule', '0']},\n",
       "    {'H': [-0.8972, -0.518, -0.9938], 'frag': ['molecule', '0']}],\n",
       "   'units': 'angstroem'},\n",
       "  'study': ('pbe0', 'hgh_k')},\n",
       " ('FH-OH',\n",
       "  'lda_pw',\n",
       "  'hgh_k'): {'alpha_convergence': ({'f': 0.001, 'rmult': 8.0},\n",
       "   array([30.472   , 14.38945 , 12.280675])), 'dataset_field': <BigDFT.Datasets.Dataset instance at 0x7fe5b00aeef0>, 'dataset_gs': <BigDFT.Datasets.Dataset instance at 0x7fe5b0179ef0>, 'dataset_rmult': <BigDFT.Datasets.Dataset instance at 0x7fe5afa56998>, 'input_gs': {'dft': {'gnrm_cv': 1e-06,\n",
       "    'hgrids': 0.3,\n",
       "    'ixc': '-001012',\n",
       "    'mpol': 1,\n",
       "    'nspin': 2,\n",
       "    'rmult': [5.0, 9.0]},\n",
       "   'psppar.F': {'Pseudopotential XC': 1},\n",
       "   'psppar.H': {'Pseudopotential XC': 1},\n",
       "   'psppar.O': {'Pseudopotential XC': 1}}, 'log_gs': <BigDFT.Logfiles.Logfile instance at 0x7fe5b0179ea8>, 'molecule': 'FH-OH', 'posinp': {'positions': [{'H': [0.3595336038,\n",
       "      0.1031451694,\n",
       "      0.0],\n",
       "     'frag': ['molecule', '0']},\n",
       "    {'F': [1.2872626215, 0.1031451694, 0.0], 'frag': ['molecule', '0']},\n",
       "    {'O': [-1.4435649825, -0.0659384624, 0.0], 'frag': ['molecule', '0']},\n",
       "    {'H': [-1.7085828783, -1.0006367674, 0.0], 'frag': ['molecule', '0']}],\n",
       "   'units': 'angstroem'}, 'study': ('lda_pw', 'hgh_k')},\n",
       " ('FH-OH',\n",
       "  'pbe',\n",
       "  'hgh_k'): {'alpha_convergence': ({'f': 0.0001, 'rmult': 7.0},\n",
       "   array([21.235  , 14.2485 , 12.20567])), 'dataset_field': <BigDFT.Datasets.Dataset instance at 0x7fe5af12c3b0>, 'dataset_gs': <BigDFT.Datasets.Dataset instance at 0x7fe5af1f6758>, 'dataset_rmult': <BigDFT.Datasets.Dataset instance at 0x7fe5ae9d0a28>, 'input_gs': {'dft': {'gnrm_cv': 1e-06,\n",
       "    'hgrids': 0.3,\n",
       "    'ixc': 11,\n",
       "    'mpol': 1,\n",
       "    'nspin': 2,\n",
       "    'rmult': [5.0,\n",
       "     9.0]}}, 'log_gs': <BigDFT.Logfiles.Logfile instance at 0x7fe5af1525a8>, 'molecule': 'FH-OH', 'posinp': {'positions': [{'H': [0.3595336038,\n",
       "      0.1031451694,\n",
       "      0.0],\n",
       "     'frag': ['molecule', '0']},\n",
       "    {'F': [1.2872626215, 0.1031451694, 0.0], 'frag': ['molecule', '0']},\n",
       "    {'O': [-1.4435649825, -0.0659384624, 0.0], 'frag': ['molecule', '0']},\n",
       "    {'H': [-1.7085828783, -1.0006367674, 0.0], 'frag': ['molecule', '0']}],\n",
       "   'units': 'angstroem'}, 'study': ('pbe', 'hgh_k')},\n",
       " ('FH-OH',\n",
       "  'pbe',\n",
       "  'nlcc_aw'): {'alpha_convergence': ({'f': 0.0001, 'rmult': 7.0},\n",
       "   array([25.11   , 14.2775 , 12.19624])), 'dataset_field': <BigDFT.Datasets.Dataset instance at 0x7fe5ae1dab48>, 'dataset_gs': <BigDFT.Datasets.Dataset instance at 0x7fe5ae9d09e0>, 'dataset_rmult': <BigDFT.Datasets.Dataset instance at 0x7fe5adaaa1b8>, 'input_gs': {'dft': {'gnrm_cv': 1e-06,\n",
       "    'hgrids': 0.3,\n",
       "    'ixc': 11,\n",
       "    'mpol': 1,\n",
       "    'nspin': 2,\n",
       "    'rmult': [5.0,\n",
       "     9.0]}}, 'log_gs': <BigDFT.Logfiles.Logfile instance at 0x7fe5ae208e60>, 'molecule': 'FH-OH', 'posinp': {'positions': [{'H': [0.3595336038,\n",
       "      0.1031451694,\n",
       "      0.0],\n",
       "     'frag': ['molecule', '0']},\n",
       "    {'F': [1.2872626215, 0.1031451694, 0.0], 'frag': ['molecule', '0']},\n",
       "    {'O': [-1.4435649825, -0.0659384624, 0.0], 'frag': ['molecule', '0']},\n",
       "    {'H': [-1.7085828783, -1.0006367674, 0.0], 'frag': ['molecule', '0']}],\n",
       "   'units': 'angstroem'}, 'study': ('pbe', 'nlcc_aw')},\n",
       " ('FH-OH',\n",
       "  'pbe',\n",
       "  'nlcc_ss'): {'alpha_convergence': ({'f': 0.0001, 'rmult': 9.0},\n",
       "   array([24.005  , 14.269  , 12.18113])), 'dataset_field': <BigDFT.Datasets.Dataset instance at 0x7fe5ad2b45a8>, 'dataset_gs': <BigDFT.Datasets.Dataset instance at 0x7fe5adaaa170>, 'dataset_rmult': <BigDFT.Datasets.Dataset instance at 0x7fe5acb6d908>, 'input_gs': {'dft': {'gnrm_cv': 1e-06,\n",
       "    'hgrids': 0.3,\n",
       "    'ixc': 11,\n",
       "    'mpol': 1,\n",
       "    'nspin': 2,\n",
       "    'rmult': [5.0,\n",
       "     9.0]}}, 'log_gs': <BigDFT.Logfiles.Logfile instance at 0x7fe5ad2d9a28>, 'molecule': 'FH-OH', 'posinp': {'positions': [{'H': [0.3595336038,\n",
       "      0.1031451694,\n",
       "      0.0],\n",
       "     'frag': ['molecule', '0']},\n",
       "    {'F': [1.2872626215, 0.1031451694, 0.0], 'frag': ['molecule', '0']},\n",
       "    {'O': [-1.4435649825, -0.0659384624, 0.0], 'frag': ['molecule', '0']},\n",
       "    {'H': [-1.7085828783, -1.0006367674, 0.0], 'frag': ['molecule', '0']}],\n",
       "   'units': 'angstroem'}, 'study': ('pbe', 'nlcc_ss')},\n",
       " ('FH-OH',\n",
       "  'pbe0',\n",
       "  'hgh_k'): {'alpha_convergence': ({'f': 0.0001, 'rmult': 7.0},\n",
       "   array([16.24    , 13.1645  , 11.181245])), 'dataset_field': <BigDFT.Datasets.Dataset instance at 0x7fe5ac16bdd0>, 'dataset_gs': <BigDFT.Datasets.Dataset instance at 0x7fe5acb6d878>, 'dataset_rmult': <BigDFT.Datasets.Dataset instance at 0x7fe5abae62d8>, 'input_gs': {'dft': {'gnrm_cv': 1e-06,\n",
       "    'hgrids': 0.3,\n",
       "    'ixc': 'PBE0',\n",
       "    'mpol': 1,\n",
       "    'nspin': 2,\n",
       "    'rmult': [5.0, 9.0]},\n",
       "   'psppar.F': {'Pseudopotential XC': 11},\n",
       "   'psppar.H': {'Pseudopotential XC': 11},\n",
       "   'psppar.O': {'Pseudopotential XC': 11}}, 'log_gs': <BigDFT.Logfiles.Logfile instance at 0x7fe5ac1a37e8>, 'molecule': 'FH-OH', 'posinp': {'positions': [{'H': [0.3595336038,\n",
       "      0.1031451694,\n",
       "      0.0],\n",
       "     'frag': ['molecule', '0']},\n",
       "    {'F': [1.2872626215, 0.1031451694, 0.0], 'frag': ['molecule', '0']},\n",
       "    {'O': [-1.4435649825, -0.0659384624, 0.0], 'frag': ['molecule', '0']},\n",
       "    {'H': [-1.7085828783, -1.0006367674, 0.0], 'frag': ['molecule', '0']}],\n",
       "   'units': 'angstroem'}, 'study': ('pbe0', 'hgh_k')},\n",
       " ('H2O-Li',\n",
       "  'lda_pw',\n",
       "  'hgh_k'): {'alpha_convergence': ({'f': 0.001, 'rmult': 10.0},\n",
       "   array([292.23215, 219.0969 , 187.02655])), 'dataset_field': <BigDFT.Datasets.Dataset instance at 0x7fe5b38ee560>, 'dataset_gs': <BigDFT.Datasets.Dataset instance at 0x7fe5b4589e18>, 'dataset_rmult': <BigDFT.Datasets.Dataset instance at 0x7fe5b33dc4d0>, 'input_gs': {'dft': {'gnrm_cv': 1e-06,\n",
       "    'hgrids': 0.3,\n",
       "    'ixc': '-001012',\n",
       "    'mpol': 1,\n",
       "    'nspin': 2,\n",
       "    'rmult': [6.0, 9.0]},\n",
       "   'psppar.H': {'Pseudopotential XC': 1},\n",
       "   'psppar.Li': {'Pseudopotential XC': 1},\n",
       "   'psppar.O': {'Pseudopotential XC': 1}}, 'log_gs': <BigDFT.Logfiles.Logfile instance at 0x7fe5b3929878>, 'molecule': 'H2O-Li', 'posinp': {'positions': [{'Li': [-1.3932104517,\n",
       "      -0.0100233075,\n",
       "      -0.0239998707],\n",
       "     'frag': ['molecule', '0']},\n",
       "    {'O': [0.4829558803, -0.0100233075, -0.0239998707],\n",
       "     'frag': ['molecule', '0']},\n",
       "    {'H': [0.9639807102, 0.8254768782, -0.0239998707],\n",
       "     'frag': ['molecule', '0']},\n",
       "    {'H': [0.9639807102, -0.597349525, 0.5702294409],\n",
       "     'frag': ['molecule', '0']}],\n",
       "   'units': 'angstroem'}, 'study': ('lda_pw', 'hgh_k')},\n",
       " ('H2O-Li',\n",
       "  'pbe',\n",
       "  'hgh_k'): {'alpha_convergence': ({'f': 0.001, 'rmult': 10.0},\n",
       "   array([270.44605, 223.45445, 191.92585])), 'dataset_field': <BigDFT.Datasets.Dataset instance at 0x7fe5b2af7b90>, 'dataset_gs': <BigDFT.Datasets.Dataset instance at 0x7fe5b2bbacb0>, 'dataset_rmult': <BigDFT.Datasets.Dataset instance at 0x7fe5b25eb4d0>, 'input_gs': {'dft': {'gnrm_cv': 1e-06,\n",
       "    'hgrids': 0.3,\n",
       "    'ixc': 11,\n",
       "    'mpol': 1,\n",
       "    'nspin': 2,\n",
       "    'rmult': [6.0,\n",
       "     9.0]}}, 'log_gs': <BigDFT.Logfiles.Logfile instance at 0x7fe5b2b3a290>, 'molecule': 'H2O-Li', 'posinp': {'positions': [{'Li': [-1.3932104517,\n",
       "      -0.0100233075,\n",
       "      -0.0239998707],\n",
       "     'frag': ['molecule', '0']},\n",
       "    {'O': [0.4829558803, -0.0100233075, -0.0239998707],\n",
       "     'frag': ['molecule', '0']},\n",
       "    {'H': [0.9639807102, 0.8254768782, -0.0239998707],\n",
       "     'frag': ['molecule', '0']},\n",
       "    {'H': [0.9639807102, -0.597349525, 0.5702294409],\n",
       "     'frag': ['molecule', '0']}],\n",
       "   'units': 'angstroem'}, 'study': ('pbe', 'hgh_k')},\n",
       " ('H2O-Li',\n",
       "  'pbe',\n",
       "  'nlcc_ss'): {'alpha_convergence': ({'f': 0.001, 'rmult': 10.0},\n",
       "   array([271.4353 , 223.70325, 191.7735 ])), 'dataset_field': <BigDFT.Datasets.Dataset instance at 0x7fe5b1ce1560>, 'dataset_gs': <BigDFT.Datasets.Dataset instance at 0x7fe5b1db0248>, 'dataset_rmult': <BigDFT.Datasets.Dataset instance at 0x7fe5b17c3200>, 'input_gs': {'dft': {'gnrm_cv': 1e-06,\n",
       "    'hgrids': 0.3,\n",
       "    'ixc': 11,\n",
       "    'mpol': 1,\n",
       "    'nspin': 2,\n",
       "    'rmult': [6.0,\n",
       "     9.0]}}, 'log_gs': <BigDFT.Logfiles.Logfile instance at 0x7fe5b1d1aab8>, 'molecule': 'H2O-Li', 'posinp': {'positions': [{'Li': [-1.3932104517,\n",
       "      -0.0100233075,\n",
       "      -0.0239998707],\n",
       "     'frag': ['molecule', '0']},\n",
       "    {'O': [0.4829558803, -0.0100233075, -0.0239998707],\n",
       "     'frag': ['molecule', '0']},\n",
       "    {'H': [0.9639807102, 0.8254768782, -0.0239998707],\n",
       "     'frag': ['molecule', '0']},\n",
       "    {'H': [0.9639807102, -0.597349525, 0.5702294409],\n",
       "     'frag': ['molecule', '0']}],\n",
       "   'units': 'angstroem'}, 'study': ('pbe', 'nlcc_ss')},\n",
       " ('H2O-Li',\n",
       "  'pbe0',\n",
       "  'hgh_k'): {'alpha_convergence': ({'f': 0.0005, 'rmult': 10.0},\n",
       "   array([270.457   , 239.26969 , 207.243926])), 'dataset_field': <BigDFT.Datasets.Dataset instance at 0x7fe5b0fa2950>, 'dataset_gs': <BigDFT.Datasets.Dataset instance at 0x7fe5b1063c20>, 'dataset_rmult': <BigDFT.Datasets.Dataset instance at 0x7fe5b0990b90>, 'input_gs': {'dft': {'gnrm_cv': 1e-06,\n",
       "    'hgrids': 0.3,\n",
       "    'ixc': 'PBE0',\n",
       "    'mpol': 1,\n",
       "    'nspin': 2,\n",
       "    'rmult': [6.0, 9.0]},\n",
       "   'psppar.H': {'Pseudopotential XC': 11},\n",
       "   'psppar.Li': {'Pseudopotential XC': 11},\n",
       "   'psppar.O': {'Pseudopotential XC': 11}}, 'log_gs': <BigDFT.Logfiles.Logfile instance at 0x7fe5b102ae60>, 'molecule': 'H2O-Li', 'posinp': {'positions': [{'Li': [-1.3932104517,\n",
       "      -0.0100233075,\n",
       "      -0.0239998707],\n",
       "     'frag': ['molecule', '0']},\n",
       "    {'O': [0.4829558803, -0.0100233075, -0.0239998707],\n",
       "     'frag': ['molecule', '0']},\n",
       "    {'H': [0.9639807102, 0.8254768782, -0.0239998707],\n",
       "     'frag': ['molecule', '0']},\n",
       "    {'H': [0.9639807102, -0.597349525, 0.5702294409],\n",
       "     'frag': ['molecule', '0']}],\n",
       "   'units': 'angstroem'}, 'study': ('pbe0', 'hgh_k')},\n",
       " ('OH',\n",
       "  'lda_pw',\n",
       "  'hgh_k'): {'alpha_convergence': ({'f': 0.0001, 'rmult': 8.0},\n",
       "   array([6.938107, 6.938106, 9.3305  ])), 'dataset_field': <BigDFT.Datasets.Dataset instance at 0x7fe5c2b8dcf8>, 'dataset_gs': <BigDFT.Datasets.Dataset instance at 0x7fe5c2c0e7a0>, 'dataset_rmult': <BigDFT.Datasets.Dataset instance at 0x7fe5c25c4e60>, 'input_gs': {'dft': {'gnrm_cv': 1e-06,\n",
       "    'hgrids': 0.3,\n",
       "    'ixc': '-001012',\n",
       "    'mpol': 1,\n",
       "    'nspin': 2,\n",
       "    'rmult': [5.0, 9.0]},\n",
       "   'psppar.H': {'Pseudopotential XC': 1},\n",
       "   'psppar.O': {'Pseudopotential XC': 1}}, 'log_gs': <BigDFT.Logfiles.Logfile instance at 0x7fe5c2bcefc8>, 'molecule': 'OH', 'posinp': {'positions': [{'H': [0.0,\n",
       "      0.0,\n",
       "      0.0],\n",
       "     'frag': ['molecule', '0']},\n",
       "    {'O': [0.0, 0.0, 0.9697], 'frag': ['molecule', '0']}],\n",
       "   'units': 'angstroem'}, 'study': ('lda_pw', 'hgh_k')},\n",
       " ('OH', 'pbe', 'hgh_k'): {'alpha_convergence': None,\n",
       "  'dataset_field': <BigDFT.Datasets.Dataset instance at 0x7fe5c1dd6050>,\n",
       "  'dataset_gs': <BigDFT.Datasets.Dataset instance at 0x7fe5c25c4d40>,\n",
       "  'dataset_rmult': <BigDFT.Datasets.Dataset instance at 0x7fe5c17e9368>,\n",
       "  'input_gs': {'dft': {'gnrm_cv': 1e-06,\n",
       "    'hgrids': 0.3,\n",
       "    'ixc': 11,\n",
       "    'mpol': 1,\n",
       "    'nspin': 2,\n",
       "    'rmult': [5.0, 9.0]}},\n",
       "  'log_gs': <BigDFT.Logfiles.Logfile instance at 0x7fe5c1e18368>,\n",
       "  'molecule': 'OH',\n",
       "  'posinp': {'positions': [{'H': [0.0, 0.0, 0.0], 'frag': ['molecule', '0']},\n",
       "    {'O': [0.0, 0.0, 0.9697], 'frag': ['molecule', '0']}],\n",
       "   'units': 'angstroem'},\n",
       "  'study': ('pbe', 'hgh_k')},\n",
       " ('OH',\n",
       "  'pbe',\n",
       "  'nlcc_aw'): {'alpha_convergence': ({'f': 0.0001, 'rmult': 8.0},\n",
       "   array([6.8866655, 6.8866655, 9.2945   ])), 'dataset_field': <BigDFT.Datasets.Dataset instance at 0x7fe5c0c724d0>, 'dataset_gs': <BigDFT.Datasets.Dataset instance at 0x7fe5c0cebc68>, 'dataset_rmult': <BigDFT.Datasets.Dataset instance at 0x7fe5c06dddd0>, 'input_gs': {'dft': {'gnrm_cv': 1e-06,\n",
       "    'hgrids': 0.3,\n",
       "    'ixc': 11,\n",
       "    'mpol': 1,\n",
       "    'nspin': 2,\n",
       "    'rmult': [5.0,\n",
       "     9.0]}}, 'log_gs': <BigDFT.Logfiles.Logfile instance at 0x7fe5c0cb6518>, 'molecule': 'OH', 'posinp': {'positions': [{'H': [0.0,\n",
       "      0.0,\n",
       "      0.0],\n",
       "     'frag': ['molecule', '0']},\n",
       "    {'O': [0.0, 0.0, 0.9697], 'frag': ['molecule', '0']}],\n",
       "   'units': 'angstroem'}, 'study': ('pbe', 'nlcc_aw')},\n",
       " ('OH',\n",
       "  'pbe',\n",
       "  'nlcc_ss'): {'alpha_convergence': ({'f': 0.0001, 'rmult': 8.0},\n",
       "   array([6.8579675, 6.8579675, 9.2915   ])), 'dataset_field': <BigDFT.Datasets.Dataset instance at 0x7fe5bff0c950>, 'dataset_gs': <BigDFT.Datasets.Dataset instance at 0x7fe5bff8a6c8>, 'dataset_rmult': <BigDFT.Datasets.Dataset instance at 0x7fe5bf94d6c8>, 'input_gs': {'dft': {'gnrm_cv': 1e-06,\n",
       "    'hgrids': 0.3,\n",
       "    'ixc': 11,\n",
       "    'mpol': 1,\n",
       "    'nspin': 2,\n",
       "    'rmult': [5.0,\n",
       "     9.0]}}, 'log_gs': <BigDFT.Logfiles.Logfile instance at 0x7fe5bff4ce18>, 'molecule': 'OH', 'posinp': {'positions': [{'H': [0.0,\n",
       "      0.0,\n",
       "      0.0],\n",
       "     'frag': ['molecule', '0']},\n",
       "    {'O': [0.0, 0.0, 0.9697], 'frag': ['molecule', '0']}],\n",
       "   'units': 'angstroem'}, 'study': ('pbe', 'nlcc_ss')},\n",
       " ('OH', 'pbe0', 'hgh_k'): {'alpha_convergence': None,\n",
       "  'dataset_field': <BigDFT.Datasets.Dataset instance at 0x7fe5bf195c68>,\n",
       "  'dataset_gs': <BigDFT.Datasets.Dataset instance at 0x7fe5bf2147a0>,\n",
       "  'dataset_rmult': <BigDFT.Datasets.Dataset instance at 0x7fe5beb48098>,\n",
       "  'input_gs': {'dft': {'gnrm_cv': 1e-06,\n",
       "    'hgrids': 0.3,\n",
       "    'ixc': 'PBE0',\n",
       "    'mpol': 1,\n",
       "    'nspin': 2,\n",
       "    'rmult': [5.0, 9.0]},\n",
       "   'psppar.H': {'Pseudopotential XC': 11},\n",
       "   'psppar.O': {'Pseudopotential XC': 11}},\n",
       "  'log_gs': <BigDFT.Logfiles.Logfile instance at 0x7fe5bf214680>,\n",
       "  'molecule': 'OH',\n",
       "  'posinp': {'positions': [{'H': [0.0, 0.0, 0.0], 'frag': ['molecule', '0']},\n",
       "    {'O': [0.0, 0.0, 0.9697], 'frag': ['molecule', '0']}],\n",
       "   'units': 'angstroem'},\n",
       "  'study': ('pbe0', 'hgh_k')}}"
      ]
     },
     "execution_count": 20,
     "metadata": {},
     "output_type": "execute_result"
    }
   ],
   "source": [
    "full_data"
   ]
  },
  {
   "cell_type": "code",
   "execution_count": 21,
   "metadata": {},
   "outputs": [],
   "source": [
    "results = data_to_save(full_data,options)\n",
    "#results"
   ]
  },
  {
   "cell_type": "code",
   "execution_count": 22,
   "metadata": {},
   "outputs": [],
   "source": [
    "#full_results = {}\n",
    "full_results = yaml.load(open('full_results.yaml'))"
   ]
  },
  {
   "cell_type": "code",
   "execution_count": 23,
   "metadata": {},
   "outputs": [
    {
     "data": {
      "text/plain": [
       "{'alpha_convergence': ({'f': 0.005, 'rmult': 8.0},\n",
       "  [28.570789, 24.91872, 24.14379]),\n",
       " 'input_gs': {'dft': {'gnrm_cv': 1e-06,\n",
       "   'hgrids': 0.3,\n",
       "   'ixc': 'PBE0',\n",
       "   'rmult': [5.0, 9.0]},\n",
       "  'psppar.C': {'Pseudopotential XC': 11},\n",
       "  'psppar.H': {'Pseudopotential XC': 11},\n",
       "  'psppar.N': {'Pseudopotential XC': 11}},\n",
       " 'posinp': {'positions': [{'N': [0.7505020558, -0.1263257432, -1.4e-09],\n",
       "    'frag': ['molecule', '0']},\n",
       "   {'H': [1.1371866572, 0.3468207227, -0.80589993], 'frag': ['molecule', '0']},\n",
       "   {'H': [1.1371866572, 0.3468207227, 0.80589993], 'frag': ['molecule', '0']},\n",
       "   {'C': [-0.7051562913, 0.018043978, -1.4e-09], 'frag': ['molecule', '0']},\n",
       "   {'H': [-1.1126045962, -0.4830900647, 0.8751002462],\n",
       "    'frag': ['molecule', '0']},\n",
       "   {'H': [-1.1126045962, -0.4830900647, -0.8751002462],\n",
       "    'frag': ['molecule', '0']},\n",
       "   {'H': [-1.071740754, 1.0485550259, 0.0], 'frag': ['molecule', '0']}],\n",
       "  'units': 'angstroem'}}"
      ]
     },
     "execution_count": 23,
     "metadata": {},
     "output_type": "execute_result"
    }
   ],
   "source": [
    "full_results['CH3NH2','pbe0','hgh_k']"
   ]
  },
  {
   "cell_type": "code",
   "execution_count": 24,
   "metadata": {},
   "outputs": [],
   "source": [
    "full_results.update(results)"
   ]
  },
  {
   "cell_type": "code",
   "execution_count": 25,
   "metadata": {},
   "outputs": [],
   "source": [
    "#full_results.keys()"
   ]
  },
  {
   "cell_type": "code",
   "execution_count": 26,
   "metadata": {},
   "outputs": [],
   "source": [
    "with open('full_results.yaml', 'w') as outfile:\n",
    "    yaml.dump(full_results, outfile, default_flow_style=False)"
   ]
  },
  {
   "cell_type": "code",
   "execution_count": null,
   "metadata": {},
   "outputs": [],
   "source": []
  }
 ],
 "metadata": {
  "kernelspec": {
   "display_name": "Python 2",
   "language": "python",
   "name": "python2"
  },
  "language_info": {
   "codemirror_mode": {
    "name": "ipython",
    "version": 2
   },
   "file_extension": ".py",
   "mimetype": "text/x-python",
   "name": "python",
   "nbconvert_exporter": "python",
   "pygments_lexer": "ipython2",
   "version": "2.7.13"
  }
 },
 "nbformat": 4,
 "nbformat_minor": 2
}
