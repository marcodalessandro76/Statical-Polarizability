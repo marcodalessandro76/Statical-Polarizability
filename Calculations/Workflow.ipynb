{
 "cells": [
  {
   "cell_type": "code",
   "execution_count": 1,
   "metadata": {},
   "outputs": [
    {
     "data": {
      "text/plain": [
       "'/home/marco/Data/RICERCA/DFT AND MANY BODY/LR MOLECULES/Statical polarizability/Analysis/Calculations'"
      ]
     },
     "execution_count": 1,
     "metadata": {},
     "output_type": "execute_result"
    }
   ],
   "source": [
    "from BigDFT import Datasets as D, Calculators as C, Inputfiles as I, Logfiles as lf\n",
    "from BigDFT.Database import Molecules\n",
    "import sys,os\n",
    "sys.path.insert(0,'../')\n",
    "import StatPol as SP\n",
    "\n",
    "basepath = os.getcwd()\n",
    "basepath"
   ]
  },
  {
   "cell_type": "code",
   "execution_count": 2,
   "metadata": {},
   "outputs": [],
   "source": [
    "omp = 2\n",
    "mpi_run = 'mpirun -np 4'"
   ]
  },
  {
   "cell_type": "markdown",
   "metadata": {},
   "source": [
    "# Workflow"
   ]
  },
  {
   "cell_type": "markdown",
   "metadata": {},
   "source": [
    "This notebook contains the complete workflow to extract the statical polarizability of the HG dataset."
   ]
  },
  {
   "cell_type": "markdown",
   "metadata": {},
   "source": [
    "## Construction of the relevant tools"
   ]
  },
  {
   "cell_type": "markdown",
   "metadata": {},
   "source": [
    "Define the functions needed to perform the workflow"
   ]
  },
  {
   "cell_type": "code",
   "execution_count": 3,
   "metadata": {},
   "outputs": [],
   "source": [
    "# Service functions \n",
    "\n",
    "def change_workdir(molecule,study,datadir):\n",
    "    \"\"\"\n",
    "    Ensure that the path Data_directory/molecule exists and\n",
    "    move there. \n",
    "    \"\"\"\n",
    "    from futile.Utils import ensure_dir\n",
    "    for d in [datadir,molecule]:\n",
    "        ensure_dir(d)\n",
    "        os.chdir(d)\n",
    "    path='-'.join(study)\n",
    "    ensure_dir(path)\n",
    "    return '-'.join([molecule,path]),path\n",
    "\n",
    "def get_psp(molecule):\n",
    "    \"\"\"\n",
    "    Check if the all the atoms of molecule have the psp of the type nlss_aw and nlcc_ss. \n",
    "    If it is true the corresponding pseudo is added to the list of psp to be performed, otherwise \n",
    "    only hgh_k is included.\n",
    "    \"\"\"\n",
    "    from os import path as p\n",
    "    import Routines as R\n",
    "    possible_psp=['nlcc_aw','nlcc_ss']\n",
    "    to_do=[True,True]\n",
    "    for at in R.get_atoms(molecule):\n",
    "        psp_available = [p.isfile(p.join('psp_'+psp,'psppar.'+at)) for psp in possible_psp]\n",
    "        to_do = [ a and b for a,b in zip(to_do,psp_available)]\n",
    "    return ['hgh_k'] + [psp for yes,psp in zip(to_do,possible_psp) if yes]\n",
    "\n",
    "def split_dataset(dataset,length=10):\n",
    "    \"\"\"\n",
    "    Split a list of molecules into a list of list with length elements. \n",
    "    \"\"\"\n",
    "    splitted = [[] for num in range(int(len(dataset)/length)+1)]\n",
    "    for ind,mol in enumerate(dataset):\n",
    "        splitted[int(ind/length)].append(mol)\n",
    "    return splitted"
   ]
  },
  {
   "cell_type": "code",
   "execution_count": 4,
   "metadata": {},
   "outputs": [],
   "source": [
    "# Tools for the ground state\n",
    "\n",
    "def get_converged_input_energy(dataset,rtol,atol):\n",
    "    data=dataset.seek_convergence(atol=atol,rtol=rtol,attribute='energy')\n",
    "    return dataset.runs[dataset.names.index(D.name_from_id(data[0]))]['input'],data[1]\n",
    "\n",
    "def find_gs_domain(label,rtol,atol,path,input,posinp,code):\n",
    "    \"\"\"\n",
    "    Use the seek_convergence method of Dataset to perform a convergence procedure on\n",
    "    the rmult value for a gs computation.\n",
    "    \"\"\"\n",
    "    crmult=input['dft']['rmult'][0]\n",
    "    rmult_fine=input['dft']['rmult'][1]\n",
    "    rmult_list=map(float,range(int(crmult),11))\n",
    "    seek_for_rmult = D.Dataset(label=label+'(GS)',run_dir=path,posinp=posinp)\n",
    "    for rm in rmult_list:\n",
    "        input.set_rmult(coarse=rm,fine=rmult_fine)\n",
    "        seek_for_rmult.append_run(id={'rmult':rm},runner=code,input=input)\n",
    "    input_gs,log_gs=get_converged_input_energy(seek_for_rmult,rtol,atol)\n",
    "    return {'input_gs':input_gs, 'dataset_gs': seek_for_rmult,'log_gs':log_gs}\n",
    "\n",
    "def gs_study(molecule,study,code,options):\n",
    "    \"\"\"\"\n",
    "    Workflow for the convergence analysis of the ground state.\n",
    "    \n",
    "    Args : \n",
    "       molecule (str) : name of the molecule\n",
    "       study (touple) : the couple (xc,psp)\n",
    "       code (runner)  : instance of SystemCalculator\n",
    "       options (dict) : dictionary with the computational options\n",
    "    \"\"\"\n",
    "    import Routines as R\n",
    "    hgrids=options.get('hgrids')\n",
    "    rmult_fine=options.get('rmult_fine')\n",
    "    wf_convergence=options.get('wf_convergence')\n",
    "    crmult_start=options.get('crmult',4.0)\n",
    "    rtol=options.get('rtol_gs',10*wf_convergence)\n",
    "    atol=options.get('atol_gs',1.e-3)\n",
    "    reference_results=options.get('reference_data')\n",
    "    datadir=options.get('data_directory','Data')\n",
    "\n",
    "    initial_dir=os.path.abspath(os.path.dirname('.'))\n",
    "    label,path=change_workdir(molecule,study,datadir)\n",
    "    \n",
    "    posinp=Molecules.Molecule(molecule)\n",
    "    \n",
    "    inp = I.Inputfile()\n",
    "    inp.set_hgrid(hgrids)\n",
    "    inp.set_rmult(coarse=crmult_start,fine=rmult_fine)\n",
    "    R.set_xc[study](inp,molecule,datadir)\n",
    "    inp.set_wavefunction_convergence(wf_convergence)\n",
    "    mpol=int(reference_results[molecule]['mpol_ref'])-1   \n",
    "    if mpol >0: inp.spin_polarize(mpol)\n",
    "    data= find_gs_domain(label,10*wf_convergence,atol,path,inp,posinp,code)\n",
    "    os.chdir(initial_dir)\n",
    "    \n",
    "    data['molecule']=molecule\n",
    "    data['posinp']=posinp\n",
    "    data['study']=study\n",
    "    return data "
   ]
  },
  {
   "cell_type": "code",
   "execution_count": 5,
   "metadata": {},
   "outputs": [],
   "source": [
    "# Tools for alpha\n",
    "def extract_statical_polarizability(label,rtol,atol,path,input_for_alpha,posinp,code,ref):\n",
    "    \n",
    "    # seek for the field convergence\n",
    "    ints=[1e-2,5e-3,1e-3,5e-4,1e-4]\n",
    "    alpha_field=D.Dataset(label=label+'(field)',run_dir=path)\n",
    "    for f in ints:\n",
    "        alpha_field.append_run(id={'f':f},runner=SP.build_alpha_dataset(input=input_for_alpha,posinp=posinp,run_dir=path,runner=code,intensity=f))\n",
    "    try:\n",
    "        data_field=alpha_field.seek_convergence(rtol=rtol,atol=atol)\n",
    "        intensity=data_field[0]['f']\n",
    "    except:\n",
    "        print ('Convergence in field not reached')\n",
    "        intensity=ints[-1]\n",
    "    \n",
    "    # seek for the rmult convergence\n",
    "    rmult_fine=input_for_alpha['dft']['rmult'][1]\n",
    "    rmult_list=map(float,range(int(input_for_alpha['dft']['rmult'][0]),11))\n",
    "    alpha_rmult=D.Dataset(label=label+'(domain)',run_dir=path)\n",
    "    for rm in rmult_list:\n",
    "        input_for_alpha.set_rmult(coarse=rm,fine=rmult_fine)\n",
    "        alpha_rmult.append_run(id={'f':intensity,'rmult':rm},runner=SP.build_alpha_dataset(input=input_for_alpha,posinp=posinp,run_dir=path,runner=code,intensity=intensity))\n",
    "    try:\n",
    "        import numpy as np\n",
    "        data_final=alpha_rmult.seek_convergence(rtol=rtol,atol=atol)\n",
    "        AuToA = 0.5291772085**3\n",
    "        alpha_ref_ii = np.array(ref)/AuToA\n",
    "        eps = 100.0 * (data_final[1]-alpha_ref_ii)/alpha_ref_ii\n",
    "        print ('Relative difference in %',eps.tolist())\n",
    "    except LookupError as e:\n",
    "        print ('Convergence in domain not reached',e)\n",
    "        data_final=None\n",
    "    return {'alpha_convergence': data_final, 'dataset_field': alpha_field, 'dataset_rmult': alpha_rmult}\n",
    "\n",
    "\n",
    "def alpha_study(gs_data,code,options):\n",
    "    \"\"\"\"\n",
    "    Workflow for the convergence analysis for the computation of alpha.\n",
    "    \n",
    "    Args : \n",
    "       gs_data        : output of gs_study\n",
    "       code (runner)  : instance of SystemCalculator\n",
    "       options (dict) : dictionary with the computational options\n",
    "    \"\"\"\n",
    "    import copy\n",
    "    xc_conversion={'lda_pw': 'lda-SPW92', 'pbe': 'pbe', 'pbe0': 'pbe0'}\n",
    "    rtol=options.get('rtol',1.e-2)\n",
    "    atol=options.get('atol',1.e-3)\n",
    "    reference_results=options.get('reference_data')\n",
    "    datadir=options.get('data_directory','Data')\n",
    "    study=gs_data['study']\n",
    "    molecule=gs_data['molecule']\n",
    "    posinp=gs_data['posinp']\n",
    "    xc=study[0]\n",
    "    ref_data=reference_results[molecule][xc_conversion[xc]]\n",
    "    \n",
    "    initial_dir=os.path.abspath(os.path.dirname('.'))\n",
    "    label,path=change_workdir(molecule,study,datadir)\n",
    "    input_gs=copy.deepcopy(gs_data['input_gs'])\n",
    "        \n",
    "    data=extract_statical_polarizability(label,rtol,atol,path,input_gs,posinp,code,ref=ref_data)\n",
    "    os.chdir(initial_dir)\n",
    "    \n",
    "    return data"
   ]
  },
  {
   "cell_type": "code",
   "execution_count": 32,
   "metadata": {},
   "outputs": [],
   "source": [
    "def data_to_save(data,options):\n",
    "    \"\"\"\n",
    "    Define the dictionary to be saved on file for data analysis\n",
    "    \"\"\"\n",
    "    from copy import deepcopy\n",
    "    res = {}\n",
    "    for s,values in data.iteritems():\n",
    "        res[s] = {}\n",
    "        if not (values['alpha_convergence'] is None):\n",
    "            res[s]['alpha_convergence'] = (values['alpha_convergence'][0],values['alpha_convergence'][1].tolist())\n",
    "        else : \n",
    "            res[s]['alpha_convergence'] = values['alpha_convergence']\n",
    "        \n",
    "        res[s]['posinp'] = {}\n",
    "        pos = values['posinp']\n",
    "        for key in pos:\n",
    "            res[s]['posinp'][key] = pos[key]\n",
    "        \n",
    "        res[s]['input_gs'] = {}\n",
    "        inp = values['input_gs']\n",
    "        for key in inp:\n",
    "            res[s]['input_gs'][key] = inp[key]\n",
    "        \n",
    "    save_options = deepcopy(options)\n",
    "    save_options.pop('reference_data')\n",
    "    res['options'] = save_options\n",
    "    return res"
   ]
  },
  {
   "cell_type": "markdown",
   "metadata": {},
   "source": [
    "## Single study analysis"
   ]
  },
  {
   "cell_type": "markdown",
   "metadata": {},
   "source": [
    "Build the dataset using the HG data written in hg_data.yaml. To each molecule of the dataset associate a set of studies=(xc,psp)"
   ]
  },
  {
   "cell_type": "code",
   "execution_count": 7,
   "metadata": {},
   "outputs": [],
   "source": [
    "import yaml\n",
    "HG_data=yaml.load(open('../HG Dataset/hg_data.yaml'))"
   ]
  },
  {
   "cell_type": "code",
   "execution_count": 9,
   "metadata": {},
   "outputs": [
    {
     "name": "stdout",
     "output_type": "stream",
     "text": [
      "Initialize a Calculator with OMP_NUM_THREADS=2 and command mpirun -np 4 /home/marco/Applications/BigDFT/binaries/v1.8.3/install/bin/bigdft\n"
     ]
    }
   ],
   "source": [
    "code=C.SystemCalculator(omp=omp,mpi_run=mpi_run,skip=True,verbose=False)"
   ]
  },
  {
   "cell_type": "code",
   "execution_count": 10,
   "metadata": {},
   "outputs": [],
   "source": [
    "options={'wf_convergence':1.e-6,'hgrids':0.3,'rmult_fine':9.0,'rtol':1.e-3,'atol':1.e-3,\\\n",
    "         'reference_data':HG_data,'data_directory':'Data'}"
   ]
  },
  {
   "cell_type": "markdown",
   "metadata": {},
   "source": [
    "We can perform a single study with this workflow"
   ]
  },
  {
   "cell_type": "code",
   "execution_count": 11,
   "metadata": {},
   "outputs": [],
   "source": [
    "molecule = 'CO'\n",
    "xc = 'pbe'\n",
    "psp = 'nlcc_aw'\n",
    "study_data = {}"
   ]
  },
  {
   "cell_type": "code",
   "execution_count": 12,
   "metadata": {},
   "outputs": [
    {
     "name": "stdout",
     "output_type": "stream",
     "text": [
      "Fetching results for id \" {'rmult': 4.0} \"\n",
      "Fetching results for id \" {'rmult': 5.0} \"\n",
      "Fetching results for id \" {'rmult': 6.0} \"\n",
      "Convergence reached in Dataset \"CO-pbe-nlcc_aw(GS)\" for id \" {'rmult': 5.0} \"\n"
     ]
    }
   ],
   "source": [
    "gs_data=gs_study(molecule,(xc,psp),code,options)"
   ]
  },
  {
   "cell_type": "code",
   "execution_count": 13,
   "metadata": {},
   "outputs": [
    {
     "data": {
      "text/plain": [
       "{'dataset_gs': <BigDFT.Datasets.Dataset instance at 0x7f9377c64248>,\n",
       " 'input_gs': {'dft': {'gnrm_cv': 1e-06,\n",
       "   'hgrids': 0.3,\n",
       "   'ixc': 11,\n",
       "   'rmult': [5.0, 9.0]}},\n",
       " 'log_gs': <BigDFT.Logfiles.Logfile instance at 0x7f9377c64638>,\n",
       " 'molecule': 'CO',\n",
       " 'posinp': {'positions': [{'C': [0.0, 0.0, 0.0], 'frag': ['molecule', '0']},\n",
       "   {'O': [0.0, 0.0, 1.1282], 'frag': ['molecule', '0']}],\n",
       "  'units': 'angstroem'},\n",
       " 'study': ('pbe', 'nlcc_aw')}"
      ]
     },
     "execution_count": 13,
     "metadata": {},
     "output_type": "execute_result"
    }
   ],
   "source": [
    "gs_data"
   ]
  },
  {
   "cell_type": "code",
   "execution_count": 14,
   "metadata": {},
   "outputs": [
    {
     "name": "stdout",
     "output_type": "stream",
     "text": [
      "Fetching results for id \" {'f': 0.01} \"\n",
      "Fetching results for id \" {'f': 0.005} \"\n",
      "Fetching results for id \" {'f': 0.001} \"\n",
      "Convergence reached in Dataset \"CO-pbe-nlcc_aw(field)\" for id \" {'f': 0.005} \"\n",
      "Fetching results for id \" {'rmult': 5.0, 'f': 0.005} \"\n",
      "Fetching results for id \" {'rmult': 6.0, 'f': 0.005} \"\n",
      "Fetching results for id \" {'rmult': 7.0, 'f': 0.005} \"\n",
      "Fetching results for id \" {'rmult': 8.0, 'f': 0.005} \"\n",
      "Convergence reached in Dataset \"CO-pbe-nlcc_aw(domain)\" for id \" {'rmult': 7.0, 'f': 0.005} \"\n",
      "('Relative difference in %', [0.1266037733590598, 0.1266037733590598, -0.35506403390880337])\n"
     ]
    }
   ],
   "source": [
    "study_data[(molecule,xc,psp)]=alpha_study(gs_data,code,options)\n",
    "study_data[(molecule,xc,psp)].update(gs_data)"
   ]
  },
  {
   "cell_type": "code",
   "execution_count": 15,
   "metadata": {},
   "outputs": [
    {
     "data": {
      "text/plain": [
       "{('CO',\n",
       "  'pbe',\n",
       "  'nlcc_aw'): {'alpha_convergence': ({'f': 0.005, 'rmult': 7.0},\n",
       "   array([12.540766, 12.540766, 15.889695])), 'dataset_field': <BigDFT.Datasets.Dataset instance at 0x7f938c077e18>, 'dataset_gs': <BigDFT.Datasets.Dataset instance at 0x7f9377c64248>, 'dataset_rmult': <BigDFT.Datasets.Dataset instance at 0x7f937750e6c8>, 'input_gs': {'dft': {'gnrm_cv': 1e-06,\n",
       "    'hgrids': 0.3,\n",
       "    'ixc': 11,\n",
       "    'rmult': [5.0,\n",
       "     9.0]}}, 'log_gs': <BigDFT.Logfiles.Logfile instance at 0x7f9377c64638>, 'molecule': 'CO', 'posinp': {'positions': [{'C': [0.0,\n",
       "      0.0,\n",
       "      0.0],\n",
       "     'frag': ['molecule', '0']},\n",
       "    {'O': [0.0, 0.0, 1.1282], 'frag': ['molecule', '0']}],\n",
       "   'units': 'angstroem'}, 'study': ('pbe', 'nlcc_aw')}}"
      ]
     },
     "execution_count": 15,
     "metadata": {},
     "output_type": "execute_result"
    }
   ],
   "source": [
    "study_data"
   ]
  },
  {
   "cell_type": "markdown",
   "metadata": {},
   "source": [
    "To check if convergence has been reached we can look at 'alpha_convergence'. \n",
    "\n",
    "If the value of 'f' is the last value of the field intensity list provided in the extract_statical_polarizability function, then the field convergence has not been reached. Moreover, if 'alpha_convergence' is None the rmult convergence on alpha has failed. "
   ]
  },
  {
   "cell_type": "code",
   "execution_count": 22,
   "metadata": {},
   "outputs": [
    {
     "ename": "AttributeError",
     "evalue": "'NoneType' object has no attribute 'tolist'",
     "output_type": "error",
     "traceback": [
      "\u001b[0;31m---------------------------------------------------------------------------\u001b[0m",
      "\u001b[0;31mAttributeError\u001b[0m                            Traceback (most recent call last)",
      "\u001b[0;32m<ipython-input-22-7bf53e840259>\u001b[0m in \u001b[0;36m<module>\u001b[0;34m()\u001b[0m\n\u001b[0;32m----> 1\u001b[0;31m \u001b[0mdata_to_save\u001b[0m\u001b[0;34m(\u001b[0m\u001b[0mstudy_data\u001b[0m\u001b[0;34m,\u001b[0m\u001b[0moptions\u001b[0m\u001b[0;34m)\u001b[0m\u001b[0;34m\u001b[0m\u001b[0;34m\u001b[0m\u001b[0m\n\u001b[0m",
      "\u001b[0;32m<ipython-input-6-e0a408fdf7a3>\u001b[0m in \u001b[0;36mdata_to_save\u001b[0;34m(data, options)\u001b[0m\n\u001b[1;32m      7\u001b[0m     \u001b[0;32mfor\u001b[0m \u001b[0ms\u001b[0m\u001b[0;34m,\u001b[0m\u001b[0mvalues\u001b[0m \u001b[0;32min\u001b[0m \u001b[0mdata\u001b[0m\u001b[0;34m.\u001b[0m\u001b[0miteritems\u001b[0m\u001b[0;34m(\u001b[0m\u001b[0;34m)\u001b[0m\u001b[0;34m:\u001b[0m\u001b[0;34m\u001b[0m\u001b[0;34m\u001b[0m\u001b[0m\n\u001b[1;32m      8\u001b[0m         \u001b[0mres\u001b[0m\u001b[0;34m[\u001b[0m\u001b[0ms\u001b[0m\u001b[0;34m]\u001b[0m \u001b[0;34m=\u001b[0m \u001b[0;34m{\u001b[0m\u001b[0;34m}\u001b[0m\u001b[0;34m\u001b[0m\u001b[0;34m\u001b[0m\u001b[0m\n\u001b[0;32m----> 9\u001b[0;31m         \u001b[0mres\u001b[0m\u001b[0;34m[\u001b[0m\u001b[0ms\u001b[0m\u001b[0;34m]\u001b[0m\u001b[0;34m[\u001b[0m\u001b[0;34m'alpha_convergence'\u001b[0m\u001b[0;34m]\u001b[0m \u001b[0;34m=\u001b[0m \u001b[0;34m(\u001b[0m\u001b[0mvalues\u001b[0m\u001b[0;34m[\u001b[0m\u001b[0;34m'alpha_convergence'\u001b[0m\u001b[0;34m]\u001b[0m\u001b[0;34m[\u001b[0m\u001b[0;36m0\u001b[0m\u001b[0;34m]\u001b[0m\u001b[0;34m,\u001b[0m\u001b[0mvalues\u001b[0m\u001b[0;34m[\u001b[0m\u001b[0;34m'alpha_convergence'\u001b[0m\u001b[0;34m]\u001b[0m\u001b[0;34m[\u001b[0m\u001b[0;36m1\u001b[0m\u001b[0;34m]\u001b[0m\u001b[0;34m.\u001b[0m\u001b[0mtolist\u001b[0m\u001b[0;34m(\u001b[0m\u001b[0;34m)\u001b[0m\u001b[0;34m)\u001b[0m\u001b[0;34m\u001b[0m\u001b[0;34m\u001b[0m\u001b[0m\n\u001b[0m\u001b[1;32m     10\u001b[0m \u001b[0;34m\u001b[0m\u001b[0m\n\u001b[1;32m     11\u001b[0m         \u001b[0mres\u001b[0m\u001b[0;34m[\u001b[0m\u001b[0ms\u001b[0m\u001b[0;34m]\u001b[0m\u001b[0;34m[\u001b[0m\u001b[0;34m'posinp'\u001b[0m\u001b[0;34m]\u001b[0m \u001b[0;34m=\u001b[0m \u001b[0;34m{\u001b[0m\u001b[0;34m}\u001b[0m\u001b[0;34m\u001b[0m\u001b[0;34m\u001b[0m\u001b[0m\n",
      "\u001b[0;31mAttributeError\u001b[0m: 'NoneType' object has no attribute 'tolist'"
     ]
    }
   ],
   "source": [
    "data_to_save(study_data,options)"
   ]
  },
  {
   "cell_type": "markdown",
   "metadata": {},
   "source": [
    "## Dataset analysis"
   ]
  },
  {
   "cell_type": "markdown",
   "metadata": {},
   "source": [
    "In the same way we can run the whole dataset (or a part of it). The results of the dataset (processed by data_to_save) are stored in the full_data dictionary. This dictionary can be dumped in a Yaml file and updated with new computatitions so that the complete dataset can be runned in more than one step. "
   ]
  },
  {
   "cell_type": "code",
   "execution_count": 7,
   "metadata": {},
   "outputs": [],
   "source": [
    "import yaml\n",
    "HG_data=yaml.load(open('../HG Dataset/hg_data.yaml'))\n",
    "# set the study for H to sp\n",
    "HG_data['H']['spin_pol'] = 'sp'"
   ]
  },
  {
   "cell_type": "code",
   "execution_count": 8,
   "metadata": {},
   "outputs": [],
   "source": [
    "# for computational reason it can be useful to split the complete dataset into the sp and the nsp ones.\n",
    "# Moreover, each dataset can be divided into groups. \n",
    "sp_dataset = []\n",
    "nsp_dataset = []\n",
    "for mol in HG_data:\n",
    "    if HG_data[mol]['spin_pol'] == 'nsp': \n",
    "        nsp_dataset.append(mol)\n",
    "    else : \n",
    "        sp_dataset.append(mol)\n",
    "# remove the H2O-Li molecule because we are not able to treat it with the\n",
    "# current implementation of the functions\n",
    "ind =  sp_dataset.index('H2O-Li')\n",
    "del sp_dataset[ind]\n",
    "# remove also Li2 because the gs calculation does not converge with the\n",
    "# actual range of parameters\n",
    "ind =  sp_dataset.index('Li2')\n",
    "del sp_dataset[ind]\n",
    "# remove the FH-OH molecule because we are not able to treat it with the\n",
    "# current implementation of the functions\n",
    "ind =  sp_dataset.index('FH-OH')\n",
    "del sp_dataset[ind]\n",
    "sp_dataset.sort()\n",
    "nsp_dataset.sort()\n",
    "sp_split = split_dataset(sp_dataset)\n",
    "nsp_split = split_dataset(nsp_dataset)"
   ]
  },
  {
   "cell_type": "code",
   "execution_count": 9,
   "metadata": {},
   "outputs": [
    {
     "name": "stdout",
     "output_type": "stream",
     "text": [
      "74\n",
      "55\n"
     ]
    }
   ],
   "source": [
    "print len(nsp_dataset)\n",
    "print len(sp_dataset)"
   ]
  },
  {
   "cell_type": "code",
   "execution_count": 10,
   "metadata": {},
   "outputs": [
    {
     "data": {
      "text/plain": [
       "[['BH2', 'BN', 'BO', 'BS', 'Be', 'BeH', 'C2H', 'C2H3', 'CH2', 'CH2F'],\n",
       " ['CH2NH', 'CH2PH', 'CH3', 'CH3O', 'CN', 'F2', 'FCO', 'H', 'H2CN', 'HCHS'],\n",
       " ['HCO', 'HCP', 'HNO', 'HNS', 'HO2', 'HOF', 'Li', 'N', 'N2H2', 'NCO'],\n",
       " ['NH', 'NH2', 'NO', 'NOCl', 'NP', 'Na', 'Na2', 'NaLi', 'O2', 'O3'],\n",
       " ['OCl', 'OF', 'OF2', 'OH', 'P', 'P2', 'PH', 'PH2', 'PS', 'S2'],\n",
       " ['SCl', 'SF', 'SH', 'SO', 'SiH3']]"
      ]
     },
     "execution_count": 10,
     "metadata": {},
     "output_type": "execute_result"
    }
   ],
   "source": [
    "sp_split"
   ]
  },
  {
   "cell_type": "markdown",
   "metadata": {},
   "source": [
    "We also build a complete dataset that can be run to write all the results on file"
   ]
  },
  {
   "cell_type": "code",
   "execution_count": 8,
   "metadata": {},
   "outputs": [],
   "source": [
    "full_dataset = []\n",
    "for mol in HG_data:\n",
    "        full_dataset.append(mol)\n",
    "# remove the H2O-Li molecule because we are not able to treat it with the\n",
    "# current implementation of the functions\n",
    "ind =  full_dataset.index('H2O-Li')\n",
    "del full_dataset[ind]\n",
    "# remove also Li2 because the gs calculation does not converge with the\n",
    "# actual range of parameters\n",
    "ind =  full_dataset.index('Li2')\n",
    "del full_dataset[ind]\n",
    "# remove the FH-OH molecule because we are not able to treat it with the\n",
    "# current implementation of the functions\n",
    "ind =  full_dataset.index('FH-OH')\n",
    "del full_dataset[ind]\n",
    "full_dataset.sort()"
   ]
  },
  {
   "cell_type": "code",
   "execution_count": 9,
   "metadata": {},
   "outputs": [
    {
     "data": {
      "text/plain": [
       "129"
      ]
     },
     "execution_count": 9,
     "metadata": {},
     "output_type": "execute_result"
    }
   ],
   "source": [
    "len(full_dataset)"
   ]
  },
  {
   "cell_type": "code",
   "execution_count": 10,
   "metadata": {},
   "outputs": [],
   "source": [
    "# no molecule is missing in Data\n",
    "for mol in full_dataset:\n",
    "    d = os.path.join('Data',mol)\n",
    "    if not os.path.isdir(d):\n",
    "        print mol"
   ]
  },
  {
   "cell_type": "code",
   "execution_count": 11,
   "metadata": {},
   "outputs": [],
   "source": [
    "full_dataset_split = split_dataset(full_dataset)"
   ]
  },
  {
   "cell_type": "code",
   "execution_count": 13,
   "metadata": {},
   "outputs": [
    {
     "name": "stdout",
     "output_type": "stream",
     "text": [
      "['AlF', 'Ar', 'BF', 'BH2', 'BH2Cl', 'BH2F', 'BH3', 'BHF2', 'BN', 'BO']\n",
      "['BS', 'Be', 'BeH', 'BeH2', 'C2H', 'C2H2', 'C2H3', 'C2H4', 'CH2', 'CH2BH']\n",
      "['CH2F', 'CH2NH', 'CH2PH', 'CH3', 'CH3BH2', 'CH3Cl', 'CH3F', 'CH3NH2', 'CH3O', 'CH3OH']\n",
      "['CH3SH', 'CH4', 'CN', 'CO', 'CO2', 'CS', 'CSO', 'Cl2', 'ClCN', 'ClF']\n",
      "['F2', 'FCN', 'FCO', 'FNO', 'H', 'H2', 'H2CN', 'H2O', 'HBO', 'HBS']\n",
      "['HCCCl', 'HCCF', 'HCHO', 'HCHS', 'HCN', 'HCO', 'HCONH2', 'HCOOH', 'HCP', 'HCl']\n",
      "['HF', 'HNC', 'HNO', 'HNS', 'HO2', 'HOCl', 'HOF', 'HOOH', 'He', 'Li']\n",
      "['LiBH4', 'LiCN', 'LiCl', 'LiH', 'Mg', 'Mg2', 'N', 'N2', 'N2H2', 'N2H4']\n",
      "['NCO', 'NH', 'NH2', 'NH2Cl', 'NH2F', 'NH2OH', 'NH3', 'NH3O', 'NO', 'NOCl']\n",
      "['NP', 'Na', 'Na2', 'NaCN', 'NaCl', 'NaH', 'NaLi', 'Ne', 'O2', 'O3']\n",
      "['OCl', 'OCl2', 'OF', 'OF2', 'OH', 'P', 'P2', 'P2H4', 'PH', 'PH2']\n",
      "['PH2OH', 'PH3', 'PH3O', 'PS', 'S2', 'S2H2', 'SCl', 'SCl2', 'SF', 'SF2']\n",
      "['SH', 'SH2', 'SO', 'SO2', 'SiH3', 'SiH3Cl', 'SiH3F', 'SiH4', 'SiO']\n"
     ]
    }
   ],
   "source": [
    "for sets in full_dataset_split:\n",
    "    print sets"
   ]
  },
  {
   "cell_type": "markdown",
   "metadata": {},
   "source": [
    "Run the dataset"
   ]
  },
  {
   "cell_type": "code",
   "execution_count": 14,
   "metadata": {},
   "outputs": [],
   "source": [
    "options={'wf_convergence':1.e-6,'hgrids':0.3,'rmult_fine':9.0,'rtol':1.e-3,'atol':1.e-3,\\\n",
    "         'reference_data':HG_data,'data_directory':'Data'}"
   ]
  },
  {
   "cell_type": "code",
   "execution_count": 15,
   "metadata": {},
   "outputs": [
    {
     "name": "stdout",
     "output_type": "stream",
     "text": [
      "Initialize a Calculator with OMP_NUM_THREADS=2 and command mpirun -np 4 /home/marco/Applications/BigDFT/binaries/v1.8.3/install/bin/bigdft\n"
     ]
    }
   ],
   "source": [
    "code=C.SystemCalculator(omp=omp,mpi_run=mpi_run,skip=True,verbose=False)"
   ]
  },
  {
   "cell_type": "code",
   "execution_count": 43,
   "metadata": {
    "scrolled": true
   },
   "outputs": [
    {
     "name": "stdout",
     "output_type": "stream",
     "text": [
      "\n",
      "CH2F lda_pw hgh_k\n",
      "Fetching results for id \" {'rmult': 4.0} \"\n",
      "Fetching results for id \" {'rmult': 5.0} \"\n",
      "Fetching results for id \" {'rmult': 6.0} \"\n",
      "Convergence reached in Dataset \"CH2F-lda_pw-hgh_k(GS)\" for id \" {'rmult': 5.0} \"\n",
      "Fetching results for id \" {'f': 0.01} \"\n",
      "Fetching results for id \" {'f': 0.005} \"\n",
      "Fetching results for id \" {'f': 0.001} \"\n",
      "Fetching results for id \" {'f': 0.0005} \"\n",
      "Convergence reached in Dataset \"CH2F-lda_pw-hgh_k(field)\" for id \" {'f': 0.001} \"\n",
      "Fetching results for id \" {'rmult': 5.0, 'f': 0.001} \"\n",
      "Fetching results for id \" {'rmult': 6.0, 'f': 0.001} \"\n",
      "Fetching results for id \" {'rmult': 7.0, 'f': 0.001} \"\n",
      "Fetching results for id \" {'rmult': 8.0, 'f': 0.001} \"\n",
      "Fetching results for id \" {'rmult': 9.0, 'f': 0.001} \"\n",
      "Convergence reached in Dataset \"CH2F-lda_pw-hgh_k(domain)\" for id \" {'rmult': 8.0, 'f': 0.001} \"\n",
      "('Relative difference in %', [-2.4099038030575772, -0.3827504156223746, -0.8850794830791557])\n",
      "\n",
      "CH2F pbe hgh_k\n",
      "Fetching results for id \" {'rmult': 4.0} \"\n",
      "Fetching results for id \" {'rmult': 5.0} \"\n",
      "Fetching results for id \" {'rmult': 6.0} \"\n",
      "Convergence reached in Dataset \"CH2F-pbe-hgh_k(GS)\" for id \" {'rmult': 5.0} \"\n",
      "Fetching results for id \" {'f': 0.01} \"\n",
      "Fetching results for id \" {'f': 0.005} \"\n",
      "Fetching results for id \" {'f': 0.001} \"\n",
      "Fetching results for id \" {'f': 0.0005} \"\n",
      "Convergence reached in Dataset \"CH2F-pbe-hgh_k(field)\" for id \" {'f': 0.001} \"\n",
      "Fetching results for id \" {'rmult': 5.0, 'f': 0.001} \"\n",
      "Fetching results for id \" {'rmult': 6.0, 'f': 0.001} \"\n",
      "Fetching results for id \" {'rmult': 7.0, 'f': 0.001} \"\n",
      "Fetching results for id \" {'rmult': 8.0, 'f': 0.001} \"\n",
      "Fetching results for id \" {'rmult': 9.0, 'f': 0.001} \"\n",
      "Convergence reached in Dataset \"CH2F-pbe-hgh_k(domain)\" for id \" {'rmult': 8.0, 'f': 0.001} \"\n",
      "('Relative difference in %', [-3.7190242717500657, -0.8464211839456709, -1.2271792584739245])\n",
      "\n",
      "CH2F pbe nlcc_aw\n",
      "Fetching results for id \" {'rmult': 4.0} \"\n",
      "Fetching results for id \" {'rmult': 5.0} \"\n",
      "Fetching results for id \" {'rmult': 6.0} \"\n",
      "Convergence reached in Dataset \"CH2F-pbe-nlcc_aw(GS)\" for id \" {'rmult': 5.0} \"\n",
      "Fetching results for id \" {'f': 0.01} \"\n",
      "Fetching results for id \" {'f': 0.005} \"\n",
      "Fetching results for id \" {'f': 0.001} \"\n",
      "Fetching results for id \" {'f': 0.0005} \"\n",
      "Convergence reached in Dataset \"CH2F-pbe-nlcc_aw(field)\" for id \" {'f': 0.001} \"\n",
      "Fetching results for id \" {'rmult': 5.0, 'f': 0.001} \"\n",
      "Fetching results for id \" {'rmult': 6.0, 'f': 0.001} \"\n",
      "Fetching results for id \" {'rmult': 7.0, 'f': 0.001} \"\n",
      "Fetching results for id \" {'rmult': 8.0, 'f': 0.001} \"\n",
      "Fetching results for id \" {'rmult': 9.0, 'f': 0.001} \"\n",
      "Convergence reached in Dataset \"CH2F-pbe-nlcc_aw(domain)\" for id \" {'rmult': 8.0, 'f': 0.001} \"\n",
      "('Relative difference in %', [-0.6697953306650444, -0.09493564740889848, -0.4928617459761856])\n",
      "\n",
      "CH2F pbe nlcc_ss\n",
      "Fetching results for id \" {'rmult': 4.0} \"\n",
      "Fetching results for id \" {'rmult': 5.0} \"\n",
      "Fetching results for id \" {'rmult': 6.0} \"\n",
      "Convergence reached in Dataset \"CH2F-pbe-nlcc_ss(GS)\" for id \" {'rmult': 5.0} \"\n",
      "Fetching results for id \" {'f': 0.01} \"\n",
      "Fetching results for id \" {'f': 0.005} \"\n",
      "Fetching results for id \" {'f': 0.001} \"\n",
      "Fetching results for id \" {'f': 0.0005} \"\n",
      "Convergence reached in Dataset \"CH2F-pbe-nlcc_ss(field)\" for id \" {'f': 0.001} \"\n",
      "Fetching results for id \" {'rmult': 5.0, 'f': 0.001} \"\n",
      "Fetching results for id \" {'rmult': 6.0, 'f': 0.001} \"\n",
      "Fetching results for id \" {'rmult': 7.0, 'f': 0.001} \"\n",
      "Fetching results for id \" {'rmult': 8.0, 'f': 0.001} \"\n",
      "Fetching results for id \" {'rmult': 9.0, 'f': 0.001} \"\n",
      "Convergence reached in Dataset \"CH2F-pbe-nlcc_ss(domain)\" for id \" {'rmult': 8.0, 'f': 0.001} \"\n",
      "('Relative difference in %', [-0.6901877218741854, -0.08437365813923667, -0.6345859280339605])\n",
      "\n",
      "CH2F pbe0 hgh_k\n",
      "Fetching results for id \" {'rmult': 4.0} \"\n",
      "Fetching results for id \" {'rmult': 5.0} \"\n",
      "Fetching results for id \" {'rmult': 6.0} \"\n",
      "Convergence reached in Dataset \"CH2F-pbe0-hgh_k(GS)\" for id \" {'rmult': 5.0} \"\n",
      "Fetching results for id \" {'f': 0.01} \"\n",
      "Fetching results for id \" {'f': 0.005} \"\n",
      "Fetching results for id \" {'f': 0.001} \"\n",
      "Fetching results for id \" {'f': 0.0005} \"\n",
      "Convergence reached in Dataset \"CH2F-pbe0-hgh_k(field)\" for id \" {'f': 0.001} \"\n",
      "Fetching results for id \" {'rmult': 5.0, 'f': 0.001} \"\n",
      "Fetching results for id \" {'rmult': 6.0, 'f': 0.001} \"\n",
      "Fetching results for id \" {'rmult': 7.0, 'f': 0.001} \"\n",
      "Fetching results for id \" {'rmult': 8.0, 'f': 0.001} \"\n",
      "Fetching results for id \" {'rmult': 9.0, 'f': 0.001} \"\n",
      "Convergence reached in Dataset \"CH2F-pbe0-hgh_k(domain)\" for id \" {'rmult': 8.0, 'f': 0.001} \"\n",
      "('Relative difference in %', [-2.258472627062197, -0.5341292835927474, -0.8961611722745023])\n",
      "\n",
      "CH2NH lda_pw hgh_k\n",
      "Fetching results for id \" {'rmult': 4.0} \"\n",
      "Fetching results for id \" {'rmult': 5.0} \"\n",
      "Fetching results for id \" {'rmult': 6.0} \"\n",
      "Convergence reached in Dataset \"CH2NH-lda_pw-hgh_k(GS)\" for id \" {'rmult': 5.0} \"\n",
      "Fetching results for id \" {'f': 0.01} \"\n",
      "Fetching results for id \" {'f': 0.005} \"\n",
      "Fetching results for id \" {'f': 0.001} \"\n",
      "Convergence reached in Dataset \"CH2NH-lda_pw-hgh_k(field)\" for id \" {'f': 0.005} \"\n",
      "Fetching results for id \" {'rmult': 5.0, 'f': 0.005} \"\n",
      "Fetching results for id \" {'rmult': 6.0, 'f': 0.005} \"\n",
      "Fetching results for id \" {'rmult': 7.0, 'f': 0.005} \"\n",
      "Fetching results for id \" {'rmult': 8.0, 'f': 0.005} \"\n",
      "Fetching results for id \" {'rmult': 9.0, 'f': 0.005} \"\n",
      "Convergence reached in Dataset \"CH2NH-lda_pw-hgh_k(domain)\" for id \" {'rmult': 8.0, 'f': 0.005} \"\n",
      "('Relative difference in %', [-0.1868059595343039, 0.03408611262534023, 0.029255510084811146])\n",
      "\n",
      "CH2NH pbe hgh_k\n",
      "Fetching results for id \" {'rmult': 4.0} \"\n",
      "Fetching results for id \" {'rmult': 5.0} \"\n",
      "Fetching results for id \" {'rmult': 6.0} \"\n",
      "Convergence reached in Dataset \"CH2NH-pbe-hgh_k(GS)\" for id \" {'rmult': 5.0} \"\n",
      "Fetching results for id \" {'f': 0.01} \"\n",
      "Fetching results for id \" {'f': 0.005} \"\n",
      "Fetching results for id \" {'f': 0.001} \"\n",
      "Convergence reached in Dataset \"CH2NH-pbe-hgh_k(field)\" for id \" {'f': 0.005} \"\n",
      "Fetching results for id \" {'rmult': 5.0, 'f': 0.005} \"\n",
      "Fetching results for id \" {'rmult': 6.0, 'f': 0.005} \"\n",
      "Fetching results for id \" {'rmult': 7.0, 'f': 0.005} \"\n",
      "Fetching results for id \" {'rmult': 8.0, 'f': 0.005} \"\n",
      "Fetching results for id \" {'rmult': 9.0, 'f': 0.005} \"\n",
      "Convergence reached in Dataset \"CH2NH-pbe-hgh_k(domain)\" for id \" {'rmult': 8.0, 'f': 0.005} \"\n",
      "('Relative difference in %', [-0.18772637155134198, 0.05207043083116063, 0.18287607089205069])\n",
      "\n",
      "CH2NH pbe nlcc_aw\n",
      "Fetching results for id \" {'rmult': 4.0} \"\n",
      "Fetching results for id \" {'rmult': 5.0} \"\n",
      "Fetching results for id \" {'rmult': 6.0} \"\n",
      "Convergence reached in Dataset \"CH2NH-pbe-nlcc_aw(GS)\" for id \" {'rmult': 5.0} \"\n",
      "Fetching results for id \" {'f': 0.01} \"\n",
      "Fetching results for id \" {'f': 0.005} \"\n",
      "Fetching results for id \" {'f': 0.001} \"\n",
      "Convergence reached in Dataset \"CH2NH-pbe-nlcc_aw(field)\" for id \" {'f': 0.005} \"\n",
      "Fetching results for id \" {'rmult': 5.0, 'f': 0.005} \"\n",
      "Fetching results for id \" {'rmult': 6.0, 'f': 0.005} \"\n",
      "Fetching results for id \" {'rmult': 7.0, 'f': 0.005} \"\n",
      "Fetching results for id \" {'rmult': 8.0, 'f': 0.005} \"\n",
      "Fetching results for id \" {'rmult': 9.0, 'f': 0.005} \"\n",
      "Convergence reached in Dataset \"CH2NH-pbe-nlcc_aw(domain)\" for id \" {'rmult': 8.0, 'f': 0.005} \"\n",
      "('Relative difference in %', [-0.2585711368546482, -0.0435765712299416, -0.2094818483342459])\n",
      "\n",
      "CH2NH pbe nlcc_ss\n",
      "Fetching results for id \" {'rmult': 4.0} \"\n",
      "Fetching results for id \" {'rmult': 5.0} \"\n",
      "Fetching results for id \" {'rmult': 6.0} \"\n",
      "Convergence reached in Dataset \"CH2NH-pbe-nlcc_ss(GS)\" for id \" {'rmult': 5.0} \"\n",
      "Fetching results for id \" {'f': 0.01} \"\n",
      "Fetching results for id \" {'f': 0.005} \"\n",
      "Fetching results for id \" {'f': 0.001} \"\n",
      "Convergence reached in Dataset \"CH2NH-pbe-nlcc_ss(field)\" for id \" {'f': 0.005} \"\n",
      "Fetching results for id \" {'rmult': 5.0, 'f': 0.005} \"\n",
      "Fetching results for id \" {'rmult': 6.0, 'f': 0.005} \"\n",
      "Fetching results for id \" {'rmult': 7.0, 'f': 0.005} \"\n",
      "Fetching results for id \" {'rmult': 8.0, 'f': 0.005} \"\n",
      "Fetching results for id \" {'rmult': 9.0, 'f': 0.005} \"\n",
      "Convergence reached in Dataset \"CH2NH-pbe-nlcc_ss(domain)\" for id \" {'rmult': 8.0, 'f': 0.005} \"\n",
      "('Relative difference in %', [-0.49510748439730506, -0.335321152615993, -0.487861630382344])\n",
      "\n",
      "CH2NH pbe0 hgh_k\n",
      "Fetching results for id \" {'rmult': 4.0} \"\n"
     ]
    },
    {
     "name": "stdout",
     "output_type": "stream",
     "text": [
      "Fetching results for id \" {'rmult': 5.0} \"\n",
      "Fetching results for id \" {'rmult': 6.0} \"\n",
      "Convergence reached in Dataset \"CH2NH-pbe0-hgh_k(GS)\" for id \" {'rmult': 5.0} \"\n",
      "Fetching results for id \" {'f': 0.01} \"\n",
      "Fetching results for id \" {'f': 0.005} \"\n",
      "Fetching results for id \" {'f': 0.001} \"\n",
      "Convergence reached in Dataset \"CH2NH-pbe0-hgh_k(field)\" for id \" {'f': 0.005} \"\n",
      "Fetching results for id \" {'rmult': 5.0, 'f': 0.005} \"\n",
      "Fetching results for id \" {'rmult': 6.0, 'f': 0.005} \"\n",
      "Fetching results for id \" {'rmult': 7.0, 'f': 0.005} \"\n",
      "Fetching results for id \" {'rmult': 8.0, 'f': 0.005} \"\n",
      "Convergence reached in Dataset \"CH2NH-pbe0-hgh_k(domain)\" for id \" {'rmult': 7.0, 'f': 0.005} \"\n",
      "('Relative difference in %', [-0.23931746145702654, -0.06997482283597202, 0.03323583496161807])\n",
      "\n",
      "CH2PH lda_pw hgh_k\n",
      "Fetching results for id \" {'rmult': 4.0} \"\n",
      "Fetching results for id \" {'rmult': 5.0} \"\n",
      "Fetching results for id \" {'rmult': 6.0} \"\n",
      "Convergence reached in Dataset \"CH2PH-lda_pw-hgh_k(GS)\" for id \" {'rmult': 5.0} \"\n",
      "Fetching results for id \" {'f': 0.01} \"\n",
      "Fetching results for id \" {'f': 0.005} \"\n",
      "Fetching results for id \" {'f': 0.001} \"\n",
      "Convergence reached in Dataset \"CH2PH-lda_pw-hgh_k(field)\" for id \" {'f': 0.005} \"\n",
      "Fetching results for id \" {'rmult': 5.0, 'f': 0.005} \"\n",
      "Fetching results for id \" {'rmult': 6.0, 'f': 0.005} \"\n",
      "Fetching results for id \" {'rmult': 7.0, 'f': 0.005} \"\n",
      "Fetching results for id \" {'rmult': 8.0, 'f': 0.005} \"\n",
      "Fetching results for id \" {'rmult': 9.0, 'f': 0.005} \"\n",
      "Convergence reached in Dataset \"CH2PH-lda_pw-hgh_k(domain)\" for id \" {'rmult': 8.0, 'f': 0.005} \"\n",
      "('Relative difference in %', [-0.16023166223247756, -0.22183534438247843, -0.20239800906788832])\n",
      "\n",
      "CH2PH pbe hgh_k\n",
      "Fetching results for id \" {'rmult': 4.0} \"\n",
      "Fetching results for id \" {'rmult': 5.0} \"\n",
      "Fetching results for id \" {'rmult': 6.0} \"\n",
      "Convergence reached in Dataset \"CH2PH-pbe-hgh_k(GS)\" for id \" {'rmult': 5.0} \"\n",
      "Fetching results for id \" {'f': 0.01} \"\n",
      "Fetching results for id \" {'f': 0.005} \"\n",
      "Fetching results for id \" {'f': 0.001} \"\n",
      "Convergence reached in Dataset \"CH2PH-pbe-hgh_k(field)\" for id \" {'f': 0.005} \"\n",
      "Fetching results for id \" {'rmult': 5.0, 'f': 0.005} \"\n",
      "Fetching results for id \" {'rmult': 6.0, 'f': 0.005} \"\n",
      "Fetching results for id \" {'rmult': 7.0, 'f': 0.005} \"\n",
      "Fetching results for id \" {'rmult': 8.0, 'f': 0.005} \"\n",
      "Fetching results for id \" {'rmult': 9.0, 'f': 0.005} \"\n",
      "Convergence reached in Dataset \"CH2PH-pbe-hgh_k(domain)\" for id \" {'rmult': 8.0, 'f': 0.005} \"\n",
      "('Relative difference in %', [-0.1097347855901914, -0.26964003805675363, -0.18329622739558515])\n",
      "\n",
      "CH2PH pbe nlcc_aw\n",
      "Fetching results for id \" {'rmult': 4.0} \"\n",
      "Fetching results for id \" {'rmult': 5.0} \"\n",
      "Fetching results for id \" {'rmult': 6.0} \"\n",
      "Convergence reached in Dataset \"CH2PH-pbe-nlcc_aw(GS)\" for id \" {'rmult': 5.0} \"\n",
      "Fetching results for id \" {'f': 0.01} \"\n",
      "Fetching results for id \" {'f': 0.005} \"\n",
      "Fetching results for id \" {'f': 0.001} \"\n",
      "Convergence reached in Dataset \"CH2PH-pbe-nlcc_aw(field)\" for id \" {'f': 0.005} \"\n",
      "Fetching results for id \" {'rmult': 5.0, 'f': 0.005} \"\n",
      "Fetching results for id \" {'rmult': 6.0, 'f': 0.005} \"\n",
      "Fetching results for id \" {'rmult': 7.0, 'f': 0.005} \"\n",
      "Fetching results for id \" {'rmult': 8.0, 'f': 0.005} \"\n",
      "Fetching results for id \" {'rmult': 9.0, 'f': 0.005} \"\n",
      "Convergence reached in Dataset \"CH2PH-pbe-nlcc_aw(domain)\" for id \" {'rmult': 8.0, 'f': 0.005} \"\n",
      "('Relative difference in %', [-0.4270753739050867, -0.45132587067639823, -0.3935956544004709])\n",
      "\n",
      "CH2PH pbe nlcc_ss\n",
      "Fetching results for id \" {'rmult': 4.0} \"\n",
      "Fetching results for id \" {'rmult': 5.0} \"\n",
      "Fetching results for id \" {'rmult': 6.0} \"\n",
      "Convergence reached in Dataset \"CH2PH-pbe-nlcc_ss(GS)\" for id \" {'rmult': 5.0} \"\n",
      "Fetching results for id \" {'f': 0.01} \"\n",
      "Fetching results for id \" {'f': 0.005} \"\n",
      "Fetching results for id \" {'f': 0.001} \"\n",
      "Convergence reached in Dataset \"CH2PH-pbe-nlcc_ss(field)\" for id \" {'f': 0.005} \"\n",
      "Fetching results for id \" {'rmult': 5.0, 'f': 0.005} \"\n",
      "Fetching results for id \" {'rmult': 6.0, 'f': 0.005} \"\n",
      "Fetching results for id \" {'rmult': 7.0, 'f': 0.005} \"\n",
      "Fetching results for id \" {'rmult': 8.0, 'f': 0.005} \"\n",
      "Fetching results for id \" {'rmult': 9.0, 'f': 0.005} \"\n",
      "Convergence reached in Dataset \"CH2PH-pbe-nlcc_ss(domain)\" for id \" {'rmult': 8.0, 'f': 0.005} \"\n",
      "('Relative difference in %', [-0.5976347311360505, -0.5708613437669798, -0.4471051279105334])\n",
      "\n",
      "CH2PH pbe0 hgh_k\n",
      "Fetching results for id \" {'rmult': 4.0} \"\n",
      "Fetching results for id \" {'rmult': 5.0} \"\n",
      "Fetching results for id \" {'rmult': 6.0} \"\n",
      "Convergence reached in Dataset \"CH2PH-pbe0-hgh_k(GS)\" for id \" {'rmult': 5.0} \"\n",
      "Fetching results for id \" {'f': 0.01} \"\n",
      "Fetching results for id \" {'f': 0.005} \"\n",
      "Fetching results for id \" {'f': 0.001} \"\n",
      "Convergence reached in Dataset \"CH2PH-pbe0-hgh_k(field)\" for id \" {'f': 0.005} \"\n",
      "Fetching results for id \" {'rmult': 5.0, 'f': 0.005} \"\n",
      "Fetching results for id \" {'rmult': 6.0, 'f': 0.005} \"\n",
      "Fetching results for id \" {'rmult': 7.0, 'f': 0.005} \"\n",
      "Fetching results for id \" {'rmult': 8.0, 'f': 0.005} \"\n",
      "Fetching results for id \" {'rmult': 9.0, 'f': 0.005} \"\n",
      "Convergence reached in Dataset \"CH2PH-pbe0-hgh_k(domain)\" for id \" {'rmult': 8.0, 'f': 0.005} \"\n",
      "('Relative difference in %', [-0.1994700100104593, -0.3295251647770487, -0.22992190576953775])\n",
      "\n",
      "CH3 lda_pw hgh_k\n",
      "Fetching results for id \" {'rmult': 4.0} \"\n",
      "Fetching results for id \" {'rmult': 5.0} \"\n",
      "Fetching results for id \" {'rmult': 6.0} \"\n",
      "Convergence reached in Dataset \"CH3-lda_pw-hgh_k(GS)\" for id \" {'rmult': 5.0} \"\n",
      "Fetching results for id \" {'f': 0.01} \"\n",
      "Fetching results for id \" {'f': 0.005} \"\n",
      "Fetching results for id \" {'f': 0.001} \"\n",
      "Fetching results for id \" {'f': 0.0005} \"\n",
      "Convergence reached in Dataset \"CH3-lda_pw-hgh_k(field)\" for id \" {'f': 0.001} \"\n",
      "Fetching results for id \" {'rmult': 5.0, 'f': 0.001} \"\n",
      "Fetching results for id \" {'rmult': 6.0, 'f': 0.001} \"\n",
      "Fetching results for id \" {'rmult': 7.0, 'f': 0.001} \"\n",
      "Fetching results for id \" {'rmult': 8.0, 'f': 0.001} \"\n",
      "Fetching results for id \" {'rmult': 9.0, 'f': 0.001} \"\n",
      "Convergence reached in Dataset \"CH3-lda_pw-hgh_k(domain)\" for id \" {'rmult': 8.0, 'f': 0.001} \"\n",
      "('Relative difference in %', [-0.6649078069469132, -0.66831103694214, -2.185397144843371])\n",
      "\n",
      "CH3 pbe hgh_k\n",
      "Fetching results for id \" {'rmult': 4.0} \"\n",
      "Fetching results for id \" {'rmult': 5.0} \"\n",
      "Fetching results for id \" {'rmult': 6.0} \"\n",
      "Convergence reached in Dataset \"CH3-pbe-hgh_k(GS)\" for id \" {'rmult': 5.0} \"\n",
      "Fetching results for id \" {'f': 0.01} \"\n",
      "Fetching results for id \" {'f': 0.005} \"\n",
      "Fetching results for id \" {'f': 0.001} \"\n",
      "Fetching results for id \" {'f': 0.0005} \"\n",
      "Convergence reached in Dataset \"CH3-pbe-hgh_k(field)\" for id \" {'f': 0.001} \"\n",
      "Fetching results for id \" {'rmult': 5.0, 'f': 0.001} \"\n",
      "Fetching results for id \" {'rmult': 6.0, 'f': 0.001} \"\n",
      "Fetching results for id \" {'rmult': 7.0, 'f': 0.001} \"\n",
      "Fetching results for id \" {'rmult': 8.0, 'f': 0.001} \"\n",
      "Fetching results for id \" {'rmult': 9.0, 'f': 0.001} \"\n",
      "Convergence reached in Dataset \"CH3-pbe-hgh_k(domain)\" for id \" {'rmult': 8.0, 'f': 0.001} \"\n",
      "('Relative difference in %', [-1.0327437307841223, -1.0353553028913165, -3.902133227085747])\n",
      "\n",
      "CH3 pbe nlcc_aw\n",
      "Fetching results for id \" {'rmult': 4.0} \"\n",
      "Fetching results for id \" {'rmult': 5.0} \"\n",
      "Fetching results for id \" {'rmult': 6.0} \"\n",
      "Convergence reached in Dataset \"CH3-pbe-nlcc_aw(GS)\" for id \" {'rmult': 5.0} \"\n",
      "Fetching results for id \" {'f': 0.01} \"\n",
      "Fetching results for id \" {'f': 0.005} \"\n",
      "Fetching results for id \" {'f': 0.001} \"\n",
      "Fetching results for id \" {'f': 0.0005} \"\n",
      "Convergence reached in Dataset \"CH3-pbe-nlcc_aw(field)\" for id \" {'f': 0.001} \"\n",
      "Fetching results for id \" {'rmult': 5.0, 'f': 0.001} \"\n",
      "Fetching results for id \" {'rmult': 6.0, 'f': 0.001} \"\n",
      "Fetching results for id \" {'rmult': 7.0, 'f': 0.001} \"\n",
      "Fetching results for id \" {'rmult': 8.0, 'f': 0.001} \"\n",
      "Fetching results for id \" {'rmult': 9.0, 'f': 0.001} \"\n",
      "Fetching results for id \" {'rmult': 10.0, 'f': 0.001} \"\n",
      "Convergence reached in Dataset \"CH3-pbe-nlcc_aw(domain)\" for id \" {'rmult': 9.0, 'f': 0.001} \"\n",
      "('Relative difference in %', [-0.34431571722233245, -0.34713269387726564, -0.47023489464348783])\n",
      "\n",
      "CH3 pbe nlcc_ss\n",
      "Fetching results for id \" {'rmult': 4.0} \"\n",
      "Fetching results for id \" {'rmult': 5.0} \"\n"
     ]
    },
    {
     "name": "stdout",
     "output_type": "stream",
     "text": [
      "Fetching results for id \" {'rmult': 6.0} \"\n",
      "Convergence reached in Dataset \"CH3-pbe-nlcc_ss(GS)\" for id \" {'rmult': 5.0} \"\n",
      "Fetching results for id \" {'f': 0.01} \"\n",
      "Fetching results for id \" {'f': 0.005} \"\n",
      "Fetching results for id \" {'f': 0.001} \"\n",
      "Fetching results for id \" {'f': 0.0005} \"\n",
      "Convergence reached in Dataset \"CH3-pbe-nlcc_ss(field)\" for id \" {'f': 0.001} \"\n",
      "Fetching results for id \" {'rmult': 5.0, 'f': 0.001} \"\n",
      "Fetching results for id \" {'rmult': 6.0, 'f': 0.001} \"\n",
      "Fetching results for id \" {'rmult': 7.0, 'f': 0.001} \"\n",
      "Fetching results for id \" {'rmult': 8.0, 'f': 0.001} \"\n",
      "Fetching results for id \" {'rmult': 9.0, 'f': 0.001} \"\n",
      "Fetching results for id \" {'rmult': 10.0, 'f': 0.001} \"\n",
      "Convergence reached in Dataset \"CH3-pbe-nlcc_ss(domain)\" for id \" {'rmult': 9.0, 'f': 0.001} \"\n",
      "('Relative difference in %', [-0.5745155282445432, -0.5773618484063082, -0.6962882432721321])\n",
      "\n",
      "CH3 pbe0 hgh_k\n",
      "Fetching results for id \" {'rmult': 4.0} \"\n",
      "Fetching results for id \" {'rmult': 5.0} \"\n",
      "Fetching results for id \" {'rmult': 6.0} \"\n",
      "Convergence reached in Dataset \"CH3-pbe0-hgh_k(GS)\" for id \" {'rmult': 5.0} \"\n",
      "Fetching results for id \" {'f': 0.01} \"\n",
      "Fetching results for id \" {'f': 0.005} \"\n",
      "Fetching results for id \" {'f': 0.001} \"\n",
      "Fetching results for id \" {'f': 0.0005} \"\n",
      "Convergence reached in Dataset \"CH3-pbe0-hgh_k(field)\" for id \" {'f': 0.001} \"\n",
      "Fetching results for id \" {'rmult': 5.0, 'f': 0.001} \"\n",
      "Fetching results for id \" {'rmult': 6.0, 'f': 0.001} \"\n",
      "Fetching results for id \" {'rmult': 7.0, 'f': 0.001} \"\n",
      "Fetching results for id \" {'rmult': 8.0, 'f': 0.001} \"\n",
      "Fetching results for id \" {'rmult': 9.0, 'f': 0.001} \"\n",
      "Convergence reached in Dataset \"CH3-pbe0-hgh_k(domain)\" for id \" {'rmult': 8.0, 'f': 0.001} \"\n",
      "('Relative difference in %', [-0.8502186216163169, -0.8527354290262689, -2.764188623590674])\n",
      "\n",
      "CH3BH2 lda_pw hgh_k\n",
      "Fetching results for id \" {'rmult': 4.0} \"\n",
      "Fetching results for id \" {'rmult': 5.0} \"\n",
      "Convergence reached in Dataset \"CH3BH2-lda_pw-hgh_k(GS)\" for id \" {'rmult': 4.0} \"\n",
      "Fetching results for id \" {'f': 0.01} \"\n",
      "Fetching results for id \" {'f': 0.005} \"\n",
      "Fetching results for id \" {'f': 0.001} \"\n",
      "Convergence reached in Dataset \"CH3BH2-lda_pw-hgh_k(field)\" for id \" {'f': 0.005} \"\n",
      "Fetching results for id \" {'rmult': 4.0, 'f': 0.005} \"\n",
      "Fetching results for id \" {'rmult': 5.0, 'f': 0.005} \"\n",
      "Fetching results for id \" {'rmult': 6.0, 'f': 0.005} \"\n",
      "Fetching results for id \" {'rmult': 7.0, 'f': 0.005} \"\n",
      "Fetching results for id \" {'rmult': 8.0, 'f': 0.005} \"\n",
      "Convergence reached in Dataset \"CH3BH2-lda_pw-hgh_k(domain)\" for id \" {'rmult': 7.0, 'f': 0.005} \"\n",
      "('Relative difference in %', [-0.14946049194107852, -0.6857567733413218, -0.3869202564704062])\n",
      "\n",
      "CH3BH2 pbe hgh_k\n",
      "Fetching results for id \" {'rmult': 4.0} \"\n",
      "Fetching results for id \" {'rmult': 5.0} \"\n",
      "Convergence reached in Dataset \"CH3BH2-pbe-hgh_k(GS)\" for id \" {'rmult': 4.0} \"\n",
      "Fetching results for id \" {'f': 0.01} \"\n",
      "Fetching results for id \" {'f': 0.005} \"\n",
      "Fetching results for id \" {'f': 0.001} \"\n",
      "Convergence reached in Dataset \"CH3BH2-pbe-hgh_k(field)\" for id \" {'f': 0.005} \"\n",
      "Fetching results for id \" {'rmult': 4.0, 'f': 0.005} \"\n",
      "Fetching results for id \" {'rmult': 5.0, 'f': 0.005} \"\n",
      "Fetching results for id \" {'rmult': 6.0, 'f': 0.005} \"\n",
      "Fetching results for id \" {'rmult': 7.0, 'f': 0.005} \"\n",
      "Fetching results for id \" {'rmult': 8.0, 'f': 0.005} \"\n",
      "Convergence reached in Dataset \"CH3BH2-pbe-hgh_k(domain)\" for id \" {'rmult': 7.0, 'f': 0.005} \"\n",
      "('Relative difference in %', [-0.12625966999302166, -0.8668940494627579, -0.4219051748169271])\n",
      "\n",
      "CH3BH2 pbe nlcc_aw\n",
      "Fetching results for id \" {'rmult': 4.0} \"\n",
      "Fetching results for id \" {'rmult': 5.0} \"\n",
      "Convergence reached in Dataset \"CH3BH2-pbe-nlcc_aw(GS)\" for id \" {'rmult': 4.0} \"\n",
      "Fetching results for id \" {'f': 0.01} \"\n",
      "Fetching results for id \" {'f': 0.005} \"\n",
      "Fetching results for id \" {'f': 0.001} \"\n",
      "Convergence reached in Dataset \"CH3BH2-pbe-nlcc_aw(field)\" for id \" {'f': 0.005} \"\n",
      "Fetching results for id \" {'rmult': 4.0, 'f': 0.005} \"\n",
      "Fetching results for id \" {'rmult': 5.0, 'f': 0.005} \"\n",
      "Fetching results for id \" {'rmult': 6.0, 'f': 0.005} \"\n",
      "Fetching results for id \" {'rmult': 7.0, 'f': 0.005} \"\n",
      "Fetching results for id \" {'rmult': 8.0, 'f': 0.005} \"\n",
      "Convergence reached in Dataset \"CH3BH2-pbe-nlcc_aw(domain)\" for id \" {'rmult': 7.0, 'f': 0.005} \"\n",
      "('Relative difference in %', [-0.22672375138677234, -0.6618337415199915, -0.4827375190865884])\n",
      "\n",
      "CH3BH2 pbe nlcc_ss\n",
      "Fetching results for id \" {'rmult': 4.0} \"\n",
      "Fetching results for id \" {'rmult': 5.0} \"\n",
      "Convergence reached in Dataset \"CH3BH2-pbe-nlcc_ss(GS)\" for id \" {'rmult': 4.0} \"\n",
      "Fetching results for id \" {'f': 0.01} \"\n",
      "Fetching results for id \" {'f': 0.005} \"\n",
      "Fetching results for id \" {'f': 0.001} \"\n",
      "Convergence reached in Dataset \"CH3BH2-pbe-nlcc_ss(field)\" for id \" {'f': 0.005} \"\n",
      "Fetching results for id \" {'rmult': 4.0, 'f': 0.005} \"\n",
      "Fetching results for id \" {'rmult': 5.0, 'f': 0.005} \"\n",
      "Fetching results for id \" {'rmult': 6.0, 'f': 0.005} \"\n",
      "Fetching results for id \" {'rmult': 7.0, 'f': 0.005} \"\n",
      "Fetching results for id \" {'rmult': 8.0, 'f': 0.005} \"\n",
      "Convergence reached in Dataset \"CH3BH2-pbe-nlcc_ss(domain)\" for id \" {'rmult': 7.0, 'f': 0.005} \"\n",
      "('Relative difference in %', [-0.40525753783766877, -0.7893550240625312, -0.748199654360223])\n",
      "\n",
      "CH3BH2 pbe0 hgh_k\n",
      "Fetching results for id \" {'rmult': 4.0} \"\n",
      "Fetching results for id \" {'rmult': 5.0} \"\n",
      "Convergence reached in Dataset \"CH3BH2-pbe0-hgh_k(GS)\" for id \" {'rmult': 4.0} \"\n",
      "Fetching results for id \" {'f': 0.01} \"\n",
      "Fetching results for id \" {'f': 0.005} \"\n",
      "Fetching results for id \" {'f': 0.001} \"\n",
      "Convergence reached in Dataset \"CH3BH2-pbe0-hgh_k(field)\" for id \" {'f': 0.005} \"\n",
      "Fetching results for id \" {'rmult': 4.0, 'f': 0.005} \"\n",
      "Fetching results for id \" {'rmult': 5.0, 'f': 0.005} \"\n",
      "Fetching results for id \" {'rmult': 6.0, 'f': 0.005} \"\n",
      "Fetching results for id \" {'rmult': 7.0, 'f': 0.005} \"\n",
      "Convergence reached in Dataset \"CH3BH2-pbe0-hgh_k(domain)\" for id \" {'rmult': 6.0, 'f': 0.005} \"\n",
      "('Relative difference in %', [-0.22395299798824608, -0.8150344724993489, -0.5117958630353059])\n",
      "\n",
      "CH3Cl lda_pw hgh_k\n",
      "Fetching results for id \" {'rmult': 4.0} \"\n",
      "Fetching results for id \" {'rmult': 5.0} \"\n",
      "Fetching results for id \" {'rmult': 6.0} \"\n",
      "Fetching results for id \" {'rmult': 7.0} \"\n",
      "Convergence reached in Dataset \"CH3Cl-lda_pw-hgh_k(GS)\" for id \" {'rmult': 6.0} \"\n",
      "Fetching results for id \" {'f': 0.01} \"\n",
      "Fetching results for id \" {'f': 0.005} \"\n",
      "Fetching results for id \" {'f': 0.001} \"\n",
      "Convergence reached in Dataset \"CH3Cl-lda_pw-hgh_k(field)\" for id \" {'f': 0.005} \"\n",
      "Fetching results for id \" {'rmult': 6.0, 'f': 0.005} \"\n",
      "Fetching results for id \" {'rmult': 7.0, 'f': 0.005} \"\n",
      "Fetching results for id \" {'rmult': 8.0, 'f': 0.005} \"\n",
      "Fetching results for id \" {'rmult': 9.0, 'f': 0.005} \"\n",
      "Convergence reached in Dataset \"CH3Cl-lda_pw-hgh_k(domain)\" for id \" {'rmult': 8.0, 'f': 0.005} \"\n",
      "('Relative difference in %', [0.04235164339021116, 0.04042306813701688, 0.13863726883944777])\n",
      "\n",
      "CH3Cl pbe hgh_k\n",
      "Fetching results for id \" {'rmult': 4.0} \"\n",
      "Fetching results for id \" {'rmult': 5.0} \"\n",
      "Fetching results for id \" {'rmult': 6.0} \"\n",
      "Fetching results for id \" {'rmult': 7.0} \"\n",
      "Convergence reached in Dataset \"CH3Cl-pbe-hgh_k(GS)\" for id \" {'rmult': 6.0} \"\n",
      "Fetching results for id \" {'f': 0.01} \"\n",
      "Fetching results for id \" {'f': 0.005} \"\n",
      "Fetching results for id \" {'f': 0.001} \"\n",
      "Convergence reached in Dataset \"CH3Cl-pbe-hgh_k(field)\" for id \" {'f': 0.005} \"\n",
      "Fetching results for id \" {'rmult': 6.0, 'f': 0.005} \"\n",
      "Fetching results for id \" {'rmult': 7.0, 'f': 0.005} \"\n",
      "Fetching results for id \" {'rmult': 8.0, 'f': 0.005} \"\n",
      "Fetching results for id \" {'rmult': 9.0, 'f': 0.005} \"\n",
      "Convergence reached in Dataset \"CH3Cl-pbe-hgh_k(domain)\" for id \" {'rmult': 8.0, 'f': 0.005} \"\n",
      "('Relative difference in %', [0.047310341237627486, 0.0452915724902943, 0.16945075702528947])\n",
      "\n",
      "CH3Cl pbe nlcc_aw\n",
      "Fetching results for id \" {'rmult': 4.0} \"\n",
      "Fetching results for id \" {'rmult': 5.0} \"\n",
      "Fetching results for id \" {'rmult': 6.0} \"\n",
      "Fetching results for id \" {'rmult': 7.0} \"\n",
      "Convergence reached in Dataset \"CH3Cl-pbe-nlcc_aw(GS)\" for id \" {'rmult': 6.0} \"\n",
      "Fetching results for id \" {'f': 0.01} \"\n",
      "Fetching results for id \" {'f': 0.005} \"\n",
      "Fetching results for id \" {'f': 0.001} \"\n"
     ]
    },
    {
     "name": "stdout",
     "output_type": "stream",
     "text": [
      "Convergence reached in Dataset \"CH3Cl-pbe-nlcc_aw(field)\" for id \" {'f': 0.005} \"\n",
      "Fetching results for id \" {'rmult': 6.0, 'f': 0.005} \"\n",
      "Fetching results for id \" {'rmult': 7.0, 'f': 0.005} \"\n",
      "Fetching results for id \" {'rmult': 8.0, 'f': 0.005} \"\n",
      "Fetching results for id \" {'rmult': 9.0, 'f': 0.005} \"\n",
      "Convergence reached in Dataset \"CH3Cl-pbe-nlcc_aw(domain)\" for id \" {'rmult': 8.0, 'f': 0.005} \"\n",
      "('Relative difference in %', [-0.4590110273920024, -0.4608172941659275, -0.6463206577278051])\n",
      "\n",
      "CH3Cl pbe nlcc_ss\n",
      "Fetching results for id \" {'rmult': 4.0} \"\n",
      "Fetching results for id \" {'rmult': 5.0} \"\n",
      "Fetching results for id \" {'rmult': 6.0} \"\n",
      "Fetching results for id \" {'rmult': 7.0} \"\n",
      "Convergence reached in Dataset \"CH3Cl-pbe-nlcc_ss(GS)\" for id \" {'rmult': 6.0} \"\n",
      "Fetching results for id \" {'f': 0.01} \"\n",
      "Fetching results for id \" {'f': 0.005} \"\n",
      "Fetching results for id \" {'f': 0.001} \"\n",
      "Convergence reached in Dataset \"CH3Cl-pbe-nlcc_ss(field)\" for id \" {'f': 0.005} \"\n",
      "Fetching results for id \" {'rmult': 6.0, 'f': 0.005} \"\n",
      "Fetching results for id \" {'rmult': 7.0, 'f': 0.005} \"\n",
      "Fetching results for id \" {'rmult': 8.0, 'f': 0.005} \"\n",
      "Fetching results for id \" {'rmult': 9.0, 'f': 0.005} \"\n",
      "Convergence reached in Dataset \"CH3Cl-pbe-nlcc_ss(domain)\" for id \" {'rmult': 8.0, 'f': 0.005} \"\n",
      "('Relative difference in %', [-0.5695828875530081, -0.5712829033402353, -0.7259881755738868])\n",
      "\n",
      "CH3Cl pbe0 hgh_k\n",
      "Fetching results for id \" {'rmult': 4.0} \"\n",
      "Fetching results for id \" {'rmult': 5.0} \"\n",
      "Fetching results for id \" {'rmult': 6.0} \"\n",
      "Fetching results for id \" {'rmult': 7.0} \"\n",
      "Convergence reached in Dataset \"CH3Cl-pbe0-hgh_k(GS)\" for id \" {'rmult': 6.0} \"\n",
      "Fetching results for id \" {'f': 0.01} \"\n",
      "Fetching results for id \" {'f': 0.005} \"\n",
      "Fetching results for id \" {'f': 0.001} \"\n",
      "Convergence reached in Dataset \"CH3Cl-pbe0-hgh_k(field)\" for id \" {'f': 0.005} \"\n",
      "Fetching results for id \" {'rmult': 6.0, 'f': 0.005} \"\n",
      "Fetching results for id \" {'rmult': 7.0, 'f': 0.005} \"\n",
      "Fetching results for id \" {'rmult': 8.0, 'f': 0.005} \"\n",
      "Fetching results for id \" {'rmult': 9.0, 'f': 0.005} \"\n",
      "Convergence reached in Dataset \"CH3Cl-pbe0-hgh_k(domain)\" for id \" {'rmult': 8.0, 'f': 0.005} \"\n",
      "('Relative difference in %', [-0.04683826768295055, -0.04886164380505609, 0.0016703355791214073])\n",
      "\n",
      "CH3F lda_pw hgh_k\n",
      "Fetching results for id \" {'rmult': 4.0} \"\n",
      "Fetching results for id \" {'rmult': 5.0} \"\n",
      "Fetching results for id \" {'rmult': 6.0} \"\n",
      "Convergence reached in Dataset \"CH3F-lda_pw-hgh_k(GS)\" for id \" {'rmult': 5.0} \"\n",
      "Fetching results for id \" {'f': 0.01} \"\n",
      "Fetching results for id \" {'f': 0.005} \"\n",
      "Fetching results for id \" {'f': 0.001} \"\n",
      "Convergence reached in Dataset \"CH3F-lda_pw-hgh_k(field)\" for id \" {'f': 0.005} \"\n",
      "Fetching results for id \" {'rmult': 5.0, 'f': 0.005} \"\n",
      "Fetching results for id \" {'rmult': 6.0, 'f': 0.005} \"\n",
      "Fetching results for id \" {'rmult': 7.0, 'f': 0.005} \"\n",
      "Fetching results for id \" {'rmult': 8.0, 'f': 0.005} \"\n",
      "Convergence reached in Dataset \"CH3F-lda_pw-hgh_k(domain)\" for id \" {'rmult': 7.0, 'f': 0.005} \"\n",
      "('Relative difference in %', [-0.2925357963099443, -0.29391253165993136, 0.11257693354812716])\n",
      "\n",
      "CH3F pbe hgh_k\n",
      "Fetching results for id \" {'rmult': 4.0} \"\n",
      "Fetching results for id \" {'rmult': 5.0} \"\n",
      "Fetching results for id \" {'rmult': 6.0} \"\n",
      "Convergence reached in Dataset \"CH3F-pbe-hgh_k(GS)\" for id \" {'rmult': 5.0} \"\n",
      "Fetching results for id \" {'f': 0.01} \"\n",
      "Fetching results for id \" {'f': 0.005} \"\n",
      "Fetching results for id \" {'f': 0.001} \"\n",
      "Convergence reached in Dataset \"CH3F-pbe-hgh_k(field)\" for id \" {'f': 0.005} \"\n",
      "Fetching results for id \" {'rmult': 5.0, 'f': 0.005} \"\n",
      "Fetching results for id \" {'rmult': 6.0, 'f': 0.005} \"\n",
      "Fetching results for id \" {'rmult': 7.0, 'f': 0.005} \"\n",
      "Fetching results for id \" {'rmult': 8.0, 'f': 0.005} \"\n",
      "Convergence reached in Dataset \"CH3F-pbe-hgh_k(domain)\" for id \" {'rmult': 7.0, 'f': 0.005} \"\n",
      "('Relative difference in %', [-0.2918907267236936, -0.2923060361468372, 0.22924867491489948])\n",
      "\n",
      "CH3F pbe nlcc_aw\n",
      "Fetching results for id \" {'rmult': 4.0} \"\n",
      "Fetching results for id \" {'rmult': 5.0} \"\n",
      "Fetching results for id \" {'rmult': 6.0} \"\n",
      "Convergence reached in Dataset \"CH3F-pbe-nlcc_aw(GS)\" for id \" {'rmult': 5.0} \"\n",
      "Fetching results for id \" {'f': 0.01} \"\n",
      "Fetching results for id \" {'f': 0.005} \"\n",
      "Fetching results for id \" {'f': 0.001} \"\n",
      "Convergence reached in Dataset \"CH3F-pbe-nlcc_aw(field)\" for id \" {'f': 0.005} \"\n",
      "Fetching results for id \" {'rmult': 5.0, 'f': 0.005} \"\n",
      "Fetching results for id \" {'rmult': 6.0, 'f': 0.005} \"\n",
      "Fetching results for id \" {'rmult': 7.0, 'f': 0.005} \"\n",
      "Fetching results for id \" {'rmult': 8.0, 'f': 0.005} \"\n",
      "Convergence reached in Dataset \"CH3F-pbe-nlcc_aw(domain)\" for id \" {'rmult': 7.0, 'f': 0.005} \"\n",
      "('Relative difference in %', [-0.4540575200897401, -0.46142926235059556, -0.20075446392502672])\n",
      "\n",
      "CH3F pbe nlcc_ss\n",
      "Fetching results for id \" {'rmult': 4.0} \"\n",
      "Fetching results for id \" {'rmult': 5.0} \"\n",
      "Fetching results for id \" {'rmult': 6.0} \"\n",
      "Convergence reached in Dataset \"CH3F-pbe-nlcc_ss(GS)\" for id \" {'rmult': 5.0} \"\n",
      "Fetching results for id \" {'f': 0.01} \"\n",
      "Fetching results for id \" {'f': 0.005} \"\n",
      "Fetching results for id \" {'f': 0.001} \"\n",
      "Convergence reached in Dataset \"CH3F-pbe-nlcc_ss(field)\" for id \" {'f': 0.005} \"\n",
      "Fetching results for id \" {'rmult': 5.0, 'f': 0.005} \"\n",
      "Fetching results for id \" {'rmult': 6.0, 'f': 0.005} \"\n",
      "Fetching results for id \" {'rmult': 7.0, 'f': 0.005} \"\n",
      "Fetching results for id \" {'rmult': 8.0, 'f': 0.005} \"\n",
      "Convergence reached in Dataset \"CH3F-pbe-nlcc_ss(domain)\" for id \" {'rmult': 7.0, 'f': 0.005} \"\n",
      "('Relative difference in %', [-0.6334769590756953, -0.637826171645857, -0.3457293962783938])\n",
      "\n",
      "CH3F pbe0 hgh_k\n",
      "Fetching results for id \" {'rmult': 4.0} \"\n",
      "Fetching results for id \" {'rmult': 5.0} \"\n",
      "Fetching results for id \" {'rmult': 6.0} \"\n",
      "Convergence reached in Dataset \"CH3F-pbe0-hgh_k(GS)\" for id \" {'rmult': 5.0} \"\n",
      "Fetching results for id \" {'f': 0.01} \"\n",
      "Fetching results for id \" {'f': 0.005} \"\n",
      "Fetching results for id \" {'f': 0.001} \"\n",
      "Convergence reached in Dataset \"CH3F-pbe0-hgh_k(field)\" for id \" {'f': 0.005} \"\n",
      "Fetching results for id \" {'rmult': 5.0, 'f': 0.005} \"\n",
      "Fetching results for id \" {'rmult': 6.0, 'f': 0.005} \"\n",
      "Fetching results for id \" {'rmult': 7.0, 'f': 0.005} \"\n",
      "Fetching results for id \" {'rmult': 8.0, 'f': 0.005} \"\n",
      "Convergence reached in Dataset \"CH3F-pbe0-hgh_k(domain)\" for id \" {'rmult': 7.0, 'f': 0.005} \"\n",
      "('Relative difference in %', [-0.22478353973401186, -0.22692035355903675, 0.25483090409557796])\n",
      "\n",
      "CH3NH2 lda_pw hgh_k\n",
      "Fetching results for id \" {'rmult': 4.0} \"\n",
      "Fetching results for id \" {'rmult': 5.0} \"\n",
      "Fetching results for id \" {'rmult': 6.0} \"\n",
      "Convergence reached in Dataset \"CH3NH2-lda_pw-hgh_k(GS)\" for id \" {'rmult': 5.0} \"\n",
      "Fetching results for id \" {'f': 0.01} \"\n",
      "Fetching results for id \" {'f': 0.005} \"\n",
      "Fetching results for id \" {'f': 0.001} \"\n",
      "Fetching results for id \" {'f': 0.0005} \"\n",
      "Convergence reached in Dataset \"CH3NH2-lda_pw-hgh_k(field)\" for id \" {'f': 0.001} \"\n",
      "Fetching results for id \" {'rmult': 5.0, 'f': 0.001} \"\n",
      "Fetching results for id \" {'rmult': 6.0, 'f': 0.001} \"\n",
      "Fetching results for id \" {'rmult': 7.0, 'f': 0.001} \"\n",
      "Fetching results for id \" {'rmult': 8.0, 'f': 0.001} \"\n",
      "Fetching results for id \" {'rmult': 9.0, 'f': 0.001} \"\n",
      "Convergence reached in Dataset \"CH3NH2-lda_pw-hgh_k(domain)\" for id \" {'rmult': 8.0, 'f': 0.001} \"\n",
      "('Relative difference in %', [-0.34655434596889456, -0.4778314373477736, -0.1688905952302412])\n",
      "\n",
      "CH3NH2 pbe hgh_k\n",
      "Fetching results for id \" {'rmult': 4.0} \"\n",
      "Fetching results for id \" {'rmult': 5.0} \"\n",
      "Fetching results for id \" {'rmult': 6.0} \"\n",
      "Convergence reached in Dataset \"CH3NH2-pbe-hgh_k(GS)\" for id \" {'rmult': 5.0} \"\n",
      "Fetching results for id \" {'f': 0.01} \"\n",
      "Fetching results for id \" {'f': 0.005} \"\n",
      "Fetching results for id \" {'f': 0.001} \"\n",
      "Fetching results for id \" {'f': 0.0005} \"\n",
      "Convergence reached in Dataset \"CH3NH2-pbe-hgh_k(field)\" for id \" {'f': 0.001} \"\n",
      "Fetching results for id \" {'rmult': 5.0, 'f': 0.001} \"\n",
      "Fetching results for id \" {'rmult': 6.0, 'f': 0.001} \"\n",
      "Fetching results for id \" {'rmult': 7.0, 'f': 0.001} \"\n",
      "Fetching results for id \" {'rmult': 8.0, 'f': 0.001} \"\n",
      "Fetching results for id \" {'rmult': 9.0, 'f': 0.001} \"\n",
      "Convergence reached in Dataset \"CH3NH2-pbe-hgh_k(domain)\" for id \" {'rmult': 8.0, 'f': 0.001} \"\n",
      "('Relative difference in %', [-0.34437680858225134, -0.5394312276513232, -0.17209163134856112])\n",
      "\n",
      "CH3NH2 pbe nlcc_aw\n",
      "Fetching results for id \" {'rmult': 4.0} \"\n"
     ]
    },
    {
     "name": "stdout",
     "output_type": "stream",
     "text": [
      "Fetching results for id \" {'rmult': 5.0} \"\n",
      "Fetching results for id \" {'rmult': 6.0} \"\n",
      "Convergence reached in Dataset \"CH3NH2-pbe-nlcc_aw(GS)\" for id \" {'rmult': 5.0} \"\n",
      "Fetching results for id \" {'f': 0.01} \"\n",
      "Fetching results for id \" {'f': 0.005} \"\n",
      "Fetching results for id \" {'f': 0.001} \"\n",
      "Fetching results for id \" {'f': 0.0005} \"\n",
      "Convergence reached in Dataset \"CH3NH2-pbe-nlcc_aw(field)\" for id \" {'f': 0.001} \"\n",
      "Fetching results for id \" {'rmult': 5.0, 'f': 0.001} \"\n",
      "Fetching results for id \" {'rmult': 6.0, 'f': 0.001} \"\n",
      "Fetching results for id \" {'rmult': 7.0, 'f': 0.001} \"\n",
      "Fetching results for id \" {'rmult': 8.0, 'f': 0.001} \"\n",
      "Fetching results for id \" {'rmult': 9.0, 'f': 0.001} \"\n",
      "Convergence reached in Dataset \"CH3NH2-pbe-nlcc_aw(domain)\" for id \" {'rmult': 8.0, 'f': 0.001} \"\n",
      "('Relative difference in %', [-0.5380524703684725, -0.4564793910570796, -0.31530236424945973])\n",
      "\n",
      "CH3NH2 pbe nlcc_ss\n",
      "Fetching results for id \" {'rmult': 4.0} \"\n",
      "Fetching results for id \" {'rmult': 5.0} \"\n",
      "Fetching results for id \" {'rmult': 6.0} \"\n",
      "Convergence reached in Dataset \"CH3NH2-pbe-nlcc_ss(GS)\" for id \" {'rmult': 5.0} \"\n",
      "Fetching results for id \" {'f': 0.01} \"\n",
      "Fetching results for id \" {'f': 0.005} \"\n",
      "Fetching results for id \" {'f': 0.001} \"\n",
      "Fetching results for id \" {'f': 0.0005} \"\n",
      "Convergence reached in Dataset \"CH3NH2-pbe-nlcc_ss(field)\" for id \" {'f': 0.001} \"\n",
      "Fetching results for id \" {'rmult': 5.0, 'f': 0.001} \"\n",
      "Fetching results for id \" {'rmult': 6.0, 'f': 0.001} \"\n",
      "Fetching results for id \" {'rmult': 7.0, 'f': 0.001} \"\n",
      "Fetching results for id \" {'rmult': 8.0, 'f': 0.001} \"\n",
      "Fetching results for id \" {'rmult': 9.0, 'f': 0.001} \"\n",
      "Convergence reached in Dataset \"CH3NH2-pbe-nlcc_ss(domain)\" for id \" {'rmult': 8.0, 'f': 0.001} \"\n",
      "('Relative difference in %', [-0.9546172564207356, -0.7015729127858846, -0.5809525039678073])\n",
      "\n",
      "CH3NH2 pbe0 hgh_k\n",
      "Fetching results for id \" {'rmult': 4.0} \"\n",
      "Fetching results for id \" {'rmult': 5.0} \"\n",
      "Fetching results for id \" {'rmult': 6.0} \"\n",
      "Convergence reached in Dataset \"CH3NH2-pbe0-hgh_k(GS)\" for id \" {'rmult': 5.0} \"\n",
      "Fetching results for id \" {'f': 0.01} \"\n",
      "Fetching results for id \" {'f': 0.005} \"\n",
      "Fetching results for id \" {'f': 0.001} \"\n",
      "Convergence reached in Dataset \"CH3NH2-pbe0-hgh_k(field)\" for id \" {'f': 0.005} \"\n",
      "Fetching results for id \" {'rmult': 5.0, 'f': 0.005} \"\n",
      "Fetching results for id \" {'rmult': 6.0, 'f': 0.005} \"\n"
     ]
    },
    {
     "ename": "ValueError",
     "evalue": "('The logfile (', 'pbe0-hgh_k/log-F:0.005,dir:x,rmult:6.0,sign:-.yaml', ') does not exist.')",
     "output_type": "error",
     "traceback": [
      "\u001b[0;31m---------------------------------------------------------------------------\u001b[0m",
      "\u001b[0;31mValueError\u001b[0m                                Traceback (most recent call last)",
      "\u001b[0;32m<ipython-input-43-efd8cb3928d2>\u001b[0m in \u001b[0;36m<module>\u001b[0;34m()\u001b[0m\n\u001b[1;32m      8\u001b[0m             \u001b[0;32mprint\u001b[0m \u001b[0mmolecule\u001b[0m\u001b[0;34m,\u001b[0m\u001b[0mxc\u001b[0m\u001b[0;34m,\u001b[0m\u001b[0mp\u001b[0m\u001b[0;34m\u001b[0m\u001b[0;34m\u001b[0m\u001b[0m\n\u001b[1;32m      9\u001b[0m             \u001b[0mgs_data\u001b[0m\u001b[0;34m=\u001b[0m\u001b[0mgs_study\u001b[0m\u001b[0;34m(\u001b[0m\u001b[0mmolecule\u001b[0m\u001b[0;34m,\u001b[0m\u001b[0;34m(\u001b[0m\u001b[0mxc\u001b[0m\u001b[0;34m,\u001b[0m\u001b[0mp\u001b[0m\u001b[0;34m)\u001b[0m\u001b[0;34m,\u001b[0m\u001b[0mcode\u001b[0m\u001b[0;34m,\u001b[0m\u001b[0moptions\u001b[0m\u001b[0;34m)\u001b[0m\u001b[0;34m\u001b[0m\u001b[0;34m\u001b[0m\u001b[0m\n\u001b[0;32m---> 10\u001b[0;31m             \u001b[0mfull_data\u001b[0m\u001b[0;34m[\u001b[0m\u001b[0;34m(\u001b[0m\u001b[0mmolecule\u001b[0m\u001b[0;34m,\u001b[0m\u001b[0mxc\u001b[0m\u001b[0;34m,\u001b[0m\u001b[0mp\u001b[0m\u001b[0;34m)\u001b[0m\u001b[0;34m]\u001b[0m\u001b[0;34m=\u001b[0m\u001b[0malpha_study\u001b[0m\u001b[0;34m(\u001b[0m\u001b[0mgs_data\u001b[0m\u001b[0;34m,\u001b[0m\u001b[0mcode\u001b[0m\u001b[0;34m,\u001b[0m\u001b[0moptions\u001b[0m\u001b[0;34m)\u001b[0m\u001b[0;34m\u001b[0m\u001b[0;34m\u001b[0m\u001b[0m\n\u001b[0m\u001b[1;32m     11\u001b[0m             \u001b[0mfull_data\u001b[0m\u001b[0;34m[\u001b[0m\u001b[0;34m(\u001b[0m\u001b[0mmolecule\u001b[0m\u001b[0;34m,\u001b[0m\u001b[0mxc\u001b[0m\u001b[0;34m,\u001b[0m\u001b[0mp\u001b[0m\u001b[0;34m)\u001b[0m\u001b[0;34m]\u001b[0m\u001b[0;34m.\u001b[0m\u001b[0mupdate\u001b[0m\u001b[0;34m(\u001b[0m\u001b[0mgs_data\u001b[0m\u001b[0;34m)\u001b[0m\u001b[0;34m\u001b[0m\u001b[0;34m\u001b[0m\u001b[0m\n",
      "\u001b[0;32m<ipython-input-5-0b7f13b0350f>\u001b[0m in \u001b[0;36malpha_study\u001b[0;34m(gs_data, code, options)\u001b[0m\n\u001b[1;32m     59\u001b[0m     \u001b[0minput_gs\u001b[0m\u001b[0;34m=\u001b[0m\u001b[0mcopy\u001b[0m\u001b[0;34m.\u001b[0m\u001b[0mdeepcopy\u001b[0m\u001b[0;34m(\u001b[0m\u001b[0mgs_data\u001b[0m\u001b[0;34m[\u001b[0m\u001b[0;34m'input_gs'\u001b[0m\u001b[0;34m]\u001b[0m\u001b[0;34m)\u001b[0m\u001b[0;34m\u001b[0m\u001b[0;34m\u001b[0m\u001b[0m\n\u001b[1;32m     60\u001b[0m \u001b[0;34m\u001b[0m\u001b[0m\n\u001b[0;32m---> 61\u001b[0;31m     \u001b[0mdata\u001b[0m\u001b[0;34m=\u001b[0m\u001b[0mextract_statical_polarizability\u001b[0m\u001b[0;34m(\u001b[0m\u001b[0mlabel\u001b[0m\u001b[0;34m,\u001b[0m\u001b[0mrtol\u001b[0m\u001b[0;34m,\u001b[0m\u001b[0matol\u001b[0m\u001b[0;34m,\u001b[0m\u001b[0mpath\u001b[0m\u001b[0;34m,\u001b[0m\u001b[0minput_gs\u001b[0m\u001b[0;34m,\u001b[0m\u001b[0mposinp\u001b[0m\u001b[0;34m,\u001b[0m\u001b[0mcode\u001b[0m\u001b[0;34m,\u001b[0m\u001b[0mref\u001b[0m\u001b[0;34m=\u001b[0m\u001b[0mref_data\u001b[0m\u001b[0;34m)\u001b[0m\u001b[0;34m\u001b[0m\u001b[0;34m\u001b[0m\u001b[0m\n\u001b[0m\u001b[1;32m     62\u001b[0m     \u001b[0mos\u001b[0m\u001b[0;34m.\u001b[0m\u001b[0mchdir\u001b[0m\u001b[0;34m(\u001b[0m\u001b[0minitial_dir\u001b[0m\u001b[0;34m)\u001b[0m\u001b[0;34m\u001b[0m\u001b[0;34m\u001b[0m\u001b[0m\n\u001b[1;32m     63\u001b[0m \u001b[0;34m\u001b[0m\u001b[0m\n",
      "\u001b[0;32m<ipython-input-5-0b7f13b0350f>\u001b[0m in \u001b[0;36mextract_statical_polarizability\u001b[0;34m(label, rtol, atol, path, input_for_alpha, posinp, code, ref)\u001b[0m\n\u001b[1;32m     23\u001b[0m     \u001b[0;32mtry\u001b[0m\u001b[0;34m:\u001b[0m\u001b[0;34m\u001b[0m\u001b[0;34m\u001b[0m\u001b[0m\n\u001b[1;32m     24\u001b[0m         \u001b[0;32mimport\u001b[0m \u001b[0mnumpy\u001b[0m \u001b[0;32mas\u001b[0m \u001b[0mnp\u001b[0m\u001b[0;34m\u001b[0m\u001b[0;34m\u001b[0m\u001b[0m\n\u001b[0;32m---> 25\u001b[0;31m         \u001b[0mdata_final\u001b[0m\u001b[0;34m=\u001b[0m\u001b[0malpha_rmult\u001b[0m\u001b[0;34m.\u001b[0m\u001b[0mseek_convergence\u001b[0m\u001b[0;34m(\u001b[0m\u001b[0mrtol\u001b[0m\u001b[0;34m=\u001b[0m\u001b[0mrtol\u001b[0m\u001b[0;34m,\u001b[0m\u001b[0matol\u001b[0m\u001b[0;34m=\u001b[0m\u001b[0matol\u001b[0m\u001b[0;34m)\u001b[0m\u001b[0;34m\u001b[0m\u001b[0;34m\u001b[0m\u001b[0m\n\u001b[0m\u001b[1;32m     26\u001b[0m         \u001b[0mAuToA\u001b[0m \u001b[0;34m=\u001b[0m \u001b[0;36m0.5291772085\u001b[0m\u001b[0;34m**\u001b[0m\u001b[0;36m3\u001b[0m\u001b[0;34m\u001b[0m\u001b[0;34m\u001b[0m\u001b[0m\n\u001b[1;32m     27\u001b[0m         \u001b[0malpha_ref_ii\u001b[0m \u001b[0;34m=\u001b[0m \u001b[0mnp\u001b[0m\u001b[0;34m.\u001b[0m\u001b[0marray\u001b[0m\u001b[0;34m(\u001b[0m\u001b[0mref\u001b[0m\u001b[0;34m)\u001b[0m\u001b[0;34m/\u001b[0m\u001b[0mAuToA\u001b[0m\u001b[0;34m\u001b[0m\u001b[0;34m\u001b[0m\u001b[0m\n",
      "\u001b[0;32m/home/marco/Applications/BigDFT/binaries/v1.8.3/install/lib/python2.7/site-packages/BigDFT/Datasets.pyc\u001b[0m in \u001b[0;36mseek_convergence\u001b[0;34m(self, rtol, atol, selection, **kwargs)\u001b[0m\n\u001b[1;32m    245\u001b[0m         \u001b[0;32mfor\u001b[0m \u001b[0mid\u001b[0m \u001b[0;32min\u001b[0m \u001b[0mto_get\u001b[0m\u001b[0;34m[\u001b[0m\u001b[0;36m1\u001b[0m\u001b[0;34m:\u001b[0m\u001b[0;34m]\u001b[0m\u001b[0;34m:\u001b[0m\u001b[0;34m\u001b[0m\u001b[0;34m\u001b[0m\u001b[0m\n\u001b[1;32m    246\u001b[0m             \u001b[0mwrite\u001b[0m\u001b[0;34m(\u001b[0m\u001b[0;34m'Fetching results for id \"'\u001b[0m\u001b[0;34m,\u001b[0m\u001b[0mid\u001b[0m\u001b[0;34m,\u001b[0m\u001b[0;34m'\"'\u001b[0m\u001b[0;34m)\u001b[0m\u001b[0;34m\u001b[0m\u001b[0;34m\u001b[0m\u001b[0m\n\u001b[0;32m--> 247\u001b[0;31m             \u001b[0mval\u001b[0m\u001b[0;34m=\u001b[0m\u001b[0mself\u001b[0m\u001b[0;34m.\u001b[0m\u001b[0mfetch_results\u001b[0m\u001b[0;34m(\u001b[0m\u001b[0mid\u001b[0m\u001b[0;34m=\u001b[0m\u001b[0mid\u001b[0m\u001b[0;34m,\u001b[0m\u001b[0;34m**\u001b[0m\u001b[0mkwargs\u001b[0m\u001b[0;34m)\u001b[0m\u001b[0;34m\u001b[0m\u001b[0;34m\u001b[0m\u001b[0m\n\u001b[0m\u001b[1;32m    248\u001b[0m             \u001b[0mval\u001b[0m\u001b[0;34m=\u001b[0m\u001b[0mval\u001b[0m\u001b[0;34m[\u001b[0m\u001b[0;36m0\u001b[0m\u001b[0;34m]\u001b[0m\u001b[0;34m\u001b[0m\u001b[0;34m\u001b[0m\u001b[0m\n\u001b[1;32m    249\u001b[0m             \u001b[0;32mif\u001b[0m \u001b[0mallclose\u001b[0m\u001b[0;34m(\u001b[0m\u001b[0mref\u001b[0m\u001b[0;34m,\u001b[0m\u001b[0mval\u001b[0m\u001b[0;34m,\u001b[0m\u001b[0mrtol\u001b[0m\u001b[0;34m=\u001b[0m\u001b[0mrtol\u001b[0m\u001b[0;34m,\u001b[0m\u001b[0matol\u001b[0m\u001b[0;34m=\u001b[0m\u001b[0matol\u001b[0m\u001b[0;34m)\u001b[0m\u001b[0;34m:\u001b[0m\u001b[0;34m\u001b[0m\u001b[0;34m\u001b[0m\u001b[0m\n",
      "\u001b[0;32m/home/marco/Applications/BigDFT/binaries/v1.8.3/install/lib/python2.7/site-packages/BigDFT/Datasets.pyc\u001b[0m in \u001b[0;36mfetch_results\u001b[0;34m(self, id, attribute, run_if_not_present)\u001b[0m\n\u001b[1;32m    205\u001b[0m             \u001b[0;32mif\u001b[0m \u001b[0mrun_if_not_present\u001b[0m \u001b[0;32mand\u001b[0m \u001b[0mirun\u001b[0m \u001b[0;32mnot\u001b[0m \u001b[0;32min\u001b[0m \u001b[0mself\u001b[0m\u001b[0;34m.\u001b[0m\u001b[0mresults\u001b[0m\u001b[0;34m:\u001b[0m \u001b[0mselection_to_run\u001b[0m\u001b[0;34m.\u001b[0m\u001b[0mappend\u001b[0m\u001b[0;34m(\u001b[0m\u001b[0mirun\u001b[0m\u001b[0;34m)\u001b[0m\u001b[0;34m\u001b[0m\u001b[0;34m\u001b[0m\u001b[0m\n\u001b[1;32m    206\u001b[0m             \u001b[0mfetch_indices\u001b[0m\u001b[0;34m.\u001b[0m\u001b[0mappend\u001b[0m\u001b[0;34m(\u001b[0m\u001b[0mirun\u001b[0m\u001b[0;34m)\u001b[0m\u001b[0;34m\u001b[0m\u001b[0;34m\u001b[0m\u001b[0m\n\u001b[0;32m--> 207\u001b[0;31m         \u001b[0;32mif\u001b[0m \u001b[0mlen\u001b[0m\u001b[0;34m(\u001b[0m\u001b[0mselection_to_run\u001b[0m\u001b[0;34m)\u001b[0m \u001b[0;34m>\u001b[0m \u001b[0;36m0\u001b[0m\u001b[0;34m:\u001b[0m \u001b[0mself\u001b[0m\u001b[0;34m.\u001b[0m\u001b[0m_run_the_calculations\u001b[0m\u001b[0;34m(\u001b[0m\u001b[0mselection\u001b[0m\u001b[0;34m=\u001b[0m\u001b[0mselection_to_run\u001b[0m\u001b[0;34m)\u001b[0m\u001b[0;34m\u001b[0m\u001b[0;34m\u001b[0m\u001b[0m\n\u001b[0m\u001b[1;32m    208\u001b[0m \u001b[0;34m\u001b[0m\u001b[0m\n\u001b[1;32m    209\u001b[0m         \u001b[0mdata\u001b[0m \u001b[0;34m=\u001b[0m \u001b[0;34m[\u001b[0m\u001b[0;34m]\u001b[0m\u001b[0;34m\u001b[0m\u001b[0;34m\u001b[0m\u001b[0m\n",
      "\u001b[0;32m/home/marco/Applications/BigDFT/binaries/v1.8.3/install/lib/python2.7/site-packages/BigDFT/Datasets.pyc\u001b[0m in \u001b[0;36m_run_the_calculations\u001b[0;34m(self, selection)\u001b[0m\n\u001b[1;32m    147\u001b[0m                 \u001b[0minp\u001b[0m \u001b[0;34m=\u001b[0m \u001b[0mself\u001b[0m\u001b[0;34m.\u001b[0m\u001b[0mruns\u001b[0m\u001b[0;34m[\u001b[0m\u001b[0mr\u001b[0m\u001b[0;34m]\u001b[0m\u001b[0;34m\u001b[0m\u001b[0;34m\u001b[0m\u001b[0m\n\u001b[1;32m    148\u001b[0m                 \u001b[0mname\u001b[0m \u001b[0;34m=\u001b[0m \u001b[0mself\u001b[0m\u001b[0;34m.\u001b[0m\u001b[0mnames\u001b[0m\u001b[0;34m[\u001b[0m\u001b[0mr\u001b[0m\u001b[0;34m]\u001b[0m\u001b[0;34m\u001b[0m\u001b[0;34m\u001b[0m\u001b[0m\n\u001b[0;32m--> 149\u001b[0;31m                 \u001b[0mself\u001b[0m\u001b[0;34m.\u001b[0m\u001b[0mresults\u001b[0m\u001b[0;34m[\u001b[0m\u001b[0mr\u001b[0m\u001b[0;34m]\u001b[0m \u001b[0;34m=\u001b[0m \u001b[0mcalc\u001b[0m\u001b[0;34m.\u001b[0m\u001b[0mrun\u001b[0m\u001b[0;34m(\u001b[0m\u001b[0mname\u001b[0m\u001b[0;34m=\u001b[0m\u001b[0mname\u001b[0m\u001b[0;34m,\u001b[0m \u001b[0;34m**\u001b[0m\u001b[0minp\u001b[0m\u001b[0;34m)\u001b[0m\u001b[0;34m\u001b[0m\u001b[0;34m\u001b[0m\u001b[0m\n\u001b[0m\u001b[1;32m    150\u001b[0m \u001b[0;34m\u001b[0m\u001b[0m\n\u001b[1;32m    151\u001b[0m     \u001b[0;32mdef\u001b[0m \u001b[0mset_postprocessing_function\u001b[0m\u001b[0;34m(\u001b[0m\u001b[0mself\u001b[0m\u001b[0;34m,\u001b[0m \u001b[0mfunc\u001b[0m\u001b[0;34m)\u001b[0m\u001b[0;34m:\u001b[0m\u001b[0;34m\u001b[0m\u001b[0;34m\u001b[0m\u001b[0m\n",
      "\u001b[0;32m/home/marco/Applications/BigDFT/binaries/v1.8.3/install/lib/python2.7/site-packages/BigDFT/Calculators.pyc\u001b[0m in \u001b[0;36mrun\u001b[0;34m(self, **kwargs)\u001b[0m\n\u001b[1;32m    178\u001b[0m         \u001b[0mself\u001b[0m\u001b[0;34m.\u001b[0m\u001b[0m_run_options\u001b[0m\u001b[0;34m(\u001b[0m\u001b[0;34m**\u001b[0m\u001b[0mkwargs\u001b[0m\u001b[0;34m)\u001b[0m\u001b[0;34m\u001b[0m\u001b[0;34m\u001b[0m\u001b[0m\n\u001b[1;32m    179\u001b[0m         \u001b[0mrun_args\u001b[0m \u001b[0;34m=\u001b[0m \u001b[0mself\u001b[0m\u001b[0;34m.\u001b[0m\u001b[0mpre_processing\u001b[0m\u001b[0;34m(\u001b[0m\u001b[0;34m)\u001b[0m\u001b[0;34m\u001b[0m\u001b[0;34m\u001b[0m\u001b[0m\n\u001b[0;32m--> 180\u001b[0;31m         \u001b[0mrun_results\u001b[0m \u001b[0;34m=\u001b[0m \u001b[0mself\u001b[0m\u001b[0;34m.\u001b[0m\u001b[0mprocess_run\u001b[0m\u001b[0;34m(\u001b[0m\u001b[0;34m**\u001b[0m\u001b[0mrun_args\u001b[0m\u001b[0;34m)\u001b[0m\u001b[0;34m\u001b[0m\u001b[0;34m\u001b[0m\u001b[0m\n\u001b[0m\u001b[1;32m    181\u001b[0m         \u001b[0;31m# safe_print('run_args',run_args,'run_results',run_results)\u001b[0m\u001b[0;34m\u001b[0m\u001b[0;34m\u001b[0m\u001b[0;34m\u001b[0m\u001b[0m\n\u001b[1;32m    182\u001b[0m         \u001b[0mdict_merge\u001b[0m\u001b[0;34m(\u001b[0m\u001b[0mdest\u001b[0m\u001b[0;34m=\u001b[0m\u001b[0mrun_args\u001b[0m\u001b[0;34m,\u001b[0m \u001b[0msrc\u001b[0m\u001b[0;34m=\u001b[0m\u001b[0mrun_results\u001b[0m\u001b[0;34m)\u001b[0m\u001b[0;34m\u001b[0m\u001b[0;34m\u001b[0m\u001b[0m\n",
      "\u001b[0;32m/home/marco/Applications/BigDFT/binaries/v1.8.3/install/lib/python2.7/site-packages/BigDFT/Datasets.pyc\u001b[0m in \u001b[0;36mprocess_run\u001b[0;34m(self)\u001b[0m\n\u001b[1;32m    136\u001b[0m            \u001b[0mruns_list\u001b[0m\u001b[0;34m.\u001b[0m\u001b[0;34m\u001b[0m\u001b[0;34m\u001b[0m\u001b[0m\n\u001b[1;32m    137\u001b[0m         \"\"\"\n\u001b[0;32m--> 138\u001b[0;31m         \u001b[0mself\u001b[0m\u001b[0;34m.\u001b[0m\u001b[0m_run_the_calculations\u001b[0m\u001b[0;34m(\u001b[0m\u001b[0;34m)\u001b[0m\u001b[0;34m\u001b[0m\u001b[0;34m\u001b[0m\u001b[0m\n\u001b[0m\u001b[1;32m    139\u001b[0m         \u001b[0;32mreturn\u001b[0m \u001b[0;34m{\u001b[0m\u001b[0;34m}\u001b[0m\u001b[0;34m\u001b[0m\u001b[0;34m\u001b[0m\u001b[0m\n\u001b[1;32m    140\u001b[0m \u001b[0;34m\u001b[0m\u001b[0m\n",
      "\u001b[0;32m/home/marco/Applications/BigDFT/binaries/v1.8.3/install/lib/python2.7/site-packages/BigDFT/Datasets.pyc\u001b[0m in \u001b[0;36m_run_the_calculations\u001b[0;34m(self, selection)\u001b[0m\n\u001b[1;32m    147\u001b[0m                 \u001b[0minp\u001b[0m \u001b[0;34m=\u001b[0m \u001b[0mself\u001b[0m\u001b[0;34m.\u001b[0m\u001b[0mruns\u001b[0m\u001b[0;34m[\u001b[0m\u001b[0mr\u001b[0m\u001b[0;34m]\u001b[0m\u001b[0;34m\u001b[0m\u001b[0;34m\u001b[0m\u001b[0m\n\u001b[1;32m    148\u001b[0m                 \u001b[0mname\u001b[0m \u001b[0;34m=\u001b[0m \u001b[0mself\u001b[0m\u001b[0;34m.\u001b[0m\u001b[0mnames\u001b[0m\u001b[0;34m[\u001b[0m\u001b[0mr\u001b[0m\u001b[0;34m]\u001b[0m\u001b[0;34m\u001b[0m\u001b[0;34m\u001b[0m\u001b[0m\n\u001b[0;32m--> 149\u001b[0;31m                 \u001b[0mself\u001b[0m\u001b[0;34m.\u001b[0m\u001b[0mresults\u001b[0m\u001b[0;34m[\u001b[0m\u001b[0mr\u001b[0m\u001b[0;34m]\u001b[0m \u001b[0;34m=\u001b[0m \u001b[0mcalc\u001b[0m\u001b[0;34m.\u001b[0m\u001b[0mrun\u001b[0m\u001b[0;34m(\u001b[0m\u001b[0mname\u001b[0m\u001b[0;34m=\u001b[0m\u001b[0mname\u001b[0m\u001b[0;34m,\u001b[0m \u001b[0;34m**\u001b[0m\u001b[0minp\u001b[0m\u001b[0;34m)\u001b[0m\u001b[0;34m\u001b[0m\u001b[0;34m\u001b[0m\u001b[0m\n\u001b[0m\u001b[1;32m    150\u001b[0m \u001b[0;34m\u001b[0m\u001b[0m\n\u001b[1;32m    151\u001b[0m     \u001b[0;32mdef\u001b[0m \u001b[0mset_postprocessing_function\u001b[0m\u001b[0;34m(\u001b[0m\u001b[0mself\u001b[0m\u001b[0;34m,\u001b[0m \u001b[0mfunc\u001b[0m\u001b[0;34m)\u001b[0m\u001b[0;34m:\u001b[0m\u001b[0;34m\u001b[0m\u001b[0;34m\u001b[0m\u001b[0m\n",
      "\u001b[0;32m/home/marco/Applications/BigDFT/binaries/v1.8.3/install/lib/python2.7/site-packages/BigDFT/Calculators.pyc\u001b[0m in \u001b[0;36mrun\u001b[0;34m(self, **kwargs)\u001b[0m\n\u001b[1;32m    182\u001b[0m         \u001b[0mdict_merge\u001b[0m\u001b[0;34m(\u001b[0m\u001b[0mdest\u001b[0m\u001b[0;34m=\u001b[0m\u001b[0mrun_args\u001b[0m\u001b[0;34m,\u001b[0m \u001b[0msrc\u001b[0m\u001b[0;34m=\u001b[0m\u001b[0mrun_results\u001b[0m\u001b[0;34m)\u001b[0m\u001b[0;34m\u001b[0m\u001b[0;34m\u001b[0m\u001b[0m\n\u001b[1;32m    183\u001b[0m         \u001b[0;31m#safe_print('run_updated, again',run_args)\u001b[0m\u001b[0;34m\u001b[0m\u001b[0;34m\u001b[0m\u001b[0;34m\u001b[0m\u001b[0m\n\u001b[0;32m--> 184\u001b[0;31m         \u001b[0;32mreturn\u001b[0m \u001b[0mself\u001b[0m\u001b[0;34m.\u001b[0m\u001b[0mpost_processing\u001b[0m\u001b[0;34m(\u001b[0m\u001b[0;34m**\u001b[0m\u001b[0mrun_args\u001b[0m\u001b[0;34m)\u001b[0m\u001b[0;34m\u001b[0m\u001b[0;34m\u001b[0m\u001b[0m\n\u001b[0m\u001b[1;32m    185\u001b[0m \u001b[0;34m\u001b[0m\u001b[0m\n\u001b[1;32m    186\u001b[0m     \u001b[0;32mdef\u001b[0m \u001b[0mpre_processing\u001b[0m\u001b[0;34m(\u001b[0m\u001b[0mself\u001b[0m\u001b[0;34m)\u001b[0m\u001b[0;34m:\u001b[0m\u001b[0;34m\u001b[0m\u001b[0;34m\u001b[0m\u001b[0m\n",
      "\u001b[0;32m/home/marco/Applications/BigDFT/binaries/v1.8.3/install/lib/python2.7/site-packages/BigDFT/Calculators.pyc\u001b[0m in \u001b[0;36mpost_processing\u001b[0;34m(self, timedbg, logname, command)\u001b[0m\n\u001b[1;32m    375\u001b[0m                 \u001b[0;32mreturn\u001b[0m \u001b[0mLf\u001b[0m\u001b[0;34m.\u001b[0m\u001b[0mLogfile\u001b[0m\u001b[0;34m(\u001b[0m\u001b[0mlogname\u001b[0m\u001b[0;34m)\u001b[0m\u001b[0;34m\u001b[0m\u001b[0;34m\u001b[0m\u001b[0m\n\u001b[1;32m    376\u001b[0m         \u001b[0;32melse\u001b[0m\u001b[0;34m:\u001b[0m\u001b[0;34m\u001b[0m\u001b[0;34m\u001b[0m\u001b[0m\n\u001b[0;32m--> 377\u001b[0;31m             \u001b[0;32mraise\u001b[0m \u001b[0mValueError\u001b[0m\u001b[0;34m(\u001b[0m\u001b[0;34m\"The logfile (\"\u001b[0m\u001b[0;34m,\u001b[0m \u001b[0mlogname\u001b[0m \u001b[0;34m,\u001b[0m\u001b[0;34m\") does not exist.\"\u001b[0m\u001b[0;34m)\u001b[0m\u001b[0;34m\u001b[0m\u001b[0;34m\u001b[0m\u001b[0m\n\u001b[0m\u001b[1;32m    378\u001b[0m \u001b[0;34m\u001b[0m\u001b[0m\n\u001b[1;32m    379\u001b[0m     \u001b[0;32mdef\u001b[0m \u001b[0m_get_command\u001b[0m\u001b[0;34m(\u001b[0m\u001b[0mself\u001b[0m\u001b[0;34m)\u001b[0m\u001b[0;34m:\u001b[0m\u001b[0;34m\u001b[0m\u001b[0;34m\u001b[0m\u001b[0m\n",
      "\u001b[0;31mValueError\u001b[0m: ('The logfile (', 'pbe0-hgh_k/log-F:0.005,dir:x,rmult:6.0,sign:-.yaml', ') does not exist.')"
     ]
    }
   ],
   "source": [
    "full_data = {}\n",
    "#for molecule in nsp_split[0]:\n",
    "for molecule in full_dataset_split[2]+full_dataset_split[3]:\n",
    "    for xc in ['lda_pw','pbe','pbe0']:\n",
    "        psp = ['hgh_k'] if xc != 'pbe' else get_psp(molecule)\n",
    "        for p in psp:\n",
    "            print ''\n",
    "            print molecule,xc,p\n",
    "            gs_data=gs_study(molecule,(xc,p),code,options)\n",
    "            full_data[(molecule,xc,p)]=alpha_study(gs_data,code,options)\n",
    "            full_data[(molecule,xc,p)].update(gs_data)"
   ]
  },
  {
   "cell_type": "code",
   "execution_count": null,
   "metadata": {},
   "outputs": [],
   "source": [
    "# CH3NH2 pbe0 hgh_k is trying to perform the field convergence for pbe0 hgh_k....why?"
   ]
  },
  {
   "cell_type": "code",
   "execution_count": 33,
   "metadata": {},
   "outputs": [],
   "source": [
    "results = data_to_save(full_data,options)\n",
    "#results"
   ]
  },
  {
   "cell_type": "code",
   "execution_count": 34,
   "metadata": {},
   "outputs": [],
   "source": [
    "#full_results = {}\n",
    "full_results = yaml.load(open('full_results.yaml'))"
   ]
  },
  {
   "cell_type": "code",
   "execution_count": 35,
   "metadata": {},
   "outputs": [],
   "source": [
    "full_results.update(results)"
   ]
  },
  {
   "cell_type": "code",
   "execution_count": 37,
   "metadata": {},
   "outputs": [],
   "source": [
    "#full_results.keys()"
   ]
  },
  {
   "cell_type": "code",
   "execution_count": 38,
   "metadata": {},
   "outputs": [],
   "source": [
    "with open('full_results.yaml', 'w') as outfile:\n",
    "    yaml.dump(full_results, outfile, default_flow_style=False)"
   ]
  },
  {
   "cell_type": "markdown",
   "metadata": {},
   "source": [
    "Test for the fetching of the data"
   ]
  },
  {
   "cell_type": "code",
   "execution_count": 41,
   "metadata": {},
   "outputs": [],
   "source": [
    "plu = yaml.load(open('full_results.yaml'))"
   ]
  },
  {
   "cell_type": "code",
   "execution_count": 42,
   "metadata": {},
   "outputs": [
    {
     "ename": "KeyError",
     "evalue": "('CO', 'pbe', 'nlcc_aw')",
     "output_type": "error",
     "traceback": [
      "\u001b[0;31m---------------------------------------------------------------------------\u001b[0m",
      "\u001b[0;31mKeyError\u001b[0m                                  Traceback (most recent call last)",
      "\u001b[0;32m<ipython-input-42-f3914453d89b>\u001b[0m in \u001b[0;36m<module>\u001b[0;34m()\u001b[0m\n\u001b[0;32m----> 1\u001b[0;31m \u001b[0mplu\u001b[0m\u001b[0;34m[\u001b[0m\u001b[0;34m(\u001b[0m\u001b[0;34m'CO'\u001b[0m\u001b[0;34m,\u001b[0m \u001b[0;34m'pbe'\u001b[0m\u001b[0;34m,\u001b[0m \u001b[0;34m'nlcc_aw'\u001b[0m\u001b[0;34m)\u001b[0m\u001b[0;34m]\u001b[0m\u001b[0;34m\u001b[0m\u001b[0;34m\u001b[0m\u001b[0m\n\u001b[0m",
      "\u001b[0;31mKeyError\u001b[0m: ('CO', 'pbe', 'nlcc_aw')"
     ]
    }
   ],
   "source": [
    "plu[('CO', 'pbe', 'nlcc_aw')]"
   ]
  },
  {
   "cell_type": "code",
   "execution_count": null,
   "metadata": {},
   "outputs": [],
   "source": []
  },
  {
   "cell_type": "code",
   "execution_count": 1,
   "metadata": {},
   "outputs": [],
   "source": [
    "#from futile import YamlIO as Y\n",
    "#from futile.Utils import make_dict\n",
    "#res_file = 'results.yaml'\n",
    "#local_res = make_dict(results)\n",
    "#Y.dump(local_res, filename=res_file)"
   ]
  }
 ],
 "metadata": {
  "kernelspec": {
   "display_name": "Python 2",
   "language": "python",
   "name": "python2"
  },
  "language_info": {
   "codemirror_mode": {
    "name": "ipython",
    "version": 2
   },
   "file_extension": ".py",
   "mimetype": "text/x-python",
   "name": "python",
   "nbconvert_exporter": "python",
   "pygments_lexer": "ipython2",
   "version": "2.7.15+"
  }
 },
 "nbformat": 4,
 "nbformat_minor": 2
}
