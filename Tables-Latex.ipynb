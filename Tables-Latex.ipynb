{
 "cells": [
  {
   "cell_type": "markdown",
   "metadata": {},
   "source": [
    "This nb is written in python3 to use tabulate. The nb has to be run WITHOUT the source of the BigDFT package, otherwise the import yaml gives rise to a conflict."
   ]
  },
  {
   "cell_type": "markdown",
   "metadata": {},
   "source": [
    "# Create tables from the HG data"
   ]
  },
  {
   "cell_type": "code",
   "execution_count": 1,
   "metadata": {},
   "outputs": [],
   "source": [
    "import yaml\n",
    "import numpy as np\n",
    "from tabulate import tabulate\n",
    "\n",
    "AuToA = 0.5291772085**3"
   ]
  },
  {
   "cell_type": "code",
   "execution_count": 2,
   "metadata": {},
   "outputs": [],
   "source": [
    "HG_data=yaml.load(open('HG Dataset/hg_data.yaml'))\n",
    "HG_data['H']['spin_pol'] = 'sp'"
   ]
  },
  {
   "cell_type": "code",
   "execution_count": 3,
   "metadata": {},
   "outputs": [
    {
     "data": {
      "text/plain": [
       "{'CCSD(T)': [1.753, 1.753, 2.283],\n",
       " 'field_int': 0.01,\n",
       " 'lda-SPW92': [1.872, 1.872, 2.358],\n",
       " 'lda-Slater': [1.993, 1.993, 2.49],\n",
       " 'mpol_ref': '1',\n",
       " 'pbe': [1.856, 1.856, 2.363],\n",
       " 'pbe0': [1.778, 1.778, 2.274],\n",
       " 'spin_pol': 'nsp'}"
      ]
     },
     "execution_count": 3,
     "metadata": {},
     "output_type": "execute_result"
    }
   ],
   "source": [
    "HG_data['CO']"
   ]
  },
  {
   "cell_type": "code",
   "execution_count": 4,
   "metadata": {},
   "outputs": [],
   "source": [
    "molecule_nsp = []\n",
    "molecule_sp = []\n",
    "for mol in HG_data:\n",
    "    if HG_data[mol]['spin_pol'] == 'nsp' : molecule_nsp.append(mol)\n",
    "    if HG_data[mol]['spin_pol'] == 'sp' : molecule_sp.append(mol)\n",
    "molecule_nsp = sorted(molecule_nsp)\n",
    "molecule_sp = sorted(molecule_sp)"
   ]
  },
  {
   "cell_type": "code",
   "execution_count": 5,
   "metadata": {},
   "outputs": [
    {
     "name": "stdout",
     "output_type": "stream",
     "text": [
      "74 58\n"
     ]
    }
   ],
   "source": [
    "print(len(molecule_nsp),len(molecule_sp))"
   ]
  },
  {
   "cell_type": "code",
   "execution_count": 18,
   "metadata": {},
   "outputs": [],
   "source": [
    "table_nsp = [[] for line in range(len(molecule_nsp)+1)]\n",
    "table_sp = [[] for line in range(len(molecule_sp)+1)]"
   ]
  },
  {
   "cell_type": "code",
   "execution_count": 44,
   "metadata": {},
   "outputs": [],
   "source": [
    "table_nsp[0] = ['molecule','lda','pbe','pbe0','field_int']\n",
    "table_sp[0] = ['molecule','lda','pbe','pbe0','field_int']"
   ]
  },
  {
   "cell_type": "code",
   "execution_count": 59,
   "metadata": {},
   "outputs": [],
   "source": [
    "def format_decimal(ll):\n",
    "    out = [ '%.3f' % elem for elem in ll ]\n",
    "    out = [float(elem) for elem in out]\n",
    "    return out\n",
    "\n",
    "for ind,mol in enumerate(molecule_nsp):\n",
    "    lda_ref = list(np.array(HG_data[mol]['lda-SPW92'])/AuToA)\n",
    "    pbe_ref = list(np.array(HG_data[mol]['pbe'])/AuToA)\n",
    "    pbe0_ref = list(np.array(HG_data[mol]['pbe0'])/AuToA)\n",
    "    f_int = HG_data[mol]['field_int']\n",
    "    table_nsp[ind+1] = [mol,format_decimal(lda_ref),\\\n",
    "                        format_decimal(pbe_ref),format_decimal(pbe0_ref),f_int]\n",
    "\n",
    "for ind,mol in enumerate(molecule_sp):\n",
    "    lda_ref = list(np.array(HG_data[mol]['lda-SPW92'])/AuToA)\n",
    "    pbe_ref = list(np.array(HG_data[mol]['pbe'])/AuToA)\n",
    "    pbe0_ref = list(np.array(HG_data[mol]['pbe0'])/AuToA)\n",
    "    f_int = HG_data[mol]['field_int']\n",
    "    table_sp[ind+1] = [mol,format_decimal(lda_ref),\\\n",
    "                        format_decimal(pbe_ref),format_decimal(pbe0_ref),f_int]"
   ]
  },
  {
   "cell_type": "code",
   "execution_count": 61,
   "metadata": {},
   "outputs": [
    {
     "name": "stdout",
     "output_type": "stream",
     "text": [
      "\\begin{tabular}{llllr}\n",
      "\\hline\n",
      " molecule & lda                         & pbe                         &                             &       \\\\\n",
      " BH2      & [21.406, 24.618, 21.858]    & [20.879, 23.923, 21.439]    & [20.09, 22.074, 20.495]     & 0.01  \\\\\n",
      " BN       & [22.978, 22.978, 31.467]    & [22.85, 22.85, 30.691]      & [21.878, 21.878, 28.235]    & 0.01  \\\\\n",
      " BO       & [16.709, 16.709, 20.549]    & [16.574, 16.574, 20.508]    & [15.697, 15.697, 19.172]    & 0.01  \\\\\n",
      " BS       & [31.339, 31.339, 45.038]    & [31.036, 31.036, 44.755]    & [30.158, 30.158, 43.331]    & 0.01  \\\\\n",
      " Be       & [44.208, 44.208, 44.208]    & [43.264, 43.264, 43.264]    & [43.304, 43.304, 43.304]    & 0.01  \\\\\n",
      " BeH      & [39.653, 39.653, 30.482]    & [38.708, 38.708, 29.436]    & [37.986, 37.986, 27.904]    & 0.01  \\\\\n",
      " C2H      & [25.691, 25.691, 28.026]    & [25.758, 25.758, 27.965]    & [22.465, 22.465, 27.263]    & 0.01  \\\\\n",
      " C2H3     & [25.414, 36.718, 22.782]    & [25.043, 36.313, 22.668]    & [23.849, 35.125, 21.946]    & 0.01  \\\\\n",
      " CH2-t    & [16.864, 17.127, 15.845]    & [16.716, 16.932, 15.629]    & [15.285, 16.115, 14.502]    & 0.01  \\\\\n",
      " CH2F     & [17.917, 19.071, 17.336]    & [17.654, 18.936, 17.181]    & [15.899, 17.654, 16.183]    & 0.01  \\\\\n",
      " CH2NH    & [23.396, 18.018, 30.59]     & [23.248, 17.903, 30.462]    & [22.148, 17.343, 29.45]     & 0.01  \\\\\n",
      " CH2PH    & [53.224, 34.761, 40.335]    & [53.082, 34.626, 39.883]    & [52.516, 34.045, 38.857]    & 0.01  \\\\\n",
      " CH3      & [17.336, 17.336, 18.551]    & [17.04, 17.04, 18.14]       & [16.29, 16.29, 16.628]      & 0.01  \\\\\n",
      " CH3O     & [34.578, 20.299, 26.973]    & [33.128, 20.124, 26.285]    & [29.915, 19.152, 23.93]     & 0.01  \\\\\n",
      " CN       & [16.999, 16.999, 26.825]    & [17.424, 17.424, 26.899]    & [18.194, 18.194, 26.48]     & 0.01  \\\\\n",
      " F2       & [7.045, 7.045, 12.613]      & [7.066, 7.066, 12.761]      & [6.499, 6.499, 12.889]      & 0.01  \\\\\n",
      " FCO      & [23.754, 17.741, 14.961]    & [23.828, 17.856, 14.873]    & [22.485, 16.628, 13.956]    & 0.01  \\\\\n",
      " FH-OH    & [14.428, 12.302, 33.829]    & [14.293, 12.221, 25.86]     & [13.146, 11.168, 16.284]    & 0.01  \\\\\n",
      " H        & [6.087, 6.087, 6.087]       & [5.594, 5.594, 5.594]       & [5.23, 5.23, 5.23]          & 0.01  \\\\\n",
      " H2CN     & [16.257, 20.414, 26.933]    & [16.129, 20.178, 26.649]    & [15.562, 19.111, 25.421]    & 0.01  \\\\\n",
      " H2O-Li   & [220.293, 187.84, 291.704]  & [223.613, 192.024, 269.414] & [239.687, 207.754, 269.346] & 0.001 \\\\\n",
      " HCHS     & [27.439, 33.391, 46.732]    & [27.311, 33.202, 46.624]    & [26.791, 31.805, 45.828]    & 0.01  \\\\\n",
      " HCO      & [19.705, 20.69, 14.077]     & [19.759, 20.819, 13.942]    & [18.281, 20.056, 13.294]    & 0.01  \\\\\n",
      " HCP      & [31.38, 31.38, 48.068]      & [31.353, 31.353, 48.102]    & [30.766, 30.766, 47.454]    & 0.01  \\\\\n",
      " HNO      & [11.445, 17.782, 20.07]     & [11.459, 17.586, 20.285]    & [11.027, 15.825, 19.476]    & 0.01  \\\\\n",
      " HNS      & [40.477, 28.829, 23.99]     & [40.834, 28.309, 24.078]    & [40.402, 26.791, 23.45]     & 0.01  \\\\\n",
      " HO2      & [12.937, 18.97, 10.629]     & [12.984, 19.186, 10.615]    & [11.918, 18.477, 9.994]     & 0.01  \\\\\n",
      " HOF      & [11.108, 10.143, 15.636]    & [11.135, 10.149, 15.784]    & [10.386, 9.238, 15.656]     & 0.01  \\\\\n",
      " Li       & [155.32, 155.32, 155.32]    & [152.593, 152.593, 152.593] & [154.861, 154.861, 154.861] & 0.01  \\\\\n",
      " Li2      & [170.389, 170.389, 268.975] & [168.479, 168.479, 269.792] & [168.594, 168.594, 261.538] & 0.001 \\\\\n",
      " N        & [8.206, 8.206, 8.206]       & [8.361, 8.361, 8.361]       & [7.815, 7.815, 7.815]       & 0.01  \\\\\n",
      " N2H2     & [25.684, 14.752, 21.412]    & [25.65, 14.61, 21.345]      & [24.409, 14.104, 19.928]    & 0.01  \\\\\n",
      " NCO      & [15.94, 15.94, 33.182]      & [15.892, 15.892, 33.155]    & [15.433, 15.433, 32.271]    & 0.01  \\\\\n",
      " NH       & [10.008, 10.008, 12.721]    & [9.974, 9.974, 12.545]      & [9.326, 9.326, 11.816]      & 0.01  \\\\\n",
      " NH2      & [11.837, 13.578, 14.718]    & [11.607, 13.47, 14.522]     & [10.838, 12.829, 13.389]    & 0.01  \\\\\n",
      " NO       & [11.31, 11.31, 16.054]      & [11.384, 11.384, 16.209]    & [10.365, 10.365, 15.447]    & 0.01  \\\\\n",
      " NOCl     & [33.586, 47.448, 23.747]    & [33.539, 47.306, 23.673]    & [32.426, 46.125, 22.924]    & 0.01  \\\\\n",
      " NP       & [24.787, 24.787, 37.71]     & [24.827, 24.827, 37.811]    & [24.247, 24.247, 36.677]    & 0.01  \\\\\n",
      " Na       & [140.932, 140.932, 140.932] & [161.272, 161.272, 161.272] & [168.465, 168.465, 168.465] & 0.01  \\\\\n",
      " Na2      & [185.181, 185.181, 325.054] & [196.026, 196.026, 332.497] & [203.462, 203.462, 338.146] & 0.001 \\\\\n",
      " NaLi     & [178.291, 178.291, 299.309] & [181.915, 181.915, 301.826] & [185.464, 185.464, 299.855] & 0.001 \\\\\n",
      " O2       & [8.685, 8.685, 15.481]      & [8.719, 8.719, 15.67]       & [8.26, 8.26, 15.609]        & 0.01  \\\\\n",
      " O3       & [12.343, 31.184, 15.035]    & [12.349, 31.434, 15.089]    & [11.735, 29.841, 14.374]    & 0.01  \\\\\n",
      " OCl      & [18.457, 18.457, 28.957]    & [18.443, 18.443, 29.099]    & [17.424, 17.424, 28.485]    & 0.01  \\\\\n",
      " OF       & [8.611, 8.611, 14.516]      & [8.618, 8.618, 14.583]      & [7.808, 7.808, 13.881]      & 0.01  \\\\\n",
      " OF2      & [10.75, 21.021, 13.989]     & [10.757, 21.122, 14.05]     & [9.913, 20.238, 13.476]     & 0.01  \\\\\n",
      " OH       & [8.813, 8.813, 9.306]       & [8.8, 8.8, 9.292]           & [7.869, 7.869, 8.712]       & 0.01  \\\\\n",
      " P        & [28.08, 28.08, 28.08]       & [27.952, 27.952, 27.952]    & [26.69, 26.69, 26.69]       & 0.01  \\\\\n",
      " P2       & [41.367, 41.367, 70.574]    & [41.266, 41.266, 70.574]    & [40.719, 40.719, 69.467]    & 0.01  \\\\\n",
      " PH       & [29.139, 29.139, 31.913]    & [28.761, 28.761, 31.38]     & [27.56, 27.56, 30.361]      & 0.01  \\\\\n",
      " PH2      & [30.145, 31.839, 33.033]    & [29.564, 31.306, 32.412]    & [28.417, 30.482, 31.285]    & 0.01  \\\\\n",
      " PS       & [38.162, 38.162, 64.845]    & [35.611, 35.611, 64.838]    & [34.95, 34.95, 63.313]      & 0.01  \\\\\n",
      " S2       & [32.932, 32.932, 59.088]    & [32.797, 32.797, 59.406]    & [31.778, 31.778, 59.169]    & 0.01  \\\\\n",
      " SCl      & [32.217, 32.217, 51.463]    & [32.007, 32.007, 51.281]    & [30.442, 30.442, 49.432]    & 0.01  \\\\\n",
      " SF       & [24.469, 24.469, 25.866]    & [24.402, 24.402, 25.88]     & [22.735, 22.735, 24.638]    & 0.01  \\\\\n",
      " SH       & [25.941, 25.941, 24.955]    & [25.718, 25.718, 24.672]    & [24.314, 24.314, 23.882]    & 0.01  \\\\\n",
      " SO-trip  & [21.433, 21.433, 30.044]    & [21.439, 21.439, 30.219]    & [20.366, 20.366, 29.585]    & 0.01  \\\\\n",
      " SiH3     & [36.778, 36.778, 37.939]    & [35.942, 35.942, 36.853]    & [34.74, 34.74, 35.004]      & 0.01  \\\\\n",
      "\\hline\n",
      "\\end{tabular}\n"
     ]
    }
   ],
   "source": [
    "print(tabulate(table_sp, tablefmt=\"latex\"))"
   ]
  },
  {
   "cell_type": "markdown",
   "metadata": {},
   "source": [
    "# Create tables from the MW data"
   ]
  },
  {
   "cell_type": "code",
   "execution_count": 6,
   "metadata": {},
   "outputs": [],
   "source": [
    "MWdata=yaml.load(open('mw_data_0001v2.yaml'))\n",
    "MW_data={mol:{xcref: MWdata[mol][xc]['diagonal'] for xcref,xc in [('lda-SPW92','lda'),('pbe','pbe')]} for mol in MWdata}"
   ]
  },
  {
   "cell_type": "code",
   "execution_count": 7,
   "metadata": {},
   "outputs": [
    {
     "data": {
      "text/plain": [
       "{'lda-SPW92': [1.868431750384668, 1.8684317500142003, 2.3535110461925104],\n",
       " 'pbe': [1.8532465936431202, 1.8532465936431202, 2.359389168196766]}"
      ]
     },
     "execution_count": 7,
     "metadata": {},
     "output_type": "execute_result"
    }
   ],
   "source": [
    "MW_data['co']"
   ]
  },
  {
   "cell_type": "code",
   "execution_count": 8,
   "metadata": {},
   "outputs": [],
   "source": [
    "molecules_mw = list(MW_data.keys())"
   ]
  },
  {
   "cell_type": "code",
   "execution_count": 9,
   "metadata": {},
   "outputs": [
    {
     "data": {
      "text/plain": [
       "128"
      ]
     },
     "execution_count": 9,
     "metadata": {},
     "output_type": "execute_result"
    }
   ],
   "source": [
    "len(molecules_mw)"
   ]
  },
  {
   "cell_type": "markdown",
   "metadata": {},
   "source": [
    "The missing molecules w.r.t the HG data are"
   ]
  },
  {
   "cell_type": "code",
   "execution_count": 10,
   "metadata": {},
   "outputs": [
    {
     "name": "stdout",
     "output_type": "stream",
     "text": [
      "CH3O\n",
      "PS\n",
      "S2\n",
      "SH\n"
     ]
    }
   ],
   "source": [
    "for mol in HG_data:\n",
    "    if mol.lower() not in molecules_mw:\n",
    "        print(mol)"
   ]
  },
  {
   "cell_type": "markdown",
   "metadata": {},
   "source": [
    "Create two tables, splitting the MW results in sp and nsp subset, using the attribution of HG"
   ]
  },
  {
   "cell_type": "code",
   "execution_count": 11,
   "metadata": {},
   "outputs": [],
   "source": [
    "table_nsp = [[] for line in range(len(molecule_nsp)+1)]\n",
    "table_sp = [[] for line in range(len(molecule_sp)+1)]"
   ]
  },
  {
   "cell_type": "code",
   "execution_count": 12,
   "metadata": {},
   "outputs": [],
   "source": [
    "table_nsp[0] = ['molecule','lda','pbe']\n",
    "table_sp[0] = ['molecule','lda','pbe']"
   ]
  },
  {
   "cell_type": "code",
   "execution_count": 13,
   "metadata": {},
   "outputs": [],
   "source": [
    "def format_decimal(ll):\n",
    "    if ll == 0.: return ''\n",
    "    out = [ '%.3f' % elem for elem in ll ]\n",
    "    out = [float(elem) for elem in out]\n",
    "    return out\n",
    "\n",
    "for ind,mol in enumerate(molecule_nsp):\n",
    "    lda_mw = 0.\n",
    "    pbe_mw = 0.\n",
    "    if mol.lower() in molecules_mw:\n",
    "        lda_mw = list(np.array(MW_data[mol.lower()]['lda-SPW92'])/AuToA)\n",
    "        pbe_mw = list(np.array(MW_data[mol.lower()]['pbe'])/AuToA)\n",
    "    table_nsp[ind+1] = [mol,format_decimal(lda_mw),format_decimal(pbe_mw)]\n",
    "\n",
    "for ind,mol in enumerate(molecule_sp):\n",
    "    lda_mw = 0.\n",
    "    pbe_mw = 0.\n",
    "    if mol.lower() in molecules_mw:\n",
    "        lda_mw = list(np.array(MW_data[mol.lower()]['lda-SPW92'])/AuToA)\n",
    "        pbe_mw = list(np.array(MW_data[mol.lower()]['pbe'])/AuToA)\n",
    "    table_sp[ind+1] = [mol,format_decimal(lda_mw),format_decimal(pbe_mw)]"
   ]
  },
  {
   "cell_type": "code",
   "execution_count": 14,
   "metadata": {},
   "outputs": [
    {
     "name": "stdout",
     "output_type": "stream",
     "text": [
      "\\begin{tabular}{lll}\n",
      "\\hline\n",
      " molecule & lda                         & pbe                         \\\\\n",
      " BH2      & [21.232, 24.132, 21.746]    & [20.72, 23.469, 21.344]     \\\\\n",
      " BN       & [18.307, 22.895, 31.288]    & [18.125, 22.78, 30.553]     \\\\\n",
      " BO       & [16.672, 16.672, 20.5]      & [16.54, 16.54, 20.463]      \\\\\n",
      " BS       & [31.229, 31.229, 44.878]    & [30.936, 30.936, 44.613]    \\\\\n",
      " Be       & [43.806, 43.806, 43.806]    & [42.905, 42.905, 42.905]    \\\\\n",
      " BeH      & [39.247, 39.247, 29.958]    & [38.345, 38.345, 28.952]    \\\\\n",
      " C2H      & [25.911, 25.911, 27.974]    & [25.947, 25.947, 27.923]    \\\\\n",
      " C2H3     & [25.307, 36.592, 22.672]    & [24.96, 36.207, 22.565]     \\\\\n",
      " CH2-t    & [16.706, 17.077, 15.752]    & [16.563, 16.887, 15.543]    \\\\\n",
      " CH2F     & [17.714, 19.024, 17.288]    & [17.468, 18.903, 17.146]    \\\\\n",
      " CH2NH    & [23.328, 17.964, 30.486]    & [23.191, 17.86, 30.377]     \\\\\n",
      " CH2PH    & [53.036, 34.585, 40.194]    & [52.91, 34.46, 39.764]      \\\\\n",
      " CH3      & [17.288, 17.288, 18.333]    & [17.004, 17.003, 17.94]     \\\\\n",
      " CH3O     &                             &                             \\\\\n",
      " CN       & [16.981, 16.981, 26.78]     & [17.423, 17.423, 26.876]    \\\\\n",
      " F2       & [7.037, 7.037, 12.602]      & [7.065, 7.065, 12.757]      \\\\\n",
      " FCO      & [23.704, 17.666, 14.918]    & [23.787, 17.79, 14.841]     \\\\\n",
      " FH-OH    & [14.403, 12.28, 33.403]     & [14.278, 12.207, 24.198]    \\\\\n",
      " H        & [6.062, 6.062, 6.062]       & [5.571, 5.571, 5.571]       \\\\\n",
      " H2CN     & [16.215, 20.35, 26.856]     & [16.101, 20.126, 26.587]    \\\\\n",
      " H2O-Li   & [220.373, 187.997, 292.126] & [224.072, 192.48, 269.894]  \\\\\n",
      " HCHS     & [27.361, 33.208, 46.578]    & [27.245, 33.035, 46.489]    \\\\\n",
      " HCO      & [19.534, 20.573, 14.032]    & [19.588, 20.704, 13.911]    \\\\\n",
      " HCP      & [31.238, 31.238, 47.95]     & [31.226, 31.226, 47.993]    \\\\\n",
      " HNO      & [11.431, 17.669, 20.008]    & [11.36, 17.728, 20.09]      \\\\\n",
      " HNS      & [39.873, 29.532, 23.558]    & [39.931, 29.457, 23.481]    \\\\\n",
      " HO2      & [11.863, 18.201, 11.761]    & [11.893, 18.143, 11.8]      \\\\\n",
      " HOF      & [11.092, 10.121, 15.617]    & [11.129, 10.133, 15.774]    \\\\\n",
      " Li       & [143.78, 143.78, 143.78]    & [142.199, 142.199, 142.199] \\\\\n",
      " Li2      & [170.548, 170.548, 269.033] & [168.618, 168.618, 269.818] \\\\\n",
      " N        & [8.186, 8.186, 8.186]       & [8.349, 8.349, 8.349]       \\\\\n",
      " N2H2     & [25.559, 14.724, 21.292]    & [25.541, 14.586, 21.239]    \\\\\n",
      " NCO      & [15.914, 16.13, 33.139]     & [15.878, 16.171, 33.123]    \\\\\n",
      " NH       & [9.982, 9.982, 12.684]      & [9.953, 9.953, 12.514]      \\\\\n",
      " NH2      & [11.797, 13.553, 14.652]    & [11.571, 13.452, 14.467]    \\\\\n",
      " NO       & [9.812, 11.264, 16.019]     & [9.778, 11.343, 16.179]     \\\\\n",
      " NOCl     & [33.516, 47.34, 23.688]     & [33.48, 47.208, 23.631]     \\\\\n",
      " NP       & [24.718, 24.718, 37.595]    & [24.771, 24.771, 37.702]    \\\\\n",
      " Na       & [141.079, 141.079, 141.079] & [159.766, 159.766, 159.766] \\\\\n",
      " Na2      & [185.585, 185.585, 325.722] & [196.267, 196.267, 333.487] \\\\\n",
      " NaLi     & [178.553, 178.553, 299.584] & [182.088, 182.088, 302.315] \\\\\n",
      " O2       & [8.672, 8.672, 15.466]      & [8.713, 8.713, 15.66]       \\\\\n",
      " O3       & [12.328, 31.131, 14.998]    & [12.34, 31.396, 15.059]     \\\\\n",
      " OCl      & [17.101, 18.414, 28.917]    & [17.103, 18.409, 29.07]     \\\\\n",
      " OF       & [7.994, 8.594, 14.502]      & [7.99, 8.607, 14.574]       \\\\\n",
      " OF2      & [10.734, 20.998, 13.972]    & [10.752, 21.109, 14.042]    \\\\\n",
      " OH       & [6.934, 8.781, 9.29]        & [6.869, 8.771, 9.282]       \\\\\n",
      " P        & [27.892, 27.892, 27.892]    & [27.762, 27.762, 27.762]    \\\\\n",
      " P2       & [41.2, 41.2, 70.282]        & [41.092, 41.092, 70.296]    \\\\\n",
      " PH       & [28.937, 28.937, 31.791]    & [28.576, 28.576, 31.27]     \\\\\n",
      " PH2      & [29.919, 31.753, 32.883]    & [29.366, 31.236, 32.284]    \\\\\n",
      " PS       &                             &                             \\\\\n",
      " S2       &                             &                             \\\\\n",
      " SCl      & [29.278, 32.047, 51.339]    & [29.076, 31.853, 51.165]    \\\\\n",
      " SF       & [20.917, 24.246, 25.827]    & [20.818, 24.193, 25.846]    \\\\\n",
      " SH       &                             &                             \\\\\n",
      " SO-trip  & [21.351, 21.351, 29.989]    & [21.366, 21.366, 30.175]    \\\\\n",
      " SiH3     & [36.629, 36.629, 37.45]     & [35.817, 35.817, 36.395]    \\\\\n",
      "\\hline\n",
      "\\end{tabular}\n"
     ]
    }
   ],
   "source": [
    "print(tabulate(table_sp, tablefmt=\"latex\"))"
   ]
  },
  {
   "cell_type": "markdown",
   "metadata": {},
   "source": [
    "# Create tables from BG data"
   ]
  },
  {
   "cell_type": "markdown",
   "metadata": {},
   "source": [
    "Rearrange the BG data using the psp as the leading parameter"
   ]
  },
  {
   "cell_type": "code",
   "execution_count": 2,
   "metadata": {},
   "outputs": [],
   "source": [
    "def get_field(full_results,study):\n",
    "    \"\"\"\n",
    "    Retrieve the value of the field that provided the tolerance of the options\n",
    "    \"\"\"\n",
    "    tol=full_results['options']['atol']\n",
    "    field=full_results[study]['alpha_convergence']\n",
    "    if field is not None: field=field[0]['f']\n",
    "    return tol,field\n",
    "def alpha_is_reliable(full_results,study):\n",
    "    \"\"\"\n",
    "    Provide a boolean stating if the given study has a reliable statical polarizability\n",
    "    \"\"\"\n",
    "    tol,field=get_field(full_results,study)\n",
    "    if field is None or field == 0.0001: return False\n",
    "    return True\n",
    "\n",
    "def study_matches(study,key):\n",
    "    \"\"\"\n",
    "    Returns the rest of the tuple of the study\n",
    "    \"\"\"\n",
    "    #case of a string\n",
    "    if type(key) == type('a'): return [i for i in study if i != key]\n",
    "    #case of a tuple\n",
    "    return [i for i in study if i not in list(key)]\n",
    "\n",
    "def get_result(full_results,study,key):\n",
    "    null=(None,None,None)\n",
    "    if study == 'options' or not alpha_is_reliable(full_results,study): return null\n",
    "    dataname=study_matches(study,key)\n",
    "    th=2 if type(key) == type('a') else 3-len(key)\n",
    "    if len(dataname)> th: return null\n",
    "    result=full_results[study]['alpha_convergence']\n",
    "    tol,field=get_field(full_results,study)\n",
    "    return result,dataname,field\n",
    "\n",
    "def reformat_result(full_results,key):\n",
    "    \"\"\"\n",
    "    Works with a name of a (psp) as key\n",
    "    \"\"\"\n",
    "    res={}\n",
    "    import numpy\n",
    "    for study in full_results:\n",
    "        result,dataname,field = get_result(full_results,study,key)\n",
    "        if result is None: continue\n",
    "        alpha=numpy.array(result[1])#*AuToA\n",
    "        st=tuple(dataname)\n",
    "        mol=st[0]\n",
    "        xc=st[1] if st[1] != 'lda_pw' else 'lda-SPW92'\n",
    "        res.setdefault(mol,{})\n",
    "        res[mol].update({xc:alpha,xc+'-f':field})\n",
    "    return res"
   ]
  },
  {
   "cell_type": "code",
   "execution_count": 3,
   "metadata": {},
   "outputs": [],
   "source": [
    "full_results = yaml.load(open('Calculations/full_results.yaml'))"
   ]
  },
  {
   "cell_type": "markdown",
   "metadata": {},
   "source": [
    "Reformat the results in terms of the psp. In this way only the studies with converged results are considered."
   ]
  },
  {
   "cell_type": "code",
   "execution_count": 39,
   "metadata": {},
   "outputs": [],
   "source": [
    "BG_data={}\n",
    "for psp in ['hgh_k','nlcc_aw','nlcc_ss']:\n",
    "    BG_data[psp]=reformat_result(full_results,(psp))"
   ]
  },
  {
   "cell_type": "markdown",
   "metadata": {},
   "source": [
    "## PSP = hgh_k"
   ]
  },
  {
   "cell_type": "code",
   "execution_count": 40,
   "metadata": {},
   "outputs": [],
   "source": [
    "BG_data_hgh_k = BG_data['hgh_k']"
   ]
  },
  {
   "cell_type": "code",
   "execution_count": 41,
   "metadata": {},
   "outputs": [],
   "source": [
    "molecules_bg = list(BG_data_hgh_k.keys())"
   ]
  },
  {
   "cell_type": "code",
   "execution_count": 42,
   "metadata": {},
   "outputs": [],
   "source": [
    "table_nsp = [[] for line in range(len(molecule_nsp)+1)]\n",
    "table_sp = [[] for line in range(len(molecule_sp)+1)]"
   ]
  },
  {
   "cell_type": "code",
   "execution_count": 43,
   "metadata": {},
   "outputs": [],
   "source": [
    "table_nsp[0] = ['mol','lda','pbe','pbe0','f']\n",
    "table_sp[0] = ['mol','lda','pbe','pbe0','f']"
   ]
  },
  {
   "cell_type": "code",
   "execution_count": 44,
   "metadata": {},
   "outputs": [
    {
     "data": {
      "text/plain": [
       "{'lda-SPW92': array([12.628823, 12.628823, 15.86413 ]),\n",
       " 'lda-SPW92-f': 0.005,\n",
       " 'pbe': array([12.509689 , 12.509689 , 15.9052996]),\n",
       " 'pbe-f': 0.005,\n",
       " 'pbe0': array([12.010789, 12.010789, 15.320584]),\n",
       " 'pbe0-f': 0.005}"
      ]
     },
     "execution_count": 44,
     "metadata": {},
     "output_type": "execute_result"
    }
   ],
   "source": [
    "BG_data_hgh_k['CO']"
   ]
  },
  {
   "cell_type": "code",
   "execution_count": 45,
   "metadata": {},
   "outputs": [],
   "source": [
    "def format_decimal(ll):\n",
    "    if ll == 0.: return ''\n",
    "    out = [ '%.3f' % elem for elem in ll ]\n",
    "    out = [float(elem) for elem in out]\n",
    "    return out\n",
    "\n",
    "for ind,mol in enumerate(molecule_nsp):\n",
    "    lda_bg = 0.\n",
    "    pbe_bg = 0.\n",
    "    pbe0_bg = 0.\n",
    "    f_int = 0.\n",
    "    if mol in molecules_bg:\n",
    "        lda_bg = list(BG_data_hgh_k[mol]['lda-SPW92'])\n",
    "        pbe_bg = list(BG_data_hgh_k[mol]['pbe'])\n",
    "        pbe0_bg = list(BG_data_hgh_k[mol]['pbe0'])\n",
    "        f_int = BG_data_hgh_k[mol]['lda-SPW92-f']\n",
    "    table_nsp[ind+1] = [mol,format_decimal(lda_bg),format_decimal(pbe_bg),format_decimal(pbe0_bg),f_int]\n",
    "\n",
    "for ind,mol in enumerate(molecule_sp):\n",
    "    lda_bg = 0.\n",
    "    pbe_bg = 0.\n",
    "    pbe0_bg = 0.\n",
    "    f_int = 0.\n",
    "    if mol in molecules_bg:\n",
    "        if 'lda-SPW92' in BG_data_hgh_k[mol]:\n",
    "            lda_bg = list(BG_data_hgh_k[mol]['lda-SPW92'])\n",
    "            f_int = BG_data_hgh_k[mol]['lda-SPW92-f']\n",
    "        if 'pbe' in BG_data_hgh_k[mol]:\n",
    "            pbe_bg = list(BG_data_hgh_k[mol]['pbe'])\n",
    "        if 'pbe0' in BG_data_hgh_k[mol]:\n",
    "            pbe0_bg = list(BG_data_hgh_k[mol]['pbe0'])\n",
    "    table_sp[ind+1] = [mol,format_decimal(lda_bg),format_decimal(pbe_bg),format_decimal(pbe0_bg),f_int]\n"
   ]
  },
  {
   "cell_type": "code",
   "execution_count": 47,
   "metadata": {
    "scrolled": false
   },
   "outputs": [
    {
     "name": "stdout",
     "output_type": "stream",
     "text": [
      "\\begin{tabular}{lllll}\n",
      "\\hline\n",
      " mol     & lda                         & pbe                         & pbe0                        & f     \\\\\n",
      " BH2     & [20.939, 23.8, 21.522]      & [20.32, 22.844, 21.011]     & [19.621, 21.297, 20.13]     & 0.001 \\\\\n",
      " BN      &                             &                             &                             & 0.0   \\\\\n",
      " BO      & [16.546, 16.546, 20.359]    & [16.366, 16.366, 20.299]    & [15.508, 15.508, 19.037]    & 0.005 \\\\\n",
      " BS      & [31.19, 31.19, 44.713]      & [30.862, 30.862, 44.372]    & [29.991, 29.991, 43.046]    & 0.001 \\\\\n",
      " Be      & [43.868, 43.868, 43.868]    & [42.874, 42.874, 42.874]    & [42.935, 42.935, 42.935]    & 0.001 \\\\\n",
      " BeH     & [38.644, 38.644, 29.041]    &                             & [37.67, 37.67, 27.477]      & 0.001 \\\\\n",
      " C2H     & [25.405, 25.405, 27.946]    &                             & [21.92, 21.92, 27.154]      & 0.001 \\\\\n",
      " C2H3    & [25.209, 36.519, 22.691]    & [24.746, 36.035, 22.545]    & [23.644, 34.913, 21.844]    & 0.001 \\\\\n",
      " CH2-t   &                             &                             &                             & 0.0   \\\\\n",
      " CH2F    & [17.485, 18.998, 17.183]    & [16.997, 18.776, 16.97]     & [15.54, 17.559, 16.037]     & 0.001 \\\\\n",
      " CH2NH   & [23.353, 18.024, 30.599]    & [23.204, 17.913, 30.518]    & [22.095, 17.331, 29.46]     & 0.005 \\\\\n",
      " CH2PH   & [53.139, 34.684, 40.253]    & [53.024, 34.532, 39.81]     & [52.411, 33.933, 38.768]    & 0.005 \\\\\n",
      " CH3     & [17.221, 17.221, 18.146]    & [16.864, 16.863, 17.432]    & [16.152, 16.152, 16.168]    & 0.001 \\\\\n",
      " CH3O    &                             &                             &                             & 0.0   \\\\\n",
      " CN      & [17.129, 17.129, 27.131]    & [17.878, 17.878, 27.328]    & [18.438, 18.438, 26.451]    & 0.01  \\\\\n",
      " F2      & [7.02, 7.02, 12.722]        & [7.044, 7.044, 12.939]      & [6.497, 6.497, 13.044]      & 0.01  \\\\\n",
      " FCO     & [23.717, 17.706, 14.897]    & [23.821, 17.852, 14.805]    & [22.5, 16.667, 13.92]       & 0.005 \\\\\n",
      " FH-OH   &                             &                             &                             & 0.0   \\\\\n",
      " H       & [6.06, 6.06, 6.06]          & [5.57, 5.57, 5.57]          & [5.222, 5.222, 5.222]       & 0.001 \\\\\n",
      " H2CN    & [16.241, 20.327, 26.773]    & [16.109, 20.036, 26.415]    & [15.549, 19.041, 25.268]    & 0.005 \\\\\n",
      " H2O-Li  &                             &                             &                             & 0.0   \\\\\n",
      " HCHS    & [27.418, 33.299, 46.661]    & [27.289, 33.131, 46.599]    & [26.766, 31.785, 45.796]    & 0.001 \\\\\n",
      " HCO     & [19.453, 20.604, 14.002]    & [19.459, 20.802, 13.865]    & [18.117, 20.101, 13.246]    & 0.001 \\\\\n",
      " HCP     & [31.337, 31.337, 48.034]    & [31.303, 31.303, 48.082]    & [30.693, 30.693, 47.396]    & 0.005 \\\\\n",
      " HNO     & [11.458, 17.641, 20.03]     & [11.384, 17.681, 20.133]    & [10.933, 16.055, 19.195]    & 0.001 \\\\\n",
      " HNS     & [39.989, 29.633, 23.601]    & [40.05, 29.564, 23.511]     & [39.132, 27.902, 22.929]    & 0.001 \\\\\n",
      " HO2     & [12.887, 19.053, 10.613]    & [12.922, 19.314, 10.597]    & [11.909, 18.545, 10.005]    & 0.005 \\\\\n",
      " HOF     & [11.106, 10.087, 15.756]    & [11.141, 10.085, 15.976]    & [10.4, 9.215, 15.809]       & 0.005 \\\\\n",
      " Li      & [145.386, 145.386, 145.386] & [142.159, 142.159, 142.159] & [150.03, 150.03, 150.03]    & 0.001 \\\\\n",
      " Li2     &                             &                             &                             & 0.0   \\\\\n",
      " N       & [8.182, 8.182, 8.182]       & [8.388, 8.388, 8.388]       & [7.863, 7.863, 7.863]       & 0.005 \\\\\n",
      " N2H2    & [25.66, 14.772, 21.334]     & [25.665, 14.631, 21.276]    & [24.471, 14.137, 19.936]    & 0.001 \\\\\n",
      " NCO     & [15.997, 15.997, 33.183]    & [15.94, 15.94, 33.167]      & [15.49, 15.49, 32.335]      & 0.01  \\\\\n",
      " NH      & [9.992, 9.992, 12.775]      & [9.937, 9.937, 12.551]      & [9.329, 9.329, 11.822]      & 0.005 \\\\\n",
      " NH2     & [11.818, 13.586, 14.717]    & [11.494, 13.47, 14.52]      & [10.808, 12.837, 13.424]    & 0.001 \\\\\n",
      " NO      & [9.832, 9.832, 16.064]      & [9.782, 9.782, 16.222]      & [9.354, 9.354, 15.466]      & 0.01  \\\\\n",
      " NOCl    & [33.623, 47.534, 23.795]    & [33.576, 47.376, 23.726]    & [32.454, 46.209, 22.959]    & 0.005 \\\\\n",
      " NP      & [24.737, 24.737, 37.662]    & [24.775, 24.775, 37.78]     & [24.188, 24.188, 36.654]    & 0.005 \\\\\n",
      " Na      & [139.544, 139.544, 139.544] & [160.724, 160.724, 160.724] & [167.63, 167.63, 167.63]    & 0.001 \\\\\n",
      " Na2     & [186.29, 186.29, 337.972]   & [197.139, 197.139, 334.532] & [204.437, 204.437, 339.576] & 0.001 \\\\\n",
      " NaLi    & [179.155, 179.155, 309.137] & [182.413, 182.413, 302.731] & [185.699, 185.699, 300.326] & 0.001 \\\\\n",
      " O2      & [8.672, 8.672, 15.597]      & [8.711, 8.711, 15.863]      & [8.276, 8.276, 15.795]      & 0.01  \\\\\n",
      " O3      & [12.356, 31.273, 15.013]    & [12.375, 31.576, 15.087]    & [11.865, 31.806, 14.114]    & 0.01  \\\\\n",
      " OCl     & [17.171, 17.171, 29.092]    & [17.185, 17.185, 29.234]    & [16.611, 16.611, 28.477]    & 0.005 \\\\\n",
      " OF      & [7.999, 7.999, 14.584]      & [7.979, 7.979, 14.628]      & [7.494, 7.494, 13.916]      & 0.01  \\\\\n",
      " OF2     & [10.701, 21.142, 14.048]    & [10.707, 21.295, 14.142]    & [9.903, 20.441, 13.579]     & 0.01  \\\\\n",
      " OH      &                             &                             &                             & 0.0   \\\\\n",
      " P       & [27.866, 27.866, 27.866]    & [27.89, 27.89, 27.89]       & [26.702, 26.702, 26.702]    & 0.005 \\\\\n",
      " P2      & [41.239, 41.239, 70.405]    & [41.101, 41.101, 70.414]    & [40.612, 40.612, 69.396]    & 0.001 \\\\\n",
      " PH      & [28.806, 28.806, 31.754]    & [28.559, 28.559, 31.235]    & [27.455, 27.455, 30.278]    & 0.001 \\\\\n",
      " PH2     & [29.782, 31.712, 32.862]    & [29.219, 31.175, 32.258]    & [28.206, 30.39, 31.204]     & 0.001 \\\\\n",
      " PS      &                             &                             & [34.852, 34.852, 63.21]     & 0.0   \\\\\n",
      " S2      & [32.943, 32.943, 59.304]    & [32.831, 32.831, 59.546]    & [31.754, 31.754, 59.234]    & 0.005 \\\\\n",
      " SCl     & [29.333, 29.333, 51.53]     & [29.112, 29.112, 51.304]    & [28.028, 28.028, 49.362]    & 0.005 \\\\\n",
      " SF      & [20.875, 20.875, 25.888]    & [20.765, 20.765, 25.899]    & [19.686, 19.686, 24.654]    & 0.005 \\\\\n",
      " SH      & [21.104, 21.104, 24.947]    & [20.844, 20.844, 24.671]    & [20.023, 20.023, 23.858]    & 0.005 \\\\\n",
      " SO-trip &                             &                             &                             & 0.0   \\\\\n",
      " SiH3    & [36.48, 36.48, 37.102]      & [35.637, 35.637, 36.04]     & [34.469, 34.469, 34.354]    & 0.001 \\\\\n",
      "\\hline\n",
      "\\end{tabular}\n"
     ]
    }
   ],
   "source": [
    "print(tabulate(table_sp, tablefmt=\"latex\"))"
   ]
  },
  {
   "cell_type": "markdown",
   "metadata": {},
   "source": [
    "## PSP = nlcc_aw"
   ]
  },
  {
   "cell_type": "code",
   "execution_count": 70,
   "metadata": {},
   "outputs": [],
   "source": [
    "BG_data_nlcc_aw = BG_data['nlcc_aw']"
   ]
  },
  {
   "cell_type": "code",
   "execution_count": 71,
   "metadata": {},
   "outputs": [],
   "source": [
    "molecules_bg = list(BG_data_nlcc_aw.keys())"
   ]
  },
  {
   "cell_type": "code",
   "execution_count": 72,
   "metadata": {},
   "outputs": [],
   "source": [
    "table_nsp = [[] for line in range(len(molecule_nsp)+1)]\n",
    "table_sp = [[] for line in range(len(molecule_sp)+1)]"
   ]
  },
  {
   "cell_type": "code",
   "execution_count": 73,
   "metadata": {},
   "outputs": [],
   "source": [
    "table_nsp[0] = ['mol','pbe','f']\n",
    "table_sp[0] = ['mol','pbe','f']"
   ]
  },
  {
   "cell_type": "code",
   "execution_count": 74,
   "metadata": {},
   "outputs": [
    {
     "data": {
      "text/plain": [
       "{'pbe': array([12.540766, 12.540766, 15.889695]), 'pbe-f': 0.005}"
      ]
     },
     "execution_count": 74,
     "metadata": {},
     "output_type": "execute_result"
    }
   ],
   "source": [
    "BG_data_nlcc_aw['CO']"
   ]
  },
  {
   "cell_type": "code",
   "execution_count": 75,
   "metadata": {},
   "outputs": [],
   "source": [
    "def format_decimal(ll):\n",
    "    if ll == 0.: return ''\n",
    "    out = [ '%.3f' % elem for elem in ll ]\n",
    "    out = [float(elem) for elem in out]\n",
    "    return out\n",
    "\n",
    "for ind,mol in enumerate(molecule_nsp):\n",
    "    pbe_bg = 0.\n",
    "    f_int = 0.\n",
    "    if mol in molecules_bg:\n",
    "        pbe_bg = list(BG_data_nlcc_aw[mol]['pbe'])\n",
    "        f_int = BG_data_nlcc_aw[mol]['pbe-f']\n",
    "    table_nsp[ind+1] = [mol,format_decimal(pbe_bg),f_int]\n",
    "\n",
    "for ind,mol in enumerate(molecule_sp):\n",
    "    pbe_bg = 0.\n",
    "    f_int = 0.\n",
    "    if mol in molecules_bg:\n",
    "        pbe_bg = list(BG_data_nlcc_aw[mol]['pbe'])\n",
    "        f_int = BG_data_nlcc_aw[mol]['pbe-f']\n",
    "    table_sp[ind+1] = [mol,format_decimal(pbe_bg),f_int]\n"
   ]
  },
  {
   "cell_type": "code",
   "execution_count": 78,
   "metadata": {
    "scrolled": false
   },
   "outputs": [
    {
     "name": "stdout",
     "output_type": "stream",
     "text": [
      "\\begin{tabular}{lll}\n",
      "\\hline\n",
      " mol     & pbe                      & f     \\\\\n",
      " BH2     & [20.521, 23.362, 21.212] & 0.001 \\\\\n",
      " BN      &                          & 0.0   \\\\\n",
      " BO      & [16.484, 16.484, 20.454] & 0.005 \\\\\n",
      " BS      & [30.832, 30.832, 44.48]  & 0.001 \\\\\n",
      " Be      &                          & 0.0   \\\\\n",
      " BeH     &                          & 0.0   \\\\\n",
      " C2H     & [26.748, 26.748, 27.886] & 0.001 \\\\\n",
      " C2H3    & [24.956, 36.174, 22.577] & 0.001 \\\\\n",
      " CH2-t   &                          & 0.0   \\\\\n",
      " CH2F    & [17.535, 18.918, 17.097] & 0.001 \\\\\n",
      " CH2NH   & [23.188, 17.896, 30.398] & 0.005 \\\\\n",
      " CH2PH   & [52.856, 34.469, 39.726] & 0.005 \\\\\n",
      " CH3     & [16.981, 16.98, 18.054]  & 0.001 \\\\\n",
      " CH3O    &                          & 0.0   \\\\\n",
      " CN      & [17.351, 17.351, 26.832] & 0.01  \\\\\n",
      " F2      & [7.044, 7.044, 12.796]   & 0.01  \\\\\n",
      " FCO     & [23.785, 17.815, 14.875] & 0.005 \\\\\n",
      " FH-OH   &                          & 0.0   \\\\\n",
      " H       & [5.569, 5.569, 5.569]    & 0.001 \\\\\n",
      " H2CN    & [16.129, 20.166, 26.607] & 0.005 \\\\\n",
      " H2O-Li  &                          & 0.0   \\\\\n",
      " HCHS    & [27.192, 32.961, 46.345] & 0.001 \\\\\n",
      " HCO     & [19.589, 20.674, 13.925] & 0.001 \\\\\n",
      " HCP     & [31.242, 31.242, 47.973] & 0.005 \\\\\n",
      " HNO     & [11.381, 17.76, 20.09]   & 0.001 \\\\\n",
      " HNS     & [39.895, 29.446, 23.458] & 0.001 \\\\\n",
      " HO2     & [12.961, 19.179, 10.613] & 0.005 \\\\\n",
      " HOF     & [11.128, 10.125, 15.816] & 0.005 \\\\\n",
      " Li      &                          & 0.0   \\\\\n",
      " Li2     &                          & 0.0   \\\\\n",
      " N       & [8.349, 8.349, 8.349]    & 0.005 \\\\\n",
      " N2H2    & [25.6, 14.626, 21.296]   & 0.001 \\\\\n",
      " NCO     & [15.945, 15.945, 33.152] & 0.01  \\\\\n",
      " NH      & [9.99, 9.99, 12.58]      & 0.005 \\\\\n",
      " NH2     & [11.643, 13.469, 14.525] & 0.001 \\\\\n",
      " NO      & [9.816, 9.816, 16.256]   & 0.01  \\\\\n",
      " NOCl    & [33.448, 47.231, 23.619] & 0.005 \\\\\n",
      " NP      & [24.742, 24.742, 37.743] & 0.005 \\\\\n",
      " Na      &                          & 0.0   \\\\\n",
      " Na2     &                          & 0.0   \\\\\n",
      " NaLi    &                          & 0.0   \\\\\n",
      " O2      & [8.723, 8.723, 15.67]    & 0.01  \\\\\n",
      " O3      & [12.37, 31.455, 15.111]  & 0.01  \\\\\n",
      " OCl     & [17.072, 17.072, 29.037] & 0.005 \\\\\n",
      " OF      & [8.0, 8.0, 14.623]       & 0.01  \\\\\n",
      " OF2     & [10.733, 21.193, 14.079] & 0.01  \\\\\n",
      " OH      &                          & 0.0   \\\\\n",
      " P       & [27.786, 27.786, 27.786] & 0.005 \\\\\n",
      " P2      & [41.072, 41.072, 70.386] & 0.005 \\\\\n",
      " PH      & [28.467, 28.467, 31.22]  & 0.001 \\\\\n",
      " PH2     & [29.247, 31.16, 32.235]  & 0.001 \\\\\n",
      " PS      &                          & 0.0   \\\\\n",
      " S2      & [32.681, 32.681, 59.238] & 0.005 \\\\\n",
      " SCl     & [29.009, 29.009, 51.042] & 0.005 \\\\\n",
      " SF      & [20.753, 20.753, 25.885] & 0.005 \\\\\n",
      " SH      & [20.837, 20.837, 24.621] & 0.005 \\\\\n",
      " SO-trip &                          & 0.0   \\\\\n",
      " SiH3    & [35.67, 35.67, 36.173]   & 0.001 \\\\\n",
      "\\hline\n",
      "\\end{tabular}\n"
     ]
    }
   ],
   "source": [
    "print(tabulate(table_sp, tablefmt=\"latex\"))"
   ]
  },
  {
   "cell_type": "markdown",
   "metadata": {},
   "source": [
    "## PSP = nlcc_ss"
   ]
  },
  {
   "cell_type": "code",
   "execution_count": 84,
   "metadata": {},
   "outputs": [],
   "source": [
    "BG_data_nlcc_ss = BG_data['nlcc_ss']"
   ]
  },
  {
   "cell_type": "code",
   "execution_count": 85,
   "metadata": {},
   "outputs": [],
   "source": [
    "molecules_bg = list(BG_data_nlcc_ss.keys())"
   ]
  },
  {
   "cell_type": "code",
   "execution_count": 86,
   "metadata": {},
   "outputs": [],
   "source": [
    "table_nsp = [[] for line in range(len(molecule_nsp)+1)]\n",
    "table_sp = [[] for line in range(len(molecule_sp)+1)]"
   ]
  },
  {
   "cell_type": "code",
   "execution_count": 87,
   "metadata": {},
   "outputs": [],
   "source": [
    "table_nsp[0] = ['mol','pbe','f']\n",
    "table_sp[0] = ['mol','pbe','f']"
   ]
  },
  {
   "cell_type": "code",
   "execution_count": 88,
   "metadata": {},
   "outputs": [
    {
     "data": {
      "text/plain": [
       "{'pbe': array([12.52568 , 12.52568 , 15.922475]), 'pbe-f': 0.005}"
      ]
     },
     "execution_count": 88,
     "metadata": {},
     "output_type": "execute_result"
    }
   ],
   "source": [
    "BG_data_nlcc_ss['CO']"
   ]
  },
  {
   "cell_type": "code",
   "execution_count": 89,
   "metadata": {},
   "outputs": [],
   "source": [
    "def format_decimal(ll):\n",
    "    if ll == 0.: return ''\n",
    "    out = [ '%.3f' % elem for elem in ll ]\n",
    "    out = [float(elem) for elem in out]\n",
    "    return out\n",
    "\n",
    "for ind,mol in enumerate(molecule_nsp):\n",
    "    pbe_bg = 0.\n",
    "    f_int = 0.\n",
    "    if mol in molecules_bg:\n",
    "        pbe_bg = list(BG_data_nlcc_ss[mol]['pbe'])\n",
    "        f_int = BG_data_nlcc_ss[mol]['pbe-f']\n",
    "    table_nsp[ind+1] = [mol,format_decimal(pbe_bg),f_int]\n",
    "\n",
    "for ind,mol in enumerate(molecule_sp):\n",
    "    pbe_bg = 0.\n",
    "    f_int = 0.\n",
    "    if mol in molecules_bg:\n",
    "        pbe_bg = list(BG_data_nlcc_ss[mol]['pbe'])\n",
    "        f_int = BG_data_nlcc_ss[mol]['pbe-f']\n",
    "    table_sp[ind+1] = [mol,format_decimal(pbe_bg),f_int]\n"
   ]
  },
  {
   "cell_type": "code",
   "execution_count": 91,
   "metadata": {
    "scrolled": false
   },
   "outputs": [
    {
     "name": "stdout",
     "output_type": "stream",
     "text": [
      "\\begin{tabular}{lll}\n",
      "\\hline\n",
      " mol     & pbe                         & f     \\\\\n",
      " BH2     & [20.631, 23.586, 21.288]    & 0.001 \\\\\n",
      " BN      &                             & 0.0   \\\\\n",
      " BO      & [16.549, 16.549, 20.668]    & 0.005 \\\\\n",
      " BS      &                             & 0.0   \\\\\n",
      " Be      & [42.572, 42.572, 42.572]    & 0.001 \\\\\n",
      " BeH     &                             & 0.0   \\\\\n",
      " C2H     & [26.526, 26.526, 27.821]    & 0.001 \\\\\n",
      " C2H3    & [24.902, 36.096, 22.511]    & 0.001 \\\\\n",
      " CH2-t   &                             & 0.0   \\\\\n",
      " CH2F    & [17.532, 18.92, 17.072]     & 0.001 \\\\\n",
      " CH2NH   & [23.133, 17.843, 30.313]    & 0.005 \\\\\n",
      " CH2PH   & [52.765, 34.428, 39.704]    & 0.005 \\\\\n",
      " CH3     & [16.942, 16.941, 18.013]    & 0.001 \\\\\n",
      " CH3O    &                             & 0.0   \\\\\n",
      " CN      & [17.292, 17.292, 26.783]    & 0.01  \\\\\n",
      " F2      & [7.066, 7.066, 12.803]      & 0.01  \\\\\n",
      " FCO     & [23.84, 17.826, 14.878]     & 0.005 \\\\\n",
      " FH-OH   &                             & 0.0   \\\\\n",
      " H       & [5.569, 5.569, 5.569]       & 0.001 \\\\\n",
      " H2CN    & [16.088, 20.102, 26.557]    & 0.005 \\\\\n",
      " H2O-Li  &                             & 0.0   \\\\\n",
      " HCHS    &                             & 0.0   \\\\\n",
      " HCO     & [19.563, 20.688, 13.925]    & 0.001 \\\\\n",
      " HCP     & [31.203, 31.203, 47.9]      & 0.005 \\\\\n",
      " HNO     & [11.365, 17.796, 20.108]    & 0.001 \\\\\n",
      " HNS     &                             & 0.0   \\\\\n",
      " HO2     & [12.969, 19.224, 10.604]    & 0.005 \\\\\n",
      " HOF     & [11.138, 10.131, 15.822]    & 0.005 \\\\\n",
      " Li      & [145.915, 145.915, 145.915] & 0.001 \\\\\n",
      " Li2     &                             & 0.0   \\\\\n",
      " N       & [8.341, 8.341, 8.341]       & 0.005 \\\\\n",
      " N2H2    & [25.56, 14.591, 21.293]     & 0.001 \\\\\n",
      " NCO     & [15.895, 15.895, 33.207]    & 0.01  \\\\\n",
      " NH      & [9.953, 9.953, 12.571]      & 0.005 \\\\\n",
      " NH2     & [11.579, 13.431, 14.511]    & 0.001 \\\\\n",
      " NO      & [9.802, 9.802, 16.308]      & 0.01  \\\\\n",
      " NOCl    & [33.506, 47.303, 23.62]     & 0.005 \\\\\n",
      " NP      & [24.716, 24.716, 37.762]    & 0.005 \\\\\n",
      " Na      &                             & 0.0   \\\\\n",
      " Na2     &                             & 0.0   \\\\\n",
      " NaLi    &                             & 0.0   \\\\\n",
      " O2      & [8.724, 8.724, 15.747]      & 0.01  \\\\\n",
      " O3      & [12.375, 31.558, 15.157]    & 0.01  \\\\\n",
      " OCl     & [17.078, 17.078, 29.078]    & 0.005 \\\\\n",
      " OF      & [8.001, 8.001, 14.649]      & 0.01  \\\\\n",
      " OF2     & [10.763, 21.256, 14.124]    & 0.01  \\\\\n",
      " OH      &                             & 0.0   \\\\\n",
      " P       & [27.828, 27.828, 27.828]    & 0.005 \\\\\n",
      " P2      & [41.055, 41.055, 70.366]    & 0.005 \\\\\n",
      " PH      & [28.488, 28.488, 31.227]    & 0.001 \\\\\n",
      " PH2     & [29.247, 31.173, 32.244]    & 0.001 \\\\\n",
      " PS      &                             & 0.0   \\\\\n",
      " S2      &                             & 0.0   \\\\\n",
      " SCl     &                             & 0.0   \\\\\n",
      " SF      &                             & 0.0   \\\\\n",
      " SH      &                             & 0.0   \\\\\n",
      " SO-trip &                             & 0.0   \\\\\n",
      " SiH3    & [35.704, 35.704, 36.192]    & 0.001 \\\\\n",
      "\\hline\n",
      "\\end{tabular}\n"
     ]
    }
   ],
   "source": [
    "print(tabulate(table_sp, tablefmt=\"latex\"))"
   ]
  },
  {
   "cell_type": "code",
   "execution_count": null,
   "metadata": {},
   "outputs": [],
   "source": []
  },
  {
   "cell_type": "code",
   "execution_count": null,
   "metadata": {},
   "outputs": [],
   "source": []
  },
  {
   "cell_type": "code",
   "execution_count": null,
   "metadata": {},
   "outputs": [],
   "source": []
  },
  {
   "cell_type": "code",
   "execution_count": null,
   "metadata": {},
   "outputs": [],
   "source": []
  },
  {
   "cell_type": "code",
   "execution_count": null,
   "metadata": {},
   "outputs": [],
   "source": []
  }
 ],
 "metadata": {
  "kernelspec": {
   "display_name": "Python 3",
   "language": "python",
   "name": "python3"
  },
  "language_info": {
   "codemirror_mode": {
    "name": "ipython",
    "version": 3
   },
   "file_extension": ".py",
   "mimetype": "text/x-python",
   "name": "python",
   "nbconvert_exporter": "python",
   "pygments_lexer": "ipython3",
   "version": "3.6.8"
  }
 },
 "nbformat": 4,
 "nbformat_minor": 2
}
