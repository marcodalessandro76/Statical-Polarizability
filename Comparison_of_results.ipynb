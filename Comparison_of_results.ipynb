{
 "cells": [
  {
   "cell_type": "markdown",
   "metadata": {},
   "source": [
    "This nb is written in python3. The nb has to be run WITHOUT the source of the BigDFT package, otherwise the import yaml gives rise to a conflict."
   ]
  },
  {
   "cell_type": "markdown",
   "metadata": {},
   "source": [
    "# Comparison of results"
   ]
  },
  {
   "cell_type": "code",
   "execution_count": 1,
   "metadata": {},
   "outputs": [],
   "source": [
    "import yaml\n",
    "import numpy as np\n",
    "AuToA = 0.5291772085**3"
   ]
  },
  {
   "cell_type": "markdown",
   "metadata": {},
   "source": [
    "## Load the BG and the refernce data"
   ]
  },
  {
   "cell_type": "code",
   "execution_count": 2,
   "metadata": {},
   "outputs": [],
   "source": [
    "# Functions to rearrange the BG data using the psp as the leading parameter\n",
    "def get_field(full_results,study):\n",
    "    \"\"\"\n",
    "    Retrieve the value of the field that provided the tolerance of the options\n",
    "    \"\"\"\n",
    "    tol=full_results['options']['atol']\n",
    "    field=full_results[study]['alpha_convergence']\n",
    "    if field is not None: field=field[0]['f']\n",
    "    return tol,field\n",
    "def alpha_is_reliable(full_results,study):\n",
    "    \"\"\"\n",
    "    Provide a boolean stating if the given study has a reliable statical polarizability\n",
    "    \"\"\"\n",
    "    tol,field=get_field(full_results,study)\n",
    "    if field is None or field == 0.0001: return False\n",
    "    return True\n",
    "\n",
    "def study_matches(study,key):\n",
    "    \"\"\"\n",
    "    Returns the rest of the tuple of the study\n",
    "    \"\"\"\n",
    "    #case of a string\n",
    "    if type(key) == type('a'): return [i for i in study if i != key]\n",
    "    #case of a tuple\n",
    "    return [i for i in study if i not in list(key)]\n",
    "\n",
    "def get_result(full_results,study,key):\n",
    "    null=(None,None,None)\n",
    "    if study == 'options' or not alpha_is_reliable(full_results,study): return null\n",
    "    dataname=study_matches(study,key)\n",
    "    th=2 if type(key) == type('a') else 3-len(key)\n",
    "    if len(dataname)> th: return null\n",
    "    result=full_results[study]['alpha_convergence']\n",
    "    tol,field=get_field(full_results,study)\n",
    "    return result,dataname,field\n",
    "\n",
    "def reformat_result(full_results,key):\n",
    "    \"\"\"\n",
    "    Works with a name of a (psp) as key\n",
    "    \"\"\"\n",
    "    res={}\n",
    "    import numpy\n",
    "    for study in full_results:\n",
    "        result,dataname,field = get_result(full_results,study,key)\n",
    "        if result is None: continue\n",
    "        alpha=numpy.array(result[1])#*AuToA\n",
    "        st=tuple(dataname)\n",
    "        mol=st[0]\n",
    "        xc=st[1] if st[1] != 'lda_pw' else 'lda-SPW92'\n",
    "        res.setdefault(mol,{})\n",
    "        res[mol].update({xc:alpha,xc+'-f':field})\n",
    "    return res"
   ]
  },
  {
   "cell_type": "code",
   "execution_count": 89,
   "metadata": {},
   "outputs": [],
   "source": [
    "HG_data=yaml.load(open('HG Dataset/hg_data.yaml'))\n",
    "HG_data['H']['spin_pol'] = 'sp'\n",
    "\n",
    "MWdata=yaml.load(open('mw_data_0001v2.yaml'))\n",
    "MW_data={mol:{xcref: MWdata[mol][xc]['diagonal'] \\\n",
    "              for xcref,xc in [('lda-SPW92','lda'),('pbe','pbe')]} for mol in MWdata}\n",
    "\n",
    "full_results = yaml.load(open('Calculations/full_results.yaml'))\n",
    "\n",
    "BG_data={}\n",
    "for psp in ['hgh_k','nlcc_aw','nlcc_ss']:\n",
    "    BG_data[psp]=reformat_result(full_results,(psp))"
   ]
  },
  {
   "cell_type": "markdown",
   "metadata": {},
   "source": [
    "Define the list of the nsp and sp molecules used the attribution made in HG dataset"
   ]
  },
  {
   "cell_type": "code",
   "execution_count": 90,
   "metadata": {},
   "outputs": [],
   "source": [
    "molecule_nsp = []\n",
    "molecule_sp = []\n",
    "for mol in HG_data:\n",
    "    if HG_data[mol]['spin_pol'] == 'nsp' : molecule_nsp.append(mol)\n",
    "    if HG_data[mol]['spin_pol'] == 'sp' : molecule_sp.append(mol)\n",
    "molecule_nsp = sorted(molecule_nsp)\n",
    "molecule_sp = sorted(molecule_sp)"
   ]
  },
  {
   "cell_type": "code",
   "execution_count": 91,
   "metadata": {},
   "outputs": [],
   "source": [
    "# Routines to compute the errors\n",
    "def relative_error(alpha,alpha_ref):\n",
    "    \"\"\"\n",
    "    Provide the relative error\n",
    "    \"\"\"\n",
    "    alpha_ref = np.array(alpha_ref)/AuToA\n",
    "    return 100.0*(alpha-alpha_ref)/alpha_ref\n"
   ]
  },
  {
   "cell_type": "markdown",
   "metadata": {},
   "source": [
    "## PSP = hgh_k"
   ]
  },
  {
   "cell_type": "code",
   "execution_count": 92,
   "metadata": {},
   "outputs": [],
   "source": [
    "data = BG_data['hgh_k']\n",
    "molecule_bg = list(data.keys())\n",
    "ref = MW_data\n",
    "molecule_ref = list(ref.keys())"
   ]
  },
  {
   "cell_type": "code",
   "execution_count": 93,
   "metadata": {},
   "outputs": [
    {
     "data": {
      "text/plain": [
       "{'lda-SPW92': array([ 9.832377 ,  9.832377 , 16.0643035]),\n",
       " 'lda-SPW92-f': 0.01,\n",
       " 'pbe': array([ 9.7822495,  9.7822495, 16.222198 ]),\n",
       " 'pbe-f': 0.01,\n",
       " 'pbe0': array([ 9.3536805,  9.3536805, 15.465535 ]),\n",
       " 'pbe0-f': 0.01}"
      ]
     },
     "execution_count": 93,
     "metadata": {},
     "output_type": "execute_result"
    }
   ],
   "source": [
    "data['NO']"
   ]
  },
  {
   "cell_type": "code",
   "execution_count": 94,
   "metadata": {},
   "outputs": [
    {
     "data": {
      "text/plain": [
       "array([ 9.77822692, 11.34321721, 16.17884364])"
      ]
     },
     "execution_count": 94,
     "metadata": {},
     "output_type": "execute_result"
    }
   ],
   "source": [
    "np.array(ref['no']['pbe'])/AuToA"
   ]
  },
  {
   "cell_type": "markdown",
   "metadata": {},
   "source": [
    "Some molecules are completely absent (but in some other cases converged is reached only for some of the xc)"
   ]
  },
  {
   "cell_type": "code",
   "execution_count": 82,
   "metadata": {},
   "outputs": [
    {
     "name": "stdout",
     "output_type": "stream",
     "text": [
      "BN\n",
      "CH3O\n",
      "FH-OH\n",
      "H2O-Li\n",
      "Li2\n",
      "OH\n"
     ]
    }
   ],
   "source": [
    "for mol in molecule_nsp+molecule_sp:\n",
    "    if mol not in molecule_bg:\n",
    "        print(mol)"
   ]
  },
  {
   "cell_type": "markdown",
   "metadata": {},
   "source": [
    "If the highest component of the relative error is greater (in modulus) than the 1% print the associated study"
   ]
  },
  {
   "cell_type": "code",
   "execution_count": 84,
   "metadata": {
    "scrolled": false
   },
   "outputs": [
    {
     "name": "stdout",
     "output_type": "stream",
     "text": [
      "HO2 lda-SPW92 [ 8.63374911  4.68361008 -9.76457341]\n",
      "NO lda-SPW92 [  0.20277828 -12.71023128   0.28450784]\n",
      "NaCN lda-SPW92 [-3.47496044 -5.40371794 -1.98253719]\n",
      "NaCl lda-SPW92 [-0.34201838 -0.34201839 -5.37147614]\n",
      "OCl lda-SPW92 [ 0.40699611 -6.74974754  0.60581672]\n",
      "OF lda-SPW92 [ 0.06281782 -6.92652484  0.57052459]\n",
      "SCl lda-SPW92 [ 0.18829126 -8.46693999  0.37214949]\n",
      "SF lda-SPW92 [ -0.19722138 -13.90047307   0.23595501]\n",
      "BeH pbe  not computed\n",
      "C2H pbe  not computed\n",
      "HO2 pbe [  8.64864464   6.45554578 -10.19711305]\n",
      "NO pbe [  0.0411381  -13.7612432    0.26796948]\n",
      "OCl pbe [ 0.47570435 -6.65071455  0.56499067]\n",
      "OF pbe [-0.14140664 -7.30135885  0.37409832]\n",
      "SCl pbe [ 0.12618988 -8.60438528  0.27279803]\n",
      "SF pbe [ -0.25143252 -14.16836186   0.20470377]\n"
     ]
    }
   ],
   "source": [
    "tol = 5.\n",
    "xcs = ['lda-SPW92','pbe']\n",
    "for xc in xcs:\n",
    "    for mol in molecule_bg:\n",
    "        if mol.lower() in molecule_ref:\n",
    "            if xc in data[mol]:\n",
    "                a = data[mol][xc]\n",
    "                a_ref = ref[mol.lower()][xc]\n",
    "                err = relative_error(a,a_ref)\n",
    "                if np.max(np.abs(err)) > tol:\n",
    "                    print(mol,xc,err)\n",
    "            else:\n",
    "                print(mol,xc,' not computed')\n",
    "            "
   ]
  },
  {
   "cell_type": "markdown",
   "metadata": {},
   "source": [
    "For some molecules the error is high only in one direction. Many of the y components are very high!\n",
    "\n",
    "There is something really strange, for instance the posinp of NO is along the z axis why the y error is high and the x one is low?\n"
   ]
  },
  {
   "cell_type": "code",
   "execution_count": null,
   "metadata": {},
   "outputs": [],
   "source": []
  },
  {
   "cell_type": "code",
   "execution_count": null,
   "metadata": {},
   "outputs": [],
   "source": []
  },
  {
   "cell_type": "code",
   "execution_count": null,
   "metadata": {},
   "outputs": [],
   "source": []
  },
  {
   "cell_type": "code",
   "execution_count": null,
   "metadata": {},
   "outputs": [],
   "source": []
  }
 ],
 "metadata": {
  "kernelspec": {
   "display_name": "Python 3",
   "language": "python",
   "name": "python3"
  },
  "language_info": {
   "codemirror_mode": {
    "name": "ipython",
    "version": 3
   },
   "file_extension": ".py",
   "mimetype": "text/x-python",
   "name": "python",
   "nbconvert_exporter": "python",
   "pygments_lexer": "ipython3",
   "version": "3.6.8"
  }
 },
 "nbformat": 4,
 "nbformat_minor": 2
}
