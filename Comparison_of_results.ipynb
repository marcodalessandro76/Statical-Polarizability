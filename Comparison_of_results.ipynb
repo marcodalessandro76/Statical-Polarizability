{
 "cells": [
  {
   "cell_type": "markdown",
   "metadata": {},
   "source": [
    "This nb is written in python3. The nb has to be run WITHOUT the source of the BigDFT package, otherwise the import yaml gives rise to a conflict."
   ]
  },
  {
   "cell_type": "markdown",
   "metadata": {},
   "source": [
    "# Comparison of results"
   ]
  },
  {
   "cell_type": "code",
   "execution_count": 1,
   "metadata": {},
   "outputs": [],
   "source": [
    "import yaml\n",
    "import numpy as np\n",
    "from tabulate import tabulate\n",
    "\n",
    "AuToA = 0.5291772085**3"
   ]
  },
  {
   "cell_type": "markdown",
   "metadata": {},
   "source": [
    "## Load the BG and the refernce data"
   ]
  },
  {
   "cell_type": "code",
   "execution_count": 2,
   "metadata": {},
   "outputs": [],
   "source": [
    "# Functions to rearrange the BG data using the psp as the leading parameter\n",
    "def get_field(full_results,study):\n",
    "    \"\"\"\n",
    "    Retrieve the value of the field that provided the tolerance of the options\n",
    "    \"\"\"\n",
    "    tol=full_results['options']['atol']\n",
    "    field=full_results[study]['alpha_convergence']\n",
    "    if field is not None: field=field[0]['f']\n",
    "    return tol,field\n",
    "def alpha_is_reliable(full_results,study):\n",
    "    \"\"\"\n",
    "    Provide a boolean stating if the given study has a reliable statical polarizability\n",
    "    \"\"\"\n",
    "    tol,field=get_field(full_results,study)\n",
    "    if field is None or field == 0.0001: return False\n",
    "    return True\n",
    "\n",
    "def study_matches(study,key):\n",
    "    \"\"\"\n",
    "    Returns the rest of the tuple of the study\n",
    "    \"\"\"\n",
    "    #case of a string\n",
    "    if type(key) == type('a'): return [i for i in study if i != key]\n",
    "    #case of a tuple\n",
    "    return [i for i in study if i not in list(key)]\n",
    "\n",
    "def get_result(full_results,study,key):\n",
    "    null=(None,None,None)\n",
    "    if study == 'options' or not alpha_is_reliable(full_results,study): return null\n",
    "    dataname=study_matches(study,key)\n",
    "    th=2 if type(key) == type('a') else 3-len(key)\n",
    "    if len(dataname)> th: return null\n",
    "    result=full_results[study]['alpha_convergence']\n",
    "    tol,field=get_field(full_results,study)\n",
    "    return result,dataname,field\n",
    "\n",
    "def reformat_result(full_results,key):\n",
    "    \"\"\"\n",
    "    Works with a name of a (psp) as key\n",
    "    \"\"\"\n",
    "    res={}\n",
    "    import numpy\n",
    "    for study in full_results:\n",
    "        result,dataname,field = get_result(full_results,study,key)\n",
    "        if result is None: continue\n",
    "        alpha=numpy.array(result[1])#*AuToA\n",
    "        st=tuple(dataname)\n",
    "        mol=st[0]\n",
    "        xc=st[1] if st[1] != 'lda_pw' else 'lda-SPW92'\n",
    "        res.setdefault(mol,{})\n",
    "        res[mol].update({xc:alpha,xc+'-f':field})\n",
    "    return res"
   ]
  },
  {
   "cell_type": "code",
   "execution_count": 3,
   "metadata": {},
   "outputs": [],
   "source": [
    "HG_data=yaml.load(open('HG Dataset/hg_data.yaml'))\n",
    "HG_data['H']['spin_pol'] = 'sp'\n",
    "\n",
    "MWdata=yaml.load(open('mw_data_0001v2.yaml'))\n",
    "MW_data={mol:{xcref: MWdata[mol][xc]['diagonal'] \\\n",
    "              for xcref,xc in [('lda-SPW92','lda'),('pbe','pbe')]} for mol in MWdata}\n",
    "\n",
    "full_results = yaml.load(open('Calculations/full_results.yaml'))\n",
    "\n",
    "BG_data={}\n",
    "for psp in ['hgh_k','nlcc_aw','nlcc_ss']:\n",
    "    BG_data[psp]=reformat_result(full_results,(psp))"
   ]
  },
  {
   "cell_type": "markdown",
   "metadata": {},
   "source": [
    "Define the list of the nsp and sp molecules used the attribution made in HG dataset"
   ]
  },
  {
   "cell_type": "code",
   "execution_count": 4,
   "metadata": {},
   "outputs": [],
   "source": [
    "molecule_nsp = []\n",
    "molecule_sp = []\n",
    "for mol in HG_data:\n",
    "    if HG_data[mol]['spin_pol'] == 'nsp' : molecule_nsp.append(mol)\n",
    "    if HG_data[mol]['spin_pol'] == 'sp' : molecule_sp.append(mol)\n",
    "molecule_nsp = sorted(molecule_nsp)\n",
    "molecule_sp = sorted(molecule_sp)"
   ]
  },
  {
   "cell_type": "code",
   "execution_count": 5,
   "metadata": {},
   "outputs": [],
   "source": [
    "# Routines to compute the errors\n",
    "def relative_error(alpha,alpha_ref):\n",
    "    \"\"\"\n",
    "    Convert the reference value in a.u. and\n",
    "    compute the relative error\n",
    "    \"\"\"\n",
    "    alpha_ref = np.array(alpha_ref)/AuToA\n",
    "    return 100.0*(alpha-alpha_ref)/alpha_ref\n"
   ]
  },
  {
   "cell_type": "markdown",
   "metadata": {},
   "source": [
    "## PSP = hgh_k"
   ]
  },
  {
   "cell_type": "code",
   "execution_count": 27,
   "metadata": {},
   "outputs": [],
   "source": [
    "data = BG_data['hgh_k']\n",
    "molecule_bg = list(data.keys())\n",
    "molecule_mw = list(MW_data.keys())\n",
    "molecule_hg = list(HG_data.keys())\n",
    "\n",
    "missing_mw = ['CH30','PS','S2','SH']"
   ]
  },
  {
   "cell_type": "code",
   "execution_count": 28,
   "metadata": {},
   "outputs": [
    {
     "data": {
      "text/plain": [
       "{'lda-SPW92': array([12.628823, 12.628823, 15.86413 ]),\n",
       " 'lda-SPW92-f': 0.005,\n",
       " 'pbe': array([12.509689 , 12.509689 , 15.9052996]),\n",
       " 'pbe-f': 0.005,\n",
       " 'pbe0': array([12.010789, 12.010789, 15.320584]),\n",
       " 'pbe0-f': 0.005}"
      ]
     },
     "execution_count": 28,
     "metadata": {},
     "output_type": "execute_result"
    }
   ],
   "source": [
    "data['CO']"
   ]
  },
  {
   "cell_type": "code",
   "execution_count": 29,
   "metadata": {},
   "outputs": [
    {
     "data": {
      "text/plain": [
       "{'lda-SPW92': [1.868431750384668, 1.8684317500142003, 2.3535110461925104],\n",
       " 'pbe': [1.8532465936431202, 1.8532465936431202, 2.359389168196766]}"
      ]
     },
     "execution_count": 29,
     "metadata": {},
     "output_type": "execute_result"
    }
   ],
   "source": [
    "MW_data['co']"
   ]
  },
  {
   "cell_type": "code",
   "execution_count": 30,
   "metadata": {},
   "outputs": [
    {
     "data": {
      "text/plain": [
       "{'CCSD(T)': [1.753, 1.753, 2.283],\n",
       " 'field_int': 0.01,\n",
       " 'lda-SPW92': [1.872, 1.872, 2.358],\n",
       " 'lda-Slater': [1.993, 1.993, 2.49],\n",
       " 'mpol_ref': '1',\n",
       " 'pbe': [1.856, 1.856, 2.363],\n",
       " 'pbe0': [1.778, 1.778, 2.274],\n",
       " 'spin_pol': 'nsp'}"
      ]
     },
     "execution_count": 30,
     "metadata": {},
     "output_type": "execute_result"
    }
   ],
   "source": [
    "HG_data['CO']"
   ]
  },
  {
   "cell_type": "code",
   "execution_count": 31,
   "metadata": {},
   "outputs": [
    {
     "data": {
      "text/plain": [
       "array([ 9.77822692, 11.34321721, 16.17884364])"
      ]
     },
     "execution_count": 31,
     "metadata": {},
     "output_type": "execute_result"
    }
   ],
   "source": [
    "np.array(MW_data['no']['pbe'])/AuToA"
   ]
  },
  {
   "cell_type": "markdown",
   "metadata": {},
   "source": [
    "Some molecules are completely absent (but in some other cases converged is reached only for some of the xc)"
   ]
  },
  {
   "cell_type": "code",
   "execution_count": 32,
   "metadata": {},
   "outputs": [
    {
     "name": "stdout",
     "output_type": "stream",
     "text": [
      "CH3O\n",
      "Li2\n"
     ]
    }
   ],
   "source": [
    "for mol in molecule_nsp+molecule_sp:\n",
    "    if mol not in molecule_bg:\n",
    "        print(mol)"
   ]
  },
  {
   "cell_type": "markdown",
   "metadata": {},
   "source": [
    "If the highest component of the relative error is greater (in modulus) than the tol print the associated study"
   ]
  },
  {
   "cell_type": "code",
   "execution_count": 33,
   "metadata": {
    "scrolled": false
   },
   "outputs": [
    {
     "name": "stdout",
     "output_type": "stream",
     "text": [
      "BN lda-SPW92 [ -0.64232147 -20.55503217   0.02941355]\n",
      "FH-OH lda-SPW92 [111.56053631  17.1816963  -63.23432392]\n",
      "H2O-Li lda-SPW92 [ 32.60781534  16.5429592  -35.97750077]\n",
      "HO2 lda-SPW92 [ 8.63374911  4.68361008 -9.76457341]\n",
      "NO lda-SPW92 [  0.20277828 -12.71023128   0.28450784]\n",
      "NaCN lda-SPW92 [-3.47496044 -5.40371794 -1.98253719]\n",
      "NaCl lda-SPW92 [-0.34201838 -0.34201839 -5.37147614]\n",
      "OCl lda-SPW92 [ 0.40699611 -6.74974754  0.60581672]\n",
      "OF lda-SPW92 [ 0.06281782 -6.92652484  0.57052459]\n",
      "OH lda-SPW92 [  0.07646118 -20.97083438   0.43860241]\n",
      "SCl lda-SPW92 [ 0.18829126 -8.46693999  0.37214949]\n",
      "SF lda-SPW92 [ -0.19722138 -13.90047307   0.23595501]\n",
      "BN pbe [ -0.7376914  -21.02162607  -1.37802874]\n",
      "C2H pbe  not computed\n",
      "FH-OH pbe [ 48.8856349   16.73046258 -49.63852461]\n",
      "H2O-Li pbe [ 20.69602961  16.09242202 -28.88848219]\n",
      "HO2 pbe [  8.64864464   6.45554578 -10.19711305]\n",
      "NO pbe [  0.0411381  -13.7612432    0.26796948]\n",
      "OCl pbe [ 0.47570435 -6.65071455  0.56499067]\n",
      "OF pbe [-0.14140664 -7.30135885  0.37409832]\n",
      "OH pbe [ -0.49499423 -22.07521117   0.41462973]\n",
      "SCl pbe [ 0.12618988 -8.60438528  0.27279803]\n",
      "SF pbe [ -0.25143252 -14.16836186   0.20470377]\n"
     ]
    }
   ],
   "source": [
    "tol = 5.\n",
    "xcs = ['lda-SPW92','pbe']\n",
    "for xc in xcs:\n",
    "    for mol in molecule_bg:\n",
    "        if mol.lower() in molecule_mw:\n",
    "            if xc in data[mol]:\n",
    "                a = data[mol][xc]\n",
    "                a_ref = MW_data[mol.lower()][xc]\n",
    "                err = relative_error(a,a_ref)\n",
    "                if np.max(np.abs(err)) > tol:\n",
    "                    print(mol,xc,err)\n",
    "            else:\n",
    "                print(mol,xc,' not computed')\n",
    "            "
   ]
  },
  {
   "cell_type": "markdown",
   "metadata": {},
   "source": [
    "For some molecules the error is high only in one direction. Many of the y components are very high!\n",
    "\n",
    "There is something really strange, for instance the posinp of NO is along the z axis why the y error is high and the x one is low?\n"
   ]
  },
  {
   "cell_type": "markdown",
   "metadata": {},
   "source": [
    "We build a table with the relative errors"
   ]
  },
  {
   "cell_type": "code",
   "execution_count": 18,
   "metadata": {},
   "outputs": [],
   "source": [
    "table_nsp = [[] for line in range(len(molecule_nsp)+1)]\n",
    "table_sp = [[] for line in range(len(molecule_sp)+1)]"
   ]
  },
  {
   "cell_type": "code",
   "execution_count": 19,
   "metadata": {},
   "outputs": [],
   "source": [
    "table_nsp[0] = ['molecule','err_lda','err_pbe','err_pbe0']\n",
    "table_sp[0] = ['molecule','err_lda','err_pbe','err_pbe0']"
   ]
  },
  {
   "cell_type": "code",
   "execution_count": 20,
   "metadata": {},
   "outputs": [],
   "source": [
    "def format_decimal(ll):\n",
    "    if ll == 0.: return ''\n",
    "    out = [ '%.2f' % elem for elem in ll ]\n",
    "    out = [float(elem) for elem in out]\n",
    "    return out"
   ]
  },
  {
   "cell_type": "markdown",
   "metadata": {},
   "source": [
    "For molecules missing in the mw data the comparison is performed with th HG data"
   ]
  },
  {
   "cell_type": "code",
   "execution_count": 34,
   "metadata": {},
   "outputs": [],
   "source": [
    "for ind,mol in enumerate(molecule_nsp):\n",
    "    err_lda = 0.\n",
    "    err_pbe = 0.\n",
    "    err_pbe0 = 0.\n",
    "    if mol in molecule_bg:\n",
    "        if 'lda-SPW92' in data[mol] and mol.lower() in MW_data:\n",
    "            alpha = data[mol]['lda-SPW92']\n",
    "            alpha_ref = MW_data[mol.lower()]['lda-SPW92']\n",
    "            err_lda = list(relative_error(alpha,alpha_ref))\n",
    "        if 'lda-SPW92' in data[mol] and mol in missing_mw:\n",
    "            alpha = data[mol]['lda-SPW92']\n",
    "            alpha_ref = HG_data[mol]['lda-SPW92']\n",
    "            err_lda = list(relative_error(alpha,alpha_ref))\n",
    "        if 'pbe' in data[mol] and mol.lower() in MW_data:\n",
    "            alpha = data[mol]['pbe']\n",
    "            alpha_ref = MW_data[mol.lower()]['pbe']\n",
    "            err_pbe = list(relative_error(alpha,alpha_ref))\n",
    "        if 'pbe' in data[mol] and mol in missing_mw:\n",
    "            alpha = data[mol]['pbe']\n",
    "            alpha_ref = HG_data[mol]['pbe']\n",
    "            err_pbe = list(relative_error(alpha,alpha_ref))\n",
    "        if 'pbe0' in data[mol] :\n",
    "            alpha = data[mol]['pbe0']\n",
    "            alpha_ref = HG_data[mol]['pbe0']\n",
    "            err_pbe0 = list(relative_error(alpha,alpha_ref))\n",
    "    table_nsp[ind+1] = [mol,format_decimal(err_lda),format_decimal(err_pbe),format_decimal(err_pbe0)]"
   ]
  },
  {
   "cell_type": "code",
   "execution_count": 39,
   "metadata": {},
   "outputs": [],
   "source": [
    "for ind,mol in enumerate(molecule_sp):\n",
    "    err_lda = 0.\n",
    "    err_pbe = 0.\n",
    "    err_pbe0 = 0.\n",
    "    if mol in molecule_bg:\n",
    "        if 'lda-SPW92' in data[mol] and mol.lower() in MW_data:\n",
    "            alpha = data[mol]['lda-SPW92']\n",
    "            alpha_ref = MW_data[mol.lower()]['lda-SPW92']\n",
    "            err_lda = list(relative_error(alpha,alpha_ref))\n",
    "        if 'lda-SPW92' in data[mol] and mol in missing_mw:\n",
    "            alpha = data[mol]['lda-SPW92']\n",
    "            alpha_ref = HG_data[mol]['lda-SPW92']\n",
    "            err_lda = list(relative_error(alpha,alpha_ref))\n",
    "        if 'pbe' in data[mol] and mol.lower() in MW_data:\n",
    "            alpha = data[mol]['pbe']\n",
    "            alpha_ref = MW_data[mol.lower()]['pbe']\n",
    "            err_pbe = list(relative_error(alpha,alpha_ref))\n",
    "        if 'pbe' in data[mol] and mol in missing_mw:\n",
    "            alpha = data[mol]['pbe']\n",
    "            alpha_ref = HG_data[mol]['pbe']\n",
    "            err_pbe = list(relative_error(alpha,alpha_ref))\n",
    "        if 'pbe0' in data[mol] :\n",
    "            alpha = data[mol]['pbe0']\n",
    "            alpha_ref = HG_data[mol]['pbe0']\n",
    "            err_pbe0 = list(relative_error(alpha,alpha_ref))\n",
    "    table_sp[ind+1] = [mol,format_decimal(err_lda),format_decimal(err_pbe),format_decimal(err_pbe0)]"
   ]
  },
  {
   "cell_type": "code",
   "execution_count": 40,
   "metadata": {},
   "outputs": [],
   "source": [
    "def colorset(ll):\n",
    "    if ll == '': return ''\n",
    "    return 'colorset{%s}{%s}{%s}'%(ll[0],ll[1],ll[2])"
   ]
  },
  {
   "cell_type": "code",
   "execution_count": 41,
   "metadata": {},
   "outputs": [],
   "source": [
    "#table_sp"
   ]
  },
  {
   "cell_type": "code",
   "execution_count": 42,
   "metadata": {},
   "outputs": [
    {
     "name": "stdout",
     "output_type": "stream",
     "text": [
      "BH2 & \\colorset{-1.38}{-1.38}{-1.03} & \\colorset{-1.93}{-2.66}{-1.56} & \\colorset{-2.33}{-3.52}{-1.78} \\\\\n",
      "BN & \\colorset{-0.64}{-20.56}{0.03} & \\colorset{-0.74}{-21.02}{-1.38} & \\colorset{-20.55}{-20.55}{-1.73} \\\\\n",
      "BO & \\colorset{-0.76}{-0.76}{-0.68} & \\colorset{-1.06}{-1.06}{-0.8} & \\colorset{-1.2}{-1.2}{-0.7} \\\\\n",
      "BS & \\colorset{-0.13}{-0.13}{-0.37} & \\colorset{-0.24}{-0.24}{-0.54} & \\colorset{-0.56}{-0.56}{-0.66} \\\\\n",
      "Be & \\colorset{0.14}{0.14}{0.14} & \\colorset{-0.07}{-0.07}{-0.07} & \\colorset{-0.85}{-0.85}{-0.85} \\\\\n",
      "BeH & \\colorset{-1.54}{-1.54}{-3.06} & \\colorset{-0.06}{-0.06}{-0.16} & \\colorset{-0.83}{-0.83}{-1.53} \\\\\n",
      "C2H & \\colorset{-1.96}{-1.96}{-0.1} & \\ & \\colorset{-2.43}{-2.43}{-0.4} \\\\\n",
      "C2H3 & \\colorset{-0.39}{-0.2}{0.08} & \\colorset{-0.86}{-0.47}{-0.09} & \\colorset{-0.86}{-0.6}{-0.46} \\\\\n",
      "CH2-t & \\colorset{-1.36}{-0.72}{-1.03} & \\colorset{-2.13}{-1.02}{-1.51} & \\colorset{-2.14}{-1.03}{-1.53} \\\\\n",
      "CH2F & \\colorset{-1.29}{-0.14}{-0.61} & \\colorset{-2.69}{-0.67}{-1.02} & \\colorset{-2.26}{-0.53}{-0.9} \\\\\n",
      "CH2NH & \\colorset{0.11}{0.33}{0.37} & \\colorset{0.06}{0.29}{0.46} & \\colorset{-0.24}{-0.07}{0.03} \\\\\n",
      "CH2PH & \\colorset{0.19}{0.29}{0.15} & \\colorset{0.22}{0.21}{0.12} & \\colorset{-0.2}{-0.33}{-0.23} \\\\\n",
      "CH3 & \\colorset{-0.39}{-0.39}{-1.02} & \\colorset{-0.83}{-0.83}{-2.83} & \\colorset{-0.85}{-0.85}{-2.76} \\\\\n",
      "CH3O & \\ & \\ & \\ \\\\\n",
      "CN & \\colorset{0.87}{0.87}{1.31} & \\colorset{2.61}{2.61}{1.68} & \\colorset{1.34}{1.34}{-0.11} \\\\\n",
      "F2 & \\colorset{-0.24}{-0.24}{0.96} & \\colorset{-0.3}{-0.3}{1.43} & \\colorset{-0.02}{-0.02}{1.2} \\\\\n",
      "FCO & \\colorset{0.05}{0.23}{-0.14} & \\colorset{0.14}{0.35}{-0.24} & \\colorset{0.07}{0.23}{-0.26} \\\\\n",
      "FH-OH & \\colorset{111.56}{17.18}{-63.23} & \\colorset{48.89}{16.73}{-49.64} & \\colorset{23.53}{17.87}{-31.38} \\\\\n",
      "H & \\colorset{-0.05}{-0.05}{-0.05} & \\colorset{-0.01}{-0.01}{-0.01} & \\colorset{-0.15}{-0.15}{-0.15} \\\\\n",
      "H2CN & \\colorset{0.16}{-0.11}{-0.31} & \\colorset{0.05}{-0.45}{-0.65} & \\colorset{-0.08}{-0.37}{-0.6} \\\\\n",
      "H2O-Li & \\colorset{32.61}{16.54}{-35.98} & \\colorset{20.7}{16.09}{-28.89} & \\colorset{12.84}{15.17}{-23.06} \\\\\n",
      "HCHS & \\colorset{0.21}{0.28}{0.18} & \\colorset{0.16}{0.29}{0.24} & \\colorset{-0.09}{-0.06}{-0.07} \\\\\n",
      "HCO & \\colorset{-0.42}{0.15}{-0.21} & \\colorset{-0.66}{0.47}{-0.33} & \\colorset{-0.9}{0.23}{-0.36} \\\\\n",
      "HCP & \\colorset{0.32}{0.32}{0.17} & \\colorset{0.25}{0.25}{0.18} & \\colorset{-0.24}{-0.24}{-0.12} \\\\\n",
      "HNO & \\colorset{0.24}{-0.16}{0.11} & \\colorset{0.22}{-0.26}{0.21} & \\colorset{-0.85}{1.46}{-1.44} \\\\\n",
      "HNS & \\colorset{0.29}{0.34}{0.18} & \\colorset{0.3}{0.36}{0.13} & \\colorset{-3.14}{4.15}{-2.22} \\\\\n",
      "HO2 & \\colorset{8.63}{4.68}{-9.76} & \\colorset{8.65}{6.46}{-10.2} & \\colorset{-0.07}{0.37}{0.1} \\\\\n",
      "HOF & \\colorset{0.12}{-0.33}{0.89} & \\colorset{0.11}{-0.48}{1.28} & \\colorset{0.14}{-0.25}{0.98} \\\\\n",
      "Li & \\colorset{1.12}{1.12}{1.12} & \\colorset{-0.03}{-0.03}{-0.03} & \\colorset{-3.12}{-3.12}{-3.12} \\\\\n",
      "Li2 & \\ & \\ & \\ \\\\\n",
      "N & \\colorset{-0.05}{-0.05}{-0.05} & \\colorset{0.47}{0.47}{0.47} & \\colorset{0.63}{0.63}{0.63} \\\\\n",
      "N2H2 & \\colorset{0.39}{0.33}{0.2} & \\colorset{0.49}{0.31}{0.17} & \\colorset{0.25}{0.23}{0.04} \\\\\n",
      "NCO & \\colorset{0.52}{-0.83}{0.13} & \\colorset{0.39}{-1.42}{0.13} & \\colorset{0.36}{0.36}{0.2} \\\\\n",
      "NH & \\colorset{0.1}{0.1}{0.72} & \\colorset{-0.16}{-0.16}{0.29} & \\colorset{0.03}{0.03}{0.05} \\\\\n",
      "NH2 & \\colorset{0.17}{0.24}{0.45} & \\colorset{-0.66}{0.13}{0.36} & \\colorset{-0.27}{0.07}{0.26} \\\\\n",
      "NO & \\colorset{0.2}{-12.71}{0.28} & \\colorset{0.04}{-13.76}{0.27} & \\colorset{-9.76}{-9.76}{0.12} \\\\\n",
      "NOCl & \\colorset{0.32}{0.41}{0.45} & \\colorset{0.29}{0.36}{0.4} & \\colorset{0.09}{0.18}{0.15} \\\\\n",
      "NP & \\colorset{0.08}{0.08}{0.18} & \\colorset{0.02}{0.02}{0.21} & \\colorset{-0.24}{-0.24}{-0.06} \\\\\n",
      "Na & \\colorset{-1.09}{-1.09}{-1.09} & \\colorset{0.6}{0.6}{0.6} & \\colorset{-0.5}{-0.5}{-0.5} \\\\\n",
      "Na2 & \\colorset{0.38}{0.38}{3.76} & \\colorset{0.44}{0.44}{0.31} & \\colorset{0.48}{0.48}{0.42} \\\\\n",
      "NaLi & \\colorset{0.34}{0.34}{3.19} & \\colorset{0.18}{0.18}{0.14} & \\colorset{0.13}{0.13}{0.16} \\\\\n",
      "O2 & \\colorset{0.0}{0.0}{0.85} & \\colorset{-0.02}{-0.02}{1.29} & \\colorset{0.19}{0.19}{1.19} \\\\\n",
      "O3 & \\colorset{0.23}{0.46}{0.1} & \\colorset{0.28}{0.57}{0.19} & \\colorset{1.1}{6.58}{-1.81} \\\\\n",
      "OCl & \\colorset{0.41}{-6.75}{0.61} & \\colorset{0.48}{-6.65}{0.56} & \\colorset{-4.67}{-4.67}{-0.03} \\\\\n",
      "OF & \\colorset{0.06}{-6.93}{0.57} & \\colorset{-0.14}{-7.3}{0.37} & \\colorset{-4.02}{-4.02}{0.25} \\\\\n",
      "OF2 & \\colorset{-0.31}{0.68}{0.54} & \\colorset{-0.41}{0.88}{0.71} & \\colorset{-0.1}{1.0}{0.76} \\\\\n",
      "OH & \\colorset{0.08}{-20.97}{0.44} & \\colorset{-0.49}{-22.08}{0.41} & \\colorset{-19.05}{-19.05}{0.25} \\\\\n",
      "P & \\colorset{-0.09}{-0.09}{-0.09} & \\colorset{0.46}{0.46}{0.46} & \\colorset{0.05}{0.05}{0.05} \\\\\n",
      "P2 & \\colorset{0.09}{0.09}{0.18} & \\colorset{0.02}{0.02}{0.17} & \\colorset{-0.26}{-0.26}{-0.1} \\\\\n",
      "PH & \\colorset{-0.45}{-0.45}{-0.12} & \\colorset{-0.06}{-0.06}{-0.11} & \\colorset{-0.38}{-0.38}{-0.27} \\\\\n",
      "PH2 & \\colorset{-0.46}{-0.13}{-0.06} & \\colorset{-0.5}{-0.19}{-0.08} & \\colorset{-0.74}{-0.3}{-0.26} \\\\\n",
      "PS & \\colorset{-6.63}{-6.63}{-0.33} & \\colorset{-0.38}{-0.38}{-0.35} & \\colorset{-0.39}{-0.39}{-0.3} \\\\\n",
      "S2 & \\colorset{0.03}{0.03}{0.36} & \\colorset{0.1}{0.1}{0.24} & \\colorset{-0.07}{-0.07}{0.11} \\\\\n",
      "SCl & \\colorset{0.19}{-8.47}{0.37} & \\colorset{0.13}{-8.6}{0.27} & \\colorset{-7.93}{-7.93}{-0.14} \\\\\n",
      "SF & \\colorset{-0.2}{-13.9}{0.24} & \\colorset{-0.25}{-14.17}{0.2} & \\colorset{-13.41}{-13.41}{0.06} \\\\\n",
      "SH & \\colorset{-18.64}{-18.64}{-0.03} & \\colorset{-18.95}{-18.95}{-0.0} & \\colorset{-17.65}{-17.65}{-0.1} \\\\\n",
      "SO-trip & \\colorset{0.04}{0.04}{0.49} & \\colorset{0.24}{0.24}{0.5} & \\colorset{-0.16}{-0.16}{0.37} \\\\\n",
      "SiH3 & \\colorset{-0.41}{-0.41}{-0.93} & \\colorset{-0.5}{-0.5}{-0.98} & \\colorset{-0.78}{-0.78}{-1.86} \\\\\n"
     ]
    }
   ],
   "source": [
    "t = table_sp\n",
    "for ind in range (1,len(t)):\n",
    "    print(t[ind][0] +' & ' + '\\\\' + colorset(t[ind][1])+' & ' + '\\\\' + colorset(t[ind][2])+' & ' + '\\\\' + colorset(t[ind][3])+ r' \\\\')"
   ]
  },
  {
   "cell_type": "markdown",
   "metadata": {},
   "source": [
    "## PSP = nlcc-aw and nlcc-ss"
   ]
  },
  {
   "cell_type": "code",
   "execution_count": 52,
   "metadata": {},
   "outputs": [],
   "source": [
    "data_aw = BG_data['nlcc_aw']\n",
    "data_ss = BG_data['nlcc_ss']\n",
    "molecule_bg_aw = list(data_aw.keys())\n",
    "molecule_bg_ss = list(data_ss.keys())\n",
    "molecule_mw = list(MW_data.keys())\n",
    "molecule_hg = list(HG_data.keys())\n",
    "\n",
    "missing_mw = ['CH30','PS','S2','SH']"
   ]
  },
  {
   "cell_type": "code",
   "execution_count": 64,
   "metadata": {},
   "outputs": [
    {
     "data": {
      "text/plain": [
       "{'pbe': array([12.540766, 12.540766, 15.889695]), 'pbe-f': 0.005}"
      ]
     },
     "execution_count": 64,
     "metadata": {},
     "output_type": "execute_result"
    }
   ],
   "source": [
    "data_aw['CO']"
   ]
  },
  {
   "cell_type": "code",
   "execution_count": 68,
   "metadata": {},
   "outputs": [],
   "source": [
    "table_nsp = [[] for line in range(len(molecule_nsp)+1)]\n",
    "table_sp = [[] for line in range(len(molecule_sp)+1)]"
   ]
  },
  {
   "cell_type": "code",
   "execution_count": 69,
   "metadata": {},
   "outputs": [],
   "source": [
    "table_nsp[0] = ['molecule','err_nlcc-aw','err_nlcc-ss']\n",
    "table_sp[0] = ['molecule','err_nlcc-aw','err_nlcc-ss']"
   ]
  },
  {
   "cell_type": "code",
   "execution_count": 70,
   "metadata": {},
   "outputs": [],
   "source": [
    "def format_decimal(ll):\n",
    "    if ll == 0.: return ''\n",
    "    out = [ '%.2f' % elem for elem in ll ]\n",
    "    out = [float(elem) for elem in out]\n",
    "    return out"
   ]
  },
  {
   "cell_type": "markdown",
   "metadata": {},
   "source": [
    "For molecules missing in the mw data the comparison is performed with th HG data"
   ]
  },
  {
   "cell_type": "code",
   "execution_count": 71,
   "metadata": {},
   "outputs": [],
   "source": [
    "for ind,mol in enumerate(molecule_nsp):\n",
    "    err_aw = 0.\n",
    "    err_ss = 0.\n",
    "    if mol in molecule_bg_aw:\n",
    "        if 'pbe' in data_aw[mol] and mol.lower() in MW_data:\n",
    "            alpha = data_aw[mol]['pbe']\n",
    "            alpha_ref = MW_data[mol.lower()]['pbe']\n",
    "            err_aw = list(relative_error(alpha,alpha_ref))\n",
    "        if 'pbe' in data_aw[mol] and mol in missing_mw:\n",
    "            alpha = data_aw[mol]['pbe']\n",
    "            alpha_ref = HG_data[mol]['pbe']\n",
    "            err_aw = list(relative_error(alpha,alpha_ref))\n",
    "    if mol in molecule_bg_ss:        \n",
    "        if 'pbe' in data_ss[mol] and mol.lower() in MW_data:\n",
    "            alpha = data_ss[mol]['pbe']\n",
    "            alpha_ref = MW_data[mol.lower()]['pbe']\n",
    "            err_ss = list(relative_error(alpha,alpha_ref))\n",
    "        if 'pbe' in data_ss[mol] and mol in missing_mw:\n",
    "            alpha = data_ss[mol]['pbe']\n",
    "            alpha_ref = HG_data[mol]['pbe']\n",
    "            err_ss = list(relative_error(alpha,alpha_ref))\n",
    "    table_nsp[ind+1] = [mol,format_decimal(err_aw),format_decimal(err_ss)]"
   ]
  },
  {
   "cell_type": "code",
   "execution_count": 72,
   "metadata": {},
   "outputs": [],
   "source": [
    "for ind,mol in enumerate(molecule_sp):\n",
    "    err_aw = 0.\n",
    "    err_ss = 0.\n",
    "    if mol in molecule_bg_aw:\n",
    "        if 'pbe' in data_aw[mol] and mol.lower() in MW_data:\n",
    "            alpha = data_aw[mol]['pbe']\n",
    "            alpha_ref = MW_data[mol.lower()]['pbe']\n",
    "            err_aw = list(relative_error(alpha,alpha_ref))\n",
    "        if 'pbe' in data_aw[mol] and mol in missing_mw:\n",
    "            alpha = data_aw[mol]['pbe']\n",
    "            alpha_ref = HG_data[mol]['pbe']\n",
    "            err_aw = list(relative_error(alpha,alpha_ref))\n",
    "    if mol in molecule_bg_ss:        \n",
    "        if 'pbe' in data_ss[mol] and mol.lower() in MW_data:\n",
    "            alpha = data_ss[mol]['pbe']\n",
    "            alpha_ref = MW_data[mol.lower()]['pbe']\n",
    "            err_ss = list(relative_error(alpha,alpha_ref))\n",
    "        if 'pbe' in data_ss[mol] and mol in missing_mw:\n",
    "            alpha = data_ss[mol]['pbe']\n",
    "            alpha_ref = HG_data[mol]['pbe']\n",
    "            err_ss = list(relative_error(alpha,alpha_ref))\n",
    "    table_sp[ind+1] = [mol,format_decimal(err_aw),format_decimal(err_ss)]"
   ]
  },
  {
   "cell_type": "code",
   "execution_count": 78,
   "metadata": {},
   "outputs": [
    {
     "name": "stdout",
     "output_type": "stream",
     "text": [
      "BH2 & \\colorset{-0.96}{-0.46}{-0.62} & \\colorset{-0.43}{0.5}{-0.26}\\\\\n",
      "BN & \\colorset{-0.33}{-20.7}{0.65} & \\colorset{-0.05}{-20.48}{2.44}\\\\\n",
      "BO & \\colorset{-0.34}{-0.34}{-0.04} & \\colorset{0.05}{0.05}{1.0}\\\\\n",
      "BS & \\colorset{-0.34}{-0.34}{-0.3} & \\\\\\\n",
      "Be & \\ & \\colorset{-0.77}{-0.77}{-0.77}\\\\\n",
      "BeH & \\ & \\colorset{-1.68}{-1.68}{-1.86}\\\\\n",
      "C2H & \\colorset{3.09}{3.09}{-0.13} & \\colorset{2.23}{2.23}{-0.36}\\\\\n",
      "C2H3 & \\colorset{-0.01}{-0.09}{0.05} & \\colorset{-0.24}{-0.31}{-0.24}\\\\\n",
      "CH2-t & \\colorset{0.29}{-0.15}{0.16} & \\colorset{0.04}{-0.37}{-0.08}\\\\\n",
      "CH2F & \\colorset{0.39}{0.08}{-0.29} & \\colorset{0.37}{0.09}{-0.43}\\\\\n",
      "CH2NH & \\colorset{-0.01}{0.2}{0.07} & \\colorset{-0.25}{-0.09}{-0.21}\\\\\n",
      "CH2PH & \\colorset{-0.1}{0.03}{-0.1} & \\colorset{-0.27}{-0.09}{-0.15}\\\\\n",
      "CH3 & \\colorset{-0.14}{-0.14}{0.64} & \\colorset{-0.37}{-0.37}{0.41}\\\\\n",
      "CH3O & \\ & \\\\\\\n",
      "CN & \\colorset{-0.41}{-0.41}{-0.16} & \\colorset{-0.75}{-0.75}{-0.35}\\\\\n",
      "F2 & \\colorset{-0.29}{-0.29}{0.31} & \\colorset{0.01}{0.01}{0.37}\\\\\n",
      "FCO & \\colorset{-0.01}{0.14}{0.23} & \\colorset{0.22}{0.2}{0.25}\\\\\n",
      "FH-OH & \\colorset{76.18}{16.97}{-49.59} & \\colorset{68.31}{16.81}{-49.69}\\\\\n",
      "H & \\colorset{-0.03}{-0.03}{-0.03} & \\colorset{-0.02}{-0.02}{-0.02}\\\\\n",
      "H2CN & \\colorset{0.17}{0.2}{0.07} & \\colorset{-0.08}{-0.12}{-0.11}\\\\\n",
      "H2O-Li & \\ & \\colorset{21.14}{16.22}{-28.94}\\\\\n",
      "HCHS & \\colorset{-0.2}{-0.22}{-0.31} & \\\\\\\n",
      "HCO & \\colorset{0.01}{-0.14}{0.1} & \\colorset{-0.13}{-0.08}{0.1}\\\\\n",
      "HCP & \\colorset{0.05}{0.05}{-0.04} & \\colorset{-0.08}{-0.08}{-0.19}\\\\\n",
      "HNO & \\colorset{0.19}{0.18}{0.0} & \\colorset{0.04}{0.38}{0.09}\\\\\n",
      "HNS & \\colorset{-0.09}{-0.04}{-0.1} & \\\\\\\n",
      "HO2 & \\colorset{8.97}{5.71}{-10.06} & \\colorset{9.05}{5.96}{-10.14}\\\\\n",
      "HOF & \\colorset{-0.0}{-0.08}{0.27} & \\colorset{0.09}{-0.02}{0.31}\\\\\n",
      "Li & \\ & \\colorset{2.61}{2.61}{2.61}\\\\\n",
      "Li2 & \\ & \\\\\\\n",
      "N & \\colorset{-0.0}{-0.0}{-0.0} & \\colorset{-0.09}{-0.09}{-0.09}\\\\\n",
      "N2H2 & \\colorset{0.23}{0.27}{0.27} & \\colorset{0.08}{0.03}{0.25}\\\\\n",
      "NCO & \\colorset{0.42}{-1.4}{0.09} & \\colorset{0.1}{-1.71}{0.25}\\\\\n",
      "NH & \\colorset{0.37}{0.37}{0.52} & \\colorset{-0.01}{-0.01}{0.45}\\\\\n",
      "NH2 & \\colorset{0.62}{0.12}{0.4} & \\colorset{0.07}{-0.16}{0.3}\\\\\n",
      "NO & \\colorset{0.39}{-13.46}{0.48} & \\colorset{0.24}{-13.59}{0.8}\\\\\n",
      "NOCl & \\colorset{-0.09}{0.05}{-0.05} & \\colorset{0.08}{0.2}{-0.04}\\\\\n",
      "NP & \\colorset{-0.12}{-0.12}{0.11} & \\colorset{-0.22}{-0.22}{0.16}\\\\\n",
      "Na & \\ & \\\\\\\n",
      "Na2 & \\ & \\\\\\\n",
      "NaLi & \\ & \\\\\\\n",
      "O2 & \\colorset{0.11}{0.11}{0.06} & \\colorset{0.13}{0.13}{0.55}\\\\\n",
      "O3 & \\colorset{0.25}{0.19}{0.34} & \\colorset{0.29}{0.51}{0.65}\\\\\n",
      "OCl & \\colorset{-0.18}{-7.26}{-0.11} & \\colorset{-0.15}{-7.23}{0.03}\\\\\n",
      "OF & \\colorset{0.13}{-7.05}{0.34} & \\colorset{0.13}{-7.04}{0.52}\\\\\n",
      "OF2 & \\colorset{-0.17}{0.4}{0.26} & \\colorset{0.11}{0.7}{0.58}\\\\\n",
      "OH & \\colorset{0.26}{-21.48}{0.14} & \\colorset{-0.16}{-21.81}{0.1}\\\\\n",
      "P & \\colorset{0.08}{0.08}{0.08} & \\colorset{0.24}{0.24}{0.24}\\\\\n",
      "P2 & \\colorset{-0.05}{-0.05}{0.13} & \\colorset{-0.09}{-0.09}{0.1}\\\\\n",
      "PH & \\colorset{-0.38}{-0.38}{-0.16} & \\colorset{-0.31}{-0.31}{-0.14}\\\\\n",
      "PH2 & \\colorset{-0.41}{-0.24}{-0.15} & \\colorset{-0.41}{-0.2}{-0.12}\\\\\n",
      "PS & \\colorset{-0.56}{-0.56}{-0.64} & \\\\\\\n",
      "S2 & \\colorset{-0.35}{-0.35}{-0.28} & \\\\\\\n",
      "SCl & \\colorset{-0.23}{-8.93}{-0.24} & \\\\\\\n",
      "SF & \\colorset{-0.31}{-14.22}{0.15} & \\\\\\\n",
      "SH & \\colorset{-18.98}{-18.98}{-0.21} & \\\\\\\n",
      "SO-trip & \\colorset{0.0}{0.0}{0.11} & \\\\\\\n",
      "SiH3 & \\colorset{-0.41}{-0.41}{-0.61} & \\colorset{-0.31}{-0.31}{-0.56}\\\\\n"
     ]
    }
   ],
   "source": [
    "t = table_sp\n",
    "for ind in range (1,len(t)):\n",
    "    print(t[ind][0] +' & ' + '\\\\' + colorset(t[ind][1])+' & ' + '\\\\' + colorset(t[ind][2])+ r'\\\\')"
   ]
  },
  {
   "cell_type": "code",
   "execution_count": null,
   "metadata": {},
   "outputs": [],
   "source": []
  },
  {
   "cell_type": "code",
   "execution_count": null,
   "metadata": {},
   "outputs": [],
   "source": []
  },
  {
   "cell_type": "code",
   "execution_count": null,
   "metadata": {},
   "outputs": [],
   "source": []
  },
  {
   "cell_type": "code",
   "execution_count": null,
   "metadata": {},
   "outputs": [],
   "source": []
  },
  {
   "cell_type": "code",
   "execution_count": null,
   "metadata": {},
   "outputs": [],
   "source": []
  },
  {
   "cell_type": "code",
   "execution_count": null,
   "metadata": {},
   "outputs": [],
   "source": []
  }
 ],
 "metadata": {
  "kernelspec": {
   "display_name": "Python 3",
   "language": "python",
   "name": "python3"
  },
  "language_info": {
   "codemirror_mode": {
    "name": "ipython",
    "version": 3
   },
   "file_extension": ".py",
   "mimetype": "text/x-python",
   "name": "python",
   "nbconvert_exporter": "python",
   "pygments_lexer": "ipython3",
   "version": "3.6.8"
  }
 },
 "nbformat": 4,
 "nbformat_minor": 2
}
