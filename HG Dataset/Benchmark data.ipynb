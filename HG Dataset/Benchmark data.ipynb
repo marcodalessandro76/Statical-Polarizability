{
 "cells": [
  {
   "cell_type": "markdown",
   "metadata": {},
   "source": [
    "# Benchmark data"
   ]
  },
  {
   "cell_type": "markdown",
   "metadata": {},
   "source": [
    "We perform a parsing of the Supplementary Information (SI) of the paper of Head-Gordon (HG).\n",
    "We build a dictionary that contains information on all the molecules of the HG dataset. Selected information are the type (spin-polarized or non spin-polarized) of the computation for each molecule. Moreover we also extract the values of the statical polarizability obtained for the lda (actually two types: Slater and SPW92), pbe and pbe0. We also collect the results obtained with the reference method of the paper of HG, i.e. the CCSD(T)."
   ]
  },
  {
   "cell_type": "code",
   "execution_count": 1,
   "metadata": {},
   "outputs": [],
   "source": [
    "from pyexcel_ods import get_data\n",
    "import json"
   ]
  },
  {
   "cell_type": "code",
   "execution_count": 55,
   "metadata": {},
   "outputs": [],
   "source": [
    "data = get_data('HG_data.ods')\n",
    "data =  json.dumps(data)\n",
    "data = json.loads(data)['Sheet1']"
   ]
  },
  {
   "cell_type": "markdown",
   "metadata": {},
   "source": [
    "Data are represented as follows"
   ]
  },
  {
   "cell_type": "code",
   "execution_count": 56,
   "metadata": {},
   "outputs": [
    {
     "name": "stdout",
     "output_type": "stream",
     "text": [
      "[u'molecule', u'spin_pol', u'lda-Slater', u'lda-SPW92', u'pbe', u'pbe0', u'CCSD(T)']\n"
     ]
    }
   ],
   "source": [
    "print data[0]"
   ]
  },
  {
   "cell_type": "markdown",
   "metadata": {},
   "source": [
    "We build a dictionary that codifies all the relevant information"
   ]
  },
  {
   "cell_type": "code",
   "execution_count": 57,
   "metadata": {},
   "outputs": [],
   "source": [
    "dataset = {}\n",
    "for rows in data[1:]:\n",
    "    dataset[str(rows[0])] = {str(data[0][1]) : str(rows[1]).lower()}\n",
    "    dataset[str(rows[0])][str(data[0][2])] = rows[2:5]\n",
    "    dataset[str(rows[0])][str(data[0][3])] = rows[5:8]\n",
    "    dataset[str(rows[0])][str(data[0][4])] = rows[8:11]\n",
    "    dataset[str(rows[0])][str(data[0][5])] = rows[11:14]\n",
    "    dataset[str(rows[0])][str(data[0][6])] = rows[14:17]"
   ]
  },
  {
   "cell_type": "markdown",
   "metadata": {},
   "source": [
    "For instance"
   ]
  },
  {
   "cell_type": "code",
   "execution_count": 58,
   "metadata": {},
   "outputs": [
    {
     "data": {
      "text/plain": [
       "{'CCSD(T)': [5.971, 5.971, 5.132],\n",
       " 'lda-SPW92': [6.154, 6.154, 5.59],\n",
       " 'lda-Slater': [6.648, 6.648, 6.092],\n",
       " 'pbe': [6.292, 6.292, 5.656],\n",
       " 'pbe0': [6.248, 6.248, 5.378],\n",
       " 'spin_pol': 'nsp'}"
      ]
     },
     "execution_count": 58,
     "metadata": {},
     "output_type": "execute_result"
    }
   ],
   "source": [
    "dataset['AlF']"
   ]
  },
  {
   "cell_type": "markdown",
   "metadata": {},
   "source": [
    "Save the dataset as yaml file"
   ]
  },
  {
   "cell_type": "code",
   "execution_count": 60,
   "metadata": {},
   "outputs": [],
   "source": [
    "import yaml"
   ]
  },
  {
   "cell_type": "code",
   "execution_count": 64,
   "metadata": {},
   "outputs": [],
   "source": [
    "with open('hg_data.yaml', 'w') as outfile:\n",
    "    yaml.dump(dataset, outfile, default_flow_style=False)"
   ]
  },
  {
   "cell_type": "code",
   "execution_count": null,
   "metadata": {},
   "outputs": [],
   "source": []
  }
 ],
 "metadata": {
  "kernelspec": {
   "display_name": "Python 2",
   "language": "python",
   "name": "python2"
  },
  "language_info": {
   "codemirror_mode": {
    "name": "ipython",
    "version": 2
   },
   "file_extension": ".py",
   "mimetype": "text/x-python",
   "name": "python",
   "nbconvert_exporter": "python",
   "pygments_lexer": "ipython2",
   "version": "2.7.15rc1"
  }
 },
 "nbformat": 4,
 "nbformat_minor": 2
}
