{
 "cells": [
  {
   "cell_type": "markdown",
   "metadata": {},
   "source": [
    "# Benchmark data"
   ]
  },
  {
   "cell_type": "markdown",
   "metadata": {},
   "source": [
    "We perform a parsing of the Supplementary Information (SI) of the paper of Head-Gordon (HG).\n",
    "We build a dictionary that contains information on all the molecules of the HG dataset. Selected information are the type (spin-polarized or non spin-polarized) of the computation for each molecule. Moreover we also extract the values of the statical polarizability obtained for the lda (actually two types: Slater and SPW92), pbe and pbe0. We also collect the results obtained with the reference method of the paper of HG, i.e. the CCSD(T)."
   ]
  },
  {
   "cell_type": "code",
   "execution_count": 3,
   "metadata": {},
   "outputs": [],
   "source": [
    "from pyexcel_ods import get_data\n",
    "import json"
   ]
  },
  {
   "cell_type": "code",
   "execution_count": 4,
   "metadata": {},
   "outputs": [],
   "source": [
    "data = get_data('HG_data.ods')\n",
    "data =  json.dumps(data)\n",
    "data = json.loads(data)['Sheet1']"
   ]
  },
  {
   "cell_type": "markdown",
   "metadata": {},
   "source": [
    "The molecule SO-trip has been renamed as SO, in both the .ods file and in the geometries folder. The posinp with the name SO.xyz has been added in the molecules database of BigDFT"
   ]
  },
  {
   "cell_type": "markdown",
   "metadata": {},
   "source": [
    "Data are represented as follows"
   ]
  },
  {
   "cell_type": "code",
   "execution_count": 5,
   "metadata": {},
   "outputs": [
    {
     "name": "stdout",
     "output_type": "stream",
     "text": [
      "[u'molecule', u'spin_pol', u'lda-Slater', u'lda-SPW92', u'pbe', u'pbe0', u'CCSD(T)']\n"
     ]
    }
   ],
   "source": [
    "print data[0]"
   ]
  },
  {
   "cell_type": "markdown",
   "metadata": {},
   "source": [
    "We build a dictionary that codifies all the relevant information. For each molecule we also parse the related file in the geometries folder and extract the spin polarization value that gives the polarization of the ground state of the molecule. "
   ]
  },
  {
   "cell_type": "code",
   "execution_count": 6,
   "metadata": {},
   "outputs": [],
   "source": [
    "dataset = {}\n",
    "for rows in data[1:]:\n",
    "    molecule=str(rows[0])\n",
    "    datamol={}\n",
    "    #get spin polarization indication\n",
    "    datamol[str(data[0][1])]=str(rows[1]).lower()\n",
    "    #get reference data\n",
    "    ida=2\n",
    "    for idata in range(2,7):\n",
    "        datamol[str(data[0][idata])] = rows[ida:ida+3]\n",
    "        ida+=3\n",
    "    #get spin polarization value\n",
    "    f=open('geometries/'+molecule+'.xyz')\n",
    "    lines=f.readlines()\n",
    "    datamol['mpol_ref']=lines[1].rstrip('/\\n').split(' ')[1]\n",
    "    dataset[molecule]=datamol\n",
    "    "
   ]
  },
  {
   "cell_type": "markdown",
   "metadata": {},
   "source": [
    "For instance"
   ]
  },
  {
   "cell_type": "code",
   "execution_count": 8,
   "metadata": {},
   "outputs": [
    {
     "data": {
      "text/plain": [
       "{'CCSD(T)': [1.21, 1.21, 2.263],\n",
       " 'lda-SPW92': [1.287, 1.287, 2.294],\n",
       " 'lda-Slater': [1.377, 1.377, 2.439],\n",
       " 'mpol_ref': '3',\n",
       " 'pbe': [1.292, 1.292, 2.322],\n",
       " 'pbe0': [1.224, 1.224, 2.313],\n",
       " 'spin_pol': 'sp'}"
      ]
     },
     "execution_count": 8,
     "metadata": {},
     "output_type": "execute_result"
    }
   ],
   "source": [
    "dataset['O2']"
   ]
  },
  {
   "cell_type": "code",
   "execution_count": 9,
   "metadata": {},
   "outputs": [
    {
     "data": {
      "text/plain": [
       "{'CCSD(T)': [5.971, 5.971, 5.132],\n",
       " 'lda-SPW92': [6.154, 6.154, 5.59],\n",
       " 'lda-Slater': [6.648, 6.648, 6.092],\n",
       " 'mpol_ref': '1',\n",
       " 'pbe': [6.292, 6.292, 5.656],\n",
       " 'pbe0': [6.248, 6.248, 5.378],\n",
       " 'spin_pol': 'nsp'}"
      ]
     },
     "execution_count": 9,
     "metadata": {},
     "output_type": "execute_result"
    }
   ],
   "source": [
    "dataset['AlF']"
   ]
  },
  {
   "cell_type": "markdown",
   "metadata": {},
   "source": [
    "Save the dataset as yaml file"
   ]
  },
  {
   "cell_type": "code",
   "execution_count": 10,
   "metadata": {},
   "outputs": [],
   "source": [
    "import yaml"
   ]
  },
  {
   "cell_type": "code",
   "execution_count": 11,
   "metadata": {},
   "outputs": [],
   "source": [
    "with open('hg_data.yaml', 'w') as outfile:\n",
    "    yaml.dump(dataset, outfile, default_flow_style=False)"
   ]
  },
  {
   "cell_type": "code",
   "execution_count": null,
   "metadata": {},
   "outputs": [],
   "source": []
  }
 ],
 "metadata": {
  "kernelspec": {
   "display_name": "Python 2",
   "language": "python",
   "name": "python2"
  },
  "language_info": {
   "codemirror_mode": {
    "name": "ipython",
    "version": 2
   },
   "file_extension": ".py",
   "mimetype": "text/x-python",
   "name": "python",
   "nbconvert_exporter": "python",
   "pygments_lexer": "ipython2",
   "version": "2.7.15rc1"
  }
 },
 "nbformat": 4,
 "nbformat_minor": 2
}
